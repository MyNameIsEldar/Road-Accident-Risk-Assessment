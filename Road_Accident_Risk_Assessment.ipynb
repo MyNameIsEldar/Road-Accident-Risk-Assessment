{
  "cells": [
    {
      "cell_type": "markdown",
      "metadata": {
        "id": "view-in-github",
        "colab_type": "text"
      },
      "source": [
        "<a href=\"https://colab.research.google.com/github/MyNameIsEldar/Road-Accident-Risk-Assessment/blob/main/Road_Accident_Risk_Assessment.ipynb\" target=\"_parent\"><img src=\"https://colab.research.google.com/assets/colab-badge.svg\" alt=\"Open In Colab\"/></a>"
      ]
    },
    {
      "cell_type": "markdown",
      "source": [
        "# Task"
      ],
      "metadata": {
        "id": "9LlhMk9knSBB"
      },
      "id": "9LlhMk9knSBB"
    },
    {
      "cell_type": "markdown",
      "id": "52d1f7ce",
      "metadata": {
        "id": "52d1f7ce"
      },
      "source": [
        "Этот проект сделан в рамках курса от Яндекс.\n",
        "\n",
        "Поступил заказ: нужно создать систему, которая могла бы оценить риск ДТП по выбранному маршруту движения. Под риском понимается вероятность ДТП с любым повреждением транспортного средства. Как только водитель забронировал автомобиль, сел за руль и выбрал маршрут, система должна оценить уровень риска. Если уровень риска высок, водитель увидит предупреждение и рекомендации по маршруту.\n",
        "\n",
        "Идея создания такой системы находится в стадии предварительного обсуждения и проработки. Чёткого алгоритма работы и подобных решений на рынке ещё не существует. Текущая задача — понять, возможно ли предсказывать ДТП, опираясь на исторические данные одного из регионов."
      ]
    },
    {
      "cell_type": "markdown",
      "id": "e4c67930",
      "metadata": {
        "id": "e4c67930"
      },
      "source": [
        "## Импоты библиотек"
      ]
    },
    {
      "cell_type": "code",
      "execution_count": null,
      "id": "81dbc751",
      "metadata": {
        "id": "81dbc751"
      },
      "outputs": [],
      "source": [
        "import warnings\n",
        "import pandas as pd\n",
        "import numpy as np\n",
        "import matplotlib.pyplot as plt\n",
        "import seaborn as sns\n",
        "from sqlalchemy import create_engine\n",
        "\n",
        "from sklearn.model_selection import train_test_split, GridSearchCV\n",
        "from sklearn.preprocessing import OneHotEncoder\n",
        "from sklearn.preprocessing import StandardScaler\n",
        "from sklearn.compose import ColumnTransformer\n",
        "from sklearn.metrics import f1_score, accuracy_score, confusion_matrix, precision_score, recall_score\n",
        "from sklearn.model_selection import cross_val_score\n",
        "\n",
        "from sklearn.ensemble import RandomForestClassifier\n",
        "from sklearn.tree import DecisionTreeClassifier\n",
        "from catboost import CatBoostClassifier, Pool, cv\n",
        "from sklearn.linear_model import LogisticRegressionCV, LogisticRegression, SGDClassifier"
      ]
    },
    {
      "cell_type": "markdown",
      "id": "9c3c3706",
      "metadata": {
        "ExecuteTime": {
          "end_time": "2022-05-05T04:58:05.692448Z",
          "start_time": "2022-05-05T04:58:05.688565Z"
        },
        "id": "9c3c3706"
      },
      "source": [
        "## Подключитесь к базе. Загрузите таблицы sql"
      ]
    },
    {
      "cell_type": "markdown",
      "id": "e79825fe",
      "metadata": {
        "id": "e79825fe"
      },
      "source": [
        "### Конфигурация для подключения к базе данных"
      ]
    },
    {
      "cell_type": "code",
      "execution_count": null,
      "id": "778a3b91",
      "metadata": {
        "id": "778a3b91"
      },
      "outputs": [],
      "source": [
        "db_config = {\n",
        "'user': 'praktikum_student', # имя пользователя,\n",
        "'pwd': 'Sdf4$2;d-d30pp', # пароль,\n",
        "'host': 'rc1b-wcoijxj3yxfsf3fs.mdb.yandexcloud.net',\n",
        "'port': 6432, # порт подключения,\n",
        "'db': 'data-science-vehicle-db' # название базы данных,\n",
        "} \n",
        "\n",
        "\n",
        "connection_string = 'postgresql://{}:{}@{}:{}/{}'.format(\n",
        "    db_config['user'],\n",
        "    db_config['pwd'],\n",
        "    db_config['host'],\n",
        "    db_config['port'],\n",
        "    db_config['db'],\n",
        ")"
      ]
    },
    {
      "cell_type": "markdown",
      "id": "0269d4d0",
      "metadata": {
        "id": "0269d4d0"
      },
      "source": [
        "Создание подключения"
      ]
    },
    {
      "cell_type": "code",
      "execution_count": null,
      "id": "5ed26d51",
      "metadata": {
        "id": "5ed26d51"
      },
      "outputs": [],
      "source": [
        "engine = create_engine(connection_string) "
      ]
    },
    {
      "cell_type": "markdown",
      "id": "294f9e27",
      "metadata": {
        "id": "294f9e27"
      },
      "source": [
        "## Проведите первичное исследование таблиц"
      ]
    },
    {
      "cell_type": "markdown",
      "id": "3647f044",
      "metadata": {
        "id": "3647f044"
      },
      "source": [
        "Посмотрим на таблицы"
      ]
    },
    {
      "cell_type": "code",
      "execution_count": null,
      "id": "13b752da",
      "metadata": {
        "id": "13b752da"
      },
      "outputs": [],
      "source": [
        "# query = '''\n",
        "# SELECT *\n",
        "# FROM vehicles;\n",
        "# '''\n",
        "# pd.read_sql_query(query, con=engine).head(10)"
      ]
    },
    {
      "cell_type": "code",
      "execution_count": null,
      "id": "704b80bc",
      "metadata": {
        "id": "704b80bc"
      },
      "outputs": [],
      "source": [
        "# query = '''\n",
        "# SELECT *\n",
        "# FROM parties;\n",
        "# '''\n",
        "# pd.read_sql_query(query, con=engine).head(10)"
      ]
    },
    {
      "cell_type": "code",
      "execution_count": null,
      "id": "e3a74d48",
      "metadata": {
        "id": "e3a74d48"
      },
      "outputs": [],
      "source": [
        "# query = '''\n",
        "# SELECT *\n",
        "# FROM collisions;\n",
        "# '''\n",
        "# pd.read_sql_query(query, con=engine).head(10)"
      ]
    },
    {
      "cell_type": "markdown",
      "id": "d2314403",
      "metadata": {
        "id": "d2314403"
      },
      "source": [
        "Все необходимые таблицы существуют и в них есть колонка `case_id`, которая явлется внешним ключем для их связи."
      ]
    },
    {
      "cell_type": "markdown",
      "id": "fc508ac9",
      "metadata": {
        "id": "fc508ac9"
      },
      "source": [
        "##  Проведите статистический анализ факторов ДТП"
      ]
    },
    {
      "cell_type": "markdown",
      "id": "e6982b6c",
      "metadata": {
        "id": "e6982b6c"
      },
      "source": [
        "### Анализ количества аварий по месяцам"
      ]
    },
    {
      "cell_type": "markdown",
      "id": "56abcac1",
      "metadata": {
        "id": "56abcac1"
      },
      "source": [
        "Посмотрим, на какие месяца приходится больше всего аварий"
      ]
    },
    {
      "cell_type": "code",
      "execution_count": null,
      "id": "5054e1aa",
      "metadata": {
        "id": "5054e1aa",
        "outputId": "134124d0-aa55-44af-b82c-6373b65ba0fb"
      },
      "outputs": [
        {
          "data": {
            "text/html": [
              "<div>\n",
              "<style scoped>\n",
              "    .dataframe tbody tr th:only-of-type {\n",
              "        vertical-align: middle;\n",
              "    }\n",
              "\n",
              "    .dataframe tbody tr th {\n",
              "        vertical-align: top;\n",
              "    }\n",
              "\n",
              "    .dataframe thead th {\n",
              "        text-align: right;\n",
              "    }\n",
              "</style>\n",
              "<table border=\"1\" class=\"dataframe\">\n",
              "  <thead>\n",
              "    <tr style=\"text-align: right;\">\n",
              "      <th></th>\n",
              "      <th>year</th>\n",
              "      <th>month</th>\n",
              "      <th>cases_count</th>\n",
              "    </tr>\n",
              "  </thead>\n",
              "  <tbody>\n",
              "    <tr>\n",
              "      <th>0</th>\n",
              "      <td>2009.0</td>\n",
              "      <td>1.0</td>\n",
              "      <td>35062</td>\n",
              "    </tr>\n",
              "    <tr>\n",
              "      <th>1</th>\n",
              "      <td>2009.0</td>\n",
              "      <td>2.0</td>\n",
              "      <td>34480</td>\n",
              "    </tr>\n",
              "    <tr>\n",
              "      <th>2</th>\n",
              "      <td>2009.0</td>\n",
              "      <td>3.0</td>\n",
              "      <td>36648</td>\n",
              "    </tr>\n",
              "    <tr>\n",
              "      <th>3</th>\n",
              "      <td>2009.0</td>\n",
              "      <td>4.0</td>\n",
              "      <td>35239</td>\n",
              "    </tr>\n",
              "    <tr>\n",
              "      <th>4</th>\n",
              "      <td>2009.0</td>\n",
              "      <td>5.0</td>\n",
              "      <td>36916</td>\n",
              "    </tr>\n",
              "    <tr>\n",
              "      <th>5</th>\n",
              "      <td>2009.0</td>\n",
              "      <td>6.0</td>\n",
              "      <td>34202</td>\n",
              "    </tr>\n",
              "    <tr>\n",
              "      <th>6</th>\n",
              "      <td>2009.0</td>\n",
              "      <td>7.0</td>\n",
              "      <td>35161</td>\n",
              "    </tr>\n",
              "    <tr>\n",
              "      <th>7</th>\n",
              "      <td>2009.0</td>\n",
              "      <td>8.0</td>\n",
              "      <td>34508</td>\n",
              "    </tr>\n",
              "    <tr>\n",
              "      <th>8</th>\n",
              "      <td>2009.0</td>\n",
              "      <td>9.0</td>\n",
              "      <td>35555</td>\n",
              "    </tr>\n",
              "    <tr>\n",
              "      <th>9</th>\n",
              "      <td>2009.0</td>\n",
              "      <td>10.0</td>\n",
              "      <td>37835</td>\n",
              "    </tr>\n",
              "    <tr>\n",
              "      <th>10</th>\n",
              "      <td>2009.0</td>\n",
              "      <td>11.0</td>\n",
              "      <td>34562</td>\n",
              "    </tr>\n",
              "    <tr>\n",
              "      <th>11</th>\n",
              "      <td>2009.0</td>\n",
              "      <td>12.0</td>\n",
              "      <td>36060</td>\n",
              "    </tr>\n",
              "    <tr>\n",
              "      <th>12</th>\n",
              "      <td>2010.0</td>\n",
              "      <td>1.0</td>\n",
              "      <td>32892</td>\n",
              "    </tr>\n",
              "    <tr>\n",
              "      <th>13</th>\n",
              "      <td>2010.0</td>\n",
              "      <td>2.0</td>\n",
              "      <td>31918</td>\n",
              "    </tr>\n",
              "    <tr>\n",
              "      <th>14</th>\n",
              "      <td>2010.0</td>\n",
              "      <td>3.0</td>\n",
              "      <td>35803</td>\n",
              "    </tr>\n",
              "    <tr>\n",
              "      <th>15</th>\n",
              "      <td>2010.0</td>\n",
              "      <td>4.0</td>\n",
              "      <td>34416</td>\n",
              "    </tr>\n",
              "    <tr>\n",
              "      <th>16</th>\n",
              "      <td>2010.0</td>\n",
              "      <td>5.0</td>\n",
              "      <td>34862</td>\n",
              "    </tr>\n",
              "    <tr>\n",
              "      <th>17</th>\n",
              "      <td>2010.0</td>\n",
              "      <td>6.0</td>\n",
              "      <td>33367</td>\n",
              "    </tr>\n",
              "    <tr>\n",
              "      <th>18</th>\n",
              "      <td>2010.0</td>\n",
              "      <td>7.0</td>\n",
              "      <td>33645</td>\n",
              "    </tr>\n",
              "    <tr>\n",
              "      <th>19</th>\n",
              "      <td>2010.0</td>\n",
              "      <td>8.0</td>\n",
              "      <td>34620</td>\n",
              "    </tr>\n",
              "    <tr>\n",
              "      <th>20</th>\n",
              "      <td>2010.0</td>\n",
              "      <td>9.0</td>\n",
              "      <td>34957</td>\n",
              "    </tr>\n",
              "    <tr>\n",
              "      <th>21</th>\n",
              "      <td>2010.0</td>\n",
              "      <td>10.0</td>\n",
              "      <td>37480</td>\n",
              "    </tr>\n",
              "    <tr>\n",
              "      <th>22</th>\n",
              "      <td>2010.0</td>\n",
              "      <td>11.0</td>\n",
              "      <td>35460</td>\n",
              "    </tr>\n",
              "    <tr>\n",
              "      <th>23</th>\n",
              "      <td>2010.0</td>\n",
              "      <td>12.0</td>\n",
              "      <td>37070</td>\n",
              "    </tr>\n",
              "    <tr>\n",
              "      <th>24</th>\n",
              "      <td>2011.0</td>\n",
              "      <td>1.0</td>\n",
              "      <td>31926</td>\n",
              "    </tr>\n",
              "    <tr>\n",
              "      <th>25</th>\n",
              "      <td>2011.0</td>\n",
              "      <td>2.0</td>\n",
              "      <td>31975</td>\n",
              "    </tr>\n",
              "    <tr>\n",
              "      <th>26</th>\n",
              "      <td>2011.0</td>\n",
              "      <td>3.0</td>\n",
              "      <td>34585</td>\n",
              "    </tr>\n",
              "    <tr>\n",
              "      <th>27</th>\n",
              "      <td>2011.0</td>\n",
              "      <td>4.0</td>\n",
              "      <td>31377</td>\n",
              "    </tr>\n",
              "    <tr>\n",
              "      <th>28</th>\n",
              "      <td>2011.0</td>\n",
              "      <td>5.0</td>\n",
              "      <td>33370</td>\n",
              "    </tr>\n",
              "    <tr>\n",
              "      <th>29</th>\n",
              "      <td>2011.0</td>\n",
              "      <td>6.0</td>\n",
              "      <td>31962</td>\n",
              "    </tr>\n",
              "    <tr>\n",
              "      <th>30</th>\n",
              "      <td>2011.0</td>\n",
              "      <td>7.0</td>\n",
              "      <td>33029</td>\n",
              "    </tr>\n",
              "    <tr>\n",
              "      <th>31</th>\n",
              "      <td>2011.0</td>\n",
              "      <td>8.0</td>\n",
              "      <td>34339</td>\n",
              "    </tr>\n",
              "    <tr>\n",
              "      <th>32</th>\n",
              "      <td>2011.0</td>\n",
              "      <td>9.0</td>\n",
              "      <td>34137</td>\n",
              "    </tr>\n",
              "    <tr>\n",
              "      <th>33</th>\n",
              "      <td>2011.0</td>\n",
              "      <td>10.0</td>\n",
              "      <td>36618</td>\n",
              "    </tr>\n",
              "    <tr>\n",
              "      <th>34</th>\n",
              "      <td>2011.0</td>\n",
              "      <td>11.0</td>\n",
              "      <td>34495</td>\n",
              "    </tr>\n",
              "    <tr>\n",
              "      <th>35</th>\n",
              "      <td>2011.0</td>\n",
              "      <td>12.0</td>\n",
              "      <td>34615</td>\n",
              "    </tr>\n",
              "    <tr>\n",
              "      <th>36</th>\n",
              "      <td>2012.0</td>\n",
              "      <td>1.0</td>\n",
              "      <td>32020</td>\n",
              "    </tr>\n",
              "    <tr>\n",
              "      <th>37</th>\n",
              "      <td>2012.0</td>\n",
              "      <td>2.0</td>\n",
              "      <td>30377</td>\n",
              "    </tr>\n",
              "    <tr>\n",
              "      <th>38</th>\n",
              "      <td>2012.0</td>\n",
              "      <td>3.0</td>\n",
              "      <td>32498</td>\n",
              "    </tr>\n",
              "    <tr>\n",
              "      <th>39</th>\n",
              "      <td>2012.0</td>\n",
              "      <td>4.0</td>\n",
              "      <td>29143</td>\n",
              "    </tr>\n",
              "    <tr>\n",
              "      <th>40</th>\n",
              "      <td>2012.0</td>\n",
              "      <td>5.0</td>\n",
              "      <td>25168</td>\n",
              "    </tr>\n",
              "    <tr>\n",
              "      <th>41</th>\n",
              "      <td>2012.0</td>\n",
              "      <td>6.0</td>\n",
              "      <td>3062</td>\n",
              "    </tr>\n",
              "    <tr>\n",
              "      <th>42</th>\n",
              "      <td>2012.0</td>\n",
              "      <td>7.0</td>\n",
              "      <td>390</td>\n",
              "    </tr>\n",
              "    <tr>\n",
              "      <th>43</th>\n",
              "      <td>2012.0</td>\n",
              "      <td>8.0</td>\n",
              "      <td>622</td>\n",
              "    </tr>\n",
              "    <tr>\n",
              "      <th>44</th>\n",
              "      <td>2012.0</td>\n",
              "      <td>9.0</td>\n",
              "      <td>510</td>\n",
              "    </tr>\n",
              "    <tr>\n",
              "      <th>45</th>\n",
              "      <td>2012.0</td>\n",
              "      <td>10.0</td>\n",
              "      <td>304</td>\n",
              "    </tr>\n",
              "    <tr>\n",
              "      <th>46</th>\n",
              "      <td>2012.0</td>\n",
              "      <td>11.0</td>\n",
              "      <td>253</td>\n",
              "    </tr>\n",
              "    <tr>\n",
              "      <th>47</th>\n",
              "      <td>2012.0</td>\n",
              "      <td>12.0</td>\n",
              "      <td>200</td>\n",
              "    </tr>\n",
              "    <tr>\n",
              "      <th>48</th>\n",
              "      <td>2013.0</td>\n",
              "      <td>1.0</td>\n",
              "      <td>144</td>\n",
              "    </tr>\n",
              "    <tr>\n",
              "      <th>49</th>\n",
              "      <td>2013.0</td>\n",
              "      <td>2.0</td>\n",
              "      <td>108</td>\n",
              "    </tr>\n",
              "    <tr>\n",
              "      <th>50</th>\n",
              "      <td>2013.0</td>\n",
              "      <td>3.0</td>\n",
              "      <td>46</td>\n",
              "    </tr>\n",
              "    <tr>\n",
              "      <th>51</th>\n",
              "      <td>2013.0</td>\n",
              "      <td>4.0</td>\n",
              "      <td>5</td>\n",
              "    </tr>\n",
              "    <tr>\n",
              "      <th>52</th>\n",
              "      <td>2013.0</td>\n",
              "      <td>6.0</td>\n",
              "      <td>1</td>\n",
              "    </tr>\n",
              "    <tr>\n",
              "      <th>53</th>\n",
              "      <td>2013.0</td>\n",
              "      <td>7.0</td>\n",
              "      <td>1</td>\n",
              "    </tr>\n",
              "    <tr>\n",
              "      <th>54</th>\n",
              "      <td>2020.0</td>\n",
              "      <td>3.0</td>\n",
              "      <td>1</td>\n",
              "    </tr>\n",
              "    <tr>\n",
              "      <th>55</th>\n",
              "      <td>2020.0</td>\n",
              "      <td>7.0</td>\n",
              "      <td>1</td>\n",
              "    </tr>\n",
              "  </tbody>\n",
              "</table>\n",
              "</div>"
            ],
            "text/plain": [
              "      year  month  cases_count\n",
              "0   2009.0    1.0        35062\n",
              "1   2009.0    2.0        34480\n",
              "2   2009.0    3.0        36648\n",
              "3   2009.0    4.0        35239\n",
              "4   2009.0    5.0        36916\n",
              "5   2009.0    6.0        34202\n",
              "6   2009.0    7.0        35161\n",
              "7   2009.0    8.0        34508\n",
              "8   2009.0    9.0        35555\n",
              "9   2009.0   10.0        37835\n",
              "10  2009.0   11.0        34562\n",
              "11  2009.0   12.0        36060\n",
              "12  2010.0    1.0        32892\n",
              "13  2010.0    2.0        31918\n",
              "14  2010.0    3.0        35803\n",
              "15  2010.0    4.0        34416\n",
              "16  2010.0    5.0        34862\n",
              "17  2010.0    6.0        33367\n",
              "18  2010.0    7.0        33645\n",
              "19  2010.0    8.0        34620\n",
              "20  2010.0    9.0        34957\n",
              "21  2010.0   10.0        37480\n",
              "22  2010.0   11.0        35460\n",
              "23  2010.0   12.0        37070\n",
              "24  2011.0    1.0        31926\n",
              "25  2011.0    2.0        31975\n",
              "26  2011.0    3.0        34585\n",
              "27  2011.0    4.0        31377\n",
              "28  2011.0    5.0        33370\n",
              "29  2011.0    6.0        31962\n",
              "30  2011.0    7.0        33029\n",
              "31  2011.0    8.0        34339\n",
              "32  2011.0    9.0        34137\n",
              "33  2011.0   10.0        36618\n",
              "34  2011.0   11.0        34495\n",
              "35  2011.0   12.0        34615\n",
              "36  2012.0    1.0        32020\n",
              "37  2012.0    2.0        30377\n",
              "38  2012.0    3.0        32498\n",
              "39  2012.0    4.0        29143\n",
              "40  2012.0    5.0        25168\n",
              "41  2012.0    6.0         3062\n",
              "42  2012.0    7.0          390\n",
              "43  2012.0    8.0          622\n",
              "44  2012.0    9.0          510\n",
              "45  2012.0   10.0          304\n",
              "46  2012.0   11.0          253\n",
              "47  2012.0   12.0          200\n",
              "48  2013.0    1.0          144\n",
              "49  2013.0    2.0          108\n",
              "50  2013.0    3.0           46\n",
              "51  2013.0    4.0            5\n",
              "52  2013.0    6.0            1\n",
              "53  2013.0    7.0            1\n",
              "54  2020.0    3.0            1\n",
              "55  2020.0    7.0            1"
            ]
          },
          "execution_count": 7,
          "metadata": {},
          "output_type": "execute_result"
        }
      ],
      "source": [
        "query = '''\n",
        "SELECT EXTRACT(YEAR FROM collision_date) AS year,\n",
        "       EXTRACT(MONTH FROM collision_date) AS month,\n",
        "       COUNT(case_id) AS cases_count\n",
        "FROM collisions\n",
        "GROUP BY EXTRACT(YEAR FROM collision_date), EXTRACT(MONTH FROM collision_date)\n",
        "'''\n",
        "\n",
        "cases_by_months = pd.read_sql_query(query, con=engine)\n",
        "cases_by_months"
      ]
    },
    {
      "cell_type": "markdown",
      "id": "eed39695",
      "metadata": {
        "id": "eed39695"
      },
      "source": [
        "Построим график для более наглядной визуализации"
      ]
    },
    {
      "cell_type": "code",
      "execution_count": null,
      "id": "56896c0c",
      "metadata": {
        "id": "56896c0c",
        "outputId": "1116bce2-a586-43f2-df98-422634dae93f"
      },
      "outputs": [
        {
          "data": {
            "image/png": "[encoded data removed]",
            "text/plain": [
              "<Figure size 432x288 with 1 Axes>"
            ]
          },
          "metadata": {
            "needs_background": "light"
          },
          "output_type": "display_data"
        },
        {
          "data": {
            "image/png": "[encoded data removed]",
            "text/plain": [
              "<Figure size 432x288 with 1 Axes>"
            ]
          },
          "metadata": {
            "needs_background": "light"
          },
          "output_type": "display_data"
        },
        {
          "data": {
            "image/png": "[encoded data removed]",
            "text/plain": [
              "<Figure size 432x288 with 1 Axes>"
            ]
          },
          "metadata": {
            "needs_background": "light"
          },
          "output_type": "display_data"
        },
        {
          "data": {
            "image/png": "[encoded data removed]",
            "text/plain": [
              "<Figure size 432x288 with 1 Axes>"
            ]
          },
          "metadata": {
            "needs_background": "light"
          },
          "output_type": "display_data"
        },
        {
          "data": {
            "image/png": "[encoded data removed]",
            "text/plain": [
              "<Figure size 432x288 with 1 Axes>"
            ]
          },
          "metadata": {
            "needs_background": "light"
          },
          "output_type": "display_data"
        },
        {
          "data": {
            "image/png": "[encoded data removed]",
            "text/plain": [
              "<Figure size 432x288 with 1 Axes>"
            ]
          },
          "metadata": {
            "needs_background": "light"
          },
          "output_type": "display_data"
        }
      ],
      "source": [
        "for year in cases_by_months['year'].value_counts().sort_index().index:\n",
        "    case = cases_by_months[cases_by_months['year'] == year]\n",
        "    plt.bar(case['month'], case['cases_count'], color='xkcd:grey blue')\n",
        "    plt.title(f'Count of cases in {int(year)} by months')\n",
        "    plt.ylabel('Cases count')\n",
        "    plt.xlabel('Month number')\n",
        "    plt.show()"
      ]
    },
    {
      "cell_type": "markdown",
      "id": "5746d046",
      "metadata": {
        "id": "5746d046"
      },
      "source": [
        "В период с 2009 по 2011 количество аварий по месяцам распределенно равномерно, в каких-то месяцах чуть больше, в каких-то чуть меньше. В 2012 году в первую половину года данные примерно такие же как и ранее, однако начиная со второй половины аварий будто не происходило, вероятно данных просто не хватает. В 2013 и 2020 годах тоже мало информации о дтп. "
      ]
    },
    {
      "cell_type": "markdown",
      "id": "3aeb71f4",
      "metadata": {
        "id": "3aeb71f4"
      },
      "source": [
        "### Задачи для коллег"
      ]
    },
    {
      "cell_type": "markdown",
      "id": "6f80e430",
      "metadata": {
        "id": "6f80e430"
      },
      "source": [
        "Для того, чтобы все были знаком с данными подберем список из 6 задач по анализу таблиц\n",
        "\n",
        "Список задач:\n",
        "\n",
        "- Проанализируйте количество ДТП в зависимости от состояния погоды (`collisions`)\n",
        "- Проведите анализ серьезности повреждений от возраста автомобиля (`collisions` и `vehicle`)\n",
        "- Проведите анализ частоты происшествий в зависимости от трезвости участника ДТП (`collisions` и `parties`)\n",
        "- Проведите анализ зависимости серьезности повреждений от физического состояния участника ДТП (`collisions` и `parties`)\n",
        "- Выясните, в какой диапазон времени происходит наибольшее количество аварий (`collisions`)\n",
        "- Определите, на какизх видах дорог набиолее верятно ДТП (`collisions`)"
      ]
    },
    {
      "cell_type": "markdown",
      "id": "f67502d4",
      "metadata": {
        "id": "f67502d4"
      },
      "source": [
        "### Примеры решения задач"
      ]
    },
    {
      "cell_type": "markdown",
      "id": "890d8e10",
      "metadata": {
        "id": "890d8e10"
      },
      "source": [
        "Порядок решения для двух задач будет идентичен:\n",
        "\n",
        "- Напишите SQL запрос\n",
        "- Проведите анализ и постройте график\n",
        "- Сделайте вывод\n",
        "\n",
        "Приведем пример решения двух задач:\n",
        "\n",
        "1. Проведите анализ серьезности повреждений от возраста автомобиля (`collisions` и `vehicle`)\n",
        "\n",
        "2. Проведите анализ зависимости серьезности повреждений от физического состояния участника ДТП (`collisions` и `parties`)"
      ]
    },
    {
      "cell_type": "markdown",
      "id": "3cecee84",
      "metadata": {
        "id": "3cecee84"
      },
      "source": [
        "#### Задача 1"
      ]
    },
    {
      "cell_type": "code",
      "execution_count": null,
      "id": "fb266831",
      "metadata": {
        "id": "fb266831",
        "outputId": "2b287e98-5c7a-4d81-8e6e-9c2a0945ba02"
      },
      "outputs": [
        {
          "data": {
            "text/html": [
              "<div>\n",
              "<style scoped>\n",
              "    .dataframe tbody tr th:only-of-type {\n",
              "        vertical-align: middle;\n",
              "    }\n",
              "\n",
              "    .dataframe tbody tr th {\n",
              "        vertical-align: top;\n",
              "    }\n",
              "\n",
              "    .dataframe thead th {\n",
              "        text-align: right;\n",
              "    }\n",
              "</style>\n",
              "<table border=\"1\" class=\"dataframe\">\n",
              "  <thead>\n",
              "    <tr style=\"text-align: right;\">\n",
              "      <th></th>\n",
              "      <th>age</th>\n",
              "      <th>damage</th>\n",
              "    </tr>\n",
              "  </thead>\n",
              "  <tbody>\n",
              "    <tr>\n",
              "      <th>0</th>\n",
              "      <td>8</td>\n",
              "      <td>small damage</td>\n",
              "    </tr>\n",
              "    <tr>\n",
              "      <th>1</th>\n",
              "      <td>11</td>\n",
              "      <td>scratch</td>\n",
              "    </tr>\n",
              "    <tr>\n",
              "      <th>2</th>\n",
              "      <td>6</td>\n",
              "      <td>small damage</td>\n",
              "    </tr>\n",
              "    <tr>\n",
              "      <th>3</th>\n",
              "      <td>3</td>\n",
              "      <td>small damage</td>\n",
              "    </tr>\n",
              "    <tr>\n",
              "      <th>4</th>\n",
              "      <td>7</td>\n",
              "      <td>scratch</td>\n",
              "    </tr>\n",
              "  </tbody>\n",
              "</table>\n",
              "</div>"
            ],
            "text/plain": [
              "   age        damage\n",
              "0    8  small damage\n",
              "1   11       scratch\n",
              "2    6  small damage\n",
              "3    3  small damage\n",
              "4    7       scratch"
            ]
          },
          "execution_count": 9,
          "metadata": {},
          "output_type": "execute_result"
        }
      ],
      "source": [
        "query = '''\n",
        "SELECT v.vehicle_age AS age,\n",
        "       c.collision_damage AS damage\n",
        "       \n",
        "FROM collisions AS c\n",
        "JOIN vehicles AS v ON c.case_id = v.case_id\n",
        "WHERE v.vehicle_age IS NOT NULL \n",
        "        AND c.collision_damage IS NOT NULL\n",
        "'''\n",
        "\n",
        "age_damage = pd.read_sql_query(query, con=engine)\n",
        "age_damage.head()"
      ]
    },
    {
      "cell_type": "code",
      "execution_count": null,
      "id": "a3a01774",
      "metadata": {
        "scrolled": true,
        "id": "a3a01774",
        "outputId": "a7b45214-81e3-425d-b2b3-bf1f5eea7593"
      },
      "outputs": [
        {
          "data": {
            "image/png": "[encoded data removed]",
            "text/plain": [
              "<Figure size 432x288 with 1 Axes>"
            ]
          },
          "metadata": {
            "needs_background": "light"
          },
          "output_type": "display_data"
        },
        {
          "data": {
            "image/png": "[encoded data removed]",
            "text/plain": [
              "<Figure size 432x288 with 1 Axes>"
            ]
          },
          "metadata": {
            "needs_background": "light"
          },
          "output_type": "display_data"
        },
        {
          "data": {
            "image/png": "[encoded data removed]",
            "text/plain": [
              "<Figure size 432x288 with 1 Axes>"
            ]
          },
          "metadata": {
            "needs_background": "light"
          },
          "output_type": "display_data"
        },
        {
          "data": {
            "image/png": "[encoded data removed]",
            "text/plain": [
              "<Figure size 432x288 with 1 Axes>"
            ]
          },
          "metadata": {
            "needs_background": "light"
          },
          "output_type": "display_data"
        },
        {
          "data": {
            "image/png": "[encoded data removed]",
            "text/plain": [
              "<Figure size 432x288 with 1 Axes>"
            ]
          },
          "metadata": {
            "needs_background": "light"
          },
          "output_type": "display_data"
        }
      ],
      "source": [
        "damage_vals = ['scratch', 'small damage', 'middle damage', 'severe damage', 'fatal']\n",
        "\n",
        "for value in damage_vals:\n",
        "    # Группируем по году и считаем количество упоминаний, при этом добавляем условие на возраст, \n",
        "    # тк. в данных есть автос возрастом 160\n",
        "    \n",
        "    d = age_damage[(age_damage['damage'] == value) & (age_damage['age'] < 100)].groupby(['age']).count()\n",
        "    plt.bar(d.index, d['damage'], alpha=.5)\n",
        "    plt.xticks(list(d.index))\n",
        "    plt.title(value)\n",
        "    plt.show()"
      ]
    },
    {
      "cell_type": "markdown",
      "id": "ebba8f52",
      "metadata": {
        "id": "ebba8f52"
      },
      "source": [
        "Лидерами по ДТП среди всех видов повреждений оказались авто с возрастом 2-4 года.\n",
        "\n",
        "Почти на всех графиках видно, что пересекая рубеж в 3 года частота повреждений уменьшается.\n",
        "\n",
        "В категории `small damage` новые авто появляются чаще, чем в остальных категориях."
      ]
    },
    {
      "cell_type": "markdown",
      "id": "a0f09510",
      "metadata": {
        "id": "a0f09510"
      },
      "source": [
        "#### Задача 2"
      ]
    },
    {
      "cell_type": "code",
      "execution_count": null,
      "id": "a4937f1d",
      "metadata": {
        "id": "a4937f1d",
        "outputId": "622c1f36-472a-454c-dd8f-4a05881db9da"
      },
      "outputs": [
        {
          "data": {
            "text/html": [
              "<div>\n",
              "<style scoped>\n",
              "    .dataframe tbody tr th:only-of-type {\n",
              "        vertical-align: middle;\n",
              "    }\n",
              "\n",
              "    .dataframe tbody tr th {\n",
              "        vertical-align: top;\n",
              "    }\n",
              "\n",
              "    .dataframe thead th {\n",
              "        text-align: right;\n",
              "    }\n",
              "</style>\n",
              "<table border=\"1\" class=\"dataframe\">\n",
              "  <thead>\n",
              "    <tr style=\"text-align: right;\">\n",
              "      <th></th>\n",
              "      <th>collision_damage</th>\n",
              "      <th>party_sobriety</th>\n",
              "    </tr>\n",
              "  </thead>\n",
              "  <tbody>\n",
              "    <tr>\n",
              "      <th>0</th>\n",
              "      <td>scratch</td>\n",
              "      <td>had not been drinking</td>\n",
              "    </tr>\n",
              "    <tr>\n",
              "      <th>1</th>\n",
              "      <td>fatal</td>\n",
              "      <td>had not been drinking</td>\n",
              "    </tr>\n",
              "    <tr>\n",
              "      <th>2</th>\n",
              "      <td>middle damage</td>\n",
              "      <td>impairment unknown</td>\n",
              "    </tr>\n",
              "    <tr>\n",
              "      <th>3</th>\n",
              "      <td>small damage</td>\n",
              "      <td>had been drinking, under influence</td>\n",
              "    </tr>\n",
              "    <tr>\n",
              "      <th>4</th>\n",
              "      <td>scratch</td>\n",
              "      <td>had not been drinking</td>\n",
              "    </tr>\n",
              "  </tbody>\n",
              "</table>\n",
              "</div>"
            ],
            "text/plain": [
              "  collision_damage                      party_sobriety\n",
              "0          scratch               had not been drinking\n",
              "1            fatal               had not been drinking\n",
              "2    middle damage                  impairment unknown\n",
              "3     small damage  had been drinking, under influence\n",
              "4          scratch               had not been drinking"
            ]
          },
          "execution_count": 11,
          "metadata": {},
          "output_type": "execute_result"
        }
      ],
      "source": [
        "query = '''\n",
        "WITH p AS(\n",
        "SELECT * \n",
        "FROM parties\n",
        "WHERE at_fault = 1\n",
        ")\n",
        "\n",
        "SELECT c.collision_damage,\n",
        "        p.party_sobriety\n",
        "FROM collisions AS c\n",
        "JOIN p ON c.case_id = p.case_id\n",
        "WHERE p.party_sobriety <> 'not applicable'\n",
        "'''\n",
        "\n",
        "sobriety_damage = pd.read_sql_query(query, con=engine)\n",
        "sobriety_damage.head()"
      ]
    },
    {
      "cell_type": "code",
      "execution_count": null,
      "id": "5a152af9",
      "metadata": {
        "id": "5a152af9",
        "outputId": "39b404a1-222d-4170-a244-642c23e851ca"
      },
      "outputs": [
        {
          "data": {
            "image/png": "[encoded data removed]",
            "text/plain": [
              "<Figure size 1440x360 with 1 Axes>"
            ]
          },
          "metadata": {
            "needs_background": "light"
          },
          "output_type": "display_data"
        },
        {
          "data": {
            "image/png": "[encoded data removed]",
            "text/plain": [
              "<Figure size 1440x360 with 1 Axes>"
            ]
          },
          "metadata": {
            "needs_background": "light"
          },
          "output_type": "display_data"
        },
        {
          "data": {
            "image/png": "[encoded data removed]",
            "text/plain": [
              "<Figure size 1440x360 with 1 Axes>"
            ]
          },
          "metadata": {
            "needs_background": "light"
          },
          "output_type": "display_data"
        },
        {
          "data": {
            "image/png": "[encoded data removed]",
            "text/plain": [
              "<Figure size 1440x360 with 1 Axes>"
            ]
          },
          "metadata": {
            "needs_background": "light"
          },
          "output_type": "display_data"
        },
        {
          "data": {
            "image/png": "[encoded data removed]",
            "text/plain": [
              "<Figure size 1440x360 with 1 Axes>"
            ]
          },
          "metadata": {
            "needs_background": "light"
          },
          "output_type": "display_data"
        }
      ],
      "source": [
        "for value in damage_vals:\n",
        "    # Группируем по состоянию винвоного и считаем количество упоминаний\n",
        "    d = sobriety_damage[(sobriety_damage['collision_damage'] == value)].groupby(['party_sobriety']).count()\n",
        "    plt.figure(figsize=(20,5))\n",
        "    plt.bar(d.index, d['collision_damage'], alpha=.5)\n",
        "    plt.xticks()\n",
        "    plt.title(value)\n",
        "    plt.show()"
      ]
    },
    {
      "cell_type": "markdown",
      "id": "58a2cd9a",
      "metadata": {
        "id": "58a2cd9a"
      },
      "source": [
        "В основном ДТП происходили по вине трезвых водителей.\n",
        "\n",
        "Тем не менее видна закономерность: количество ДТП произошедших по вине пьяных водителей возрастает с тяжестью повреждений.\n",
        "Аварии с фатальными повреждениями чаще совершаются водителями в нетрезвом состоянии в процентном соотношении, чем другие виды аварий"
      ]
    },
    {
      "cell_type": "markdown",
      "id": "735435c9",
      "metadata": {
        "id": "735435c9"
      },
      "source": [
        "## Создайте модель для оценки водительского риска"
      ]
    },
    {
      "cell_type": "markdown",
      "id": "eb9a54c0",
      "metadata": {
        "id": "eb9a54c0"
      },
      "source": [
        "### Подготовка данных"
      ]
    },
    {
      "cell_type": "code",
      "execution_count": null,
      "id": "d86bac74",
      "metadata": {
        "id": "d86bac74",
        "outputId": "56a6b402-25a5-47b9-da98-85f41e250322"
      },
      "outputs": [
        {
          "data": {
            "text/html": [
              "<div>\n",
              "<style scoped>\n",
              "    .dataframe tbody tr th:only-of-type {\n",
              "        vertical-align: middle;\n",
              "    }\n",
              "\n",
              "    .dataframe tbody tr th {\n",
              "        vertical-align: top;\n",
              "    }\n",
              "\n",
              "    .dataframe thead th {\n",
              "        text-align: right;\n",
              "    }\n",
              "</style>\n",
              "<table border=\"1\" class=\"dataframe\">\n",
              "  <thead>\n",
              "    <tr style=\"text-align: right;\">\n",
              "      <th></th>\n",
              "      <th>id</th>\n",
              "      <th>case_id</th>\n",
              "      <th>party_number</th>\n",
              "      <th>party_type</th>\n",
              "      <th>at_fault</th>\n",
              "      <th>insurance_premium</th>\n",
              "      <th>party_sobriety</th>\n",
              "      <th>party_drug_physical</th>\n",
              "      <th>cellphone_in_use</th>\n",
              "      <th>case_id</th>\n",
              "      <th>...</th>\n",
              "      <th>lighting</th>\n",
              "      <th>control_device</th>\n",
              "      <th>collision_date</th>\n",
              "      <th>collision_time</th>\n",
              "      <th>id</th>\n",
              "      <th>case_id</th>\n",
              "      <th>party_number</th>\n",
              "      <th>vehicle_type</th>\n",
              "      <th>vehicle_transmission</th>\n",
              "      <th>vehicle_age</th>\n",
              "    </tr>\n",
              "  </thead>\n",
              "  <tbody>\n",
              "    <tr>\n",
              "      <th>0</th>\n",
              "      <td>2670815</td>\n",
              "      <td>5607652</td>\n",
              "      <td>2</td>\n",
              "      <td>road bumper</td>\n",
              "      <td>0</td>\n",
              "      <td>NaN</td>\n",
              "      <td>None</td>\n",
              "      <td>None</td>\n",
              "      <td>NaN</td>\n",
              "      <td>5607652</td>\n",
              "      <td>...</td>\n",
              "      <td>dark with street lights</td>\n",
              "      <td>none</td>\n",
              "      <td>2012-04-25</td>\n",
              "      <td>20:11:00</td>\n",
              "      <td>1470493</td>\n",
              "      <td>5607652</td>\n",
              "      <td>1</td>\n",
              "      <td>sedan</td>\n",
              "      <td>auto</td>\n",
              "      <td>7.0</td>\n",
              "    </tr>\n",
              "    <tr>\n",
              "      <th>1</th>\n",
              "      <td>2313486</td>\n",
              "      <td>5403581</td>\n",
              "      <td>2</td>\n",
              "      <td>road signs</td>\n",
              "      <td>0</td>\n",
              "      <td>41.0</td>\n",
              "      <td>had been drinking, impairment unknown</td>\n",
              "      <td>None</td>\n",
              "      <td>0.0</td>\n",
              "      <td>5403581</td>\n",
              "      <td>...</td>\n",
              "      <td>dark with street lights</td>\n",
              "      <td>none</td>\n",
              "      <td>2012-03-10</td>\n",
              "      <td>23:25:00</td>\n",
              "      <td>1275845</td>\n",
              "      <td>5403581</td>\n",
              "      <td>2</td>\n",
              "      <td>hatchback</td>\n",
              "      <td>manual</td>\n",
              "      <td>6.0</td>\n",
              "    </tr>\n",
              "    <tr>\n",
              "      <th>2</th>\n",
              "      <td>2406519</td>\n",
              "      <td>5454923</td>\n",
              "      <td>4</td>\n",
              "      <td>road signs</td>\n",
              "      <td>0</td>\n",
              "      <td>33.0</td>\n",
              "      <td>had not been drinking</td>\n",
              "      <td>None</td>\n",
              "      <td>0.0</td>\n",
              "      <td>5454923</td>\n",
              "      <td>...</td>\n",
              "      <td>dark with street lights</td>\n",
              "      <td>functioning</td>\n",
              "      <td>2012-01-12</td>\n",
              "      <td>21:40:00</td>\n",
              "      <td>1326547</td>\n",
              "      <td>5454923</td>\n",
              "      <td>5</td>\n",
              "      <td>hatchback</td>\n",
              "      <td>manual</td>\n",
              "      <td>4.0</td>\n",
              "    </tr>\n",
              "    <tr>\n",
              "      <th>3</th>\n",
              "      <td>2406519</td>\n",
              "      <td>5454923</td>\n",
              "      <td>4</td>\n",
              "      <td>road signs</td>\n",
              "      <td>0</td>\n",
              "      <td>33.0</td>\n",
              "      <td>had not been drinking</td>\n",
              "      <td>None</td>\n",
              "      <td>0.0</td>\n",
              "      <td>5454923</td>\n",
              "      <td>...</td>\n",
              "      <td>dark with street lights</td>\n",
              "      <td>functioning</td>\n",
              "      <td>2012-01-12</td>\n",
              "      <td>21:40:00</td>\n",
              "      <td>1326546</td>\n",
              "      <td>5454923</td>\n",
              "      <td>4</td>\n",
              "      <td>hatchback</td>\n",
              "      <td>manual</td>\n",
              "      <td>5.0</td>\n",
              "    </tr>\n",
              "    <tr>\n",
              "      <th>4</th>\n",
              "      <td>2406519</td>\n",
              "      <td>5454923</td>\n",
              "      <td>4</td>\n",
              "      <td>road signs</td>\n",
              "      <td>0</td>\n",
              "      <td>33.0</td>\n",
              "      <td>had not been drinking</td>\n",
              "      <td>None</td>\n",
              "      <td>0.0</td>\n",
              "      <td>5454923</td>\n",
              "      <td>...</td>\n",
              "      <td>dark with street lights</td>\n",
              "      <td>functioning</td>\n",
              "      <td>2012-01-12</td>\n",
              "      <td>21:40:00</td>\n",
              "      <td>1326544</td>\n",
              "      <td>5454923</td>\n",
              "      <td>2</td>\n",
              "      <td>coupe</td>\n",
              "      <td>manual</td>\n",
              "      <td>5.0</td>\n",
              "    </tr>\n",
              "  </tbody>\n",
              "</table>\n",
              "<p>5 rows × 35 columns</p>\n",
              "</div>"
            ],
            "text/plain": [
              "        id  case_id party_number   party_type  at_fault  insurance_premium  \\\n",
              "0  2670815  5607652            2  road bumper         0                NaN   \n",
              "1  2313486  5403581            2   road signs         0               41.0   \n",
              "2  2406519  5454923            4   road signs         0               33.0   \n",
              "3  2406519  5454923            4   road signs         0               33.0   \n",
              "4  2406519  5454923            4   road signs         0               33.0   \n",
              "\n",
              "                          party_sobriety party_drug_physical  \\\n",
              "0                                   None                None   \n",
              "1  had been drinking, impairment unknown                None   \n",
              "2                  had not been drinking                None   \n",
              "3                  had not been drinking                None   \n",
              "4                  had not been drinking                None   \n",
              "\n",
              "   cellphone_in_use  case_id  ...                 lighting control_device  \\\n",
              "0               NaN  5607652  ...  dark with street lights           none   \n",
              "1               0.0  5403581  ...  dark with street lights           none   \n",
              "2               0.0  5454923  ...  dark with street lights    functioning   \n",
              "3               0.0  5454923  ...  dark with street lights    functioning   \n",
              "4               0.0  5454923  ...  dark with street lights    functioning   \n",
              "\n",
              "   collision_date collision_time       id  case_id party_number vehicle_type  \\\n",
              "0      2012-04-25       20:11:00  1470493  5607652            1        sedan   \n",
              "1      2012-03-10       23:25:00  1275845  5403581            2    hatchback   \n",
              "2      2012-01-12       21:40:00  1326547  5454923            5    hatchback   \n",
              "3      2012-01-12       21:40:00  1326546  5454923            4    hatchback   \n",
              "4      2012-01-12       21:40:00  1326544  5454923            2        coupe   \n",
              "\n",
              "   vehicle_transmission vehicle_age  \n",
              "0                  auto         7.0  \n",
              "1                manual         6.0  \n",
              "2                manual         4.0  \n",
              "3                manual         5.0  \n",
              "4                manual         5.0  \n",
              "\n",
              "[5 rows x 35 columns]"
            ]
          },
          "execution_count": 13,
          "metadata": {},
          "output_type": "execute_result"
        }
      ],
      "source": [
        "query = '''\n",
        "SELECT *\n",
        "FROM parties AS p\n",
        "INNER JOIN collisions AS c ON p.case_id = c.case_id\n",
        "INNER JOIN vehicles AS v ON p.case_id = v.case_id\n",
        "WHERE (p.party_type = 'car' OR at_fault = 0) \n",
        "        AND c.collision_damage <> 'scratch'\n",
        "        AND EXTRACT(YEAR FROM c.collision_date) = 2012\n",
        "'''\n",
        "df = pd.read_sql_query(query, con=engine)\n",
        "df.head()"
      ]
    },
    {
      "cell_type": "markdown",
      "id": "f18c25b5",
      "metadata": {
        "id": "f18c25b5"
      },
      "source": [
        "Проверим, какие виновники в датасете получились"
      ]
    },
    {
      "cell_type": "code",
      "execution_count": null,
      "id": "9ccdcc5e",
      "metadata": {
        "id": "9ccdcc5e",
        "outputId": "4ce374f0-8052-4965-c6a7-250f26a28e50"
      },
      "outputs": [
        {
          "data": {
            "text/plain": [
              "car    55616\n",
              "Name: party_type, dtype: int64"
            ]
          },
          "execution_count": 14,
          "metadata": {},
          "output_type": "execute_result"
        }
      ],
      "source": [
        "df[df['at_fault'] == 1]['party_type'].value_counts()"
      ]
    },
    {
      "cell_type": "code",
      "execution_count": null,
      "id": "dd2cbc38",
      "metadata": {
        "id": "dd2cbc38",
        "outputId": "04e52815-31ae-4c84-dd77-605ab8ae19ae"
      },
      "outputs": [
        {
          "data": {
            "text/plain": [
              "car            62795\n",
              "road bumper     4245\n",
              "road signs      2917\n",
              "building        1578\n",
              "other            387\n",
              "Name: party_type, dtype: int64"
            ]
          },
          "execution_count": 15,
          "metadata": {},
          "output_type": "execute_result"
        }
      ],
      "source": [
        "df[df['at_fault'] == 0]['party_type'].value_counts()"
      ]
    },
    {
      "cell_type": "code",
      "execution_count": null,
      "id": "e7b16aba",
      "metadata": {
        "id": "e7b16aba",
        "outputId": "32ad51ea-5b8b-4dfe-c3b7-d57603769ec0"
      },
      "outputs": [
        {
          "name": "stdout",
          "output_type": "stream",
          "text": [
            "<class 'pandas.core.frame.DataFrame'>\n",
            "RangeIndex: 127630 entries, 0 to 127629\n",
            "Data columns (total 35 columns):\n",
            " #   Column                       Non-Null Count   Dtype  \n",
            "---  ------                       --------------   -----  \n",
            " 0   id                           127630 non-null  int64  \n",
            " 1   case_id                      127630 non-null  object \n",
            " 2   party_number                 127630 non-null  int64  \n",
            " 3   party_type                   127538 non-null  object \n",
            " 4   at_fault                     127630 non-null  int64  \n",
            " 5   insurance_premium            117797 non-null  float64\n",
            " 6   party_sobriety               124993 non-null  object \n",
            " 7   party_drug_physical          12810 non-null   object \n",
            " 8   cellphone_in_use             112813 non-null  float64\n",
            " 9   case_id                      127630 non-null  object \n",
            " 10  county_city_location         127630 non-null  object \n",
            " 11  county_location              127630 non-null  object \n",
            " 12  distance                     127630 non-null  float64\n",
            " 13  direction                    96337 non-null   object \n",
            " 14  intersection                 127175 non-null  float64\n",
            " 15  weather_1                    127168 non-null  object \n",
            " 16  location_type                56339 non-null   object \n",
            " 17  collision_damage             127630 non-null  object \n",
            " 18  party_count                  127630 non-null  int64  \n",
            " 19  primary_collision_factor     127277 non-null  object \n",
            " 20  pcf_violation_category       125596 non-null  object \n",
            " 21  type_of_collision            126930 non-null  object \n",
            " 22  motor_vehicle_involved_with  127202 non-null  object \n",
            " 23  road_surface                 126733 non-null  object \n",
            " 24  road_condition_1             126952 non-null  object \n",
            " 25  lighting                     127213 non-null  object \n",
            " 26  control_device               127124 non-null  object \n",
            " 27  collision_date               127630 non-null  object \n",
            " 28  collision_time               127481 non-null  object \n",
            " 29  id                           127630 non-null  int64  \n",
            " 30  case_id                      127630 non-null  object \n",
            " 31  party_number                 127630 non-null  int64  \n",
            " 32  vehicle_type                 127630 non-null  object \n",
            " 33  vehicle_transmission         125482 non-null  object \n",
            " 34  vehicle_age                  124010 non-null  float64\n",
            "dtypes: float64(5), int64(6), object(24)\n",
            "memory usage: 34.1+ MB\n"
          ]
        }
      ],
      "source": [
        "df.info()"
      ]
    },
    {
      "cell_type": "markdown",
      "id": "d696cc1f",
      "metadata": {
        "id": "d696cc1f"
      },
      "source": [
        "## Проведите анализ важности факторов ДТП"
      ]
    },
    {
      "cell_type": "markdown",
      "id": "40be2513",
      "metadata": {
        "id": "40be2513"
      },
      "source": [
        "### Выявление важных факторов"
      ]
    },
    {
      "cell_type": "markdown",
      "id": "4e84d47d",
      "metadata": {
        "id": "4e84d47d"
      },
      "source": [
        "Начнем со столбцов дублирующих информацию, `country_city_location` содержит ту же информацию, что и `country_location`, но в другом виде. Избавимся от него"
      ]
    },
    {
      "cell_type": "code",
      "execution_count": null,
      "id": "fc402cdf",
      "metadata": {
        "id": "fc402cdf"
      },
      "outputs": [],
      "source": [
        "df = df.drop(columns='county_city_location')"
      ]
    },
    {
      "cell_type": "markdown",
      "id": "a4df3f80",
      "metadata": {
        "id": "a4df3f80"
      },
      "source": [
        "Избавимся от признаков, которые мы заранее не могли знать. Вероятно это отрицательно скажется на метрике, но очевидно лучше скажется на результате исследования."
      ]
    },
    {
      "cell_type": "code",
      "execution_count": null,
      "id": "fe54a707",
      "metadata": {
        "id": "fe54a707"
      },
      "outputs": [],
      "source": [
        "df = df.drop(columns=['party_count',\n",
        "            'collision_damage',\n",
        "            'primary_collision_factor',\n",
        "            'pcf_violation_category',\n",
        "            'type_of_collision',\n",
        "            'motor_vehicle_involved_with'])"
      ]
    },
    {
      "cell_type": "code",
      "execution_count": null,
      "id": "339691c4",
      "metadata": {
        "id": "339691c4",
        "outputId": "ddcffc52-f566-4ade-dc19-562a87a4f9b5"
      },
      "outputs": [
        {
          "name": "stdout",
          "output_type": "stream",
          "text": [
            "<class 'pandas.core.frame.DataFrame'>\n",
            "RangeIndex: 127630 entries, 0 to 127629\n",
            "Data columns (total 28 columns):\n",
            " #   Column                Non-Null Count   Dtype  \n",
            "---  ------                --------------   -----  \n",
            " 0   id                    127630 non-null  int64  \n",
            " 1   case_id               127630 non-null  object \n",
            " 2   party_number          127630 non-null  int64  \n",
            " 3   party_type            127538 non-null  object \n",
            " 4   at_fault              127630 non-null  int64  \n",
            " 5   insurance_premium     117797 non-null  float64\n",
            " 6   party_sobriety        124993 non-null  object \n",
            " 7   party_drug_physical   12810 non-null   object \n",
            " 8   cellphone_in_use      112813 non-null  float64\n",
            " 9   case_id               127630 non-null  object \n",
            " 10  county_location       127630 non-null  object \n",
            " 11  distance              127630 non-null  float64\n",
            " 12  direction             96337 non-null   object \n",
            " 13  intersection          127175 non-null  float64\n",
            " 14  weather_1             127168 non-null  object \n",
            " 15  location_type         56339 non-null   object \n",
            " 16  road_surface          126733 non-null  object \n",
            " 17  road_condition_1      126952 non-null  object \n",
            " 18  lighting              127213 non-null  object \n",
            " 19  control_device        127124 non-null  object \n",
            " 20  collision_date        127630 non-null  object \n",
            " 21  collision_time        127481 non-null  object \n",
            " 22  id                    127630 non-null  int64  \n",
            " 23  case_id               127630 non-null  object \n",
            " 24  party_number          127630 non-null  int64  \n",
            " 25  vehicle_type          127630 non-null  object \n",
            " 26  vehicle_transmission  125482 non-null  object \n",
            " 27  vehicle_age           124010 non-null  float64\n",
            "dtypes: float64(5), int64(5), object(18)\n",
            "memory usage: 27.3+ MB\n"
          ]
        }
      ],
      "source": [
        "df.info()"
      ]
    },
    {
      "cell_type": "markdown",
      "id": "1b857088",
      "metadata": {
        "id": "1b857088"
      },
      "source": [
        "Так же можно избавиться от столбцов `insurance_premium`, `party_number`, `party_type`. Неинформативные признаки для нашей задачи.\n",
        "\n",
        "`id` и `case_id` тоже неинформативны для задачи."
      ]
    },
    {
      "cell_type": "code",
      "execution_count": null,
      "id": "d09b0dca",
      "metadata": {
        "id": "d09b0dca"
      },
      "outputs": [],
      "source": [
        "df = df.drop(columns=['insurance_premium', 'id', 'case_id', 'party_number', 'party_type'])"
      ]
    },
    {
      "cell_type": "code",
      "execution_count": null,
      "id": "4a9c1c35",
      "metadata": {
        "id": "4a9c1c35",
        "outputId": "090fd520-62d1-40ae-abc4-6ec40d40444f"
      },
      "outputs": [
        {
          "name": "stdout",
          "output_type": "stream",
          "text": [
            "<class 'pandas.core.frame.DataFrame'>\n",
            "RangeIndex: 127630 entries, 0 to 127629\n",
            "Data columns (total 19 columns):\n",
            " #   Column                Non-Null Count   Dtype  \n",
            "---  ------                --------------   -----  \n",
            " 0   at_fault              127630 non-null  int64  \n",
            " 1   party_sobriety        124993 non-null  object \n",
            " 2   party_drug_physical   12810 non-null   object \n",
            " 3   cellphone_in_use      112813 non-null  float64\n",
            " 4   county_location       127630 non-null  object \n",
            " 5   distance              127630 non-null  float64\n",
            " 6   direction             96337 non-null   object \n",
            " 7   intersection          127175 non-null  float64\n",
            " 8   weather_1             127168 non-null  object \n",
            " 9   location_type         56339 non-null   object \n",
            " 10  road_surface          126733 non-null  object \n",
            " 11  road_condition_1      126952 non-null  object \n",
            " 12  lighting              127213 non-null  object \n",
            " 13  control_device        127124 non-null  object \n",
            " 14  collision_date        127630 non-null  object \n",
            " 15  collision_time        127481 non-null  object \n",
            " 16  vehicle_type          127630 non-null  object \n",
            " 17  vehicle_transmission  125482 non-null  object \n",
            " 18  vehicle_age           124010 non-null  float64\n",
            "dtypes: float64(4), int64(1), object(14)\n",
            "memory usage: 18.5+ MB\n"
          ]
        }
      ],
      "source": [
        "df.info()"
      ]
    },
    {
      "cell_type": "markdown",
      "id": "cb381199",
      "metadata": {
        "id": "cb381199"
      },
      "source": [
        "### Проведем исследовательский анализ"
      ]
    },
    {
      "cell_type": "markdown",
      "id": "dc71b906",
      "metadata": {
        "id": "dc71b906"
      },
      "source": [
        "#### Численные признаки"
      ]
    },
    {
      "cell_type": "code",
      "execution_count": null,
      "id": "ee6f0842",
      "metadata": {
        "id": "ee6f0842",
        "outputId": "d850c17a-b46e-4c85-bcdd-05d6789d268e"
      },
      "outputs": [
        {
          "data": {
            "image/png": "[encoded data removed]",
            "text/plain": [
              "<Figure size 432x288 with 1 Axes>"
            ]
          },
          "metadata": {
            "needs_background": "light"
          },
          "output_type": "display_data"
        },
        {
          "data": {
            "image/png": "[encoded data removed]",
            "text/plain": [
              "<Figure size 432x288 with 1 Axes>"
            ]
          },
          "metadata": {
            "needs_background": "light"
          },
          "output_type": "display_data"
        }
      ],
      "source": [
        "num_cols = ['distance', 'vehicle_age']\n",
        "\n",
        "for col in num_cols:\n",
        "    sns.boxplot(x=df[col])\n",
        "    plt.title(col)\n",
        "    plt.show()"
      ]
    },
    {
      "cell_type": "markdown",
      "id": "1cd43c20",
      "metadata": {
        "id": "1cd43c20"
      },
      "source": [
        "Избавимся от аномальных значений в столбцах"
      ]
    },
    {
      "cell_type": "code",
      "execution_count": null,
      "id": "4f8604f7",
      "metadata": {
        "id": "4f8604f7",
        "outputId": "a0185181-c3d3-42ea-b6cc-e0c3c141be81"
      },
      "outputs": [
        {
          "name": "stdout",
          "output_type": "stream",
          "text": [
            "count    1.240060e+05\n",
            "mean     7.131054e+02\n",
            "std      6.749931e+03\n",
            "min      0.000000e+00\n",
            "25%      3.000000e+00\n",
            "50%      1.100000e+02\n",
            "75%      5.280000e+02\n",
            "max      1.584000e+06\n",
            "Name: distance, dtype: float64\n"
          ]
        },
        {
          "data": {
            "image/png": "[encoded data removed]",
            "text/plain": [
              "<Figure size 432x288 with 1 Axes>"
            ]
          },
          "metadata": {
            "needs_background": "light"
          },
          "output_type": "display_data"
        },
        {
          "name": "stdout",
          "output_type": "stream",
          "text": [
            "count    124006.000000\n",
            "mean          4.918149\n",
            "std           3.137469\n",
            "min           0.000000\n",
            "25%           3.000000\n",
            "50%           4.000000\n",
            "75%           7.000000\n",
            "max          19.000000\n",
            "Name: vehicle_age, dtype: float64\n"
          ]
        },
        {
          "data": {
            "image/png": "[encoded data removed]",
            "text/plain": [
              "<Figure size 432x288 with 1 Axes>"
            ]
          },
          "metadata": {
            "needs_background": "light"
          },
          "output_type": "display_data"
        }
      ],
      "source": [
        "df = df[df['vehicle_age'] < 100]\n",
        "\n",
        "for col in num_cols:\n",
        "    print(df[col].describe())\n",
        "    sns.boxplot(x=df[col])\n",
        "    plt.title(col)\n",
        "    plt.show()"
      ]
    },
    {
      "cell_type": "markdown",
      "id": "c698f188",
      "metadata": {
        "id": "c698f188"
      },
      "source": [
        "Все равно остается достаточно много выбросов в столбце `distance`.\n",
        "Есть смысл преобразовать данные в киломметры"
      ]
    },
    {
      "cell_type": "code",
      "execution_count": null,
      "id": "3f476e82",
      "metadata": {
        "id": "3f476e82"
      },
      "outputs": [],
      "source": [
        "df['distance'] = df['distance'] // 1000"
      ]
    },
    {
      "cell_type": "code",
      "execution_count": null,
      "id": "dbecd7f7",
      "metadata": {
        "id": "dbecd7f7",
        "outputId": "2d67c815-c77e-4ce1-dc67-59a06bf74c25"
      },
      "outputs": [
        {
          "name": "stdout",
          "output_type": "stream",
          "text": [
            "count    124006.000000\n",
            "mean          0.515032\n",
            "std           6.729387\n",
            "min           0.000000\n",
            "25%           0.000000\n",
            "50%           0.000000\n",
            "75%           0.000000\n",
            "max        1584.000000\n",
            "Name: distance, dtype: float64\n"
          ]
        },
        {
          "data": {
            "image/png": "[encoded data removed]",
            "text/plain": [
              "<Figure size 432x288 with 1 Axes>"
            ]
          },
          "metadata": {
            "needs_background": "light"
          },
          "output_type": "display_data"
        },
        {
          "name": "stdout",
          "output_type": "stream",
          "text": [
            "count    124006.000000\n",
            "mean          4.918149\n",
            "std           3.137469\n",
            "min           0.000000\n",
            "25%           3.000000\n",
            "50%           4.000000\n",
            "75%           7.000000\n",
            "max          19.000000\n",
            "Name: vehicle_age, dtype: float64\n"
          ]
        },
        {
          "data": {
            "image/png": "[encoded data removed]",
            "text/plain": [
              "<Figure size 432x288 with 1 Axes>"
            ]
          },
          "metadata": {
            "needs_background": "light"
          },
          "output_type": "display_data"
        }
      ],
      "source": [
        "for col in num_cols:\n",
        "    print(df[col].describe())\n",
        "    sns.boxplot(x=df[col])\n",
        "    plt.title(col)\n",
        "    plt.show()"
      ]
    },
    {
      "cell_type": "markdown",
      "id": "cdbbca84",
      "metadata": {
        "id": "cdbbca84"
      },
      "source": [
        "Так же избавимся от аномальных значений в столбце `distance` "
      ]
    },
    {
      "cell_type": "code",
      "execution_count": null,
      "id": "4446253b",
      "metadata": {
        "id": "4446253b"
      },
      "outputs": [],
      "source": [
        "df = df[df['distance'] < 200]"
      ]
    },
    {
      "cell_type": "code",
      "execution_count": null,
      "id": "8fec64d3",
      "metadata": {
        "id": "8fec64d3",
        "outputId": "623f9234-7001-48d5-c85c-239f1b0ac3bf"
      },
      "outputs": [
        {
          "name": "stdout",
          "output_type": "stream",
          "text": [
            "count    124004.000000\n",
            "mean          0.489492\n",
            "std           2.200767\n",
            "min           0.000000\n",
            "25%           0.000000\n",
            "50%           0.000000\n",
            "75%           0.000000\n",
            "max         171.000000\n",
            "Name: distance, dtype: float64\n"
          ]
        },
        {
          "data": {
            "image/png": "[encoded data removed]",
            "text/plain": [
              "<Figure size 432x288 with 1 Axes>"
            ]
          },
          "metadata": {
            "needs_background": "light"
          },
          "output_type": "display_data"
        },
        {
          "name": "stdout",
          "output_type": "stream",
          "text": [
            "count    124004.000000\n",
            "mean          4.918180\n",
            "std           3.137485\n",
            "min           0.000000\n",
            "25%           3.000000\n",
            "50%           4.000000\n",
            "75%           7.000000\n",
            "max          19.000000\n",
            "Name: vehicle_age, dtype: float64\n"
          ]
        },
        {
          "data": {
            "image/png": "[encoded data removed]",
            "text/plain": [
              "<Figure size 432x288 with 1 Axes>"
            ]
          },
          "metadata": {
            "needs_background": "light"
          },
          "output_type": "display_data"
        }
      ],
      "source": [
        "for col in num_cols:\n",
        "    print(df[col].describe())\n",
        "    sns.boxplot(x=df[col])\n",
        "    plt.title(col)\n",
        "    plt.show()"
      ]
    },
    {
      "cell_type": "markdown",
      "id": "867b7ecf",
      "metadata": {
        "id": "867b7ecf"
      },
      "source": [
        "Попробуем классифицировать данные `distance`"
      ]
    },
    {
      "cell_type": "code",
      "execution_count": null,
      "id": "4d14a946",
      "metadata": {
        "id": "4d14a946"
      },
      "outputs": [],
      "source": [
        "# разделим на 5 категорий по дистанции\n",
        "# Выделил логичные категории дистанции\n",
        "def cls_dist(x):\n",
        "    if x <= 5:\n",
        "        return 'A'\n",
        "    if x <= 10:\n",
        "        return 'B'\n",
        "    if x <= 50:\n",
        "        return 'C'\n",
        "    return 'D'"
      ]
    },
    {
      "cell_type": "code",
      "execution_count": null,
      "id": "b9183629",
      "metadata": {
        "id": "b9183629",
        "outputId": "b823cd28-c0f0-42aa-9e61-2e9fadeb8d2d"
      },
      "outputs": [
        {
          "data": {
            "text/plain": [
              "0    A\n",
              "1    A\n",
              "2    A\n",
              "3    A\n",
              "4    A\n",
              "Name: distance, dtype: object"
            ]
          },
          "execution_count": 29,
          "metadata": {},
          "output_type": "execute_result"
        }
      ],
      "source": [
        "df['distance'] = df['distance'].apply(cls_dist)\n",
        "df['distance'].head()"
      ]
    },
    {
      "cell_type": "markdown",
      "id": "54e20e71",
      "metadata": {
        "id": "54e20e71"
      },
      "source": [
        "#### Категориальные признаки"
      ]
    },
    {
      "cell_type": "markdown",
      "id": "193fd9f6",
      "metadata": {
        "id": "193fd9f6"
      },
      "source": [
        "Теперь посмотрим на категориальные признаки, построим для них графики распределения классов"
      ]
    },
    {
      "cell_type": "code",
      "execution_count": null,
      "id": "4eff9dc5",
      "metadata": {
        "id": "4eff9dc5",
        "outputId": "20c5b950-6720-4a68-a71f-7bcea7e6f0dc"
      },
      "outputs": [
        {
          "name": "stdout",
          "output_type": "stream",
          "text": [
            "\n",
            "AT_FAULT\n"
          ]
        },
        {
          "data": {
            "text/plain": [
              "0    69980\n",
              "1    54024\n",
              "Name: at_fault, dtype: int64"
            ]
          },
          "metadata": {},
          "output_type": "display_data"
        },
        {
          "data": {
            "image/png": "[encoded data removed]",
            "text/plain": [
              "<Figure size 720x360 with 1 Axes>"
            ]
          },
          "metadata": {
            "needs_background": "light"
          },
          "output_type": "display_data"
        },
        {
          "name": "stdout",
          "output_type": "stream",
          "text": [
            "\n",
            "PARTY_SOBRIETY\n"
          ]
        },
        {
          "data": {
            "text/plain": [
              "had not been drinking                     103099\n",
              "had been drinking, under influence          6514\n",
              "impairment unknown                          6070\n",
              "not applicable                              4157\n",
              "had been drinking, not under influence      1015\n",
              "Name: party_sobriety, dtype: int64"
            ]
          },
          "metadata": {},
          "output_type": "display_data"
        },
        {
          "data": {
            "image/png": "[encoded data removed]",
            "text/plain": [
              "<Figure size 720x360 with 1 Axes>"
            ]
          },
          "metadata": {
            "needs_background": "light"
          },
          "output_type": "display_data"
        },
        {
          "name": "stdout",
          "output_type": "stream",
          "text": [
            "\n",
            "PARTY_DRUG_PHYSICAL\n"
          ]
        },
        {
          "data": {
            "text/plain": [
              "G                        6070\n",
              "not applicable           4157\n",
              "under drug influence     1390\n",
              "sleepy/fatigued           523\n",
              "impairment - physical     187\n",
              "Name: party_drug_physical, dtype: int64"
            ]
          },
          "metadata": {},
          "output_type": "display_data"
        },
        {
          "data": {
            "image/png": "[encoded data removed]",
            "text/plain": [
              "<Figure size 720x360 with 1 Axes>"
            ]
          },
          "metadata": {
            "needs_background": "light"
          },
          "output_type": "display_data"
        },
        {
          "name": "stdout",
          "output_type": "stream",
          "text": [
            "\n",
            "CELLPHONE_IN_USE\n"
          ]
        },
        {
          "data": {
            "text/plain": [
              "0.0    107657\n",
              "1.0      2301\n",
              "Name: cellphone_in_use, dtype: int64"
            ]
          },
          "metadata": {},
          "output_type": "display_data"
        },
        {
          "data": {
            "image/png": "[encoded data removed]",
            "text/plain": [
              "<Figure size 720x360 with 1 Axes>"
            ]
          },
          "metadata": {
            "needs_background": "light"
          },
          "output_type": "display_data"
        },
        {
          "name": "stdout",
          "output_type": "stream",
          "text": [
            "\n",
            "COUNTY_LOCATION\n"
          ]
        },
        {
          "data": {
            "text/plain": [
              "los angeles       38769\n",
              "orange            12019\n",
              "san diego          8258\n",
              "san bernardino     7648\n",
              "riverside          7077\n",
              "Name: county_location, dtype: int64"
            ]
          },
          "metadata": {},
          "output_type": "display_data"
        },
        {
          "data": {
            "image/png": "[encoded data removed]",
            "text/plain": [
              "<Figure size 720x360 with 1 Axes>"
            ]
          },
          "metadata": {
            "needs_background": "light"
          },
          "output_type": "display_data"
        },
        {
          "name": "stdout",
          "output_type": "stream",
          "text": [
            "\n",
            "DISTANCE\n"
          ]
        },
        {
          "data": {
            "text/plain": [
              "A    121796\n",
              "B      1319\n",
              "C       860\n",
              "D        29\n",
              "Name: distance, dtype: int64"
            ]
          },
          "metadata": {},
          "output_type": "display_data"
        },
        {
          "data": {
            "image/png": "[encoded data removed]",
            "text/plain": [
              "<Figure size 720x360 with 1 Axes>"
            ]
          },
          "metadata": {
            "needs_background": "light"
          },
          "output_type": "display_data"
        },
        {
          "name": "stdout",
          "output_type": "stream",
          "text": [
            "\n",
            "DIRECTION\n"
          ]
        },
        {
          "data": {
            "text/plain": [
              "north    26280\n",
              "south    25845\n",
              "west     21239\n",
              "east     20561\n",
              "Name: direction, dtype: int64"
            ]
          },
          "metadata": {},
          "output_type": "display_data"
        },
        {
          "data": {
            "image/png": "[encoded data removed]",
            "text/plain": [
              "<Figure size 720x360 with 1 Axes>"
            ]
          },
          "metadata": {
            "needs_background": "light"
          },
          "output_type": "display_data"
        },
        {
          "name": "stdout",
          "output_type": "stream",
          "text": [
            "\n",
            "INTERSECTION\n"
          ]
        },
        {
          "data": {
            "text/plain": [
              "0.0    94904\n",
              "1.0    28663\n",
              "Name: intersection, dtype: int64"
            ]
          },
          "metadata": {},
          "output_type": "display_data"
        },
        {
          "data": {
            "image/png": "[encoded data removed]",
            "text/plain": [
              "<Figure size 720x360 with 1 Axes>"
            ]
          },
          "metadata": {
            "needs_background": "light"
          },
          "output_type": "display_data"
        },
        {
          "name": "stdout",
          "output_type": "stream",
          "text": [
            "\n",
            "WEATHER_1\n"
          ]
        },
        {
          "data": {
            "text/plain": [
              "clear      100834\n",
              "cloudy      17515\n",
              "raining      4406\n",
              "fog           420\n",
              "snowing       284\n",
              "Name: weather_1, dtype: int64"
            ]
          },
          "metadata": {},
          "output_type": "display_data"
        },
        {
          "data": {
            "image/png": "[encoded data removed]",
            "text/plain": [
              "<Figure size 720x360 with 1 Axes>"
            ]
          },
          "metadata": {
            "needs_background": "light"
          },
          "output_type": "display_data"
        },
        {
          "name": "stdout",
          "output_type": "stream",
          "text": [
            "\n",
            "LOCATION_TYPE\n"
          ]
        },
        {
          "data": {
            "text/plain": [
              "highway         46251\n",
              "ramp             6268\n",
              "intersection     2903\n",
              "Name: location_type, dtype: int64"
            ]
          },
          "metadata": {},
          "output_type": "display_data"
        },
        {
          "data": {
            "image/png": "[encoded data removed]",
            "text/plain": [
              "<Figure size 720x360 with 1 Axes>"
            ]
          },
          "metadata": {
            "needs_background": "light"
          },
          "output_type": "display_data"
        },
        {
          "name": "stdout",
          "output_type": "stream",
          "text": [
            "\n",
            "ROAD_SURFACE\n"
          ]
        },
        {
          "data": {
            "text/plain": [
              "dry         112031\n",
              "wet          10425\n",
              "snowy          621\n",
              "slippery        77\n",
              "Name: road_surface, dtype: int64"
            ]
          },
          "metadata": {},
          "output_type": "display_data"
        },
        {
          "data": {
            "image/png": "[encoded data removed]",
            "text/plain": [
              "<Figure size 720x360 with 1 Axes>"
            ]
          },
          "metadata": {
            "needs_background": "light"
          },
          "output_type": "display_data"
        },
        {
          "name": "stdout",
          "output_type": "stream",
          "text": [
            "\n",
            "ROAD_CONDITION_1\n"
          ]
        },
        {
          "data": {
            "text/plain": [
              "normal          119143\n",
              "construction      2332\n",
              "obstruction        507\n",
              "holes              492\n",
              "other              462\n",
              "Name: road_condition_1, dtype: int64"
            ]
          },
          "metadata": {},
          "output_type": "display_data"
        },
        {
          "data": {
            "image/png": "[encoded data removed]",
            "text/plain": [
              "<Figure size 720x360 with 1 Axes>"
            ]
          },
          "metadata": {
            "needs_background": "light"
          },
          "output_type": "display_data"
        },
        {
          "name": "stdout",
          "output_type": "stream",
          "text": [
            "\n",
            "LIGHTING\n"
          ]
        },
        {
          "data": {
            "text/plain": [
              "daylight                                   85752\n",
              "dark with street lights                    24149\n",
              "dark with no street lights                  9494\n",
              "dusk or dawn                                3884\n",
              "dark with street lights not functioning      318\n",
              "Name: lighting, dtype: int64"
            ]
          },
          "metadata": {},
          "output_type": "display_data"
        },
        {
          "data": {
            "image/png": "[encoded data removed]",
            "text/plain": [
              "<Figure size 720x360 with 1 Axes>"
            ]
          },
          "metadata": {
            "needs_background": "light"
          },
          "output_type": "display_data"
        },
        {
          "name": "stdout",
          "output_type": "stream",
          "text": [
            "\n",
            "CONTROL_DEVICE\n"
          ]
        },
        {
          "data": {
            "text/plain": [
              "none               80831\n",
              "functioning        42364\n",
              "not functioning      250\n",
              "obscured              74\n",
              "Name: control_device, dtype: int64"
            ]
          },
          "metadata": {},
          "output_type": "display_data"
        },
        {
          "data": {
            "image/png": "[encoded data removed]",
            "text/plain": [
              "<Figure size 720x360 with 1 Axes>"
            ]
          },
          "metadata": {
            "needs_background": "light"
          },
          "output_type": "display_data"
        },
        {
          "name": "stdout",
          "output_type": "stream",
          "text": [
            "\n",
            "VEHICLE_TYPE\n"
          ]
        },
        {
          "data": {
            "text/plain": [
              "sedan        76316\n",
              "coupe        37709\n",
              "hatchback     5940\n",
              "minivan       3924\n",
              "other          115\n",
              "Name: vehicle_type, dtype: int64"
            ]
          },
          "metadata": {},
          "output_type": "display_data"
        },
        {
          "data": {
            "image/png": "[encoded data removed]",
            "text/plain": [
              "<Figure size 720x360 with 1 Axes>"
            ]
          },
          "metadata": {
            "needs_background": "light"
          },
          "output_type": "display_data"
        },
        {
          "name": "stdout",
          "output_type": "stream",
          "text": [
            "\n",
            "VEHICLE_TRANSMISSION\n"
          ]
        },
        {
          "data": {
            "text/plain": [
              "manual    64884\n",
              "auto      57592\n",
              "Name: vehicle_transmission, dtype: int64"
            ]
          },
          "metadata": {},
          "output_type": "display_data"
        },
        {
          "data": {
            "image/png": "[encoded data removed]",
            "text/plain": [
              "<Figure size 720x360 with 1 Axes>"
            ]
          },
          "metadata": {
            "needs_background": "light"
          },
          "output_type": "display_data"
        },
        {
          "name": "stdout",
          "output_type": "stream",
          "text": [
            "\n",
            "VEHICLE_AGE\n"
          ]
        },
        {
          "data": {
            "text/plain": [
              "3.0    23315\n",
              "4.0    15706\n",
              "2.0    13851\n",
              "5.0    12627\n",
              "6.0     9142\n",
              "Name: vehicle_age, dtype: int64"
            ]
          },
          "metadata": {},
          "output_type": "display_data"
        },
        {
          "data": {
            "image/png": "[encoded data removed]",
            "text/plain": [
              "<Figure size 720x360 with 1 Axes>"
            ]
          },
          "metadata": {
            "needs_background": "light"
          },
          "output_type": "display_data"
        }
      ],
      "source": [
        "cat_cls = df.columns.drop(['collision_date', 'collision_time'])\n",
        "\n",
        "for col in cat_cls:\n",
        "    print()\n",
        "    print(f'{col}'.upper())\n",
        "    display(df[col].value_counts().head())\n",
        "    plt.figure(figsize=(10,5))\n",
        "    plt.title(col)\n",
        "    plt.xlabel(col)\n",
        "    plt.hist(df[col].apply(str))\n",
        "    plt.show()"
      ]
    },
    {
      "cell_type": "markdown",
      "id": "98f5b95b",
      "metadata": {
        "id": "98f5b95b"
      },
      "source": [
        "Во-первых, видно, что классы целевого признака сбалансированы, это хорошая новость для нас, не нужно будет дополнительно обрабатываать данные. \n",
        "\n",
        "В данных присутствует достаточно больше количество пропусков, при том обрабатывать их тоже нужно по разному.\n",
        "\n",
        "С датами и временем отдельно будет проведена работа, разобьем даты на месяца и дни, а время категоризируем по частям дня (утро, день, вечер, ночь)."
      ]
    },
    {
      "cell_type": "markdown",
      "id": "122ac884",
      "metadata": {
        "id": "122ac884"
      },
      "source": [
        "## Предобработка данных"
      ]
    },
    {
      "cell_type": "markdown",
      "id": "6b028ffe",
      "metadata": {
        "id": "6b028ffe"
      },
      "source": [
        "Для начала избавимся от дубликатов"
      ]
    },
    {
      "cell_type": "code",
      "execution_count": null,
      "id": "50c261ef",
      "metadata": {
        "id": "50c261ef"
      },
      "outputs": [],
      "source": [
        "df = df.drop_duplicates()"
      ]
    },
    {
      "cell_type": "markdown",
      "id": "0b5fbb38",
      "metadata": {
        "id": "0b5fbb38"
      },
      "source": [
        "\n",
        "Обработаем пропуски\n",
        "\n",
        "Обработка будет зависеть от характера данных, где-то приведем к наиболее частому значению, где-то добавим специальный класс, чтобы однозначно описать пропуски (например в столбце `location_type`)"
      ]
    },
    {
      "cell_type": "code",
      "execution_count": null,
      "id": "628ecbbc",
      "metadata": {
        "id": "628ecbbc"
      },
      "outputs": [],
      "source": [
        "df['party_drug_physical'] = df['party_drug_physical'].replace('G', 'Unkown').fillna('Unkown')"
      ]
    },
    {
      "cell_type": "markdown",
      "id": "b4c59e46",
      "metadata": {
        "id": "b4c59e46"
      },
      "source": [
        "Обработали так же значения `G`, для более ясной трактовки"
      ]
    },
    {
      "cell_type": "code",
      "execution_count": null,
      "id": "00bd8536",
      "metadata": {
        "id": "00bd8536",
        "outputId": "388a328c-49dd-46dc-af99-8ae4417b8287"
      },
      "outputs": [
        {
          "data": {
            "text/plain": [
              "Unkown                   101948\n",
              "not applicable             3120\n",
              "under drug influence       1373\n",
              "sleepy/fatigued             518\n",
              "impairment - physical       187\n",
              "Name: party_drug_physical, dtype: int64"
            ]
          },
          "execution_count": 33,
          "metadata": {},
          "output_type": "execute_result"
        }
      ],
      "source": [
        "df['party_drug_physical'].value_counts()"
      ]
    },
    {
      "cell_type": "code",
      "execution_count": null,
      "id": "5c15fa89",
      "metadata": {
        "id": "5c15fa89",
        "outputId": "418500f4-e5c9-44eb-c632-d71aac035327"
      },
      "outputs": [
        {
          "data": {
            "text/plain": [
              "0.0    105157\n",
              "1.0      1989\n",
              "Name: cellphone_in_use, dtype: int64"
            ]
          },
          "execution_count": 34,
          "metadata": {},
          "output_type": "execute_result"
        }
      ],
      "source": [
        "df['cellphone_in_use'] = df['cellphone_in_use'].fillna(0)\n",
        "\n",
        "df['cellphone_in_use'].value_counts()"
      ]
    },
    {
      "cell_type": "code",
      "execution_count": null,
      "id": "ebf141e0",
      "metadata": {
        "id": "ebf141e0",
        "outputId": "412920f9-ac66-436f-ee91-977bbe9a6efb"
      },
      "outputs": [
        {
          "data": {
            "text/plain": [
              "0"
            ]
          },
          "execution_count": 35,
          "metadata": {},
          "output_type": "execute_result"
        }
      ],
      "source": [
        "df['county_location'].isna().sum()"
      ]
    },
    {
      "cell_type": "markdown",
      "id": "02579960",
      "metadata": {
        "id": "02579960"
      },
      "source": [
        "Здесь все ок, обрабатывать нечего"
      ]
    },
    {
      "cell_type": "code",
      "execution_count": null,
      "id": "0cea6ca0",
      "metadata": {
        "id": "0cea6ca0",
        "outputId": "f15e5d70-688c-4f30-b671-d286a7c3b0cf"
      },
      "outputs": [
        {
          "data": {
            "text/plain": [
              "Unkown    26741\n",
              "north     22397\n",
              "south     21902\n",
              "west      18252\n",
              "east      17854\n",
              "Name: direction, dtype: int64"
            ]
          },
          "execution_count": 36,
          "metadata": {},
          "output_type": "execute_result"
        }
      ],
      "source": [
        "df['direction'] = df['direction'].fillna('Unkown')\n",
        "df['direction'].value_counts()"
      ]
    },
    {
      "cell_type": "code",
      "execution_count": null,
      "id": "23efcf51",
      "metadata": {
        "id": "23efcf51",
        "outputId": "37c55038-3012-4db1-8825-414be992f6d3"
      },
      "outputs": [
        {
          "data": {
            "text/plain": [
              "0"
            ]
          },
          "execution_count": 37,
          "metadata": {},
          "output_type": "execute_result"
        }
      ],
      "source": [
        "df['intersection'] = df['intersection'].fillna(0)\n",
        "df['intersection'].isna().sum()"
      ]
    },
    {
      "cell_type": "code",
      "execution_count": null,
      "id": "d9841966",
      "metadata": {
        "id": "d9841966",
        "outputId": "a1ab50ee-ea79-4735-f73c-2886e05b0594"
      },
      "outputs": [
        {
          "data": {
            "text/plain": [
              "clear      87387\n",
              "cloudy     15229\n",
              "raining     3850\n",
              "fog          346\n",
              "snowing      254\n",
              "other         56\n",
              "wind          24\n",
              "Name: weather_1, dtype: int64"
            ]
          },
          "execution_count": 38,
          "metadata": {},
          "output_type": "execute_result"
        }
      ],
      "source": [
        "df['weather_1'] = df['weather_1'].fillna('clear')\n",
        "df['weather_1'].value_counts()"
      ]
    },
    {
      "cell_type": "code",
      "execution_count": null,
      "id": "57143ac2",
      "metadata": {
        "id": "57143ac2",
        "outputId": "08be3b60-ccce-4ab5-c326-d3b6d7f1ab4f"
      },
      "outputs": [
        {
          "data": {
            "text/plain": [
              "normal_road     60713\n",
              "highway         38233\n",
              "ramp             5590\n",
              "intersection     2610\n",
              "Name: location_type, dtype: int64"
            ]
          },
          "execution_count": 39,
          "metadata": {},
          "output_type": "execute_result"
        }
      ],
      "source": [
        "df['location_type'] = df['location_type'].fillna('normal_road')\n",
        "df['location_type'].value_counts()"
      ]
    },
    {
      "cell_type": "code",
      "execution_count": null,
      "id": "89a688f5",
      "metadata": {
        "id": "89a688f5",
        "outputId": "4d0f6411-497c-4fa2-a7e8-41f5054d583b"
      },
      "outputs": [
        {
          "name": "stdout",
          "output_type": "stream",
          "text": [
            "<class 'pandas.core.frame.DataFrame'>\n",
            "Int64Index: 107146 entries, 0 to 127629\n",
            "Data columns (total 19 columns):\n",
            " #   Column                Non-Null Count   Dtype  \n",
            "---  ------                --------------   -----  \n",
            " 0   at_fault              107146 non-null  int64  \n",
            " 1   party_sobriety        107146 non-null  object \n",
            " 2   party_drug_physical   107146 non-null  object \n",
            " 3   cellphone_in_use      107146 non-null  float64\n",
            " 4   county_location       107146 non-null  object \n",
            " 5   distance              107146 non-null  object \n",
            " 6   direction             107146 non-null  object \n",
            " 7   intersection          107146 non-null  float64\n",
            " 8   weather_1             107146 non-null  object \n",
            " 9   location_type         107146 non-null  object \n",
            " 10  road_surface          107146 non-null  object \n",
            " 11  road_condition_1      107146 non-null  object \n",
            " 12  lighting              107146 non-null  object \n",
            " 13  control_device        107146 non-null  object \n",
            " 14  collision_date        107146 non-null  object \n",
            " 15  collision_time        107015 non-null  object \n",
            " 16  vehicle_type          107146 non-null  object \n",
            " 17  vehicle_transmission  107146 non-null  object \n",
            " 18  vehicle_age           107146 non-null  float64\n",
            "dtypes: float64(3), int64(1), object(15)\n",
            "memory usage: 16.3+ MB\n"
          ]
        }
      ],
      "source": [
        "df['road_surface'] = df['road_surface'].fillna('dry')\n",
        "df['road_condition_1'] = df['road_condition_1'].fillna('normal')\n",
        "df['control_device'] = df['control_device'].fillna('none')\n",
        "df['vehicle_transmission'] = df['vehicle_transmission'].fillna('Unkown')\n",
        "df['lighting'] = df['lighting'].fillna('daylight')\n",
        "df['party_sobriety'] = df['party_sobriety'].fillna('had not been drinking')\n",
        "\n",
        "df.info()"
      ]
    },
    {
      "cell_type": "markdown",
      "id": "cbedd7ff",
      "metadata": {
        "id": "cbedd7ff"
      },
      "source": [
        "Рассмотрим признаки времени.\n",
        "Разобьем даты по дням и месяцам, создадим новые признаки. Время поделим на части дня (утро, день, вечер, ночь)\n",
        "\n",
        "Но для начала избавимся от пропусков в столбце со временем."
      ]
    },
    {
      "cell_type": "code",
      "execution_count": null,
      "id": "223ad623",
      "metadata": {
        "id": "223ad623",
        "outputId": "c2177a7f-d878-45d4-afd0-8e5e6af0fbdb"
      },
      "outputs": [
        {
          "data": {
            "text/plain": [
              "0.12226308028297837"
            ]
          },
          "execution_count": 41,
          "metadata": {},
          "output_type": "execute_result"
        }
      ],
      "source": [
        "df['collision_time'].isna().sum() / len(df) * 100"
      ]
    },
    {
      "cell_type": "markdown",
      "id": "7d8efe00",
      "metadata": {
        "id": "7d8efe00"
      },
      "source": [
        "Около 1% пропусков, можно удалить строки с пропусками, не переживая за значительное уменьшение данных."
      ]
    },
    {
      "cell_type": "code",
      "execution_count": null,
      "id": "9777f1b2",
      "metadata": {
        "id": "9777f1b2"
      },
      "outputs": [],
      "source": [
        "df = df.dropna(subset=['collision_time']).reset_index(drop=True)"
      ]
    },
    {
      "cell_type": "code",
      "execution_count": null,
      "id": "cd88cb7c",
      "metadata": {
        "id": "cd88cb7c",
        "outputId": "c14d9248-ba70-4a0b-f861-0a06b5a30985"
      },
      "outputs": [
        {
          "name": "stdout",
          "output_type": "stream",
          "text": [
            "<class 'pandas.core.frame.DataFrame'>\n",
            "RangeIndex: 107015 entries, 0 to 107014\n",
            "Data columns (total 19 columns):\n",
            " #   Column                Non-Null Count   Dtype  \n",
            "---  ------                --------------   -----  \n",
            " 0   at_fault              107015 non-null  int64  \n",
            " 1   party_sobriety        107015 non-null  object \n",
            " 2   party_drug_physical   107015 non-null  object \n",
            " 3   cellphone_in_use      107015 non-null  float64\n",
            " 4   county_location       107015 non-null  object \n",
            " 5   distance              107015 non-null  object \n",
            " 6   direction             107015 non-null  object \n",
            " 7   intersection          107015 non-null  float64\n",
            " 8   weather_1             107015 non-null  object \n",
            " 9   location_type         107015 non-null  object \n",
            " 10  road_surface          107015 non-null  object \n",
            " 11  road_condition_1      107015 non-null  object \n",
            " 12  lighting              107015 non-null  object \n",
            " 13  control_device        107015 non-null  object \n",
            " 14  collision_date        107015 non-null  object \n",
            " 15  collision_time        107015 non-null  object \n",
            " 16  vehicle_type          107015 non-null  object \n",
            " 17  vehicle_transmission  107015 non-null  object \n",
            " 18  vehicle_age           107015 non-null  float64\n",
            "dtypes: float64(3), int64(1), object(15)\n",
            "memory usage: 15.5+ MB\n"
          ]
        }
      ],
      "source": [
        "df.info()"
      ]
    },
    {
      "cell_type": "code",
      "execution_count": null,
      "id": "e603eb16",
      "metadata": {
        "id": "e603eb16",
        "outputId": "ef47dcb9-bd65-486e-a523-5b8d712ee49d"
      },
      "outputs": [
        {
          "data": {
            "text/html": [
              "<div>\n",
              "<style scoped>\n",
              "    .dataframe tbody tr th:only-of-type {\n",
              "        vertical-align: middle;\n",
              "    }\n",
              "\n",
              "    .dataframe tbody tr th {\n",
              "        vertical-align: top;\n",
              "    }\n",
              "\n",
              "    .dataframe thead th {\n",
              "        text-align: right;\n",
              "    }\n",
              "</style>\n",
              "<table border=\"1\" class=\"dataframe\">\n",
              "  <thead>\n",
              "    <tr style=\"text-align: right;\">\n",
              "      <th></th>\n",
              "      <th>collision_date</th>\n",
              "      <th>collision_month</th>\n",
              "      <th>collision_day</th>\n",
              "    </tr>\n",
              "  </thead>\n",
              "  <tbody>\n",
              "    <tr>\n",
              "      <th>0</th>\n",
              "      <td>2012-04-25</td>\n",
              "      <td>4</td>\n",
              "      <td>25</td>\n",
              "    </tr>\n",
              "    <tr>\n",
              "      <th>1</th>\n",
              "      <td>2012-03-10</td>\n",
              "      <td>3</td>\n",
              "      <td>10</td>\n",
              "    </tr>\n",
              "    <tr>\n",
              "      <th>2</th>\n",
              "      <td>2012-01-12</td>\n",
              "      <td>1</td>\n",
              "      <td>12</td>\n",
              "    </tr>\n",
              "    <tr>\n",
              "      <th>3</th>\n",
              "      <td>2012-01-12</td>\n",
              "      <td>1</td>\n",
              "      <td>12</td>\n",
              "    </tr>\n",
              "    <tr>\n",
              "      <th>4</th>\n",
              "      <td>2012-01-12</td>\n",
              "      <td>1</td>\n",
              "      <td>12</td>\n",
              "    </tr>\n",
              "  </tbody>\n",
              "</table>\n",
              "</div>"
            ],
            "text/plain": [
              "  collision_date  collision_month  collision_day\n",
              "0     2012-04-25                4             25\n",
              "1     2012-03-10                3             10\n",
              "2     2012-01-12                1             12\n",
              "3     2012-01-12                1             12\n",
              "4     2012-01-12                1             12"
            ]
          },
          "execution_count": 44,
          "metadata": {},
          "output_type": "execute_result"
        }
      ],
      "source": [
        "df['collision_date'] = pd.to_datetime(df['collision_date'])\n",
        "df['collision_month'] = df['collision_date'].dt.month\n",
        "df['collision_day'] = df['collision_date'].dt.day\n",
        "df[['collision_date', 'collision_month', 'collision_day']].head()"
      ]
    },
    {
      "cell_type": "markdown",
      "id": "ad4f7451",
      "metadata": {
        "id": "ad4f7451"
      },
      "source": [
        "Разделим время"
      ]
    },
    {
      "cell_type": "code",
      "execution_count": null,
      "id": "fc7689bb",
      "metadata": {
        "id": "fc7689bb",
        "outputId": "b17d043f-3ba0-466c-c907-eda15d7e82ae"
      },
      "outputs": [
        {
          "data": {
            "text/plain": [
              "0    20:11:00\n",
              "1    23:25:00\n",
              "2    21:40:00\n",
              "3    21:40:00\n",
              "4    21:40:00\n",
              "Name: collision_time, dtype: object"
            ]
          },
          "execution_count": 45,
          "metadata": {},
          "output_type": "execute_result"
        }
      ],
      "source": [
        "df['collision_time'].head()"
      ]
    },
    {
      "cell_type": "code",
      "execution_count": null,
      "id": "a6b20b2a",
      "metadata": {
        "id": "a6b20b2a",
        "outputId": "ff1d95e5-3bbc-4f2b-818f-f4bf12a759f7"
      },
      "outputs": [
        {
          "data": {
            "text/plain": [
              "0         20:11:00\n",
              "1         23:25:00\n",
              "2         21:40:00\n",
              "3         21:40:00\n",
              "4         21:40:00\n",
              "            ...   \n",
              "107010    11:20:00\n",
              "107011    11:20:00\n",
              "107012    17:30:00\n",
              "107013    17:30:00\n",
              "107014    21:39:00\n",
              "Name: collision_time, Length: 107015, dtype: object"
            ]
          },
          "execution_count": 46,
          "metadata": {},
          "output_type": "execute_result"
        }
      ],
      "source": [
        "df['collision_time']"
      ]
    },
    {
      "cell_type": "code",
      "execution_count": null,
      "id": "81e4347e",
      "metadata": {
        "id": "81e4347e"
      },
      "outputs": [],
      "source": [
        "def time_to_part(x):\n",
        "    x = int(str(x).split(':')[0])\n",
        "    if 4 <= x <= 10:\n",
        "        return 'morning'\n",
        "    if 11 <= x <= 16:\n",
        "        return 'day'\n",
        "    if 17 <= x <= 22:\n",
        "        return 'evening'\n",
        "    if x == 23 or (0 <= x <= 3):\n",
        "        return 'night'"
      ]
    },
    {
      "cell_type": "code",
      "execution_count": null,
      "id": "c0930bc3",
      "metadata": {
        "id": "c0930bc3",
        "outputId": "4e3353e1-be81-43b9-e408-a09825169925"
      },
      "outputs": [
        {
          "data": {
            "text/html": [
              "<div>\n",
              "<style scoped>\n",
              "    .dataframe tbody tr th:only-of-type {\n",
              "        vertical-align: middle;\n",
              "    }\n",
              "\n",
              "    .dataframe tbody tr th {\n",
              "        vertical-align: top;\n",
              "    }\n",
              "\n",
              "    .dataframe thead th {\n",
              "        text-align: right;\n",
              "    }\n",
              "</style>\n",
              "<table border=\"1\" class=\"dataframe\">\n",
              "  <thead>\n",
              "    <tr style=\"text-align: right;\">\n",
              "      <th></th>\n",
              "      <th>collision_day_part</th>\n",
              "      <th>collision_time</th>\n",
              "    </tr>\n",
              "  </thead>\n",
              "  <tbody>\n",
              "    <tr>\n",
              "      <th>0</th>\n",
              "      <td>evening</td>\n",
              "      <td>20:11:00</td>\n",
              "    </tr>\n",
              "    <tr>\n",
              "      <th>1</th>\n",
              "      <td>night</td>\n",
              "      <td>23:25:00</td>\n",
              "    </tr>\n",
              "    <tr>\n",
              "      <th>2</th>\n",
              "      <td>evening</td>\n",
              "      <td>21:40:00</td>\n",
              "    </tr>\n",
              "    <tr>\n",
              "      <th>3</th>\n",
              "      <td>evening</td>\n",
              "      <td>21:40:00</td>\n",
              "    </tr>\n",
              "    <tr>\n",
              "      <th>4</th>\n",
              "      <td>evening</td>\n",
              "      <td>21:40:00</td>\n",
              "    </tr>\n",
              "  </tbody>\n",
              "</table>\n",
              "</div>"
            ],
            "text/plain": [
              "  collision_day_part collision_time\n",
              "0            evening       20:11:00\n",
              "1              night       23:25:00\n",
              "2            evening       21:40:00\n",
              "3            evening       21:40:00\n",
              "4            evening       21:40:00"
            ]
          },
          "execution_count": 48,
          "metadata": {},
          "output_type": "execute_result"
        }
      ],
      "source": [
        "df['collision_day_part'] = df['collision_time'].apply(lambda x: time_to_part(x))\n",
        "df[['collision_day_part', 'collision_time']].head()"
      ]
    },
    {
      "cell_type": "markdown",
      "id": "6e5a4838",
      "metadata": {
        "id": "6e5a4838"
      },
      "source": [
        "Теперь удалим `collision_time` `collision_date`"
      ]
    },
    {
      "cell_type": "code",
      "execution_count": null,
      "id": "b4b3882e",
      "metadata": {
        "id": "b4b3882e"
      },
      "outputs": [],
      "source": [
        "df = df.drop(columns=['collision_time', 'collision_date'])"
      ]
    },
    {
      "cell_type": "code",
      "execution_count": null,
      "id": "0cbb0686",
      "metadata": {
        "id": "0cbb0686",
        "outputId": "a732b204-1580-4464-8c4c-dd70dd7f9487"
      },
      "outputs": [
        {
          "name": "stdout",
          "output_type": "stream",
          "text": [
            "<class 'pandas.core.frame.DataFrame'>\n",
            "RangeIndex: 107015 entries, 0 to 107014\n",
            "Data columns (total 20 columns):\n",
            " #   Column                Non-Null Count   Dtype  \n",
            "---  ------                --------------   -----  \n",
            " 0   at_fault              107015 non-null  int64  \n",
            " 1   party_sobriety        107015 non-null  object \n",
            " 2   party_drug_physical   107015 non-null  object \n",
            " 3   cellphone_in_use      107015 non-null  float64\n",
            " 4   county_location       107015 non-null  object \n",
            " 5   distance              107015 non-null  object \n",
            " 6   direction             107015 non-null  object \n",
            " 7   intersection          107015 non-null  float64\n",
            " 8   weather_1             107015 non-null  object \n",
            " 9   location_type         107015 non-null  object \n",
            " 10  road_surface          107015 non-null  object \n",
            " 11  road_condition_1      107015 non-null  object \n",
            " 12  lighting              107015 non-null  object \n",
            " 13  control_device        107015 non-null  object \n",
            " 14  vehicle_type          107015 non-null  object \n",
            " 15  vehicle_transmission  107015 non-null  object \n",
            " 16  vehicle_age           107015 non-null  float64\n",
            " 17  collision_month       107015 non-null  int64  \n",
            " 18  collision_day         107015 non-null  int64  \n",
            " 19  collision_day_part    107015 non-null  object \n",
            "dtypes: float64(3), int64(3), object(14)\n",
            "memory usage: 16.3+ MB\n"
          ]
        }
      ],
      "source": [
        "df.info()"
      ]
    },
    {
      "cell_type": "code",
      "execution_count": null,
      "id": "a976a4b1",
      "metadata": {
        "id": "a976a4b1",
        "outputId": "8abf0d7d-4b5d-453e-ce23-50a4e1680736"
      },
      "outputs": [
        {
          "data": {
            "text/html": [
              "<div>\n",
              "<style scoped>\n",
              "    .dataframe tbody tr th:only-of-type {\n",
              "        vertical-align: middle;\n",
              "    }\n",
              "\n",
              "    .dataframe tbody tr th {\n",
              "        vertical-align: top;\n",
              "    }\n",
              "\n",
              "    .dataframe thead th {\n",
              "        text-align: right;\n",
              "    }\n",
              "</style>\n",
              "<table border=\"1\" class=\"dataframe\">\n",
              "  <thead>\n",
              "    <tr style=\"text-align: right;\">\n",
              "      <th></th>\n",
              "      <th>at_fault</th>\n",
              "      <th>party_sobriety</th>\n",
              "      <th>party_drug_physical</th>\n",
              "      <th>cellphone_in_use</th>\n",
              "      <th>county_location</th>\n",
              "      <th>distance</th>\n",
              "      <th>direction</th>\n",
              "      <th>intersection</th>\n",
              "      <th>weather_1</th>\n",
              "      <th>location_type</th>\n",
              "      <th>road_surface</th>\n",
              "      <th>road_condition_1</th>\n",
              "      <th>lighting</th>\n",
              "      <th>control_device</th>\n",
              "      <th>vehicle_type</th>\n",
              "      <th>vehicle_transmission</th>\n",
              "      <th>vehicle_age</th>\n",
              "      <th>collision_month</th>\n",
              "      <th>collision_day</th>\n",
              "      <th>collision_day_part</th>\n",
              "    </tr>\n",
              "  </thead>\n",
              "  <tbody>\n",
              "    <tr>\n",
              "      <th>0</th>\n",
              "      <td>0</td>\n",
              "      <td>had not been drinking</td>\n",
              "      <td>Unkown</td>\n",
              "      <td>0.0</td>\n",
              "      <td>san bernardino</td>\n",
              "      <td>A</td>\n",
              "      <td>east</td>\n",
              "      <td>0.0</td>\n",
              "      <td>raining</td>\n",
              "      <td>normal_road</td>\n",
              "      <td>wet</td>\n",
              "      <td>normal</td>\n",
              "      <td>dark with street lights</td>\n",
              "      <td>none</td>\n",
              "      <td>sedan</td>\n",
              "      <td>auto</td>\n",
              "      <td>7.0</td>\n",
              "      <td>4</td>\n",
              "      <td>25</td>\n",
              "      <td>evening</td>\n",
              "    </tr>\n",
              "    <tr>\n",
              "      <th>1</th>\n",
              "      <td>0</td>\n",
              "      <td>had been drinking, impairment unknown</td>\n",
              "      <td>Unkown</td>\n",
              "      <td>0.0</td>\n",
              "      <td>san mateo</td>\n",
              "      <td>A</td>\n",
              "      <td>Unkown</td>\n",
              "      <td>1.0</td>\n",
              "      <td>clear</td>\n",
              "      <td>normal_road</td>\n",
              "      <td>dry</td>\n",
              "      <td>normal</td>\n",
              "      <td>dark with street lights</td>\n",
              "      <td>none</td>\n",
              "      <td>hatchback</td>\n",
              "      <td>manual</td>\n",
              "      <td>6.0</td>\n",
              "      <td>3</td>\n",
              "      <td>10</td>\n",
              "      <td>night</td>\n",
              "    </tr>\n",
              "    <tr>\n",
              "      <th>2</th>\n",
              "      <td>0</td>\n",
              "      <td>had not been drinking</td>\n",
              "      <td>Unkown</td>\n",
              "      <td>0.0</td>\n",
              "      <td>los angeles</td>\n",
              "      <td>A</td>\n",
              "      <td>west</td>\n",
              "      <td>0.0</td>\n",
              "      <td>clear</td>\n",
              "      <td>normal_road</td>\n",
              "      <td>dry</td>\n",
              "      <td>normal</td>\n",
              "      <td>dark with street lights</td>\n",
              "      <td>functioning</td>\n",
              "      <td>hatchback</td>\n",
              "      <td>manual</td>\n",
              "      <td>4.0</td>\n",
              "      <td>1</td>\n",
              "      <td>12</td>\n",
              "      <td>evening</td>\n",
              "    </tr>\n",
              "    <tr>\n",
              "      <th>3</th>\n",
              "      <td>0</td>\n",
              "      <td>had not been drinking</td>\n",
              "      <td>Unkown</td>\n",
              "      <td>0.0</td>\n",
              "      <td>los angeles</td>\n",
              "      <td>A</td>\n",
              "      <td>west</td>\n",
              "      <td>0.0</td>\n",
              "      <td>clear</td>\n",
              "      <td>normal_road</td>\n",
              "      <td>dry</td>\n",
              "      <td>normal</td>\n",
              "      <td>dark with street lights</td>\n",
              "      <td>functioning</td>\n",
              "      <td>hatchback</td>\n",
              "      <td>manual</td>\n",
              "      <td>5.0</td>\n",
              "      <td>1</td>\n",
              "      <td>12</td>\n",
              "      <td>evening</td>\n",
              "    </tr>\n",
              "    <tr>\n",
              "      <th>4</th>\n",
              "      <td>0</td>\n",
              "      <td>had not been drinking</td>\n",
              "      <td>Unkown</td>\n",
              "      <td>0.0</td>\n",
              "      <td>los angeles</td>\n",
              "      <td>A</td>\n",
              "      <td>west</td>\n",
              "      <td>0.0</td>\n",
              "      <td>clear</td>\n",
              "      <td>normal_road</td>\n",
              "      <td>dry</td>\n",
              "      <td>normal</td>\n",
              "      <td>dark with street lights</td>\n",
              "      <td>functioning</td>\n",
              "      <td>coupe</td>\n",
              "      <td>manual</td>\n",
              "      <td>5.0</td>\n",
              "      <td>1</td>\n",
              "      <td>12</td>\n",
              "      <td>evening</td>\n",
              "    </tr>\n",
              "    <tr>\n",
              "      <th>5</th>\n",
              "      <td>0</td>\n",
              "      <td>not applicable</td>\n",
              "      <td>not applicable</td>\n",
              "      <td>0.0</td>\n",
              "      <td>los angeles</td>\n",
              "      <td>A</td>\n",
              "      <td>west</td>\n",
              "      <td>0.0</td>\n",
              "      <td>clear</td>\n",
              "      <td>normal_road</td>\n",
              "      <td>dry</td>\n",
              "      <td>normal</td>\n",
              "      <td>dark with street lights</td>\n",
              "      <td>functioning</td>\n",
              "      <td>hatchback</td>\n",
              "      <td>manual</td>\n",
              "      <td>4.0</td>\n",
              "      <td>1</td>\n",
              "      <td>12</td>\n",
              "      <td>evening</td>\n",
              "    </tr>\n",
              "    <tr>\n",
              "      <th>6</th>\n",
              "      <td>0</td>\n",
              "      <td>not applicable</td>\n",
              "      <td>not applicable</td>\n",
              "      <td>0.0</td>\n",
              "      <td>los angeles</td>\n",
              "      <td>A</td>\n",
              "      <td>west</td>\n",
              "      <td>0.0</td>\n",
              "      <td>clear</td>\n",
              "      <td>normal_road</td>\n",
              "      <td>dry</td>\n",
              "      <td>normal</td>\n",
              "      <td>dark with street lights</td>\n",
              "      <td>functioning</td>\n",
              "      <td>hatchback</td>\n",
              "      <td>manual</td>\n",
              "      <td>5.0</td>\n",
              "      <td>1</td>\n",
              "      <td>12</td>\n",
              "      <td>evening</td>\n",
              "    </tr>\n",
              "    <tr>\n",
              "      <th>7</th>\n",
              "      <td>0</td>\n",
              "      <td>not applicable</td>\n",
              "      <td>not applicable</td>\n",
              "      <td>0.0</td>\n",
              "      <td>los angeles</td>\n",
              "      <td>A</td>\n",
              "      <td>west</td>\n",
              "      <td>0.0</td>\n",
              "      <td>clear</td>\n",
              "      <td>normal_road</td>\n",
              "      <td>dry</td>\n",
              "      <td>normal</td>\n",
              "      <td>dark with street lights</td>\n",
              "      <td>functioning</td>\n",
              "      <td>coupe</td>\n",
              "      <td>manual</td>\n",
              "      <td>5.0</td>\n",
              "      <td>1</td>\n",
              "      <td>12</td>\n",
              "      <td>evening</td>\n",
              "    </tr>\n",
              "    <tr>\n",
              "      <th>8</th>\n",
              "      <td>1</td>\n",
              "      <td>had not been drinking</td>\n",
              "      <td>Unkown</td>\n",
              "      <td>0.0</td>\n",
              "      <td>los angeles</td>\n",
              "      <td>A</td>\n",
              "      <td>east</td>\n",
              "      <td>0.0</td>\n",
              "      <td>clear</td>\n",
              "      <td>normal_road</td>\n",
              "      <td>dry</td>\n",
              "      <td>normal</td>\n",
              "      <td>dusk or dawn</td>\n",
              "      <td>functioning</td>\n",
              "      <td>sedan</td>\n",
              "      <td>auto</td>\n",
              "      <td>2.0</td>\n",
              "      <td>1</td>\n",
              "      <td>5</td>\n",
              "      <td>evening</td>\n",
              "    </tr>\n",
              "    <tr>\n",
              "      <th>9</th>\n",
              "      <td>0</td>\n",
              "      <td>had not been drinking</td>\n",
              "      <td>Unkown</td>\n",
              "      <td>0.0</td>\n",
              "      <td>san diego</td>\n",
              "      <td>A</td>\n",
              "      <td>Unkown</td>\n",
              "      <td>1.0</td>\n",
              "      <td>clear</td>\n",
              "      <td>normal_road</td>\n",
              "      <td>dry</td>\n",
              "      <td>normal</td>\n",
              "      <td>daylight</td>\n",
              "      <td>none</td>\n",
              "      <td>hatchback</td>\n",
              "      <td>auto</td>\n",
              "      <td>4.0</td>\n",
              "      <td>1</td>\n",
              "      <td>27</td>\n",
              "      <td>morning</td>\n",
              "    </tr>\n",
              "  </tbody>\n",
              "</table>\n",
              "</div>"
            ],
            "text/plain": [
              "   at_fault                         party_sobriety party_drug_physical  \\\n",
              "0         0                  had not been drinking              Unkown   \n",
              "1         0  had been drinking, impairment unknown              Unkown   \n",
              "2         0                  had not been drinking              Unkown   \n",
              "3         0                  had not been drinking              Unkown   \n",
              "4         0                  had not been drinking              Unkown   \n",
              "5         0                         not applicable      not applicable   \n",
              "6         0                         not applicable      not applicable   \n",
              "7         0                         not applicable      not applicable   \n",
              "8         1                  had not been drinking              Unkown   \n",
              "9         0                  had not been drinking              Unkown   \n",
              "\n",
              "   cellphone_in_use county_location distance direction  intersection  \\\n",
              "0               0.0  san bernardino        A      east           0.0   \n",
              "1               0.0       san mateo        A    Unkown           1.0   \n",
              "2               0.0     los angeles        A      west           0.0   \n",
              "3               0.0     los angeles        A      west           0.0   \n",
              "4               0.0     los angeles        A      west           0.0   \n",
              "5               0.0     los angeles        A      west           0.0   \n",
              "6               0.0     los angeles        A      west           0.0   \n",
              "7               0.0     los angeles        A      west           0.0   \n",
              "8               0.0     los angeles        A      east           0.0   \n",
              "9               0.0       san diego        A    Unkown           1.0   \n",
              "\n",
              "  weather_1 location_type road_surface road_condition_1  \\\n",
              "0   raining   normal_road          wet           normal   \n",
              "1     clear   normal_road          dry           normal   \n",
              "2     clear   normal_road          dry           normal   \n",
              "3     clear   normal_road          dry           normal   \n",
              "4     clear   normal_road          dry           normal   \n",
              "5     clear   normal_road          dry           normal   \n",
              "6     clear   normal_road          dry           normal   \n",
              "7     clear   normal_road          dry           normal   \n",
              "8     clear   normal_road          dry           normal   \n",
              "9     clear   normal_road          dry           normal   \n",
              "\n",
              "                  lighting control_device vehicle_type vehicle_transmission  \\\n",
              "0  dark with street lights           none        sedan                 auto   \n",
              "1  dark with street lights           none    hatchback               manual   \n",
              "2  dark with street lights    functioning    hatchback               manual   \n",
              "3  dark with street lights    functioning    hatchback               manual   \n",
              "4  dark with street lights    functioning        coupe               manual   \n",
              "5  dark with street lights    functioning    hatchback               manual   \n",
              "6  dark with street lights    functioning    hatchback               manual   \n",
              "7  dark with street lights    functioning        coupe               manual   \n",
              "8             dusk or dawn    functioning        sedan                 auto   \n",
              "9                 daylight           none    hatchback                 auto   \n",
              "\n",
              "   vehicle_age  collision_month  collision_day collision_day_part  \n",
              "0          7.0                4             25            evening  \n",
              "1          6.0                3             10              night  \n",
              "2          4.0                1             12            evening  \n",
              "3          5.0                1             12            evening  \n",
              "4          5.0                1             12            evening  \n",
              "5          4.0                1             12            evening  \n",
              "6          5.0                1             12            evening  \n",
              "7          5.0                1             12            evening  \n",
              "8          2.0                1              5            evening  \n",
              "9          4.0                1             27            morning  "
            ]
          },
          "execution_count": 51,
          "metadata": {},
          "output_type": "execute_result"
        }
      ],
      "source": [
        "df.head(10)"
      ]
    },
    {
      "cell_type": "markdown",
      "id": "eb6c7cde",
      "metadata": {
        "id": "eb6c7cde"
      },
      "source": [
        "### Разобьем на выборки"
      ]
    },
    {
      "cell_type": "code",
      "execution_count": null,
      "id": "3b1fc0e2",
      "metadata": {
        "id": "3b1fc0e2",
        "outputId": "49432fb9-4caa-46d7-816d-0f7f5d5d69a1"
      },
      "outputs": [
        {
          "name": "stdout",
          "output_type": "stream",
          "text": [
            "[(74910, 19), (74910,), (32105, 19), (32105,)]\n"
          ]
        }
      ],
      "source": [
        "target = df['at_fault']\n",
        "features = df.drop(columns='at_fault')\n",
        "\n",
        "X_train, X_test, y_train, y_test = train_test_split(features, target, test_size=.3, random_state=123)\n",
        "\n",
        "print([x.shape for x in [X_train, y_train, X_test, y_test]])"
      ]
    },
    {
      "cell_type": "markdown",
      "id": "ea6c99ce",
      "metadata": {
        "id": "ea6c99ce"
      },
      "source": [
        "### Нормализуем и  кодируем данные"
      ]
    },
    {
      "cell_type": "markdown",
      "id": "793a9f39",
      "metadata": {
        "id": "793a9f39"
      },
      "source": [
        "Сделаем кодировку категориальных признаков при помощи OHE"
      ]
    },
    {
      "cell_type": "markdown",
      "id": "7b8ae13b",
      "metadata": {
        "id": "7b8ae13b"
      },
      "source": [
        "Сделаем нормализацию количественных данных, это столбец `vehicle_age`"
      ]
    },
    {
      "cell_type": "code",
      "execution_count": null,
      "id": "751b83d2",
      "metadata": {
        "id": "751b83d2"
      },
      "outputs": [],
      "source": [
        "# std = StandardScaler()\n",
        "# col = 'vehicle_age'\n",
        "\n",
        "# X_train_num = std.fit_transform(X_train[col].values.reshape(-1, 1))\n",
        "# X_test_num = std.transform(X_test[col].values.reshape(-1, 1))\n",
        "\n",
        "# X_train_num"
      ]
    },
    {
      "cell_type": "code",
      "execution_count": null,
      "id": "703e395c",
      "metadata": {
        "id": "703e395c",
        "outputId": "51bdc918-3f84-48ed-f9f6-47e781b207ca"
      },
      "outputs": [
        {
          "name": "stderr",
          "output_type": "stream",
          "text": [
            "/opt/conda/lib/python3.9/site-packages/sklearn/preprocessing/_encoders.py:868: FutureWarning: `sparse` was renamed to `sparse_output` in version 1.2 and will be removed in 1.4. `sparse_output` is ignored unless you leave `sparse` to its default value.\n",
            "  warnings.warn(\n"
          ]
        }
      ],
      "source": [
        "numeric = ['vehicle_age']\n",
        "categorical = X_train.columns.drop('vehicle_age')\n",
        "col_transformer = ColumnTransformer(\n",
        "                        transformers=[\n",
        "                            ('scaler', StandardScaler(), numeric),\n",
        "                            ('ohe', OneHotEncoder(sparse=False, drop='first'), categorical)],\n",
        "                                remainder=\"passthrough\"\n",
        "                                  )\n",
        "\n",
        "X_train = col_transformer.fit_transform(X_train)\n",
        "X_test = col_transformer.transform(X_test)"
      ]
    },
    {
      "cell_type": "code",
      "execution_count": null,
      "id": "2610edc6",
      "metadata": {
        "id": "2610edc6",
        "outputId": "1070d342-9d4a-42c5-cd8e-bc534c659621"
      },
      "outputs": [
        {
          "name": "stdout",
          "output_type": "stream",
          "text": [
            "(74910, 152)\n",
            "[[ 0.0295047   0.          0.         ...  0.          0.\n",
            "   0.        ]\n",
            " [-0.60909601  0.          1.         ...  0.          0.\n",
            "   1.        ]\n",
            " [-0.92839636  0.          0.         ...  0.          0.\n",
            "   0.        ]\n",
            " ...\n",
            " [ 1.30670611  0.          0.         ...  0.          1.\n",
            "   0.        ]\n",
            " [ 1.30670611  0.          0.         ...  0.          1.\n",
            "   0.        ]\n",
            " [-0.60909601  0.          0.         ...  0.          0.\n",
            "   0.        ]]\n",
            "77986    0\n",
            "20107    1\n",
            "33452    0\n",
            "29424    1\n",
            "35346    1\n",
            "        ..\n",
            "63206    1\n",
            "61404    0\n",
            "17730    0\n",
            "28030    1\n",
            "15725    0\n",
            "Name: at_fault, Length: 74910, dtype: int64\n"
          ]
        }
      ],
      "source": [
        "print(X_train.shape)\n",
        "print(X_train)\n",
        "print(y_train)"
      ]
    },
    {
      "cell_type": "code",
      "execution_count": null,
      "id": "db7d5a1f",
      "metadata": {
        "id": "db7d5a1f"
      },
      "outputs": [],
      "source": [
        "y_train = y_train.to_numpy()\n",
        "y_test = y_test.to_numpy()"
      ]
    },
    {
      "cell_type": "code",
      "execution_count": null,
      "id": "55e8b118",
      "metadata": {
        "id": "55e8b118",
        "outputId": "a3483b6d-04b7-46c3-f3e0-12e43f0fc829"
      },
      "outputs": [
        {
          "name": "stdout",
          "output_type": "stream",
          "text": [
            "(74910,) [0 1 0 ... 0 1 0]\n"
          ]
        }
      ],
      "source": [
        "print(y_train.shape, y_train)"
      ]
    },
    {
      "cell_type": "code",
      "execution_count": null,
      "id": "3a2f3cc9",
      "metadata": {
        "id": "3a2f3cc9"
      },
      "outputs": [],
      "source": [
        "# y_train = y_train.reshape(-1, 1)\n",
        "# y_test = y_test.reshape(-1, 1)\n",
        "\n",
        "# print(y_train.shape, y_train)"
      ]
    },
    {
      "cell_type": "markdown",
      "id": "3ce4cb81",
      "metadata": {
        "id": "3ce4cb81"
      },
      "source": [
        "#### Вывод по обработке"
      ]
    },
    {
      "cell_type": "markdown",
      "id": "c1a5c17e",
      "metadata": {
        "id": "c1a5c17e"
      },
      "source": [
        "Провели предобработку признаков. \n",
        "\n",
        "Избавились от пропусков. \n",
        "\n",
        "Категоризовали некоторые признаки, такие как дата и время.\n",
        "\n",
        "Стандартизировали данные, для кодирования пользовались техникой `OHE`, так же воспользовались `StandartScaler` для обработки численного признака."
      ]
    },
    {
      "cell_type": "markdown",
      "id": "74bc8b8e",
      "metadata": {
        "id": "74bc8b8e"
      },
      "source": [
        "### Построение моделей"
      ]
    },
    {
      "cell_type": "markdown",
      "id": "fefa67fe",
      "metadata": {
        "id": "fefa67fe"
      },
      "source": [
        "Для решения задачи возьмем 3 модели: логистическую регрессию `LogisticRegression`, модель градиентного бустинга `CatBoost`, случайный лес `RandomForest`.\n",
        "\n",
        "Будем идти по порядку, для каждой из моделей подберем оптимальные параметры и посмотрим на результат на валидационной выборке.\n",
        "\n",
        "Для оценки качества модели будем использовать метрику `F1`, тк. в рамкахпоставленной задачи нам важны как точность, так и полнота."
      ]
    },
    {
      "cell_type": "markdown",
      "id": "f1665f30",
      "metadata": {
        "id": "f1665f30"
      },
      "source": [
        "#### Базовая модель"
      ]
    },
    {
      "cell_type": "markdown",
      "id": "a21baef5",
      "metadata": {
        "id": "a21baef5"
      },
      "source": [
        "Для начала посмотрим, какую метрику покажет константная модель, предсказывающая для любых признаков 1"
      ]
    },
    {
      "cell_type": "code",
      "execution_count": null,
      "id": "d75b08a0",
      "metadata": {
        "id": "d75b08a0",
        "outputId": "b8407bfd-deaf-4d19-c554-f1b88207d386"
      },
      "outputs": [
        {
          "data": {
            "text/plain": [
              "(74910,)"
            ]
          },
          "execution_count": 59,
          "metadata": {},
          "output_type": "execute_result"
        }
      ],
      "source": [
        "constant_model = np.ones(y_train.shape)\n",
        "constant_model_test = np.ones(y_test.shape)\n",
        "constant_model.shape"
      ]
    },
    {
      "cell_type": "code",
      "execution_count": null,
      "id": "0e198a1d",
      "metadata": {
        "id": "0e198a1d",
        "outputId": "a8b79627-1d4f-4c19-d84f-5f255aedb8f7"
      },
      "outputs": [
        {
          "data": {
            "text/plain": [
              "0.6641820321694782"
            ]
          },
          "execution_count": 60,
          "metadata": {},
          "output_type": "execute_result"
        }
      ],
      "source": [
        "f1_score(y_train, constant_model)"
      ]
    },
    {
      "cell_type": "code",
      "execution_count": null,
      "id": "cd9aeef1",
      "metadata": {
        "id": "cd9aeef1",
        "outputId": "320e3aa4-030f-48e8-c368-9e79945dee96"
      },
      "outputs": [
        {
          "data": {
            "text/plain": [
              "0.6657939575281553"
            ]
          },
          "execution_count": 61,
          "metadata": {},
          "output_type": "execute_result"
        }
      ],
      "source": [
        "f1_score(y_test, constant_model_test)"
      ]
    },
    {
      "cell_type": "markdown",
      "id": "96647688",
      "metadata": {
        "id": "96647688"
      },
      "source": [
        "#### Логистическая регрессия"
      ]
    },
    {
      "cell_type": "code",
      "execution_count": null,
      "id": "6866129a",
      "metadata": {
        "id": "6866129a",
        "outputId": "6d2a8393-a649-46ba-82de-d5f5367d8097"
      },
      "outputs": [
        {
          "ename": "KeyboardInterrupt",
          "evalue": "",
          "output_type": "error",
          "traceback": [
            "\u001b[0;31m---------------------------------------------------------------------------\u001b[0m",
            "\u001b[0;31mKeyboardInterrupt\u001b[0m                         Traceback (most recent call last)",
            "\u001b[0;32m/tmp/ipykernel_211/3377780635.py\u001b[0m in \u001b[0;36m<module>\u001b[0;34m\u001b[0m\n\u001b[1;32m      5\u001b[0m \u001b[0mlr\u001b[0m\u001b[0;34m.\u001b[0m\u001b[0mfit\u001b[0m\u001b[0;34m(\u001b[0m\u001b[0mX_train\u001b[0m\u001b[0;34m,\u001b[0m \u001b[0my_train\u001b[0m\u001b[0;34m)\u001b[0m\u001b[0;34m\u001b[0m\u001b[0;34m\u001b[0m\u001b[0m\n\u001b[1;32m      6\u001b[0m \u001b[0;34m\u001b[0m\u001b[0m\n\u001b[0;32m----> 7\u001b[0;31m \u001b[0mlr_f1\u001b[0m \u001b[0;34m=\u001b[0m \u001b[0mcross_val_score\u001b[0m\u001b[0;34m(\u001b[0m\u001b[0mlr\u001b[0m\u001b[0;34m,\u001b[0m \u001b[0mX_train\u001b[0m\u001b[0;34m,\u001b[0m \u001b[0my_train\u001b[0m\u001b[0;34m,\u001b[0m \u001b[0mcv\u001b[0m\u001b[0;34m=\u001b[0m\u001b[0;36m5\u001b[0m\u001b[0;34m,\u001b[0m \u001b[0mscoring\u001b[0m\u001b[0;34m=\u001b[0m\u001b[0;34m'f1'\u001b[0m\u001b[0;34m)\u001b[0m\u001b[0;34m.\u001b[0m\u001b[0mmean\u001b[0m\u001b[0;34m(\u001b[0m\u001b[0;34m)\u001b[0m\u001b[0;34m\u001b[0m\u001b[0;34m\u001b[0m\u001b[0m\n\u001b[0m\u001b[1;32m      8\u001b[0m \u001b[0mprint\u001b[0m\u001b[0;34m(\u001b[0m\u001b[0mlr_f1\u001b[0m\u001b[0;34m)\u001b[0m\u001b[0;34m\u001b[0m\u001b[0;34m\u001b[0m\u001b[0m\n\u001b[1;32m      9\u001b[0m \u001b[0;34m\u001b[0m\u001b[0m\n",
            "\u001b[0;32m/opt/conda/lib/python3.9/site-packages/sklearn/model_selection/_validation.py\u001b[0m in \u001b[0;36mcross_val_score\u001b[0;34m(estimator, X, y, groups, scoring, cv, n_jobs, verbose, fit_params, pre_dispatch, error_score)\u001b[0m\n\u001b[1;32m    513\u001b[0m     \u001b[0mscorer\u001b[0m \u001b[0;34m=\u001b[0m \u001b[0mcheck_scoring\u001b[0m\u001b[0;34m(\u001b[0m\u001b[0mestimator\u001b[0m\u001b[0;34m,\u001b[0m \u001b[0mscoring\u001b[0m\u001b[0;34m=\u001b[0m\u001b[0mscoring\u001b[0m\u001b[0;34m)\u001b[0m\u001b[0;34m\u001b[0m\u001b[0;34m\u001b[0m\u001b[0m\n\u001b[1;32m    514\u001b[0m \u001b[0;34m\u001b[0m\u001b[0m\n\u001b[0;32m--> 515\u001b[0;31m     cv_results = cross_validate(\n\u001b[0m\u001b[1;32m    516\u001b[0m         \u001b[0mestimator\u001b[0m\u001b[0;34m=\u001b[0m\u001b[0mestimator\u001b[0m\u001b[0;34m,\u001b[0m\u001b[0;34m\u001b[0m\u001b[0;34m\u001b[0m\u001b[0m\n\u001b[1;32m    517\u001b[0m         \u001b[0mX\u001b[0m\u001b[0;34m=\u001b[0m\u001b[0mX\u001b[0m\u001b[0;34m,\u001b[0m\u001b[0;34m\u001b[0m\u001b[0;34m\u001b[0m\u001b[0m\n",
            "\u001b[0;32m/opt/conda/lib/python3.9/site-packages/sklearn/model_selection/_validation.py\u001b[0m in \u001b[0;36mcross_validate\u001b[0;34m(estimator, X, y, groups, scoring, cv, n_jobs, verbose, fit_params, pre_dispatch, return_train_score, return_estimator, error_score)\u001b[0m\n\u001b[1;32m    264\u001b[0m     \u001b[0;31m# independent, and that it is pickle-able.\u001b[0m\u001b[0;34m\u001b[0m\u001b[0;34m\u001b[0m\u001b[0;34m\u001b[0m\u001b[0m\n\u001b[1;32m    265\u001b[0m     \u001b[0mparallel\u001b[0m \u001b[0;34m=\u001b[0m \u001b[0mParallel\u001b[0m\u001b[0;34m(\u001b[0m\u001b[0mn_jobs\u001b[0m\u001b[0;34m=\u001b[0m\u001b[0mn_jobs\u001b[0m\u001b[0;34m,\u001b[0m \u001b[0mverbose\u001b[0m\u001b[0;34m=\u001b[0m\u001b[0mverbose\u001b[0m\u001b[0;34m,\u001b[0m \u001b[0mpre_dispatch\u001b[0m\u001b[0;34m=\u001b[0m\u001b[0mpre_dispatch\u001b[0m\u001b[0;34m)\u001b[0m\u001b[0;34m\u001b[0m\u001b[0;34m\u001b[0m\u001b[0m\n\u001b[0;32m--> 266\u001b[0;31m     results = parallel(\n\u001b[0m\u001b[1;32m    267\u001b[0m         delayed(_fit_and_score)(\n\u001b[1;32m    268\u001b[0m             \u001b[0mclone\u001b[0m\u001b[0;34m(\u001b[0m\u001b[0mestimator\u001b[0m\u001b[0;34m)\u001b[0m\u001b[0;34m,\u001b[0m\u001b[0;34m\u001b[0m\u001b[0;34m\u001b[0m\u001b[0m\n",
            "\u001b[0;32m/opt/conda/lib/python3.9/site-packages/sklearn/utils/parallel.py\u001b[0m in \u001b[0;36m__call__\u001b[0;34m(self, iterable)\u001b[0m\n\u001b[1;32m     61\u001b[0m             \u001b[0;32mfor\u001b[0m \u001b[0mdelayed_func\u001b[0m\u001b[0;34m,\u001b[0m \u001b[0margs\u001b[0m\u001b[0;34m,\u001b[0m \u001b[0mkwargs\u001b[0m \u001b[0;32min\u001b[0m \u001b[0miterable\u001b[0m\u001b[0;34m\u001b[0m\u001b[0;34m\u001b[0m\u001b[0m\n\u001b[1;32m     62\u001b[0m         )\n\u001b[0;32m---> 63\u001b[0;31m         \u001b[0;32mreturn\u001b[0m \u001b[0msuper\u001b[0m\u001b[0;34m(\u001b[0m\u001b[0;34m)\u001b[0m\u001b[0;34m.\u001b[0m\u001b[0m__call__\u001b[0m\u001b[0;34m(\u001b[0m\u001b[0miterable_with_config\u001b[0m\u001b[0;34m)\u001b[0m\u001b[0;34m\u001b[0m\u001b[0;34m\u001b[0m\u001b[0m\n\u001b[0m\u001b[1;32m     64\u001b[0m \u001b[0;34m\u001b[0m\u001b[0m\n\u001b[1;32m     65\u001b[0m \u001b[0;34m\u001b[0m\u001b[0m\n",
            "\u001b[0;32m/opt/conda/lib/python3.9/site-packages/joblib/parallel.py\u001b[0m in \u001b[0;36m__call__\u001b[0;34m(self, iterable)\u001b[0m\n\u001b[1;32m   1083\u001b[0m             \u001b[0;31m# remaining jobs.\u001b[0m\u001b[0;34m\u001b[0m\u001b[0;34m\u001b[0m\u001b[0;34m\u001b[0m\u001b[0m\n\u001b[1;32m   1084\u001b[0m             \u001b[0mself\u001b[0m\u001b[0;34m.\u001b[0m\u001b[0m_iterating\u001b[0m \u001b[0;34m=\u001b[0m \u001b[0;32mFalse\u001b[0m\u001b[0;34m\u001b[0m\u001b[0;34m\u001b[0m\u001b[0m\n\u001b[0;32m-> 1085\u001b[0;31m             \u001b[0;32mif\u001b[0m \u001b[0mself\u001b[0m\u001b[0;34m.\u001b[0m\u001b[0mdispatch_one_batch\u001b[0m\u001b[0;34m(\u001b[0m\u001b[0miterator\u001b[0m\u001b[0;34m)\u001b[0m\u001b[0;34m:\u001b[0m\u001b[0;34m\u001b[0m\u001b[0;34m\u001b[0m\u001b[0m\n\u001b[0m\u001b[1;32m   1086\u001b[0m                 \u001b[0mself\u001b[0m\u001b[0;34m.\u001b[0m\u001b[0m_iterating\u001b[0m \u001b[0;34m=\u001b[0m \u001b[0mself\u001b[0m\u001b[0;34m.\u001b[0m\u001b[0m_original_iterator\u001b[0m \u001b[0;32mis\u001b[0m \u001b[0;32mnot\u001b[0m \u001b[0;32mNone\u001b[0m\u001b[0;34m\u001b[0m\u001b[0;34m\u001b[0m\u001b[0m\n\u001b[1;32m   1087\u001b[0m \u001b[0;34m\u001b[0m\u001b[0m\n",
            "\u001b[0;32m/opt/conda/lib/python3.9/site-packages/joblib/parallel.py\u001b[0m in \u001b[0;36mdispatch_one_batch\u001b[0;34m(self, iterator)\u001b[0m\n\u001b[1;32m    899\u001b[0m                 \u001b[0;32mreturn\u001b[0m \u001b[0;32mFalse\u001b[0m\u001b[0;34m\u001b[0m\u001b[0;34m\u001b[0m\u001b[0m\n\u001b[1;32m    900\u001b[0m             \u001b[0;32melse\u001b[0m\u001b[0;34m:\u001b[0m\u001b[0;34m\u001b[0m\u001b[0;34m\u001b[0m\u001b[0m\n\u001b[0;32m--> 901\u001b[0;31m                 \u001b[0mself\u001b[0m\u001b[0;34m.\u001b[0m\u001b[0m_dispatch\u001b[0m\u001b[0;34m(\u001b[0m\u001b[0mtasks\u001b[0m\u001b[0;34m)\u001b[0m\u001b[0;34m\u001b[0m\u001b[0;34m\u001b[0m\u001b[0m\n\u001b[0m\u001b[1;32m    902\u001b[0m                 \u001b[0;32mreturn\u001b[0m \u001b[0;32mTrue\u001b[0m\u001b[0;34m\u001b[0m\u001b[0;34m\u001b[0m\u001b[0m\n\u001b[1;32m    903\u001b[0m \u001b[0;34m\u001b[0m\u001b[0m\n",
            "\u001b[0;32m/opt/conda/lib/python3.9/site-packages/joblib/parallel.py\u001b[0m in \u001b[0;36m_dispatch\u001b[0;34m(self, batch)\u001b[0m\n\u001b[1;32m    817\u001b[0m         \u001b[0;32mwith\u001b[0m \u001b[0mself\u001b[0m\u001b[0;34m.\u001b[0m\u001b[0m_lock\u001b[0m\u001b[0;34m:\u001b[0m\u001b[0;34m\u001b[0m\u001b[0;34m\u001b[0m\u001b[0m\n\u001b[1;32m    818\u001b[0m             \u001b[0mjob_idx\u001b[0m \u001b[0;34m=\u001b[0m \u001b[0mlen\u001b[0m\u001b[0;34m(\u001b[0m\u001b[0mself\u001b[0m\u001b[0;34m.\u001b[0m\u001b[0m_jobs\u001b[0m\u001b[0;34m)\u001b[0m\u001b[0;34m\u001b[0m\u001b[0;34m\u001b[0m\u001b[0m\n\u001b[0;32m--> 819\u001b[0;31m             \u001b[0mjob\u001b[0m \u001b[0;34m=\u001b[0m \u001b[0mself\u001b[0m\u001b[0;34m.\u001b[0m\u001b[0m_backend\u001b[0m\u001b[0;34m.\u001b[0m\u001b[0mapply_async\u001b[0m\u001b[0;34m(\u001b[0m\u001b[0mbatch\u001b[0m\u001b[0;34m,\u001b[0m \u001b[0mcallback\u001b[0m\u001b[0;34m=\u001b[0m\u001b[0mcb\u001b[0m\u001b[0;34m)\u001b[0m\u001b[0;34m\u001b[0m\u001b[0;34m\u001b[0m\u001b[0m\n\u001b[0m\u001b[1;32m    820\u001b[0m             \u001b[0;31m# A job can complete so quickly than its callback is\u001b[0m\u001b[0;34m\u001b[0m\u001b[0;34m\u001b[0m\u001b[0;34m\u001b[0m\u001b[0m\n\u001b[1;32m    821\u001b[0m             \u001b[0;31m# called before we get here, causing self._jobs to\u001b[0m\u001b[0;34m\u001b[0m\u001b[0;34m\u001b[0m\u001b[0;34m\u001b[0m\u001b[0m\n",
            "\u001b[0;32m/opt/conda/lib/python3.9/site-packages/joblib/_parallel_backends.py\u001b[0m in \u001b[0;36mapply_async\u001b[0;34m(self, func, callback)\u001b[0m\n\u001b[1;32m    206\u001b[0m     \u001b[0;32mdef\u001b[0m \u001b[0mapply_async\u001b[0m\u001b[0;34m(\u001b[0m\u001b[0mself\u001b[0m\u001b[0;34m,\u001b[0m \u001b[0mfunc\u001b[0m\u001b[0;34m,\u001b[0m \u001b[0mcallback\u001b[0m\u001b[0;34m=\u001b[0m\u001b[0;32mNone\u001b[0m\u001b[0;34m)\u001b[0m\u001b[0;34m:\u001b[0m\u001b[0;34m\u001b[0m\u001b[0;34m\u001b[0m\u001b[0m\n\u001b[1;32m    207\u001b[0m         \u001b[0;34m\"\"\"Schedule a func to be run\"\"\"\u001b[0m\u001b[0;34m\u001b[0m\u001b[0;34m\u001b[0m\u001b[0m\n\u001b[0;32m--> 208\u001b[0;31m         \u001b[0mresult\u001b[0m \u001b[0;34m=\u001b[0m \u001b[0mImmediateResult\u001b[0m\u001b[0;34m(\u001b[0m\u001b[0mfunc\u001b[0m\u001b[0;34m)\u001b[0m\u001b[0;34m\u001b[0m\u001b[0;34m\u001b[0m\u001b[0m\n\u001b[0m\u001b[1;32m    209\u001b[0m         \u001b[0;32mif\u001b[0m \u001b[0mcallback\u001b[0m\u001b[0;34m:\u001b[0m\u001b[0;34m\u001b[0m\u001b[0;34m\u001b[0m\u001b[0m\n\u001b[1;32m    210\u001b[0m             \u001b[0mcallback\u001b[0m\u001b[0;34m(\u001b[0m\u001b[0mresult\u001b[0m\u001b[0;34m)\u001b[0m\u001b[0;34m\u001b[0m\u001b[0;34m\u001b[0m\u001b[0m\n",
            "\u001b[0;32m/opt/conda/lib/python3.9/site-packages/joblib/_parallel_backends.py\u001b[0m in \u001b[0;36m__init__\u001b[0;34m(self, batch)\u001b[0m\n\u001b[1;32m    595\u001b[0m         \u001b[0;31m# Don't delay the application, to avoid keeping the input\u001b[0m\u001b[0;34m\u001b[0m\u001b[0;34m\u001b[0m\u001b[0;34m\u001b[0m\u001b[0m\n\u001b[1;32m    596\u001b[0m         \u001b[0;31m# arguments in memory\u001b[0m\u001b[0;34m\u001b[0m\u001b[0;34m\u001b[0m\u001b[0;34m\u001b[0m\u001b[0m\n\u001b[0;32m--> 597\u001b[0;31m         \u001b[0mself\u001b[0m\u001b[0;34m.\u001b[0m\u001b[0mresults\u001b[0m \u001b[0;34m=\u001b[0m \u001b[0mbatch\u001b[0m\u001b[0;34m(\u001b[0m\u001b[0;34m)\u001b[0m\u001b[0;34m\u001b[0m\u001b[0;34m\u001b[0m\u001b[0m\n\u001b[0m\u001b[1;32m    598\u001b[0m \u001b[0;34m\u001b[0m\u001b[0m\n\u001b[1;32m    599\u001b[0m     \u001b[0;32mdef\u001b[0m \u001b[0mget\u001b[0m\u001b[0;34m(\u001b[0m\u001b[0mself\u001b[0m\u001b[0;34m)\u001b[0m\u001b[0;34m:\u001b[0m\u001b[0;34m\u001b[0m\u001b[0;34m\u001b[0m\u001b[0m\n",
            "\u001b[0;32m/opt/conda/lib/python3.9/site-packages/joblib/parallel.py\u001b[0m in \u001b[0;36m__call__\u001b[0;34m(self)\u001b[0m\n\u001b[1;32m    286\u001b[0m         \u001b[0;31m# change the default number of processes to -1\u001b[0m\u001b[0;34m\u001b[0m\u001b[0;34m\u001b[0m\u001b[0;34m\u001b[0m\u001b[0m\n\u001b[1;32m    287\u001b[0m         \u001b[0;32mwith\u001b[0m \u001b[0mparallel_backend\u001b[0m\u001b[0;34m(\u001b[0m\u001b[0mself\u001b[0m\u001b[0;34m.\u001b[0m\u001b[0m_backend\u001b[0m\u001b[0;34m,\u001b[0m \u001b[0mn_jobs\u001b[0m\u001b[0;34m=\u001b[0m\u001b[0mself\u001b[0m\u001b[0;34m.\u001b[0m\u001b[0m_n_jobs\u001b[0m\u001b[0;34m)\u001b[0m\u001b[0;34m:\u001b[0m\u001b[0;34m\u001b[0m\u001b[0;34m\u001b[0m\u001b[0m\n\u001b[0;32m--> 288\u001b[0;31m             return [func(*args, **kwargs)\n\u001b[0m\u001b[1;32m    289\u001b[0m                     for func, args, kwargs in self.items]\n\u001b[1;32m    290\u001b[0m \u001b[0;34m\u001b[0m\u001b[0m\n",
            "\u001b[0;32m/opt/conda/lib/python3.9/site-packages/joblib/parallel.py\u001b[0m in \u001b[0;36m<listcomp>\u001b[0;34m(.0)\u001b[0m\n\u001b[1;32m    286\u001b[0m         \u001b[0;31m# change the default number of processes to -1\u001b[0m\u001b[0;34m\u001b[0m\u001b[0;34m\u001b[0m\u001b[0;34m\u001b[0m\u001b[0m\n\u001b[1;32m    287\u001b[0m         \u001b[0;32mwith\u001b[0m \u001b[0mparallel_backend\u001b[0m\u001b[0;34m(\u001b[0m\u001b[0mself\u001b[0m\u001b[0;34m.\u001b[0m\u001b[0m_backend\u001b[0m\u001b[0;34m,\u001b[0m \u001b[0mn_jobs\u001b[0m\u001b[0;34m=\u001b[0m\u001b[0mself\u001b[0m\u001b[0;34m.\u001b[0m\u001b[0m_n_jobs\u001b[0m\u001b[0;34m)\u001b[0m\u001b[0;34m:\u001b[0m\u001b[0;34m\u001b[0m\u001b[0;34m\u001b[0m\u001b[0m\n\u001b[0;32m--> 288\u001b[0;31m             return [func(*args, **kwargs)\n\u001b[0m\u001b[1;32m    289\u001b[0m                     for func, args, kwargs in self.items]\n\u001b[1;32m    290\u001b[0m \u001b[0;34m\u001b[0m\u001b[0m\n",
            "\u001b[0;32m/opt/conda/lib/python3.9/site-packages/sklearn/utils/parallel.py\u001b[0m in \u001b[0;36m__call__\u001b[0;34m(self, *args, **kwargs)\u001b[0m\n\u001b[1;32m    121\u001b[0m             \u001b[0mconfig\u001b[0m \u001b[0;34m=\u001b[0m \u001b[0;34m{\u001b[0m\u001b[0;34m}\u001b[0m\u001b[0;34m\u001b[0m\u001b[0;34m\u001b[0m\u001b[0m\n\u001b[1;32m    122\u001b[0m         \u001b[0;32mwith\u001b[0m \u001b[0mconfig_context\u001b[0m\u001b[0;34m(\u001b[0m\u001b[0;34m**\u001b[0m\u001b[0mconfig\u001b[0m\u001b[0;34m)\u001b[0m\u001b[0;34m:\u001b[0m\u001b[0;34m\u001b[0m\u001b[0;34m\u001b[0m\u001b[0m\n\u001b[0;32m--> 123\u001b[0;31m             \u001b[0;32mreturn\u001b[0m \u001b[0mself\u001b[0m\u001b[0;34m.\u001b[0m\u001b[0mfunction\u001b[0m\u001b[0;34m(\u001b[0m\u001b[0;34m*\u001b[0m\u001b[0margs\u001b[0m\u001b[0;34m,\u001b[0m \u001b[0;34m**\u001b[0m\u001b[0mkwargs\u001b[0m\u001b[0;34m)\u001b[0m\u001b[0;34m\u001b[0m\u001b[0;34m\u001b[0m\u001b[0m\n\u001b[0m",
            "\u001b[0;32m/opt/conda/lib/python3.9/site-packages/sklearn/model_selection/_validation.py\u001b[0m in \u001b[0;36m_fit_and_score\u001b[0;34m(estimator, X, y, scorer, train, test, verbose, parameters, fit_params, return_train_score, return_parameters, return_n_test_samples, return_times, return_estimator, split_progress, candidate_progress, error_score)\u001b[0m\n\u001b[1;32m    684\u001b[0m             \u001b[0mestimator\u001b[0m\u001b[0;34m.\u001b[0m\u001b[0mfit\u001b[0m\u001b[0;34m(\u001b[0m\u001b[0mX_train\u001b[0m\u001b[0;34m,\u001b[0m \u001b[0;34m**\u001b[0m\u001b[0mfit_params\u001b[0m\u001b[0;34m)\u001b[0m\u001b[0;34m\u001b[0m\u001b[0;34m\u001b[0m\u001b[0m\n\u001b[1;32m    685\u001b[0m         \u001b[0;32melse\u001b[0m\u001b[0;34m:\u001b[0m\u001b[0;34m\u001b[0m\u001b[0;34m\u001b[0m\u001b[0m\n\u001b[0;32m--> 686\u001b[0;31m             \u001b[0mestimator\u001b[0m\u001b[0;34m.\u001b[0m\u001b[0mfit\u001b[0m\u001b[0;34m(\u001b[0m\u001b[0mX_train\u001b[0m\u001b[0;34m,\u001b[0m \u001b[0my_train\u001b[0m\u001b[0;34m,\u001b[0m \u001b[0;34m**\u001b[0m\u001b[0mfit_params\u001b[0m\u001b[0;34m)\u001b[0m\u001b[0;34m\u001b[0m\u001b[0;34m\u001b[0m\u001b[0m\n\u001b[0m\u001b[1;32m    687\u001b[0m \u001b[0;34m\u001b[0m\u001b[0m\n\u001b[1;32m    688\u001b[0m     \u001b[0;32mexcept\u001b[0m \u001b[0mException\u001b[0m\u001b[0;34m:\u001b[0m\u001b[0;34m\u001b[0m\u001b[0;34m\u001b[0m\u001b[0m\n",
            "\u001b[0;32m/opt/conda/lib/python3.9/site-packages/sklearn/linear_model/_logistic.py\u001b[0m in \u001b[0;36mfit\u001b[0;34m(self, X, y, sample_weight)\u001b[0m\n\u001b[1;32m   1289\u001b[0m             \u001b[0mn_threads\u001b[0m \u001b[0;34m=\u001b[0m \u001b[0;36m1\u001b[0m\u001b[0;34m\u001b[0m\u001b[0;34m\u001b[0m\u001b[0m\n\u001b[1;32m   1290\u001b[0m \u001b[0;34m\u001b[0m\u001b[0m\n\u001b[0;32m-> 1291\u001b[0;31m         fold_coefs_ = Parallel(n_jobs=self.n_jobs, verbose=self.verbose, prefer=prefer)(\n\u001b[0m\u001b[1;32m   1292\u001b[0m             path_func(\n\u001b[1;32m   1293\u001b[0m                 \u001b[0mX\u001b[0m\u001b[0;34m,\u001b[0m\u001b[0;34m\u001b[0m\u001b[0;34m\u001b[0m\u001b[0m\n",
            "\u001b[0;32m/opt/conda/lib/python3.9/site-packages/sklearn/utils/parallel.py\u001b[0m in \u001b[0;36m__call__\u001b[0;34m(self, iterable)\u001b[0m\n\u001b[1;32m     61\u001b[0m             \u001b[0;32mfor\u001b[0m \u001b[0mdelayed_func\u001b[0m\u001b[0;34m,\u001b[0m \u001b[0margs\u001b[0m\u001b[0;34m,\u001b[0m \u001b[0mkwargs\u001b[0m \u001b[0;32min\u001b[0m \u001b[0miterable\u001b[0m\u001b[0;34m\u001b[0m\u001b[0;34m\u001b[0m\u001b[0m\n\u001b[1;32m     62\u001b[0m         )\n\u001b[0;32m---> 63\u001b[0;31m         \u001b[0;32mreturn\u001b[0m \u001b[0msuper\u001b[0m\u001b[0;34m(\u001b[0m\u001b[0;34m)\u001b[0m\u001b[0;34m.\u001b[0m\u001b[0m__call__\u001b[0m\u001b[0;34m(\u001b[0m\u001b[0miterable_with_config\u001b[0m\u001b[0;34m)\u001b[0m\u001b[0;34m\u001b[0m\u001b[0;34m\u001b[0m\u001b[0m\n\u001b[0m\u001b[1;32m     64\u001b[0m \u001b[0;34m\u001b[0m\u001b[0m\n\u001b[1;32m     65\u001b[0m \u001b[0;34m\u001b[0m\u001b[0m\n",
            "\u001b[0;32m/opt/conda/lib/python3.9/site-packages/joblib/parallel.py\u001b[0m in \u001b[0;36m__call__\u001b[0;34m(self, iterable)\u001b[0m\n\u001b[1;32m   1083\u001b[0m             \u001b[0;31m# remaining jobs.\u001b[0m\u001b[0;34m\u001b[0m\u001b[0;34m\u001b[0m\u001b[0;34m\u001b[0m\u001b[0m\n\u001b[1;32m   1084\u001b[0m             \u001b[0mself\u001b[0m\u001b[0;34m.\u001b[0m\u001b[0m_iterating\u001b[0m \u001b[0;34m=\u001b[0m \u001b[0;32mFalse\u001b[0m\u001b[0;34m\u001b[0m\u001b[0;34m\u001b[0m\u001b[0m\n\u001b[0;32m-> 1085\u001b[0;31m             \u001b[0;32mif\u001b[0m \u001b[0mself\u001b[0m\u001b[0;34m.\u001b[0m\u001b[0mdispatch_one_batch\u001b[0m\u001b[0;34m(\u001b[0m\u001b[0miterator\u001b[0m\u001b[0;34m)\u001b[0m\u001b[0;34m:\u001b[0m\u001b[0;34m\u001b[0m\u001b[0;34m\u001b[0m\u001b[0m\n\u001b[0m\u001b[1;32m   1086\u001b[0m                 \u001b[0mself\u001b[0m\u001b[0;34m.\u001b[0m\u001b[0m_iterating\u001b[0m \u001b[0;34m=\u001b[0m \u001b[0mself\u001b[0m\u001b[0;34m.\u001b[0m\u001b[0m_original_iterator\u001b[0m \u001b[0;32mis\u001b[0m \u001b[0;32mnot\u001b[0m \u001b[0;32mNone\u001b[0m\u001b[0;34m\u001b[0m\u001b[0;34m\u001b[0m\u001b[0m\n\u001b[1;32m   1087\u001b[0m \u001b[0;34m\u001b[0m\u001b[0m\n",
            "\u001b[0;32m/opt/conda/lib/python3.9/site-packages/joblib/parallel.py\u001b[0m in \u001b[0;36mdispatch_one_batch\u001b[0;34m(self, iterator)\u001b[0m\n\u001b[1;32m    899\u001b[0m                 \u001b[0;32mreturn\u001b[0m \u001b[0;32mFalse\u001b[0m\u001b[0;34m\u001b[0m\u001b[0;34m\u001b[0m\u001b[0m\n\u001b[1;32m    900\u001b[0m             \u001b[0;32melse\u001b[0m\u001b[0;34m:\u001b[0m\u001b[0;34m\u001b[0m\u001b[0;34m\u001b[0m\u001b[0m\n\u001b[0;32m--> 901\u001b[0;31m                 \u001b[0mself\u001b[0m\u001b[0;34m.\u001b[0m\u001b[0m_dispatch\u001b[0m\u001b[0;34m(\u001b[0m\u001b[0mtasks\u001b[0m\u001b[0;34m)\u001b[0m\u001b[0;34m\u001b[0m\u001b[0;34m\u001b[0m\u001b[0m\n\u001b[0m\u001b[1;32m    902\u001b[0m                 \u001b[0;32mreturn\u001b[0m \u001b[0;32mTrue\u001b[0m\u001b[0;34m\u001b[0m\u001b[0;34m\u001b[0m\u001b[0m\n\u001b[1;32m    903\u001b[0m \u001b[0;34m\u001b[0m\u001b[0m\n",
            "\u001b[0;32m/opt/conda/lib/python3.9/site-packages/joblib/parallel.py\u001b[0m in \u001b[0;36m_dispatch\u001b[0;34m(self, batch)\u001b[0m\n\u001b[1;32m    817\u001b[0m         \u001b[0;32mwith\u001b[0m \u001b[0mself\u001b[0m\u001b[0;34m.\u001b[0m\u001b[0m_lock\u001b[0m\u001b[0;34m:\u001b[0m\u001b[0;34m\u001b[0m\u001b[0;34m\u001b[0m\u001b[0m\n\u001b[1;32m    818\u001b[0m             \u001b[0mjob_idx\u001b[0m \u001b[0;34m=\u001b[0m \u001b[0mlen\u001b[0m\u001b[0;34m(\u001b[0m\u001b[0mself\u001b[0m\u001b[0;34m.\u001b[0m\u001b[0m_jobs\u001b[0m\u001b[0;34m)\u001b[0m\u001b[0;34m\u001b[0m\u001b[0;34m\u001b[0m\u001b[0m\n\u001b[0;32m--> 819\u001b[0;31m             \u001b[0mjob\u001b[0m \u001b[0;34m=\u001b[0m \u001b[0mself\u001b[0m\u001b[0;34m.\u001b[0m\u001b[0m_backend\u001b[0m\u001b[0;34m.\u001b[0m\u001b[0mapply_async\u001b[0m\u001b[0;34m(\u001b[0m\u001b[0mbatch\u001b[0m\u001b[0;34m,\u001b[0m \u001b[0mcallback\u001b[0m\u001b[0;34m=\u001b[0m\u001b[0mcb\u001b[0m\u001b[0;34m)\u001b[0m\u001b[0;34m\u001b[0m\u001b[0;34m\u001b[0m\u001b[0m\n\u001b[0m\u001b[1;32m    820\u001b[0m             \u001b[0;31m# A job can complete so quickly than its callback is\u001b[0m\u001b[0;34m\u001b[0m\u001b[0;34m\u001b[0m\u001b[0;34m\u001b[0m\u001b[0m\n\u001b[1;32m    821\u001b[0m             \u001b[0;31m# called before we get here, causing self._jobs to\u001b[0m\u001b[0;34m\u001b[0m\u001b[0;34m\u001b[0m\u001b[0;34m\u001b[0m\u001b[0m\n",
            "\u001b[0;32m/opt/conda/lib/python3.9/site-packages/joblib/_parallel_backends.py\u001b[0m in \u001b[0;36mapply_async\u001b[0;34m(self, func, callback)\u001b[0m\n\u001b[1;32m    206\u001b[0m     \u001b[0;32mdef\u001b[0m \u001b[0mapply_async\u001b[0m\u001b[0;34m(\u001b[0m\u001b[0mself\u001b[0m\u001b[0;34m,\u001b[0m \u001b[0mfunc\u001b[0m\u001b[0;34m,\u001b[0m \u001b[0mcallback\u001b[0m\u001b[0;34m=\u001b[0m\u001b[0;32mNone\u001b[0m\u001b[0;34m)\u001b[0m\u001b[0;34m:\u001b[0m\u001b[0;34m\u001b[0m\u001b[0;34m\u001b[0m\u001b[0m\n\u001b[1;32m    207\u001b[0m         \u001b[0;34m\"\"\"Schedule a func to be run\"\"\"\u001b[0m\u001b[0;34m\u001b[0m\u001b[0;34m\u001b[0m\u001b[0m\n\u001b[0;32m--> 208\u001b[0;31m         \u001b[0mresult\u001b[0m \u001b[0;34m=\u001b[0m \u001b[0mImmediateResult\u001b[0m\u001b[0;34m(\u001b[0m\u001b[0mfunc\u001b[0m\u001b[0;34m)\u001b[0m\u001b[0;34m\u001b[0m\u001b[0;34m\u001b[0m\u001b[0m\n\u001b[0m\u001b[1;32m    209\u001b[0m         \u001b[0;32mif\u001b[0m \u001b[0mcallback\u001b[0m\u001b[0;34m:\u001b[0m\u001b[0;34m\u001b[0m\u001b[0;34m\u001b[0m\u001b[0m\n\u001b[1;32m    210\u001b[0m             \u001b[0mcallback\u001b[0m\u001b[0;34m(\u001b[0m\u001b[0mresult\u001b[0m\u001b[0;34m)\u001b[0m\u001b[0;34m\u001b[0m\u001b[0;34m\u001b[0m\u001b[0m\n",
            "\u001b[0;32m/opt/conda/lib/python3.9/site-packages/joblib/_parallel_backends.py\u001b[0m in \u001b[0;36m__init__\u001b[0;34m(self, batch)\u001b[0m\n\u001b[1;32m    595\u001b[0m         \u001b[0;31m# Don't delay the application, to avoid keeping the input\u001b[0m\u001b[0;34m\u001b[0m\u001b[0;34m\u001b[0m\u001b[0;34m\u001b[0m\u001b[0m\n\u001b[1;32m    596\u001b[0m         \u001b[0;31m# arguments in memory\u001b[0m\u001b[0;34m\u001b[0m\u001b[0;34m\u001b[0m\u001b[0;34m\u001b[0m\u001b[0m\n\u001b[0;32m--> 597\u001b[0;31m         \u001b[0mself\u001b[0m\u001b[0;34m.\u001b[0m\u001b[0mresults\u001b[0m \u001b[0;34m=\u001b[0m \u001b[0mbatch\u001b[0m\u001b[0;34m(\u001b[0m\u001b[0;34m)\u001b[0m\u001b[0;34m\u001b[0m\u001b[0;34m\u001b[0m\u001b[0m\n\u001b[0m\u001b[1;32m    598\u001b[0m \u001b[0;34m\u001b[0m\u001b[0m\n\u001b[1;32m    599\u001b[0m     \u001b[0;32mdef\u001b[0m \u001b[0mget\u001b[0m\u001b[0;34m(\u001b[0m\u001b[0mself\u001b[0m\u001b[0;34m)\u001b[0m\u001b[0;34m:\u001b[0m\u001b[0;34m\u001b[0m\u001b[0;34m\u001b[0m\u001b[0m\n",
            "\u001b[0;32m/opt/conda/lib/python3.9/site-packages/joblib/parallel.py\u001b[0m in \u001b[0;36m__call__\u001b[0;34m(self)\u001b[0m\n\u001b[1;32m    286\u001b[0m         \u001b[0;31m# change the default number of processes to -1\u001b[0m\u001b[0;34m\u001b[0m\u001b[0;34m\u001b[0m\u001b[0;34m\u001b[0m\u001b[0m\n\u001b[1;32m    287\u001b[0m         \u001b[0;32mwith\u001b[0m \u001b[0mparallel_backend\u001b[0m\u001b[0;34m(\u001b[0m\u001b[0mself\u001b[0m\u001b[0;34m.\u001b[0m\u001b[0m_backend\u001b[0m\u001b[0;34m,\u001b[0m \u001b[0mn_jobs\u001b[0m\u001b[0;34m=\u001b[0m\u001b[0mself\u001b[0m\u001b[0;34m.\u001b[0m\u001b[0m_n_jobs\u001b[0m\u001b[0;34m)\u001b[0m\u001b[0;34m:\u001b[0m\u001b[0;34m\u001b[0m\u001b[0;34m\u001b[0m\u001b[0m\n\u001b[0;32m--> 288\u001b[0;31m             return [func(*args, **kwargs)\n\u001b[0m\u001b[1;32m    289\u001b[0m                     for func, args, kwargs in self.items]\n\u001b[1;32m    290\u001b[0m \u001b[0;34m\u001b[0m\u001b[0m\n",
            "\u001b[0;32m/opt/conda/lib/python3.9/site-packages/joblib/parallel.py\u001b[0m in \u001b[0;36m<listcomp>\u001b[0;34m(.0)\u001b[0m\n\u001b[1;32m    286\u001b[0m         \u001b[0;31m# change the default number of processes to -1\u001b[0m\u001b[0;34m\u001b[0m\u001b[0;34m\u001b[0m\u001b[0;34m\u001b[0m\u001b[0m\n\u001b[1;32m    287\u001b[0m         \u001b[0;32mwith\u001b[0m \u001b[0mparallel_backend\u001b[0m\u001b[0;34m(\u001b[0m\u001b[0mself\u001b[0m\u001b[0;34m.\u001b[0m\u001b[0m_backend\u001b[0m\u001b[0;34m,\u001b[0m \u001b[0mn_jobs\u001b[0m\u001b[0;34m=\u001b[0m\u001b[0mself\u001b[0m\u001b[0;34m.\u001b[0m\u001b[0m_n_jobs\u001b[0m\u001b[0;34m)\u001b[0m\u001b[0;34m:\u001b[0m\u001b[0;34m\u001b[0m\u001b[0;34m\u001b[0m\u001b[0m\n\u001b[0;32m--> 288\u001b[0;31m             return [func(*args, **kwargs)\n\u001b[0m\u001b[1;32m    289\u001b[0m                     for func, args, kwargs in self.items]\n\u001b[1;32m    290\u001b[0m \u001b[0;34m\u001b[0m\u001b[0m\n",
            "\u001b[0;32m/opt/conda/lib/python3.9/site-packages/sklearn/utils/parallel.py\u001b[0m in \u001b[0;36m__call__\u001b[0;34m(self, *args, **kwargs)\u001b[0m\n\u001b[1;32m    121\u001b[0m             \u001b[0mconfig\u001b[0m \u001b[0;34m=\u001b[0m \u001b[0;34m{\u001b[0m\u001b[0;34m}\u001b[0m\u001b[0;34m\u001b[0m\u001b[0;34m\u001b[0m\u001b[0m\n\u001b[1;32m    122\u001b[0m         \u001b[0;32mwith\u001b[0m \u001b[0mconfig_context\u001b[0m\u001b[0;34m(\u001b[0m\u001b[0;34m**\u001b[0m\u001b[0mconfig\u001b[0m\u001b[0;34m)\u001b[0m\u001b[0;34m:\u001b[0m\u001b[0;34m\u001b[0m\u001b[0;34m\u001b[0m\u001b[0m\n\u001b[0;32m--> 123\u001b[0;31m             \u001b[0;32mreturn\u001b[0m \u001b[0mself\u001b[0m\u001b[0;34m.\u001b[0m\u001b[0mfunction\u001b[0m\u001b[0;34m(\u001b[0m\u001b[0;34m*\u001b[0m\u001b[0margs\u001b[0m\u001b[0;34m,\u001b[0m \u001b[0;34m**\u001b[0m\u001b[0mkwargs\u001b[0m\u001b[0;34m)\u001b[0m\u001b[0;34m\u001b[0m\u001b[0;34m\u001b[0m\u001b[0m\n\u001b[0m",
            "\u001b[0;32m/opt/conda/lib/python3.9/site-packages/sklearn/linear_model/_logistic.py\u001b[0m in \u001b[0;36m_logistic_regression_path\u001b[0;34m(X, y, pos_class, Cs, fit_intercept, max_iter, tol, verbose, solver, coef, class_weight, dual, penalty, intercept_scaling, multi_class, random_state, check_input, max_squared_sum, sample_weight, l1_ratio, n_threads)\u001b[0m\n\u001b[1;32m    448\u001b[0m                 \u001b[0mnp\u001b[0m\u001b[0;34m.\u001b[0m\u001b[0msearchsorted\u001b[0m\u001b[0;34m(\u001b[0m\u001b[0mnp\u001b[0m\u001b[0;34m.\u001b[0m\u001b[0marray\u001b[0m\u001b[0;34m(\u001b[0m\u001b[0;34m[\u001b[0m\u001b[0;36m0\u001b[0m\u001b[0;34m,\u001b[0m \u001b[0;36m1\u001b[0m\u001b[0;34m,\u001b[0m \u001b[0;36m2\u001b[0m\u001b[0;34m,\u001b[0m \u001b[0;36m3\u001b[0m\u001b[0;34m]\u001b[0m\u001b[0;34m)\u001b[0m\u001b[0;34m,\u001b[0m \u001b[0mverbose\u001b[0m\u001b[0;34m)\u001b[0m\u001b[0;34m\u001b[0m\u001b[0;34m\u001b[0m\u001b[0m\n\u001b[1;32m    449\u001b[0m             ]\n\u001b[0;32m--> 450\u001b[0;31m             opt_res = optimize.minimize(\n\u001b[0m\u001b[1;32m    451\u001b[0m                 \u001b[0mfunc\u001b[0m\u001b[0;34m,\u001b[0m\u001b[0;34m\u001b[0m\u001b[0;34m\u001b[0m\u001b[0m\n\u001b[1;32m    452\u001b[0m                 \u001b[0mw0\u001b[0m\u001b[0;34m,\u001b[0m\u001b[0;34m\u001b[0m\u001b[0;34m\u001b[0m\u001b[0m\n",
            "\u001b[0;32m/opt/conda/lib/python3.9/site-packages/scipy/optimize/_minimize.py\u001b[0m in \u001b[0;36mminimize\u001b[0;34m(fun, x0, args, method, jac, hess, hessp, bounds, constraints, tol, callback, options)\u001b[0m\n\u001b[1;32m    697\u001b[0m                                  **options)\n\u001b[1;32m    698\u001b[0m     \u001b[0;32melif\u001b[0m \u001b[0mmeth\u001b[0m \u001b[0;34m==\u001b[0m \u001b[0;34m'l-bfgs-b'\u001b[0m\u001b[0;34m:\u001b[0m\u001b[0;34m\u001b[0m\u001b[0;34m\u001b[0m\u001b[0m\n\u001b[0;32m--> 699\u001b[0;31m         res = _minimize_lbfgsb(fun, x0, args, jac, bounds,\n\u001b[0m\u001b[1;32m    700\u001b[0m                                callback=callback, **options)\n\u001b[1;32m    701\u001b[0m     \u001b[0;32melif\u001b[0m \u001b[0mmeth\u001b[0m \u001b[0;34m==\u001b[0m \u001b[0;34m'tnc'\u001b[0m\u001b[0;34m:\u001b[0m\u001b[0;34m\u001b[0m\u001b[0;34m\u001b[0m\u001b[0m\n",
            "\u001b[0;32m/opt/conda/lib/python3.9/site-packages/scipy/optimize/_lbfgsb_py.py\u001b[0m in \u001b[0;36m_minimize_lbfgsb\u001b[0;34m(fun, x0, args, jac, bounds, disp, maxcor, ftol, gtol, eps, maxfun, maxiter, iprint, callback, maxls, finite_diff_rel_step, **unknown_options)\u001b[0m\n\u001b[1;32m    360\u001b[0m             \u001b[0;31m# until the completion of the current minimization iteration.\u001b[0m\u001b[0;34m\u001b[0m\u001b[0;34m\u001b[0m\u001b[0;34m\u001b[0m\u001b[0m\n\u001b[1;32m    361\u001b[0m             \u001b[0;31m# Overwrite f and g:\u001b[0m\u001b[0;34m\u001b[0m\u001b[0;34m\u001b[0m\u001b[0;34m\u001b[0m\u001b[0m\n\u001b[0;32m--> 362\u001b[0;31m             \u001b[0mf\u001b[0m\u001b[0;34m,\u001b[0m \u001b[0mg\u001b[0m \u001b[0;34m=\u001b[0m \u001b[0mfunc_and_grad\u001b[0m\u001b[0;34m(\u001b[0m\u001b[0mx\u001b[0m\u001b[0;34m)\u001b[0m\u001b[0;34m\u001b[0m\u001b[0;34m\u001b[0m\u001b[0m\n\u001b[0m\u001b[1;32m    363\u001b[0m         \u001b[0;32melif\u001b[0m \u001b[0mtask_str\u001b[0m\u001b[0;34m.\u001b[0m\u001b[0mstartswith\u001b[0m\u001b[0;34m(\u001b[0m\u001b[0;34mb'NEW_X'\u001b[0m\u001b[0;34m)\u001b[0m\u001b[0;34m:\u001b[0m\u001b[0;34m\u001b[0m\u001b[0;34m\u001b[0m\u001b[0m\n\u001b[1;32m    364\u001b[0m             \u001b[0;31m# new iteration\u001b[0m\u001b[0;34m\u001b[0m\u001b[0;34m\u001b[0m\u001b[0;34m\u001b[0m\u001b[0m\n",
            "\u001b[0;32m/opt/conda/lib/python3.9/site-packages/scipy/optimize/_differentiable_functions.py\u001b[0m in \u001b[0;36mfun_and_grad\u001b[0;34m(self, x)\u001b[0m\n\u001b[1;32m    283\u001b[0m         \u001b[0;32mif\u001b[0m \u001b[0;32mnot\u001b[0m \u001b[0mnp\u001b[0m\u001b[0;34m.\u001b[0m\u001b[0marray_equal\u001b[0m\u001b[0;34m(\u001b[0m\u001b[0mx\u001b[0m\u001b[0;34m,\u001b[0m \u001b[0mself\u001b[0m\u001b[0;34m.\u001b[0m\u001b[0mx\u001b[0m\u001b[0;34m)\u001b[0m\u001b[0;34m:\u001b[0m\u001b[0;34m\u001b[0m\u001b[0;34m\u001b[0m\u001b[0m\n\u001b[1;32m    284\u001b[0m             \u001b[0mself\u001b[0m\u001b[0;34m.\u001b[0m\u001b[0m_update_x_impl\u001b[0m\u001b[0;34m(\u001b[0m\u001b[0mx\u001b[0m\u001b[0;34m)\u001b[0m\u001b[0;34m\u001b[0m\u001b[0;34m\u001b[0m\u001b[0m\n\u001b[0;32m--> 285\u001b[0;31m         \u001b[0mself\u001b[0m\u001b[0;34m.\u001b[0m\u001b[0m_update_fun\u001b[0m\u001b[0;34m(\u001b[0m\u001b[0;34m)\u001b[0m\u001b[0;34m\u001b[0m\u001b[0;34m\u001b[0m\u001b[0m\n\u001b[0m\u001b[1;32m    286\u001b[0m         \u001b[0mself\u001b[0m\u001b[0;34m.\u001b[0m\u001b[0m_update_grad\u001b[0m\u001b[0;34m(\u001b[0m\u001b[0;34m)\u001b[0m\u001b[0;34m\u001b[0m\u001b[0;34m\u001b[0m\u001b[0m\n\u001b[1;32m    287\u001b[0m         \u001b[0;32mreturn\u001b[0m \u001b[0mself\u001b[0m\u001b[0;34m.\u001b[0m\u001b[0mf\u001b[0m\u001b[0;34m,\u001b[0m \u001b[0mself\u001b[0m\u001b[0;34m.\u001b[0m\u001b[0mg\u001b[0m\u001b[0;34m\u001b[0m\u001b[0;34m\u001b[0m\u001b[0m\n",
            "\u001b[0;32m/opt/conda/lib/python3.9/site-packages/scipy/optimize/_differentiable_functions.py\u001b[0m in \u001b[0;36m_update_fun\u001b[0;34m(self)\u001b[0m\n\u001b[1;32m    249\u001b[0m     \u001b[0;32mdef\u001b[0m \u001b[0m_update_fun\u001b[0m\u001b[0;34m(\u001b[0m\u001b[0mself\u001b[0m\u001b[0;34m)\u001b[0m\u001b[0;34m:\u001b[0m\u001b[0;34m\u001b[0m\u001b[0;34m\u001b[0m\u001b[0m\n\u001b[1;32m    250\u001b[0m         \u001b[0;32mif\u001b[0m \u001b[0;32mnot\u001b[0m \u001b[0mself\u001b[0m\u001b[0;34m.\u001b[0m\u001b[0mf_updated\u001b[0m\u001b[0;34m:\u001b[0m\u001b[0;34m\u001b[0m\u001b[0;34m\u001b[0m\u001b[0m\n\u001b[0;32m--> 251\u001b[0;31m             \u001b[0mself\u001b[0m\u001b[0;34m.\u001b[0m\u001b[0m_update_fun_impl\u001b[0m\u001b[0;34m(\u001b[0m\u001b[0;34m)\u001b[0m\u001b[0;34m\u001b[0m\u001b[0;34m\u001b[0m\u001b[0m\n\u001b[0m\u001b[1;32m    252\u001b[0m             \u001b[0mself\u001b[0m\u001b[0;34m.\u001b[0m\u001b[0mf_updated\u001b[0m \u001b[0;34m=\u001b[0m \u001b[0;32mTrue\u001b[0m\u001b[0;34m\u001b[0m\u001b[0;34m\u001b[0m\u001b[0m\n\u001b[1;32m    253\u001b[0m \u001b[0;34m\u001b[0m\u001b[0m\n",
            "\u001b[0;32m/opt/conda/lib/python3.9/site-packages/scipy/optimize/_differentiable_functions.py\u001b[0m in \u001b[0;36mupdate_fun\u001b[0;34m()\u001b[0m\n\u001b[1;32m    153\u001b[0m \u001b[0;34m\u001b[0m\u001b[0m\n\u001b[1;32m    154\u001b[0m         \u001b[0;32mdef\u001b[0m \u001b[0mupdate_fun\u001b[0m\u001b[0;34m(\u001b[0m\u001b[0;34m)\u001b[0m\u001b[0;34m:\u001b[0m\u001b[0;34m\u001b[0m\u001b[0;34m\u001b[0m\u001b[0m\n\u001b[0;32m--> 155\u001b[0;31m             \u001b[0mself\u001b[0m\u001b[0;34m.\u001b[0m\u001b[0mf\u001b[0m \u001b[0;34m=\u001b[0m \u001b[0mfun_wrapped\u001b[0m\u001b[0;34m(\u001b[0m\u001b[0mself\u001b[0m\u001b[0;34m.\u001b[0m\u001b[0mx\u001b[0m\u001b[0;34m)\u001b[0m\u001b[0;34m\u001b[0m\u001b[0;34m\u001b[0m\u001b[0m\n\u001b[0m\u001b[1;32m    156\u001b[0m \u001b[0;34m\u001b[0m\u001b[0m\n\u001b[1;32m    157\u001b[0m         \u001b[0mself\u001b[0m\u001b[0;34m.\u001b[0m\u001b[0m_update_fun_impl\u001b[0m \u001b[0;34m=\u001b[0m \u001b[0mupdate_fun\u001b[0m\u001b[0;34m\u001b[0m\u001b[0;34m\u001b[0m\u001b[0m\n",
            "\u001b[0;32m/opt/conda/lib/python3.9/site-packages/scipy/optimize/_differentiable_functions.py\u001b[0m in \u001b[0;36mfun_wrapped\u001b[0;34m(x)\u001b[0m\n\u001b[1;32m    135\u001b[0m             \u001b[0;31m# Overwriting results in undefined behaviour because\u001b[0m\u001b[0;34m\u001b[0m\u001b[0;34m\u001b[0m\u001b[0;34m\u001b[0m\u001b[0m\n\u001b[1;32m    136\u001b[0m             \u001b[0;31m# fun(self.x) will change self.x, with the two no longer linked.\u001b[0m\u001b[0;34m\u001b[0m\u001b[0;34m\u001b[0m\u001b[0;34m\u001b[0m\u001b[0m\n\u001b[0;32m--> 137\u001b[0;31m             \u001b[0mfx\u001b[0m \u001b[0;34m=\u001b[0m \u001b[0mfun\u001b[0m\u001b[0;34m(\u001b[0m\u001b[0mnp\u001b[0m\u001b[0;34m.\u001b[0m\u001b[0mcopy\u001b[0m\u001b[0;34m(\u001b[0m\u001b[0mx\u001b[0m\u001b[0;34m)\u001b[0m\u001b[0;34m,\u001b[0m \u001b[0;34m*\u001b[0m\u001b[0margs\u001b[0m\u001b[0;34m)\u001b[0m\u001b[0;34m\u001b[0m\u001b[0;34m\u001b[0m\u001b[0m\n\u001b[0m\u001b[1;32m    138\u001b[0m             \u001b[0;31m# Make sure the function returns a true scalar\u001b[0m\u001b[0;34m\u001b[0m\u001b[0;34m\u001b[0m\u001b[0;34m\u001b[0m\u001b[0m\n\u001b[1;32m    139\u001b[0m             \u001b[0;32mif\u001b[0m \u001b[0;32mnot\u001b[0m \u001b[0mnp\u001b[0m\u001b[0;34m.\u001b[0m\u001b[0misscalar\u001b[0m\u001b[0;34m(\u001b[0m\u001b[0mfx\u001b[0m\u001b[0;34m)\u001b[0m\u001b[0;34m:\u001b[0m\u001b[0;34m\u001b[0m\u001b[0;34m\u001b[0m\u001b[0m\n",
            "\u001b[0;32m/opt/conda/lib/python3.9/site-packages/scipy/optimize/_optimize.py\u001b[0m in \u001b[0;36m__call__\u001b[0;34m(self, x, *args)\u001b[0m\n\u001b[1;32m     74\u001b[0m     \u001b[0;32mdef\u001b[0m \u001b[0m__call__\u001b[0m\u001b[0;34m(\u001b[0m\u001b[0mself\u001b[0m\u001b[0;34m,\u001b[0m \u001b[0mx\u001b[0m\u001b[0;34m,\u001b[0m \u001b[0;34m*\u001b[0m\u001b[0margs\u001b[0m\u001b[0;34m)\u001b[0m\u001b[0;34m:\u001b[0m\u001b[0;34m\u001b[0m\u001b[0;34m\u001b[0m\u001b[0m\n\u001b[1;32m     75\u001b[0m         \u001b[0;34m\"\"\" returns the the function value \"\"\"\u001b[0m\u001b[0;34m\u001b[0m\u001b[0;34m\u001b[0m\u001b[0m\n\u001b[0;32m---> 76\u001b[0;31m         \u001b[0mself\u001b[0m\u001b[0;34m.\u001b[0m\u001b[0m_compute_if_needed\u001b[0m\u001b[0;34m(\u001b[0m\u001b[0mx\u001b[0m\u001b[0;34m,\u001b[0m \u001b[0;34m*\u001b[0m\u001b[0margs\u001b[0m\u001b[0;34m)\u001b[0m\u001b[0;34m\u001b[0m\u001b[0;34m\u001b[0m\u001b[0m\n\u001b[0m\u001b[1;32m     77\u001b[0m         \u001b[0;32mreturn\u001b[0m \u001b[0mself\u001b[0m\u001b[0;34m.\u001b[0m\u001b[0m_value\u001b[0m\u001b[0;34m\u001b[0m\u001b[0;34m\u001b[0m\u001b[0m\n\u001b[1;32m     78\u001b[0m \u001b[0;34m\u001b[0m\u001b[0m\n",
            "\u001b[0;32m/opt/conda/lib/python3.9/site-packages/scipy/optimize/_optimize.py\u001b[0m in \u001b[0;36m_compute_if_needed\u001b[0;34m(self, x, *args)\u001b[0m\n\u001b[1;32m     68\u001b[0m         \u001b[0;32mif\u001b[0m \u001b[0;32mnot\u001b[0m \u001b[0mnp\u001b[0m\u001b[0;34m.\u001b[0m\u001b[0mall\u001b[0m\u001b[0;34m(\u001b[0m\u001b[0mx\u001b[0m \u001b[0;34m==\u001b[0m \u001b[0mself\u001b[0m\u001b[0;34m.\u001b[0m\u001b[0mx\u001b[0m\u001b[0;34m)\u001b[0m \u001b[0;32mor\u001b[0m \u001b[0mself\u001b[0m\u001b[0;34m.\u001b[0m\u001b[0m_value\u001b[0m \u001b[0;32mis\u001b[0m \u001b[0;32mNone\u001b[0m \u001b[0;32mor\u001b[0m \u001b[0mself\u001b[0m\u001b[0;34m.\u001b[0m\u001b[0mjac\u001b[0m \u001b[0;32mis\u001b[0m \u001b[0;32mNone\u001b[0m\u001b[0;34m:\u001b[0m\u001b[0;34m\u001b[0m\u001b[0;34m\u001b[0m\u001b[0m\n\u001b[1;32m     69\u001b[0m             \u001b[0mself\u001b[0m\u001b[0;34m.\u001b[0m\u001b[0mx\u001b[0m \u001b[0;34m=\u001b[0m \u001b[0mnp\u001b[0m\u001b[0;34m.\u001b[0m\u001b[0masarray\u001b[0m\u001b[0;34m(\u001b[0m\u001b[0mx\u001b[0m\u001b[0;34m)\u001b[0m\u001b[0;34m.\u001b[0m\u001b[0mcopy\u001b[0m\u001b[0;34m(\u001b[0m\u001b[0;34m)\u001b[0m\u001b[0;34m\u001b[0m\u001b[0;34m\u001b[0m\u001b[0m\n\u001b[0;32m---> 70\u001b[0;31m             \u001b[0mfg\u001b[0m \u001b[0;34m=\u001b[0m \u001b[0mself\u001b[0m\u001b[0;34m.\u001b[0m\u001b[0mfun\u001b[0m\u001b[0;34m(\u001b[0m\u001b[0mx\u001b[0m\u001b[0;34m,\u001b[0m \u001b[0;34m*\u001b[0m\u001b[0margs\u001b[0m\u001b[0;34m)\u001b[0m\u001b[0;34m\u001b[0m\u001b[0;34m\u001b[0m\u001b[0m\n\u001b[0m\u001b[1;32m     71\u001b[0m             \u001b[0mself\u001b[0m\u001b[0;34m.\u001b[0m\u001b[0mjac\u001b[0m \u001b[0;34m=\u001b[0m \u001b[0mfg\u001b[0m\u001b[0;34m[\u001b[0m\u001b[0;36m1\u001b[0m\u001b[0;34m]\u001b[0m\u001b[0;34m\u001b[0m\u001b[0;34m\u001b[0m\u001b[0m\n\u001b[1;32m     72\u001b[0m             \u001b[0mself\u001b[0m\u001b[0;34m.\u001b[0m\u001b[0m_value\u001b[0m \u001b[0;34m=\u001b[0m \u001b[0mfg\u001b[0m\u001b[0;34m[\u001b[0m\u001b[0;36m0\u001b[0m\u001b[0;34m]\u001b[0m\u001b[0;34m\u001b[0m\u001b[0;34m\u001b[0m\u001b[0m\n",
            "\u001b[0;32m/opt/conda/lib/python3.9/site-packages/sklearn/linear_model/_linear_loss.py\u001b[0m in \u001b[0;36mloss_gradient\u001b[0;34m(self, coef, X, y, sample_weight, l2_reg_strength, n_threads, raw_prediction)\u001b[0m\n\u001b[1;32m    272\u001b[0m \u001b[0;34m\u001b[0m\u001b[0m\n\u001b[1;32m    273\u001b[0m         \u001b[0;32mif\u001b[0m \u001b[0mraw_prediction\u001b[0m \u001b[0;32mis\u001b[0m \u001b[0;32mNone\u001b[0m\u001b[0;34m:\u001b[0m\u001b[0;34m\u001b[0m\u001b[0;34m\u001b[0m\u001b[0m\n\u001b[0;32m--> 274\u001b[0;31m             \u001b[0mweights\u001b[0m\u001b[0;34m,\u001b[0m \u001b[0mintercept\u001b[0m\u001b[0;34m,\u001b[0m \u001b[0mraw_prediction\u001b[0m \u001b[0;34m=\u001b[0m \u001b[0mself\u001b[0m\u001b[0;34m.\u001b[0m\u001b[0mweight_intercept_raw\u001b[0m\u001b[0;34m(\u001b[0m\u001b[0mcoef\u001b[0m\u001b[0;34m,\u001b[0m \u001b[0mX\u001b[0m\u001b[0;34m)\u001b[0m\u001b[0;34m\u001b[0m\u001b[0;34m\u001b[0m\u001b[0m\n\u001b[0m\u001b[1;32m    275\u001b[0m         \u001b[0;32melse\u001b[0m\u001b[0;34m:\u001b[0m\u001b[0;34m\u001b[0m\u001b[0;34m\u001b[0m\u001b[0m\n\u001b[1;32m    276\u001b[0m             \u001b[0mweights\u001b[0m\u001b[0;34m,\u001b[0m \u001b[0mintercept\u001b[0m \u001b[0;34m=\u001b[0m \u001b[0mself\u001b[0m\u001b[0;34m.\u001b[0m\u001b[0mweight_intercept\u001b[0m\u001b[0;34m(\u001b[0m\u001b[0mcoef\u001b[0m\u001b[0;34m)\u001b[0m\u001b[0;34m\u001b[0m\u001b[0;34m\u001b[0m\u001b[0m\n",
            "\u001b[0;32m/opt/conda/lib/python3.9/site-packages/sklearn/linear_model/_linear_loss.py\u001b[0m in \u001b[0;36mweight_intercept_raw\u001b[0;34m(self, coef, X)\u001b[0m\n\u001b[1;32m    160\u001b[0m \u001b[0;34m\u001b[0m\u001b[0m\n\u001b[1;32m    161\u001b[0m         \u001b[0;32mif\u001b[0m \u001b[0;32mnot\u001b[0m \u001b[0mself\u001b[0m\u001b[0;34m.\u001b[0m\u001b[0mbase_loss\u001b[0m\u001b[0;34m.\u001b[0m\u001b[0mis_multiclass\u001b[0m\u001b[0;34m:\u001b[0m\u001b[0;34m\u001b[0m\u001b[0;34m\u001b[0m\u001b[0m\n\u001b[0;32m--> 162\u001b[0;31m             \u001b[0mraw_prediction\u001b[0m \u001b[0;34m=\u001b[0m \u001b[0mX\u001b[0m \u001b[0;34m@\u001b[0m \u001b[0mweights\u001b[0m \u001b[0;34m+\u001b[0m \u001b[0mintercept\u001b[0m\u001b[0;34m\u001b[0m\u001b[0;34m\u001b[0m\u001b[0m\n\u001b[0m\u001b[1;32m    163\u001b[0m         \u001b[0;32melse\u001b[0m\u001b[0;34m:\u001b[0m\u001b[0;34m\u001b[0m\u001b[0;34m\u001b[0m\u001b[0m\n\u001b[1;32m    164\u001b[0m             \u001b[0;31m# weights has shape (n_classes, n_dof)\u001b[0m\u001b[0;34m\u001b[0m\u001b[0;34m\u001b[0m\u001b[0;34m\u001b[0m\u001b[0m\n",
            "\u001b[0;31mKeyboardInterrupt\u001b[0m: "
          ]
        }
      ],
      "source": [
        "warnings.filterwarnings(\"ignore\")\n",
        "\n",
        "lr = LogisticRegression(max_iter=100)\n",
        "\n",
        "lr.fit(X_train, y_train)\n",
        "\n",
        "lr_f1 = cross_val_score(lr, X_train, y_train, cv=5, scoring='f1').mean()\n",
        "print(lr_f1)\n",
        "\n",
        "# lr_pred = lr.predict(X_test)\n",
        "# f1_score(y_test, lr_pred)"
      ]
    },
    {
      "cell_type": "markdown",
      "id": "718e278c",
      "metadata": {
        "id": "718e278c"
      },
      "source": [
        "Подберем гиперпараметры для модели"
      ]
    },
    {
      "cell_type": "code",
      "execution_count": null,
      "id": "740157dd",
      "metadata": {
        "id": "740157dd"
      },
      "outputs": [],
      "source": [
        "%%time\n",
        "\n",
        "warnings.filterwarnings(\"ignore\")\n",
        "\n",
        "\n",
        "lr_grid = {'max_iter': [500],\n",
        "           'penalty': ['l2'],\n",
        "           'C': [.3, .6, 1]}\n",
        "\n",
        "cv_lr = GridSearchCV(estimator=LogisticRegression(), param_grid=lr_grid, scoring='f1', cv=3)\n",
        "\n",
        "cv_lr.fit(X_train, y_train)"
      ]
    },
    {
      "cell_type": "code",
      "execution_count": null,
      "id": "bea4a024",
      "metadata": {
        "id": "bea4a024"
      },
      "outputs": [],
      "source": [
        "pd.DataFrame(cv_lr.cv_results_).sort_values('rank_test_score')[['rank_test_score', 'params', 'mean_test_score']]"
      ]
    },
    {
      "cell_type": "code",
      "execution_count": null,
      "id": "13eca8a0",
      "metadata": {
        "id": "13eca8a0"
      },
      "outputs": [],
      "source": [
        "# Пободрали оптимальные параметры, посмотрим как покажет себя модель на тестовой подвыборке"
      ]
    },
    {
      "cell_type": "code",
      "execution_count": null,
      "id": "ac73ace1",
      "metadata": {
        "id": "ac73ace1"
      },
      "outputs": [],
      "source": [
        "lr_best = LogisticRegression(C=.3, max_iter=500, penalty='l2')\n",
        "\n",
        "lr_best.fit(X_train, y_train)\n",
        "lr_pred = lr_best.predict(X_test) # пригодится для последующей проверки качества на тестовой выборке"
      ]
    },
    {
      "cell_type": "markdown",
      "id": "8bd9177c",
      "metadata": {
        "id": "8bd9177c"
      },
      "source": [
        "Глобально метрика не изменилась, да и результаты модели не сильно показательные, посмотрим, как справятся остальные"
      ]
    },
    {
      "cell_type": "markdown",
      "id": "3af35487",
      "metadata": {
        "id": "3af35487"
      },
      "source": [
        "#### CatBoost"
      ]
    },
    {
      "cell_type": "code",
      "execution_count": null,
      "id": "897ec504",
      "metadata": {
        "id": "897ec504"
      },
      "outputs": [],
      "source": [
        "ctb_model = CatBoostClassifier(learning_rate=.01,\n",
        "                               iterations=500,\n",
        "                               depth=6,\n",
        "                               eval_metric='F1',\n",
        "                               l2_leaf_reg= 3.5)"
      ]
    },
    {
      "cell_type": "code",
      "execution_count": null,
      "id": "a841e05c",
      "metadata": {
        "id": "a841e05c"
      },
      "outputs": [],
      "source": [
        "train = Pool(X_train, y_train)\n",
        "\n",
        "ctb_model.fit(train, plot=True)\n"
      ]
    },
    {
      "cell_type": "code",
      "execution_count": null,
      "id": "cec07b45",
      "metadata": {
        "id": "cec07b45"
      },
      "outputs": [],
      "source": [
        "cross_val_score(ctb_model, X_train, y_train, cv=5, scoring='f1').mean()"
      ]
    },
    {
      "cell_type": "markdown",
      "id": "c189adc8",
      "metadata": {
        "id": "c189adc8"
      },
      "source": [
        "Подберем гиперпараметры для модели"
      ]
    },
    {
      "cell_type": "code",
      "execution_count": null,
      "id": "6b351bce",
      "metadata": {
        "id": "6b351bce"
      },
      "outputs": [],
      "source": [
        "%%time\n",
        "\n",
        "cat = CatBoostClassifier(eval_metric='F1')\n",
        "\n",
        "grid = {'learning_rate': [0.03, 0.1],\n",
        "        'depth': [6, 10],\n",
        "        'l2_leaf_reg': [5, 9]}\n",
        "\n",
        "grid_search_result = cat.grid_search(grid, X=X_train, y=y_train, plot=True)"
      ]
    },
    {
      "cell_type": "code",
      "execution_count": null,
      "id": "ed6d7f2b",
      "metadata": {
        "scrolled": true,
        "id": "ed6d7f2b"
      },
      "outputs": [],
      "source": [
        "best_params_cat = grid_search_result['params']\n",
        "\n",
        "print(best_params_cat)"
      ]
    },
    {
      "cell_type": "code",
      "execution_count": null,
      "id": "34618299",
      "metadata": {
        "id": "34618299"
      },
      "outputs": [],
      "source": [
        "grid_search_result['cv_results'].keys()"
      ]
    },
    {
      "cell_type": "code",
      "execution_count": null,
      "id": "a6ee4f87",
      "metadata": {
        "id": "a6ee4f87"
      },
      "outputs": [],
      "source": [
        "ctb_f1 = max(grid_search_result['cv_results']['test-F1-mean'])\n",
        "ctb_f1"
      ]
    },
    {
      "cell_type": "markdown",
      "id": "57be56d7",
      "metadata": {
        "id": "57be56d7"
      },
      "source": [
        "Модель показала не самый лучший результат\n",
        "\n",
        "Проверим следующую модель"
      ]
    },
    {
      "cell_type": "code",
      "execution_count": null,
      "id": "45594c40",
      "metadata": {
        "id": "45594c40"
      },
      "outputs": [],
      "source": [
        "rfc = RandomForestClassifier(random_state=213)"
      ]
    },
    {
      "cell_type": "code",
      "execution_count": null,
      "id": "a2375da2",
      "metadata": {
        "id": "a2375da2"
      },
      "outputs": [],
      "source": [
        "rfc.fit(X_train, y_train)\n",
        "\n",
        "rfc_f1 = cross_val_score(rfc, X_train, y_train, cv=5, scoring='f1').mean()\n",
        "print(rfc_f1)"
      ]
    },
    {
      "cell_type": "markdown",
      "id": "d9f2c77f",
      "metadata": {
        "id": "d9f2c77f"
      },
      "source": [
        "Подберем параметры модели"
      ]
    },
    {
      "cell_type": "code",
      "execution_count": null,
      "id": "c59654a5",
      "metadata": {
        "id": "c59654a5"
      },
      "outputs": [],
      "source": [
        "%%time\n",
        "\n",
        "params = {'n_estimators': [50, 100],\n",
        "         'max_depth': [None, 10]}\n",
        "\n",
        "cv_forest = GridSearchCV(estimator=RandomForestClassifier(), param_grid=params, scoring='f1')\n",
        "cv_forest.fit(X_train, y_train)"
      ]
    },
    {
      "cell_type": "code",
      "execution_count": null,
      "id": "b79ddbf7",
      "metadata": {
        "id": "b79ddbf7"
      },
      "outputs": [],
      "source": [
        "cv_info = pd.DataFrame(cv_forest.cv_results_).sort_values('rank_test_score')[['rank_test_score', 'params', 'mean_test_score']]\n",
        "cv_info"
      ]
    },
    {
      "cell_type": "code",
      "execution_count": null,
      "id": "1682104c",
      "metadata": {
        "id": "1682104c"
      },
      "outputs": [],
      "source": [
        "cv_forest.best_params_"
      ]
    },
    {
      "cell_type": "code",
      "execution_count": null,
      "id": "2c76c2a9",
      "metadata": {
        "id": "2c76c2a9"
      },
      "outputs": [],
      "source": [
        "rfc_f1 = cv_info['mean_test_score'].max()\n",
        "rfc_f1"
      ]
    },
    {
      "cell_type": "markdown",
      "id": "cf499a3f",
      "metadata": {
        "id": "cf499a3f"
      },
      "source": [
        "#### Микровывод"
      ]
    },
    {
      "cell_type": "markdown",
      "id": "7d4d1254",
      "metadata": {
        "id": "7d4d1254"
      },
      "source": [
        "Соберем результаты работы моделей при кросс-валидации в одну таблицу"
      ]
    },
    {
      "cell_type": "code",
      "execution_count": null,
      "id": "8519452b",
      "metadata": {
        "id": "8519452b"
      },
      "outputs": [],
      "source": [
        "data = {'model': ['log_reg', 'grad_boost', 'random_forest'],\n",
        "        'f1_score_cross_val': [lr_f1, ctb_f1, rfc_f1]}\n",
        "\n",
        "models_results = pd.DataFrame(data)\n",
        "models_results"
      ]
    },
    {
      "cell_type": "markdown",
      "id": "ecf19d42",
      "metadata": {
        "id": "ecf19d42"
      },
      "source": [
        "Лучше всех (но все равно не достаточно хорошо) себя показал алгоритм логистической регрессии. \n",
        "\n",
        "Далее анализ и вывод будем строить именно по этой модели"
      ]
    },
    {
      "cell_type": "markdown",
      "id": "e50c1b1c",
      "metadata": {
        "id": "e50c1b1c"
      },
      "source": [
        "Результат выбранной модели на тестовой выборке"
      ]
    },
    {
      "cell_type": "code",
      "execution_count": null,
      "id": "9b22a80f",
      "metadata": {
        "id": "9b22a80f"
      },
      "outputs": [],
      "source": [
        "f1_score(y_test, lr_pred)"
      ]
    },
    {
      "cell_type": "markdown",
      "id": "85b4520c",
      "metadata": {
        "id": "85b4520c"
      },
      "source": [
        "## Выводы"
      ]
    },
    {
      "cell_type": "markdown",
      "id": "20dd8804",
      "metadata": {
        "id": "20dd8804"
      },
      "source": [
        "### Анализ модели"
      ]
    },
    {
      "cell_type": "markdown",
      "id": "8e7b4218",
      "metadata": {
        "id": "8e7b4218"
      },
      "source": [
        "Проанализируем матрицу ошибок\n"
      ]
    },
    {
      "cell_type": "code",
      "execution_count": null,
      "id": "4ccf4a0d",
      "metadata": {
        "id": "4ccf4a0d"
      },
      "outputs": [],
      "source": [
        "conf_m = confusion_matrix(y_test, lr_pred)"
      ]
    },
    {
      "cell_type": "code",
      "execution_count": null,
      "id": "2e8221bc",
      "metadata": {
        "id": "2e8221bc"
      },
      "outputs": [],
      "source": [
        "plt.figure(figsize = (10,8))\n",
        "plt.text(0, -0.13, f'Precision: {round(precision_score(y_test, lr_pred), 3)}', fontsize=14)\n",
        "plt.text(0.6, -0.13, f'Recall: {round(recall_score(y_test, lr_pred), 3)}', fontsize=14)\n",
        "\n",
        "classes = [\"True Negative\",\"False Positive\",\"False Negative\",\"True Positive\"]\n",
        "\n",
        "values = [\"{0:0.0f}\".format(x) for x in conf_m.flatten()]\n",
        "\n",
        "percentages = [\"{0:.1%}\".format(x) for x in conf_m.flatten()/np.sum(conf_m)]\n",
        "\n",
        "combined = [f\"{i}\\n{j}\\n{k}\" for i, j, k in zip(classes, values, percentages)]\n",
        "combined = np.asarray(combined).reshape(2,2)\n",
        "\n",
        "b = sns.heatmap(conf_m, annot=combined, fmt='', cmap='YlGnBu')\n",
        "\n",
        "b.set(title='Confusion Matrix')\n",
        "\n",
        "b.set(xlabel='Predicted', ylabel='Actual')"
      ]
    },
    {
      "cell_type": "markdown",
      "id": "fd70d68c",
      "metadata": {
        "id": "fd70d68c"
      },
      "source": [
        "Из построенной матрицы ошибок видно, что модель лучше предсказывает `0` класс, не часто ошибается, предсказвая его.\n",
        "Тем не менее с полложительным классом она справляется не очень хорошо.\n",
        "\n",
        "Соответственно точность модели явно лучше полноты"
      ]
    },
    {
      "cell_type": "markdown",
      "id": "f717f4c9",
      "metadata": {
        "id": "f717f4c9"
      },
      "source": [
        "Посмотрим на наиболее влиятельные признаки, которые выделила модель"
      ]
    },
    {
      "cell_type": "code",
      "execution_count": null,
      "id": "d8d180c8",
      "metadata": {
        "id": "d8d180c8"
      },
      "outputs": [],
      "source": [
        "df.columns"
      ]
    },
    {
      "cell_type": "code",
      "execution_count": null,
      "id": "bd51cb32",
      "metadata": {
        "id": "bd51cb32"
      },
      "outputs": [],
      "source": [
        "lr_coefs = lr_best.coef_\n",
        "best_coefs = np.argsort(lr_coefs)[:, :5][0]\n",
        "print(best_coefs)\n",
        "\n",
        "df_dum = pd.get_dummies(df.drop('at_fault', axis=1), drop_first=True, columns=df.drop('at_fault', axis=1).columns.drop(['vehicle_age']))\n",
        "most_imp_features = list(df_dum[df_dum.columns[best_coefs]].columns)\n",
        "\n",
        "most_imp_features"
      ]
    },
    {
      "cell_type": "markdown",
      "id": "4e2846d3",
      "metadata": {
        "id": "4e2846d3"
      },
      "source": [
        "Как видно, в наиболее важные для модели признаки попали фичи, описывающие плохое состояние водителя и определеное место.\n",
        "\n",
        "Если с первыми тремя все очевидно, то с локацией не все так однозначно.\n",
        "\n",
        "Исследуем зависимость целевой переменной от `party_sobriety_impairment unknown`"
      ]
    },
    {
      "cell_type": "code",
      "execution_count": null,
      "id": "36fc6b76",
      "metadata": {
        "id": "36fc6b76"
      },
      "outputs": [],
      "source": [
        "loc_modoc = df[df['county_location'] == 'modoc']\n",
        "\n",
        "plt.hist(loc_modoc['at_fault'])\n",
        "plt.title('Зависимость количества ДТП\\n в локации modoc')\n",
        "plt.grid()\n",
        "plt.show()"
      ]
    },
    {
      "cell_type": "code",
      "execution_count": null,
      "id": "996e2ce2",
      "metadata": {
        "id": "996e2ce2"
      },
      "outputs": [],
      "source": [
        "perc = round(loc_modoc[loc_modoc['at_fault'] == 1]['at_fault'].count() / len(loc_modoc), 2)\n",
        "print(f'Дтп в {perc * 100}% случаев')"
      ]
    },
    {
      "cell_type": "markdown",
      "id": "55369099",
      "metadata": {
        "id": "55369099"
      },
      "source": [
        "Из графика видно, что в месте под название `modoc`, аварии менее вероятны. По всей видимости это маленький городок, судя по количетву случаев. Для того, чтобы убедиться в этом построим аналогичную столбчатую диаграмму для других городов."
      ]
    },
    {
      "cell_type": "code",
      "execution_count": null,
      "id": "2ea7c36a",
      "metadata": {
        "id": "2ea7c36a"
      },
      "outputs": [],
      "source": [
        "loc_la = df[df['county_location'] == 'los angeles']\n",
        "\n",
        "plt.hist(loc_la['at_fault'])\n",
        "plt.title('Зависимость количества ДТП\\n в локации los angeles')\n",
        "plt.grid()\n",
        "plt.show()\n",
        "\n",
        "loc_orange = df[df['county_location'] == 'orange']\n",
        "\n",
        "plt.hist(loc_orange['at_fault'])\n",
        "plt.title('Зависимость количества ДТП\\n в локации orange')\n",
        "plt.grid()\n",
        "plt.show()"
      ]
    },
    {
      "cell_type": "markdown",
      "id": "dd501ba3",
      "metadata": {
        "id": "dd501ba3"
      },
      "source": [
        "На этих графиках уже видно, что и дтп больше, и баланс классов более ровный, нельзя однозначно сказать, что тот или иной класс преобладает"
      ]
    },
    {
      "cell_type": "markdown",
      "id": "d1ca4111",
      "metadata": {
        "id": "d1ca4111"
      },
      "source": [
        "Формально, для того, чтобы получить информацию о городе, в котором был взят автомобил достаточно иметь GPS трекер не нем. Насколько мне известно, сейчас все каршеринги и так оборудованы какими-либо системами отслеживания геопозиции. Поэтому для решения задачи определения местоположения нет необходимость дополнительно оснащать автомобиль."
      ]
    },
    {
      "cell_type": "markdown",
      "id": "bf1bb6a5",
      "metadata": {
        "id": "bf1bb6a5"
      },
      "source": [
        "### Общий вывод"
      ]
    },
    {
      "cell_type": "markdown",
      "id": "e2f1a9a0",
      "metadata": {
        "id": "e2f1a9a0"
      },
      "source": [
        "В ходе работы над проектом выявили модель, которая показывает наилучшую метрику F1 как на тренировочном наборе данных, так и на тестовом.\n",
        "\n",
        "Ей оказалась `логистическая регрессия` с гиперпараметрами C = 0.3, max_iter = 500, penalty = l2.\n",
        "\n",
        "Однако модель нельзя назвать хорошей. Значение метрики, которе она показала, оказалось хуже, чем то, что показывает константная модель. Исходя из этого можно сделать вывод, что предсказания такой модели не достаточно хороши, чтобы ее использовать. \n",
        "\n",
        "С теми данными, которые сейчас имеются создать адекватную систему оценки вероятности ДТП пока не удалось. Я считаю, что для более достойной работы модели необходимо больше данных о водителе.\n",
        "\n",
        "Например, такие факторы как стаж (не зря в страховых компаниях этот фактор явлется одним из основных), история использования каршеринга, формальный критерий, описывающий безопасность вождения (на сколько средняя скорость водителя отличается от средней скорости потока, можно сделать на основе данных использоания того же каршеринга или навигатора) и многие другие факторы могут помочь в улучшении работы моделей."
      ]
    }
  ],
  "metadata": {
    "ExecuteTimeLog": [
      {
        "duration": 52,
        "start_time": "2023-03-20T07:55:50.816Z"
      },
      {
        "duration": 1428,
        "start_time": "2023-03-20T07:55:55.294Z"
      },
      {
        "duration": 4,
        "start_time": "2023-03-20T07:57:43.757Z"
      },
      {
        "duration": 4907,
        "start_time": "2023-03-20T07:58:49.302Z"
      },
      {
        "duration": 3,
        "start_time": "2023-03-20T08:49:41.224Z"
      },
      {
        "duration": 4,
        "start_time": "2023-03-20T08:49:42.201Z"
      },
      {
        "duration": 4,
        "start_time": "2023-03-20T08:49:44.876Z"
      },
      {
        "duration": 3579,
        "start_time": "2023-03-20T08:53:39.497Z"
      },
      {
        "duration": 10392,
        "start_time": "2023-03-20T08:55:12.788Z"
      },
      {
        "duration": 185,
        "start_time": "2023-03-20T08:55:25.867Z"
      },
      {
        "duration": 15996,
        "start_time": "2023-03-20T08:55:43.904Z"
      },
      {
        "duration": 68,
        "start_time": "2023-03-20T09:05:19.697Z"
      },
      {
        "duration": 61,
        "start_time": "2023-03-20T09:05:40.519Z"
      },
      {
        "duration": 82,
        "start_time": "2023-03-20T09:06:23.347Z"
      },
      {
        "duration": 217,
        "start_time": "2023-03-20T09:06:39.530Z"
      },
      {
        "duration": 158,
        "start_time": "2023-03-20T09:09:43.409Z"
      },
      {
        "duration": 148,
        "start_time": "2023-03-20T09:09:56.343Z"
      },
      {
        "duration": 175,
        "start_time": "2023-03-20T09:14:54.605Z"
      },
      {
        "duration": 84,
        "start_time": "2023-03-20T10:04:15.982Z"
      },
      {
        "duration": 78,
        "start_time": "2023-03-20T10:04:43.865Z"
      },
      {
        "duration": 508,
        "start_time": "2023-03-20T10:05:09.865Z"
      },
      {
        "duration": 5652,
        "start_time": "2023-03-20T10:05:57.567Z"
      },
      {
        "duration": 3838,
        "start_time": "2023-03-20T10:06:04.002Z"
      },
      {
        "duration": 3094,
        "start_time": "2023-03-20T10:07:59.764Z"
      },
      {
        "duration": 859,
        "start_time": "2023-03-20T10:08:30.917Z"
      },
      {
        "duration": 1194,
        "start_time": "2023-03-20T11:26:55.355Z"
      },
      {
        "duration": 3,
        "start_time": "2023-03-20T11:26:56.551Z"
      },
      {
        "duration": 5070,
        "start_time": "2023-03-20T11:26:56.555Z"
      },
      {
        "duration": 3176,
        "start_time": "2023-03-20T11:27:01.627Z"
      },
      {
        "duration": 10356,
        "start_time": "2023-03-20T11:27:04.805Z"
      },
      {
        "duration": 15106,
        "start_time": "2023-03-20T11:27:15.163Z"
      },
      {
        "duration": 209,
        "start_time": "2023-03-20T11:27:30.271Z"
      },
      {
        "duration": 126,
        "start_time": "2023-03-20T11:27:30.482Z"
      },
      {
        "duration": 172,
        "start_time": "2023-03-20T11:27:30.609Z"
      },
      {
        "duration": 75,
        "start_time": "2023-03-20T11:33:58.734Z"
      },
      {
        "duration": 3069,
        "start_time": "2023-03-20T11:34:10.048Z"
      },
      {
        "duration": 8981,
        "start_time": "2023-03-20T11:34:43.254Z"
      },
      {
        "duration": 8011,
        "start_time": "2023-03-20T11:37:13.663Z"
      },
      {
        "duration": 3267,
        "start_time": "2023-03-20T11:37:43.716Z"
      },
      {
        "duration": 2055,
        "start_time": "2023-03-20T11:38:05.825Z"
      },
      {
        "duration": 4470,
        "start_time": "2023-03-20T11:38:37.978Z"
      },
      {
        "duration": 65,
        "start_time": "2023-03-20T11:38:51.532Z"
      },
      {
        "duration": 61,
        "start_time": "2023-03-20T11:38:56.092Z"
      },
      {
        "duration": 2021,
        "start_time": "2023-03-20T11:38:58.339Z"
      },
      {
        "duration": 5489,
        "start_time": "2023-03-20T11:39:37.297Z"
      },
      {
        "duration": 4297,
        "start_time": "2023-03-20T11:39:52.052Z"
      },
      {
        "duration": 108,
        "start_time": "2023-03-20T11:40:09.730Z"
      },
      {
        "duration": 185,
        "start_time": "2023-03-20T11:40:18.466Z"
      },
      {
        "duration": 75,
        "start_time": "2023-03-20T11:40:45.169Z"
      },
      {
        "duration": 74,
        "start_time": "2023-03-20T11:41:10.624Z"
      },
      {
        "duration": 77,
        "start_time": "2023-03-20T11:41:21.696Z"
      },
      {
        "duration": 1436,
        "start_time": "2023-03-20T11:42:19.646Z"
      },
      {
        "duration": 113,
        "start_time": "2023-03-20T11:44:21.869Z"
      },
      {
        "duration": 3073,
        "start_time": "2023-03-20T11:44:31.096Z"
      },
      {
        "duration": 82,
        "start_time": "2023-03-20T11:45:03.543Z"
      },
      {
        "duration": 59,
        "start_time": "2023-03-20T11:45:19.377Z"
      },
      {
        "duration": 68,
        "start_time": "2023-03-20T11:45:23.053Z"
      },
      {
        "duration": 84,
        "start_time": "2023-03-20T11:45:41.490Z"
      },
      {
        "duration": 2837,
        "start_time": "2023-03-20T11:45:55.672Z"
      },
      {
        "duration": 150,
        "start_time": "2023-03-20T11:46:02.533Z"
      },
      {
        "duration": 149,
        "start_time": "2023-03-20T11:46:26.317Z"
      },
      {
        "duration": 123,
        "start_time": "2023-03-20T11:46:30.374Z"
      },
      {
        "duration": 63,
        "start_time": "2023-03-20T11:48:54.306Z"
      },
      {
        "duration": 60,
        "start_time": "2023-03-20T11:49:01.802Z"
      },
      {
        "duration": 68,
        "start_time": "2023-03-20T11:49:53.744Z"
      },
      {
        "duration": 91,
        "start_time": "2023-03-20T11:50:02.604Z"
      },
      {
        "duration": 3501,
        "start_time": "2023-03-20T11:50:12.401Z"
      },
      {
        "duration": 3442,
        "start_time": "2023-03-20T11:50:16.570Z"
      },
      {
        "duration": 3635,
        "start_time": "2023-03-20T11:50:23.351Z"
      },
      {
        "duration": 2,
        "start_time": "2023-03-20T11:52:30.701Z"
      },
      {
        "duration": 61,
        "start_time": "2023-03-20T13:06:40.187Z"
      },
      {
        "duration": 45,
        "start_time": "2023-03-20T13:06:42.554Z"
      },
      {
        "duration": 50,
        "start_time": "2023-03-20T13:07:21.684Z"
      },
      {
        "duration": 1183,
        "start_time": "2023-03-20T13:07:54.925Z"
      },
      {
        "duration": 190,
        "start_time": "2023-03-20T13:08:06.624Z"
      },
      {
        "duration": 586,
        "start_time": "2023-03-20T13:08:13.094Z"
      },
      {
        "duration": 594,
        "start_time": "2023-03-20T13:08:21.154Z"
      },
      {
        "duration": 761,
        "start_time": "2023-03-20T13:09:19.033Z"
      },
      {
        "duration": 755,
        "start_time": "2023-03-20T13:09:34.075Z"
      },
      {
        "duration": 754,
        "start_time": "2023-03-20T13:09:42.757Z"
      },
      {
        "duration": 759,
        "start_time": "2023-03-20T13:09:55.875Z"
      },
      {
        "duration": 812,
        "start_time": "2023-03-20T13:09:58.522Z"
      },
      {
        "duration": 761,
        "start_time": "2023-03-20T13:10:25.553Z"
      },
      {
        "duration": 1225,
        "start_time": "2023-03-20T13:10:32.024Z"
      },
      {
        "duration": 1118,
        "start_time": "2023-03-20T13:10:38.915Z"
      },
      {
        "duration": 1140,
        "start_time": "2023-03-20T13:11:01.204Z"
      },
      {
        "duration": 1190,
        "start_time": "2023-03-20T13:11:35.296Z"
      },
      {
        "duration": 1359,
        "start_time": "2023-03-20T13:13:08.754Z"
      },
      {
        "duration": 77,
        "start_time": "2023-03-20T13:14:05.323Z"
      },
      {
        "duration": 75,
        "start_time": "2023-03-20T13:14:12.720Z"
      },
      {
        "duration": 74,
        "start_time": "2023-03-20T13:14:36.583Z"
      },
      {
        "duration": 265,
        "start_time": "2023-03-20T13:15:11.152Z"
      },
      {
        "duration": 1399,
        "start_time": "2023-03-20T13:15:29.048Z"
      },
      {
        "duration": 1430,
        "start_time": "2023-03-20T13:16:58.151Z"
      },
      {
        "duration": 70,
        "start_time": "2023-03-20T13:30:00.580Z"
      },
      {
        "duration": 1188,
        "start_time": "2023-03-20T13:31:54.088Z"
      },
      {
        "duration": 3,
        "start_time": "2023-03-20T13:31:55.278Z"
      },
      {
        "duration": 5220,
        "start_time": "2023-03-20T13:31:55.282Z"
      },
      {
        "duration": 3238,
        "start_time": "2023-03-20T13:32:00.505Z"
      },
      {
        "duration": 9758,
        "start_time": "2023-03-20T13:32:03.744Z"
      },
      {
        "duration": 14989,
        "start_time": "2023-03-20T13:32:13.504Z"
      },
      {
        "duration": 209,
        "start_time": "2023-03-20T13:32:28.495Z"
      },
      {
        "duration": 135,
        "start_time": "2023-03-20T13:32:28.706Z"
      },
      {
        "duration": 2911,
        "start_time": "2023-03-20T13:32:28.843Z"
      },
      {
        "duration": 1323,
        "start_time": "2023-03-20T13:32:31.757Z"
      },
      {
        "duration": 44,
        "start_time": "2023-03-20T13:33:16.335Z"
      },
      {
        "duration": 1157,
        "start_time": "2023-03-20T13:33:20.680Z"
      },
      {
        "duration": 3,
        "start_time": "2023-03-20T13:33:21.840Z"
      },
      {
        "duration": 4700,
        "start_time": "2023-03-20T13:33:21.844Z"
      },
      {
        "duration": 3255,
        "start_time": "2023-03-20T13:33:26.545Z"
      },
      {
        "duration": 9468,
        "start_time": "2023-03-20T13:33:29.802Z"
      },
      {
        "duration": 14921,
        "start_time": "2023-03-20T13:33:39.272Z"
      },
      {
        "duration": 208,
        "start_time": "2023-03-20T13:33:54.195Z"
      },
      {
        "duration": 140,
        "start_time": "2023-03-20T13:33:54.404Z"
      },
      {
        "duration": 2868,
        "start_time": "2023-03-20T13:33:54.546Z"
      },
      {
        "duration": 1349,
        "start_time": "2023-03-20T13:33:57.416Z"
      },
      {
        "duration": 1130,
        "start_time": "2023-03-20T13:34:34.655Z"
      },
      {
        "duration": 4,
        "start_time": "2023-03-20T13:34:35.787Z"
      },
      {
        "duration": 4597,
        "start_time": "2023-03-20T13:34:35.793Z"
      },
      {
        "duration": 3199,
        "start_time": "2023-03-20T13:34:40.392Z"
      },
      {
        "duration": 10118,
        "start_time": "2023-03-20T13:34:43.592Z"
      },
      {
        "duration": 14960,
        "start_time": "2023-03-20T13:34:53.711Z"
      },
      {
        "duration": 212,
        "start_time": "2023-03-20T13:35:08.673Z"
      },
      {
        "duration": 134,
        "start_time": "2023-03-20T13:35:08.886Z"
      },
      {
        "duration": 3062,
        "start_time": "2023-03-20T13:35:09.022Z"
      },
      {
        "duration": 1461,
        "start_time": "2023-03-20T13:35:12.087Z"
      },
      {
        "duration": 310,
        "start_time": "2023-03-20T13:35:13.550Z"
      },
      {
        "duration": 4024,
        "start_time": "2023-03-20T13:36:57.167Z"
      },
      {
        "duration": 15712,
        "start_time": "2023-03-20T13:37:04.149Z"
      },
      {
        "duration": 68,
        "start_time": "2023-03-20T13:41:02.103Z"
      },
      {
        "duration": 1225,
        "start_time": "2023-03-20T13:41:43.353Z"
      },
      {
        "duration": 3,
        "start_time": "2023-03-20T13:41:44.580Z"
      },
      {
        "duration": 4645,
        "start_time": "2023-03-20T13:41:44.585Z"
      },
      {
        "duration": 3349,
        "start_time": "2023-03-20T13:41:49.231Z"
      },
      {
        "duration": 9434,
        "start_time": "2023-03-20T13:41:52.583Z"
      },
      {
        "duration": 14545,
        "start_time": "2023-03-20T13:42:02.019Z"
      },
      {
        "duration": 209,
        "start_time": "2023-03-20T13:42:16.566Z"
      },
      {
        "duration": 129,
        "start_time": "2023-03-20T13:42:16.776Z"
      },
      {
        "duration": 3607,
        "start_time": "2023-03-20T13:42:16.906Z"
      },
      {
        "duration": 1234,
        "start_time": "2023-03-20T13:42:20.515Z"
      },
      {
        "duration": 42,
        "start_time": "2023-03-20T13:46:34.586Z"
      },
      {
        "duration": 1070,
        "start_time": "2023-03-20T13:46:40.168Z"
      },
      {
        "duration": 3,
        "start_time": "2023-03-20T13:46:41.240Z"
      },
      {
        "duration": 4851,
        "start_time": "2023-03-20T13:46:41.244Z"
      },
      {
        "duration": 3178,
        "start_time": "2023-03-20T13:46:46.097Z"
      },
      {
        "duration": 9128,
        "start_time": "2023-03-20T13:46:49.276Z"
      },
      {
        "duration": 14363,
        "start_time": "2023-03-20T13:46:58.405Z"
      },
      {
        "duration": 206,
        "start_time": "2023-03-20T13:47:12.769Z"
      },
      {
        "duration": 122,
        "start_time": "2023-03-20T13:47:12.976Z"
      },
      {
        "duration": 2877,
        "start_time": "2023-03-20T13:47:13.100Z"
      },
      {
        "duration": 1208,
        "start_time": "2023-03-20T13:47:15.979Z"
      },
      {
        "duration": 159,
        "start_time": "2023-03-20T13:47:17.189Z"
      },
      {
        "duration": 10008,
        "start_time": "2023-03-20T13:47:37.915Z"
      },
      {
        "duration": 84,
        "start_time": "2023-03-20T13:49:39.687Z"
      },
      {
        "duration": 884,
        "start_time": "2023-03-20T13:50:02.908Z"
      },
      {
        "duration": 1329,
        "start_time": "2023-03-20T13:50:16.519Z"
      },
      {
        "duration": 1303,
        "start_time": "2023-03-20T13:50:25.768Z"
      },
      {
        "duration": 321,
        "start_time": "2023-03-20T13:51:59.860Z"
      },
      {
        "duration": 343,
        "start_time": "2023-03-20T13:52:15.410Z"
      },
      {
        "duration": 324,
        "start_time": "2023-03-20T13:52:28.226Z"
      },
      {
        "duration": 326,
        "start_time": "2023-03-20T13:53:39.668Z"
      },
      {
        "duration": 1352,
        "start_time": "2023-03-20T13:54:33.286Z"
      },
      {
        "duration": 9,
        "start_time": "2023-03-20T13:55:50.429Z"
      },
      {
        "duration": 5,
        "start_time": "2023-03-20T13:55:53.498Z"
      },
      {
        "duration": 10,
        "start_time": "2023-03-20T13:56:02.640Z"
      },
      {
        "duration": 5,
        "start_time": "2023-03-20T13:56:21.695Z"
      },
      {
        "duration": 408,
        "start_time": "2023-03-20T13:58:22.228Z"
      },
      {
        "duration": 319,
        "start_time": "2023-03-20T13:58:38.089Z"
      },
      {
        "duration": 460,
        "start_time": "2023-03-20T13:59:29.289Z"
      },
      {
        "duration": 370,
        "start_time": "2023-03-20T14:00:17.288Z"
      },
      {
        "duration": 1299,
        "start_time": "2023-03-20T14:00:40.658Z"
      },
      {
        "duration": 1351,
        "start_time": "2023-03-20T14:01:31.589Z"
      },
      {
        "duration": 1380,
        "start_time": "2023-03-20T14:01:55.549Z"
      },
      {
        "duration": 1319,
        "start_time": "2023-03-20T14:02:05.378Z"
      },
      {
        "duration": 1195,
        "start_time": "2023-03-20T14:06:42.688Z"
      },
      {
        "duration": 1460,
        "start_time": "2023-03-20T14:06:56.948Z"
      },
      {
        "duration": 1342,
        "start_time": "2023-03-20T14:07:05.608Z"
      },
      {
        "duration": 1335,
        "start_time": "2023-03-20T14:07:16.329Z"
      },
      {
        "duration": 1441,
        "start_time": "2023-03-20T14:07:28.506Z"
      },
      {
        "duration": 1537,
        "start_time": "2023-03-20T14:11:57.898Z"
      },
      {
        "duration": 1516,
        "start_time": "2023-03-20T14:12:08.298Z"
      },
      {
        "duration": 1420,
        "start_time": "2023-03-20T14:12:27.987Z"
      },
      {
        "duration": 11544,
        "start_time": "2023-03-20T14:25:28.099Z"
      },
      {
        "duration": 11199,
        "start_time": "2023-03-20T14:25:49.739Z"
      },
      {
        "duration": 1099,
        "start_time": "2023-03-20T14:29:37.291Z"
      },
      {
        "duration": 3,
        "start_time": "2023-03-20T14:29:38.392Z"
      },
      {
        "duration": 4401,
        "start_time": "2023-03-20T14:29:38.396Z"
      },
      {
        "duration": 3079,
        "start_time": "2023-03-20T14:29:42.799Z"
      },
      {
        "duration": 9261,
        "start_time": "2023-03-20T14:29:45.880Z"
      },
      {
        "duration": 14298,
        "start_time": "2023-03-20T14:29:55.142Z"
      },
      {
        "duration": 209,
        "start_time": "2023-03-20T14:30:09.442Z"
      },
      {
        "duration": 139,
        "start_time": "2023-03-20T14:30:09.653Z"
      },
      {
        "duration": 4298,
        "start_time": "2023-03-20T14:30:09.794Z"
      },
      {
        "duration": 1350,
        "start_time": "2023-03-20T14:30:14.093Z"
      },
      {
        "duration": 9680,
        "start_time": "2023-03-20T14:30:15.444Z"
      },
      {
        "duration": 1410,
        "start_time": "2023-03-20T14:30:25.126Z"
      },
      {
        "duration": 11506,
        "start_time": "2023-03-20T14:30:26.537Z"
      },
      {
        "duration": 414,
        "start_time": "2023-03-20T14:30:38.046Z"
      },
      {
        "duration": 1017,
        "start_time": "2023-03-20T15:06:49.043Z"
      },
      {
        "duration": 3,
        "start_time": "2023-03-20T15:06:50.062Z"
      },
      {
        "duration": 4756,
        "start_time": "2023-03-20T15:06:50.066Z"
      },
      {
        "duration": 3127,
        "start_time": "2023-03-20T15:06:54.824Z"
      },
      {
        "duration": 9717,
        "start_time": "2023-03-20T15:06:57.953Z"
      },
      {
        "duration": 14797,
        "start_time": "2023-03-20T15:07:07.672Z"
      },
      {
        "duration": 213,
        "start_time": "2023-03-20T15:07:22.471Z"
      },
      {
        "duration": 120,
        "start_time": "2023-03-20T15:07:22.686Z"
      },
      {
        "duration": 2909,
        "start_time": "2023-03-20T15:07:22.808Z"
      },
      {
        "duration": 1177,
        "start_time": "2023-03-20T15:07:25.719Z"
      },
      {
        "duration": 10525,
        "start_time": "2023-03-20T15:07:26.897Z"
      },
      {
        "duration": 1414,
        "start_time": "2023-03-20T15:07:37.424Z"
      },
      {
        "duration": 11933,
        "start_time": "2023-03-20T15:07:38.840Z"
      },
      {
        "duration": 398,
        "start_time": "2023-03-20T15:07:50.775Z"
      },
      {
        "duration": 95,
        "start_time": "2023-03-20T15:18:05.559Z"
      },
      {
        "duration": 1822,
        "start_time": "2023-03-20T19:56:55.656Z"
      },
      {
        "duration": 7,
        "start_time": "2023-03-20T19:56:57.486Z"
      },
      {
        "duration": 9674,
        "start_time": "2023-03-20T19:56:57.500Z"
      },
      {
        "duration": 4481,
        "start_time": "2023-03-20T19:57:07.176Z"
      },
      {
        "duration": 12559,
        "start_time": "2023-03-20T19:57:11.659Z"
      },
      {
        "duration": 17026,
        "start_time": "2023-03-20T19:57:24.220Z"
      },
      {
        "duration": 253,
        "start_time": "2023-03-20T19:57:41.248Z"
      },
      {
        "duration": 183,
        "start_time": "2023-03-20T19:57:41.503Z"
      },
      {
        "duration": 5827,
        "start_time": "2023-03-20T19:57:41.688Z"
      },
      {
        "duration": 1622,
        "start_time": "2023-03-20T19:57:47.517Z"
      },
      {
        "duration": 10488,
        "start_time": "2023-03-20T19:57:49.141Z"
      },
      {
        "duration": 1636,
        "start_time": "2023-03-20T19:57:59.631Z"
      },
      {
        "duration": 8574,
        "start_time": "2023-03-20T19:58:01.269Z"
      },
      {
        "duration": 486,
        "start_time": "2023-03-20T19:58:09.845Z"
      },
      {
        "duration": 111,
        "start_time": "2023-03-20T19:58:10.332Z"
      },
      {
        "duration": 139,
        "start_time": "2023-03-20T19:58:23.641Z"
      },
      {
        "duration": 15,
        "start_time": "2023-03-20T20:14:33.888Z"
      },
      {
        "duration": 15,
        "start_time": "2023-03-20T20:14:46.706Z"
      },
      {
        "duration": 14,
        "start_time": "2023-03-20T20:14:56.792Z"
      },
      {
        "duration": 12,
        "start_time": "2023-03-20T20:15:13.228Z"
      },
      {
        "duration": 32,
        "start_time": "2023-03-20T20:15:49.472Z"
      },
      {
        "duration": 24,
        "start_time": "2023-03-20T20:16:57.303Z"
      },
      {
        "duration": 106,
        "start_time": "2023-03-20T20:17:53.832Z"
      },
      {
        "duration": 359,
        "start_time": "2023-03-20T20:18:03.702Z"
      },
      {
        "duration": 56,
        "start_time": "2023-03-21T06:28:12.204Z"
      },
      {
        "duration": 1537,
        "start_time": "2023-03-21T12:08:43.313Z"
      },
      {
        "duration": 4,
        "start_time": "2023-03-21T12:08:44.853Z"
      },
      {
        "duration": 10376,
        "start_time": "2023-03-21T12:08:44.858Z"
      },
      {
        "duration": 4087,
        "start_time": "2023-03-21T12:08:55.238Z"
      },
      {
        "duration": 11806,
        "start_time": "2023-03-21T12:08:59.327Z"
      },
      {
        "duration": 15401,
        "start_time": "2023-03-21T12:09:11.135Z"
      },
      {
        "duration": 239,
        "start_time": "2023-03-21T12:09:26.538Z"
      },
      {
        "duration": 163,
        "start_time": "2023-03-21T12:09:26.779Z"
      },
      {
        "duration": 3169,
        "start_time": "2023-03-21T12:09:26.943Z"
      },
      {
        "duration": 1610,
        "start_time": "2023-03-21T12:09:30.115Z"
      },
      {
        "duration": 10980,
        "start_time": "2023-03-21T12:09:31.727Z"
      },
      {
        "duration": 1763,
        "start_time": "2023-03-21T12:09:42.709Z"
      },
      {
        "duration": 12682,
        "start_time": "2023-03-21T12:09:44.475Z"
      },
      {
        "duration": 502,
        "start_time": "2023-03-21T12:09:57.159Z"
      },
      {
        "duration": 141,
        "start_time": "2023-03-21T12:09:57.663Z"
      },
      {
        "duration": 161,
        "start_time": "2023-03-21T12:09:57.806Z"
      },
      {
        "duration": 394,
        "start_time": "2023-03-21T12:09:57.969Z"
      },
      {
        "duration": 147,
        "start_time": "2023-03-21T12:09:58.365Z"
      },
      {
        "duration": 266,
        "start_time": "2023-03-21T12:12:20.933Z"
      },
      {
        "duration": 270,
        "start_time": "2023-03-21T12:17:47.738Z"
      },
      {
        "duration": 373,
        "start_time": "2023-03-21T12:19:28.668Z"
      },
      {
        "duration": 1383,
        "start_time": "2023-03-21T12:19:48.718Z"
      },
      {
        "duration": 4,
        "start_time": "2023-03-21T12:19:50.103Z"
      },
      {
        "duration": 10909,
        "start_time": "2023-03-21T12:19:50.108Z"
      },
      {
        "duration": 3889,
        "start_time": "2023-03-21T12:20:01.019Z"
      },
      {
        "duration": 10636,
        "start_time": "2023-03-21T12:20:04.910Z"
      },
      {
        "duration": 1616,
        "start_time": "2023-03-21T18:26:45.716Z"
      },
      {
        "duration": 23,
        "start_time": "2023-03-21T18:26:47.334Z"
      },
      {
        "duration": 8350,
        "start_time": "2023-03-21T18:26:47.366Z"
      },
      {
        "duration": 4514,
        "start_time": "2023-03-21T18:26:55.718Z"
      },
      {
        "duration": 13432,
        "start_time": "2023-03-21T18:27:00.234Z"
      },
      {
        "duration": 18429,
        "start_time": "2023-03-21T18:27:13.671Z"
      },
      {
        "duration": 240,
        "start_time": "2023-03-21T18:27:32.103Z"
      },
      {
        "duration": 222,
        "start_time": "2023-03-21T18:27:32.352Z"
      },
      {
        "duration": 4244,
        "start_time": "2023-03-21T18:27:32.577Z"
      },
      {
        "duration": 1858,
        "start_time": "2023-03-21T18:27:36.823Z"
      },
      {
        "duration": 11539,
        "start_time": "2023-03-21T18:27:38.687Z"
      },
      {
        "duration": 2096,
        "start_time": "2023-03-21T18:27:50.229Z"
      },
      {
        "duration": 12934,
        "start_time": "2023-03-21T18:27:52.327Z"
      },
      {
        "duration": 593,
        "start_time": "2023-03-21T18:28:05.275Z"
      },
      {
        "duration": 151,
        "start_time": "2023-03-21T18:28:05.876Z"
      },
      {
        "duration": 227,
        "start_time": "2023-03-21T18:28:06.029Z"
      },
      {
        "duration": 422,
        "start_time": "2023-03-21T18:28:06.258Z"
      },
      {
        "duration": 170,
        "start_time": "2023-03-21T18:28:06.682Z"
      },
      {
        "duration": 332,
        "start_time": "2023-03-21T18:28:06.854Z"
      },
      {
        "duration": 315,
        "start_time": "2023-03-21T18:28:07.192Z"
      },
      {
        "duration": 622,
        "start_time": "2023-03-21T18:28:07.510Z"
      },
      {
        "duration": 559,
        "start_time": "2023-03-21T18:28:55.569Z"
      },
      {
        "duration": 59,
        "start_time": "2023-03-21T18:31:48.980Z"
      },
      {
        "duration": 153,
        "start_time": "2023-03-21T18:33:08.715Z"
      },
      {
        "duration": 42,
        "start_time": "2023-03-21T18:35:45.685Z"
      },
      {
        "duration": 154,
        "start_time": "2023-03-21T18:35:51.230Z"
      },
      {
        "duration": 327,
        "start_time": "2023-03-21T18:37:24.019Z"
      },
      {
        "duration": 297,
        "start_time": "2023-03-21T18:37:26.110Z"
      },
      {
        "duration": 407,
        "start_time": "2023-03-21T18:37:27.230Z"
      },
      {
        "duration": 45,
        "start_time": "2023-03-21T18:39:25.784Z"
      },
      {
        "duration": 33,
        "start_time": "2023-03-21T18:39:41.731Z"
      },
      {
        "duration": 48,
        "start_time": "2023-03-21T18:40:02.359Z"
      },
      {
        "duration": 46,
        "start_time": "2023-03-21T18:40:29.709Z"
      },
      {
        "duration": 21,
        "start_time": "2023-03-21T18:41:32.587Z"
      },
      {
        "duration": 1604,
        "start_time": "2023-03-22T20:05:38.822Z"
      },
      {
        "duration": 4,
        "start_time": "2023-03-22T20:05:40.428Z"
      },
      {
        "duration": 10213,
        "start_time": "2023-03-22T20:05:40.444Z"
      },
      {
        "duration": 4469,
        "start_time": "2023-03-22T20:05:50.661Z"
      },
      {
        "duration": 13290,
        "start_time": "2023-03-22T20:05:55.132Z"
      },
      {
        "duration": 20032,
        "start_time": "2023-03-22T20:06:08.424Z"
      },
      {
        "duration": 242,
        "start_time": "2023-03-22T20:06:28.459Z"
      },
      {
        "duration": 207,
        "start_time": "2023-03-22T20:06:28.703Z"
      },
      {
        "duration": 5667,
        "start_time": "2023-03-22T20:06:28.913Z"
      },
      {
        "duration": 1889,
        "start_time": "2023-03-22T20:06:34.583Z"
      },
      {
        "duration": 11440,
        "start_time": "2023-03-22T20:06:36.474Z"
      },
      {
        "duration": 2100,
        "start_time": "2023-03-22T20:06:47.920Z"
      },
      {
        "duration": 13145,
        "start_time": "2023-03-22T20:06:50.022Z"
      },
      {
        "duration": 592,
        "start_time": "2023-03-22T20:07:03.170Z"
      },
      {
        "duration": 172,
        "start_time": "2023-03-22T20:07:03.764Z"
      },
      {
        "duration": 236,
        "start_time": "2023-03-22T20:07:03.938Z"
      },
      {
        "duration": 439,
        "start_time": "2023-03-22T20:07:04.176Z"
      },
      {
        "duration": 204,
        "start_time": "2023-03-22T20:07:04.617Z"
      },
      {
        "duration": 343,
        "start_time": "2023-03-22T20:07:04.823Z"
      },
      {
        "duration": 313,
        "start_time": "2023-03-22T20:07:05.168Z"
      },
      {
        "duration": 520,
        "start_time": "2023-03-22T20:07:05.483Z"
      },
      {
        "duration": 13,
        "start_time": "2023-03-22T20:08:15.540Z"
      },
      {
        "duration": 315,
        "start_time": "2023-03-22T20:08:27.110Z"
      },
      {
        "duration": 165,
        "start_time": "2023-03-22T20:09:59.511Z"
      },
      {
        "duration": 276,
        "start_time": "2023-03-22T20:10:08.037Z"
      },
      {
        "duration": 4,
        "start_time": "2023-03-22T20:13:23.882Z"
      },
      {
        "duration": 98,
        "start_time": "2023-03-22T20:13:49.775Z"
      },
      {
        "duration": 3,
        "start_time": "2023-03-22T20:27:31.160Z"
      },
      {
        "duration": 686,
        "start_time": "2023-03-22T20:29:00.824Z"
      },
      {
        "duration": 3,
        "start_time": "2023-03-22T20:29:30.876Z"
      },
      {
        "duration": 46,
        "start_time": "2023-03-22T20:29:31.418Z"
      },
      {
        "duration": 54,
        "start_time": "2023-03-22T20:29:51.615Z"
      },
      {
        "duration": 4,
        "start_time": "2023-03-22T20:34:02.024Z"
      },
      {
        "duration": 352,
        "start_time": "2023-03-22T20:35:34.460Z"
      },
      {
        "duration": 960,
        "start_time": "2023-03-22T20:38:42.961Z"
      },
      {
        "duration": 937,
        "start_time": "2023-03-22T20:39:09.221Z"
      },
      {
        "duration": 999,
        "start_time": "2023-03-22T20:40:19.934Z"
      },
      {
        "duration": 1114,
        "start_time": "2023-03-22T20:40:32.015Z"
      },
      {
        "duration": 32258,
        "start_time": "2023-03-22T20:40:47.105Z"
      },
      {
        "duration": 32766,
        "start_time": "2023-03-22T20:41:44.376Z"
      },
      {
        "duration": 176,
        "start_time": "2023-03-22T20:43:11.832Z"
      },
      {
        "duration": 0,
        "start_time": "2023-03-22T20:44:25.406Z"
      },
      {
        "duration": 31105,
        "start_time": "2023-03-22T20:44:28.960Z"
      },
      {
        "duration": 6883,
        "start_time": "2023-03-22T20:46:54.831Z"
      },
      {
        "duration": 6771,
        "start_time": "2023-03-22T20:48:39.171Z"
      },
      {
        "duration": 31907,
        "start_time": "2023-03-22T20:54:32.659Z"
      },
      {
        "duration": 84,
        "start_time": "2023-03-23T06:27:35.842Z"
      },
      {
        "duration": 1594,
        "start_time": "2023-03-23T06:27:40.450Z"
      },
      {
        "duration": 4,
        "start_time": "2023-03-23T06:27:42.046Z"
      },
      {
        "duration": 14077,
        "start_time": "2023-03-23T06:27:42.052Z"
      },
      {
        "duration": 5048,
        "start_time": "2023-03-23T06:27:56.132Z"
      },
      {
        "duration": 14172,
        "start_time": "2023-03-23T06:28:01.182Z"
      },
      {
        "duration": 18816,
        "start_time": "2023-03-23T06:28:15.356Z"
      },
      {
        "duration": 261,
        "start_time": "2023-03-23T06:28:34.174Z"
      },
      {
        "duration": 214,
        "start_time": "2023-03-23T06:28:34.437Z"
      },
      {
        "duration": 4086,
        "start_time": "2023-03-23T06:28:34.653Z"
      },
      {
        "duration": 2035,
        "start_time": "2023-03-23T06:28:38.742Z"
      },
      {
        "duration": 11850,
        "start_time": "2023-03-23T06:28:40.779Z"
      },
      {
        "duration": 2196,
        "start_time": "2023-03-23T06:28:52.631Z"
      },
      {
        "duration": 12341,
        "start_time": "2023-03-23T06:28:54.830Z"
      },
      {
        "duration": 557,
        "start_time": "2023-03-23T06:29:07.174Z"
      },
      {
        "duration": 156,
        "start_time": "2023-03-23T06:29:07.733Z"
      },
      {
        "duration": 203,
        "start_time": "2023-03-23T06:29:07.893Z"
      },
      {
        "duration": 415,
        "start_time": "2023-03-23T06:29:08.101Z"
      },
      {
        "duration": 172,
        "start_time": "2023-03-23T06:29:08.521Z"
      },
      {
        "duration": 306,
        "start_time": "2023-03-23T06:29:08.695Z"
      },
      {
        "duration": 277,
        "start_time": "2023-03-23T06:29:09.004Z"
      },
      {
        "duration": 438,
        "start_time": "2023-03-23T06:29:09.285Z"
      },
      {
        "duration": 6,
        "start_time": "2023-03-23T06:29:09.725Z"
      },
      {
        "duration": 311,
        "start_time": "2023-03-23T06:29:09.733Z"
      },
      {
        "duration": 170,
        "start_time": "2023-03-23T06:29:10.046Z"
      },
      {
        "duration": 305,
        "start_time": "2023-03-23T06:29:10.218Z"
      },
      {
        "duration": 4,
        "start_time": "2023-03-23T06:29:10.524Z"
      },
      {
        "duration": 52,
        "start_time": "2023-03-23T06:29:10.529Z"
      },
      {
        "duration": 36772,
        "start_time": "2023-03-23T06:29:10.586Z"
      },
      {
        "duration": 28,
        "start_time": "2023-03-23T06:29:47.360Z"
      },
      {
        "duration": 22,
        "start_time": "2023-03-23T06:33:08.123Z"
      },
      {
        "duration": 45,
        "start_time": "2023-03-23T06:33:25.369Z"
      },
      {
        "duration": 16,
        "start_time": "2023-03-23T06:34:59.024Z"
      },
      {
        "duration": 19,
        "start_time": "2023-03-23T06:35:45.723Z"
      },
      {
        "duration": 2237,
        "start_time": "2023-03-23T06:37:13.718Z"
      },
      {
        "duration": 36,
        "start_time": "2023-03-23T06:37:28.418Z"
      },
      {
        "duration": 1599,
        "start_time": "2023-03-23T07:07:41.094Z"
      },
      {
        "duration": 25,
        "start_time": "2023-03-23T07:07:42.697Z"
      },
      {
        "duration": 22457,
        "start_time": "2023-03-23T07:07:42.728Z"
      },
      {
        "duration": 1622,
        "start_time": "2023-03-23T07:08:09.810Z"
      },
      {
        "duration": 6,
        "start_time": "2023-03-23T07:08:11.434Z"
      },
      {
        "duration": 23201,
        "start_time": "2023-03-23T07:08:11.442Z"
      },
      {
        "duration": 2,
        "start_time": "2023-03-23T07:08:34.646Z"
      },
      {
        "duration": 12,
        "start_time": "2023-03-23T07:08:34.650Z"
      },
      {
        "duration": 63,
        "start_time": "2023-03-23T07:08:34.664Z"
      },
      {
        "duration": 587,
        "start_time": "2023-03-23T07:08:34.729Z"
      },
      {
        "duration": 266,
        "start_time": "2023-03-23T07:08:35.318Z"
      },
      {
        "duration": 4401,
        "start_time": "2023-03-23T07:08:35.587Z"
      },
      {
        "duration": 2028,
        "start_time": "2023-03-23T07:08:39.992Z"
      },
      {
        "duration": 12177,
        "start_time": "2023-03-23T07:08:42.026Z"
      },
      {
        "duration": 2285,
        "start_time": "2023-03-23T07:08:54.210Z"
      },
      {
        "duration": 9578,
        "start_time": "2023-03-23T07:08:56.501Z"
      },
      {
        "duration": 471,
        "start_time": "2023-03-23T07:09:06.087Z"
      },
      {
        "duration": 175,
        "start_time": "2023-03-23T07:09:06.560Z"
      },
      {
        "duration": 198,
        "start_time": "2023-03-23T07:09:06.740Z"
      },
      {
        "duration": 406,
        "start_time": "2023-03-23T07:09:06.940Z"
      },
      {
        "duration": 132,
        "start_time": "2023-03-23T07:09:07.353Z"
      },
      {
        "duration": 263,
        "start_time": "2023-03-23T07:09:07.491Z"
      },
      {
        "duration": 331,
        "start_time": "2023-03-23T07:09:07.756Z"
      },
      {
        "duration": 480,
        "start_time": "2023-03-23T07:09:08.089Z"
      },
      {
        "duration": 12,
        "start_time": "2023-03-23T07:09:08.574Z"
      },
      {
        "duration": 446,
        "start_time": "2023-03-23T07:09:08.589Z"
      },
      {
        "duration": 172,
        "start_time": "2023-03-23T07:09:09.039Z"
      },
      {
        "duration": 346,
        "start_time": "2023-03-23T07:09:09.217Z"
      },
      {
        "duration": 12,
        "start_time": "2023-03-23T07:09:09.565Z"
      },
      {
        "duration": 89,
        "start_time": "2023-03-23T07:09:09.579Z"
      },
      {
        "duration": 7615,
        "start_time": "2023-03-23T07:09:09.672Z"
      },
      {
        "duration": 24,
        "start_time": "2023-03-23T07:09:17.293Z"
      },
      {
        "duration": 76,
        "start_time": "2023-03-23T07:09:17.324Z"
      },
      {
        "duration": 66,
        "start_time": "2023-03-23T07:09:17.413Z"
      },
      {
        "duration": 74,
        "start_time": "2023-03-23T07:09:17.485Z"
      },
      {
        "duration": 104,
        "start_time": "2023-03-23T07:10:04.802Z"
      },
      {
        "duration": 14,
        "start_time": "2023-03-23T07:10:42.099Z"
      },
      {
        "duration": 4756,
        "start_time": "2023-03-23T07:11:35.624Z"
      },
      {
        "duration": 101,
        "start_time": "2023-03-23T07:11:50.636Z"
      },
      {
        "duration": 70,
        "start_time": "2023-03-23T07:12:49.366Z"
      },
      {
        "duration": 1685,
        "start_time": "2023-03-23T11:15:58.394Z"
      },
      {
        "duration": 4,
        "start_time": "2023-03-23T11:16:00.082Z"
      },
      {
        "duration": 11013,
        "start_time": "2023-03-23T11:16:00.098Z"
      },
      {
        "duration": 3,
        "start_time": "2023-03-23T11:16:11.113Z"
      },
      {
        "duration": 11,
        "start_time": "2023-03-23T11:16:11.119Z"
      },
      {
        "duration": 27,
        "start_time": "2023-03-23T11:16:11.132Z"
      },
      {
        "duration": 442,
        "start_time": "2023-03-23T11:16:11.161Z"
      },
      {
        "duration": 208,
        "start_time": "2023-03-23T11:16:11.606Z"
      },
      {
        "duration": 3907,
        "start_time": "2023-03-23T11:16:11.816Z"
      },
      {
        "duration": 1838,
        "start_time": "2023-03-23T11:16:15.725Z"
      },
      {
        "duration": 11051,
        "start_time": "2023-03-23T11:16:17.567Z"
      },
      {
        "duration": 1927,
        "start_time": "2023-03-23T11:16:28.620Z"
      },
      {
        "duration": 11493,
        "start_time": "2023-03-23T11:16:30.553Z"
      },
      {
        "duration": 544,
        "start_time": "2023-03-23T11:16:42.050Z"
      },
      {
        "duration": 178,
        "start_time": "2023-03-23T11:16:42.598Z"
      },
      {
        "duration": 215,
        "start_time": "2023-03-23T11:16:42.779Z"
      },
      {
        "duration": 391,
        "start_time": "2023-03-23T11:16:42.996Z"
      },
      {
        "duration": 147,
        "start_time": "2023-03-23T11:16:43.398Z"
      },
      {
        "duration": 298,
        "start_time": "2023-03-23T11:16:43.547Z"
      },
      {
        "duration": 343,
        "start_time": "2023-03-23T11:16:43.847Z"
      },
      {
        "duration": 474,
        "start_time": "2023-03-23T11:16:44.197Z"
      },
      {
        "duration": 8,
        "start_time": "2023-03-23T11:16:44.673Z"
      },
      {
        "duration": 363,
        "start_time": "2023-03-23T11:16:44.697Z"
      },
      {
        "duration": 138,
        "start_time": "2023-03-23T11:16:45.063Z"
      },
      {
        "duration": 346,
        "start_time": "2023-03-23T11:16:45.203Z"
      },
      {
        "duration": 4,
        "start_time": "2023-03-23T11:16:45.552Z"
      },
      {
        "duration": 64,
        "start_time": "2023-03-23T11:16:45.559Z"
      },
      {
        "duration": 7513,
        "start_time": "2023-03-23T11:16:45.626Z"
      },
      {
        "duration": 23,
        "start_time": "2023-03-23T11:16:53.141Z"
      },
      {
        "duration": 61,
        "start_time": "2023-03-23T11:16:53.166Z"
      },
      {
        "duration": 32,
        "start_time": "2023-03-23T11:16:53.229Z"
      },
      {
        "duration": 38,
        "start_time": "2023-03-23T11:16:53.264Z"
      },
      {
        "duration": 138,
        "start_time": "2023-03-23T11:16:53.304Z"
      },
      {
        "duration": 9,
        "start_time": "2023-03-23T11:16:53.444Z"
      },
      {
        "duration": 146,
        "start_time": "2023-03-23T11:16:53.455Z"
      },
      {
        "duration": 113,
        "start_time": "2023-03-23T11:16:53.604Z"
      },
      {
        "duration": 74,
        "start_time": "2023-03-23T11:16:53.724Z"
      },
      {
        "duration": 1630,
        "start_time": "2023-03-23T11:19:40.019Z"
      },
      {
        "duration": 449,
        "start_time": "2023-03-23T11:19:55.576Z"
      },
      {
        "duration": 1541,
        "start_time": "2023-03-23T11:24:38.795Z"
      },
      {
        "duration": 5,
        "start_time": "2023-03-23T11:24:40.339Z"
      },
      {
        "duration": 10139,
        "start_time": "2023-03-23T11:24:40.346Z"
      },
      {
        "duration": 4,
        "start_time": "2023-03-23T11:24:50.490Z"
      },
      {
        "duration": 54,
        "start_time": "2023-03-23T11:24:50.496Z"
      },
      {
        "duration": 21,
        "start_time": "2023-03-23T11:24:50.554Z"
      },
      {
        "duration": 572,
        "start_time": "2023-03-23T11:24:50.577Z"
      },
      {
        "duration": 202,
        "start_time": "2023-03-23T11:24:51.151Z"
      },
      {
        "duration": 5273,
        "start_time": "2023-03-23T11:24:51.356Z"
      },
      {
        "duration": 1632,
        "start_time": "2023-03-23T11:24:56.632Z"
      },
      {
        "duration": 12092,
        "start_time": "2023-03-23T11:24:58.266Z"
      },
      {
        "duration": 2267,
        "start_time": "2023-03-23T11:25:10.360Z"
      },
      {
        "duration": 11417,
        "start_time": "2023-03-23T11:25:12.629Z"
      },
      {
        "duration": 509,
        "start_time": "2023-03-23T11:25:24.048Z"
      },
      {
        "duration": 144,
        "start_time": "2023-03-23T11:25:24.559Z"
      },
      {
        "duration": 210,
        "start_time": "2023-03-23T11:25:24.710Z"
      },
      {
        "duration": 374,
        "start_time": "2023-03-23T11:25:24.922Z"
      },
      {
        "duration": 152,
        "start_time": "2023-03-23T11:25:25.307Z"
      },
      {
        "duration": 302,
        "start_time": "2023-03-23T11:25:25.461Z"
      },
      {
        "duration": 338,
        "start_time": "2023-03-23T11:25:25.765Z"
      },
      {
        "duration": 457,
        "start_time": "2023-03-23T11:25:26.105Z"
      },
      {
        "duration": 6,
        "start_time": "2023-03-23T11:25:26.564Z"
      },
      {
        "duration": 310,
        "start_time": "2023-03-23T11:25:26.572Z"
      },
      {
        "duration": 149,
        "start_time": "2023-03-23T11:25:26.884Z"
      },
      {
        "duration": 302,
        "start_time": "2023-03-23T11:25:27.034Z"
      },
      {
        "duration": 4,
        "start_time": "2023-03-23T11:25:27.338Z"
      },
      {
        "duration": 62,
        "start_time": "2023-03-23T11:25:27.345Z"
      },
      {
        "duration": 6834,
        "start_time": "2023-03-23T11:25:27.416Z"
      },
      {
        "duration": 17,
        "start_time": "2023-03-23T11:25:34.252Z"
      },
      {
        "duration": 43,
        "start_time": "2023-03-23T11:25:34.271Z"
      },
      {
        "duration": 18,
        "start_time": "2023-03-23T11:25:34.316Z"
      },
      {
        "duration": 37,
        "start_time": "2023-03-23T11:25:34.335Z"
      },
      {
        "duration": 136,
        "start_time": "2023-03-23T11:25:34.374Z"
      },
      {
        "duration": 12,
        "start_time": "2023-03-23T11:25:34.516Z"
      },
      {
        "duration": 114,
        "start_time": "2023-03-23T11:25:34.530Z"
      },
      {
        "duration": 70,
        "start_time": "2023-03-23T11:25:34.646Z"
      },
      {
        "duration": 569,
        "start_time": "2023-03-23T11:25:34.719Z"
      },
      {
        "duration": 23,
        "start_time": "2023-03-23T11:34:34.492Z"
      },
      {
        "duration": 551,
        "start_time": "2023-03-23T11:39:20.466Z"
      },
      {
        "duration": 283,
        "start_time": "2023-03-23T11:39:29.007Z"
      },
      {
        "duration": 160,
        "start_time": "2023-03-23T11:41:24.898Z"
      },
      {
        "duration": 122,
        "start_time": "2023-03-23T11:44:28.247Z"
      },
      {
        "duration": 6,
        "start_time": "2023-03-23T11:46:03.678Z"
      },
      {
        "duration": 78,
        "start_time": "2023-03-23T11:51:14.411Z"
      },
      {
        "duration": 4,
        "start_time": "2023-03-23T11:54:10.929Z"
      },
      {
        "duration": 342,
        "start_time": "2023-03-23T11:55:22.454Z"
      },
      {
        "duration": 4,
        "start_time": "2023-03-23T11:55:55.015Z"
      },
      {
        "duration": 374,
        "start_time": "2023-03-23T11:55:56.141Z"
      },
      {
        "duration": 4,
        "start_time": "2023-03-23T11:56:02.750Z"
      },
      {
        "duration": 470,
        "start_time": "2023-03-23T11:56:03.951Z"
      },
      {
        "duration": 3,
        "start_time": "2023-03-23T11:56:37.032Z"
      },
      {
        "duration": 2121,
        "start_time": "2023-03-23T11:56:38.223Z"
      },
      {
        "duration": 1834,
        "start_time": "2023-03-23T11:57:28.632Z"
      },
      {
        "duration": 4,
        "start_time": "2023-03-23T11:59:06.233Z"
      },
      {
        "duration": 14,
        "start_time": "2023-03-23T12:01:24.362Z"
      },
      {
        "duration": 12,
        "start_time": "2023-03-23T12:01:31.568Z"
      },
      {
        "duration": 7,
        "start_time": "2023-03-23T12:01:36.417Z"
      },
      {
        "duration": 4,
        "start_time": "2023-03-23T12:01:41.772Z"
      },
      {
        "duration": 845,
        "start_time": "2023-03-23T12:01:42.563Z"
      },
      {
        "duration": 9,
        "start_time": "2023-03-23T12:02:02.899Z"
      },
      {
        "duration": 363,
        "start_time": "2023-03-23T12:02:04.017Z"
      },
      {
        "duration": 4,
        "start_time": "2023-03-23T12:02:22.514Z"
      },
      {
        "duration": 200,
        "start_time": "2023-03-23T12:02:22.982Z"
      },
      {
        "duration": 6,
        "start_time": "2023-03-23T12:02:49.108Z"
      },
      {
        "duration": 202,
        "start_time": "2023-03-23T12:02:49.709Z"
      },
      {
        "duration": 295,
        "start_time": "2023-03-23T12:04:08.625Z"
      },
      {
        "duration": 54,
        "start_time": "2023-03-23T12:04:20.380Z"
      },
      {
        "duration": 43,
        "start_time": "2023-03-23T12:04:26.623Z"
      },
      {
        "duration": 118,
        "start_time": "2023-03-23T12:08:47.774Z"
      },
      {
        "duration": 313,
        "start_time": "2023-03-23T12:08:48.249Z"
      },
      {
        "duration": 194,
        "start_time": "2023-03-23T12:08:57.541Z"
      },
      {
        "duration": 89,
        "start_time": "2023-03-23T12:09:10.238Z"
      },
      {
        "duration": 289,
        "start_time": "2023-03-23T12:09:11.975Z"
      },
      {
        "duration": 43,
        "start_time": "2023-03-23T12:09:13.631Z"
      },
      {
        "duration": 1603,
        "start_time": "2023-03-23T14:39:22.210Z"
      },
      {
        "duration": 5,
        "start_time": "2023-03-23T14:39:23.815Z"
      },
      {
        "duration": 9560,
        "start_time": "2023-03-23T14:39:23.822Z"
      },
      {
        "duration": 3,
        "start_time": "2023-03-23T14:39:33.384Z"
      },
      {
        "duration": 17,
        "start_time": "2023-03-23T14:39:33.389Z"
      },
      {
        "duration": 16,
        "start_time": "2023-03-23T14:39:33.408Z"
      },
      {
        "duration": 453,
        "start_time": "2023-03-23T14:39:33.426Z"
      },
      {
        "duration": 179,
        "start_time": "2023-03-23T14:39:33.881Z"
      },
      {
        "duration": 5177,
        "start_time": "2023-03-23T14:39:34.062Z"
      },
      {
        "duration": 1546,
        "start_time": "2023-03-23T14:39:39.242Z"
      },
      {
        "duration": 11521,
        "start_time": "2023-03-23T14:39:40.791Z"
      },
      {
        "duration": 1863,
        "start_time": "2023-03-23T14:39:52.314Z"
      },
      {
        "duration": 12346,
        "start_time": "2023-03-23T14:39:54.179Z"
      },
      {
        "duration": 498,
        "start_time": "2023-03-23T14:40:06.529Z"
      },
      {
        "duration": 154,
        "start_time": "2023-03-23T14:40:07.029Z"
      },
      {
        "duration": 210,
        "start_time": "2023-03-23T14:40:07.185Z"
      },
      {
        "duration": 382,
        "start_time": "2023-03-23T14:40:07.397Z"
      },
      {
        "duration": 177,
        "start_time": "2023-03-23T14:40:07.781Z"
      },
      {
        "duration": 282,
        "start_time": "2023-03-23T14:40:07.960Z"
      },
      {
        "duration": 311,
        "start_time": "2023-03-23T14:40:08.248Z"
      },
      {
        "duration": 458,
        "start_time": "2023-03-23T14:40:08.561Z"
      },
      {
        "duration": 27,
        "start_time": "2023-03-23T14:40:09.022Z"
      },
      {
        "duration": 336,
        "start_time": "2023-03-23T14:40:09.051Z"
      },
      {
        "duration": 153,
        "start_time": "2023-03-23T14:40:09.389Z"
      },
      {
        "duration": 304,
        "start_time": "2023-03-23T14:40:09.553Z"
      },
      {
        "duration": 5,
        "start_time": "2023-03-23T14:40:09.860Z"
      },
      {
        "duration": 90,
        "start_time": "2023-03-23T14:40:09.867Z"
      },
      {
        "duration": 6795,
        "start_time": "2023-03-23T14:40:09.961Z"
      },
      {
        "duration": 18,
        "start_time": "2023-03-23T14:40:16.763Z"
      },
      {
        "duration": 31,
        "start_time": "2023-03-23T14:40:16.783Z"
      },
      {
        "duration": 19,
        "start_time": "2023-03-23T14:40:16.816Z"
      },
      {
        "duration": 36,
        "start_time": "2023-03-23T14:40:16.840Z"
      },
      {
        "duration": 216,
        "start_time": "2023-03-23T14:40:16.878Z"
      },
      {
        "duration": 7,
        "start_time": "2023-03-23T14:40:17.097Z"
      },
      {
        "duration": 118,
        "start_time": "2023-03-23T14:40:17.106Z"
      },
      {
        "duration": 101,
        "start_time": "2023-03-23T14:40:17.227Z"
      },
      {
        "duration": 547,
        "start_time": "2023-03-23T14:40:17.331Z"
      },
      {
        "duration": 16,
        "start_time": "2023-03-23T14:40:17.880Z"
      },
      {
        "duration": 540,
        "start_time": "2023-03-23T14:40:17.898Z"
      },
      {
        "duration": 278,
        "start_time": "2023-03-23T14:40:18.443Z"
      },
      {
        "duration": 204,
        "start_time": "2023-03-23T14:40:18.726Z"
      },
      {
        "duration": 5,
        "start_time": "2023-03-23T14:40:18.932Z"
      },
      {
        "duration": 46,
        "start_time": "2023-03-23T14:40:18.943Z"
      },
      {
        "duration": 17,
        "start_time": "2023-03-23T14:40:18.991Z"
      },
      {
        "duration": 411,
        "start_time": "2023-03-23T14:40:19.010Z"
      },
      {
        "duration": 137,
        "start_time": "2023-03-23T14:40:19.423Z"
      },
      {
        "duration": 606,
        "start_time": "2023-03-23T14:40:19.562Z"
      },
      {
        "duration": 27,
        "start_time": "2023-03-23T14:40:20.170Z"
      },
      {
        "duration": 282,
        "start_time": "2023-03-23T14:48:38.036Z"
      },
      {
        "duration": 445,
        "start_time": "2023-03-23T14:56:15.113Z"
      },
      {
        "duration": 386,
        "start_time": "2023-03-23T14:56:21.471Z"
      },
      {
        "duration": 419,
        "start_time": "2023-03-23T14:56:50.578Z"
      },
      {
        "duration": 433,
        "start_time": "2023-03-23T14:56:56.158Z"
      },
      {
        "duration": 2006,
        "start_time": "2023-03-23T15:09:14.597Z"
      },
      {
        "duration": 4,
        "start_time": "2023-03-23T15:09:16.606Z"
      },
      {
        "duration": 8966,
        "start_time": "2023-03-23T15:09:16.612Z"
      },
      {
        "duration": 3,
        "start_time": "2023-03-23T15:09:25.581Z"
      },
      {
        "duration": 8,
        "start_time": "2023-03-23T15:09:25.586Z"
      },
      {
        "duration": 14,
        "start_time": "2023-03-23T15:09:25.596Z"
      },
      {
        "duration": 465,
        "start_time": "2023-03-23T15:09:25.612Z"
      },
      {
        "duration": 228,
        "start_time": "2023-03-23T15:09:26.080Z"
      },
      {
        "duration": 4465,
        "start_time": "2023-03-23T15:09:26.311Z"
      },
      {
        "duration": 1574,
        "start_time": "2023-03-23T15:09:30.781Z"
      },
      {
        "duration": 12027,
        "start_time": "2023-03-23T15:09:32.357Z"
      },
      {
        "duration": 1968,
        "start_time": "2023-03-23T15:09:44.386Z"
      },
      {
        "duration": 9869,
        "start_time": "2023-03-23T15:09:46.356Z"
      },
      {
        "duration": 532,
        "start_time": "2023-03-23T15:09:56.228Z"
      },
      {
        "duration": 141,
        "start_time": "2023-03-23T15:09:56.762Z"
      },
      {
        "duration": 212,
        "start_time": "2023-03-23T15:09:56.905Z"
      },
      {
        "duration": 456,
        "start_time": "2023-03-23T15:09:57.120Z"
      },
      {
        "duration": 150,
        "start_time": "2023-03-23T15:09:57.577Z"
      },
      {
        "duration": 261,
        "start_time": "2023-03-23T15:09:57.729Z"
      },
      {
        "duration": 304,
        "start_time": "2023-03-23T15:09:57.992Z"
      },
      {
        "duration": 462,
        "start_time": "2023-03-23T15:09:58.298Z"
      },
      {
        "duration": 8,
        "start_time": "2023-03-23T15:09:58.762Z"
      },
      {
        "duration": 337,
        "start_time": "2023-03-23T15:09:58.772Z"
      },
      {
        "duration": 171,
        "start_time": "2023-03-23T15:09:59.111Z"
      },
      {
        "duration": 311,
        "start_time": "2023-03-23T15:09:59.285Z"
      },
      {
        "duration": 4,
        "start_time": "2023-03-23T15:09:59.598Z"
      },
      {
        "duration": 55,
        "start_time": "2023-03-23T15:09:59.604Z"
      },
      {
        "duration": 6501,
        "start_time": "2023-03-23T15:09:59.663Z"
      },
      {
        "duration": 16,
        "start_time": "2023-03-23T15:10:06.166Z"
      },
      {
        "duration": 23,
        "start_time": "2023-03-23T15:10:06.184Z"
      },
      {
        "duration": 32,
        "start_time": "2023-03-23T15:10:06.209Z"
      },
      {
        "duration": 29,
        "start_time": "2023-03-23T15:10:06.243Z"
      },
      {
        "duration": 110,
        "start_time": "2023-03-23T15:10:06.274Z"
      },
      {
        "duration": 7,
        "start_time": "2023-03-23T15:10:06.386Z"
      },
      {
        "duration": 120,
        "start_time": "2023-03-23T15:10:06.395Z"
      },
      {
        "duration": 91,
        "start_time": "2023-03-23T15:10:06.518Z"
      },
      {
        "duration": 581,
        "start_time": "2023-03-23T15:10:06.611Z"
      },
      {
        "duration": 19,
        "start_time": "2023-03-23T15:10:07.194Z"
      },
      {
        "duration": 540,
        "start_time": "2023-03-23T15:10:07.216Z"
      },
      {
        "duration": 270,
        "start_time": "2023-03-23T15:10:07.758Z"
      },
      {
        "duration": 215,
        "start_time": "2023-03-23T15:10:08.030Z"
      },
      {
        "duration": 6,
        "start_time": "2023-03-23T15:10:08.248Z"
      },
      {
        "duration": 58,
        "start_time": "2023-03-23T15:10:08.256Z"
      },
      {
        "duration": 13,
        "start_time": "2023-03-23T15:10:08.316Z"
      },
      {
        "duration": 375,
        "start_time": "2023-03-23T15:10:08.331Z"
      },
      {
        "duration": 157,
        "start_time": "2023-03-23T15:10:08.709Z"
      },
      {
        "duration": 260,
        "start_time": "2023-03-23T15:10:08.869Z"
      },
      {
        "duration": 42,
        "start_time": "2023-03-23T15:10:09.140Z"
      },
      {
        "duration": 308,
        "start_time": "2023-03-23T15:10:09.184Z"
      },
      {
        "duration": 0,
        "start_time": "2023-03-23T15:10:09.637Z"
      },
      {
        "duration": 23,
        "start_time": "2023-03-23T15:15:22.162Z"
      },
      {
        "duration": 2005,
        "start_time": "2023-03-23T15:15:38.464Z"
      },
      {
        "duration": 42,
        "start_time": "2023-03-23T15:17:11.109Z"
      },
      {
        "duration": 22,
        "start_time": "2023-03-23T15:17:37.614Z"
      },
      {
        "duration": 1577,
        "start_time": "2023-03-23T16:03:51.475Z"
      },
      {
        "duration": 4,
        "start_time": "2023-03-23T16:03:53.054Z"
      },
      {
        "duration": 10345,
        "start_time": "2023-03-23T16:03:53.060Z"
      },
      {
        "duration": 2,
        "start_time": "2023-03-23T16:04:03.408Z"
      },
      {
        "duration": 21,
        "start_time": "2023-03-23T16:04:03.412Z"
      },
      {
        "duration": 13,
        "start_time": "2023-03-23T16:04:03.435Z"
      },
      {
        "duration": 474,
        "start_time": "2023-03-23T16:04:03.450Z"
      },
      {
        "duration": 167,
        "start_time": "2023-03-23T16:04:03.926Z"
      },
      {
        "duration": 4373,
        "start_time": "2023-03-23T16:04:04.095Z"
      },
      {
        "duration": 1552,
        "start_time": "2023-03-23T16:04:08.472Z"
      },
      {
        "duration": 11288,
        "start_time": "2023-03-23T16:04:10.026Z"
      },
      {
        "duration": 1960,
        "start_time": "2023-03-23T16:04:21.316Z"
      },
      {
        "duration": 12536,
        "start_time": "2023-03-23T16:04:23.277Z"
      },
      {
        "duration": 557,
        "start_time": "2023-03-23T16:04:35.815Z"
      },
      {
        "duration": 155,
        "start_time": "2023-03-23T16:04:36.374Z"
      },
      {
        "duration": 247,
        "start_time": "2023-03-23T16:04:36.531Z"
      },
      {
        "duration": 403,
        "start_time": "2023-03-23T16:04:36.780Z"
      },
      {
        "duration": 189,
        "start_time": "2023-03-23T16:04:37.185Z"
      },
      {
        "duration": 319,
        "start_time": "2023-03-23T16:04:37.376Z"
      },
      {
        "duration": 281,
        "start_time": "2023-03-23T16:04:37.697Z"
      },
      {
        "duration": 431,
        "start_time": "2023-03-23T16:04:37.981Z"
      },
      {
        "duration": 7,
        "start_time": "2023-03-23T16:04:38.414Z"
      },
      {
        "duration": 299,
        "start_time": "2023-03-23T16:04:38.423Z"
      },
      {
        "duration": 174,
        "start_time": "2023-03-23T16:04:38.725Z"
      },
      {
        "duration": 294,
        "start_time": "2023-03-23T16:04:38.901Z"
      },
      {
        "duration": 4,
        "start_time": "2023-03-23T16:04:39.197Z"
      },
      {
        "duration": 51,
        "start_time": "2023-03-23T16:04:39.203Z"
      },
      {
        "duration": 6522,
        "start_time": "2023-03-23T16:04:39.258Z"
      },
      {
        "duration": 17,
        "start_time": "2023-03-23T16:04:45.781Z"
      },
      {
        "duration": 41,
        "start_time": "2023-03-23T16:04:45.801Z"
      },
      {
        "duration": 22,
        "start_time": "2023-03-23T16:04:45.844Z"
      },
      {
        "duration": 50,
        "start_time": "2023-03-23T16:04:45.868Z"
      },
      {
        "duration": 109,
        "start_time": "2023-03-23T16:04:45.921Z"
      },
      {
        "duration": 12,
        "start_time": "2023-03-23T16:04:46.032Z"
      },
      {
        "duration": 128,
        "start_time": "2023-03-23T16:04:46.046Z"
      },
      {
        "duration": 76,
        "start_time": "2023-03-23T16:04:46.176Z"
      },
      {
        "duration": 595,
        "start_time": "2023-03-23T16:04:46.254Z"
      },
      {
        "duration": 16,
        "start_time": "2023-03-23T16:04:46.851Z"
      },
      {
        "duration": 586,
        "start_time": "2023-03-23T16:04:46.868Z"
      },
      {
        "duration": 320,
        "start_time": "2023-03-23T16:04:47.456Z"
      },
      {
        "duration": 252,
        "start_time": "2023-03-23T16:04:47.779Z"
      },
      {
        "duration": 10,
        "start_time": "2023-03-23T16:04:48.033Z"
      },
      {
        "duration": 16,
        "start_time": "2023-03-23T16:04:48.045Z"
      },
      {
        "duration": 10,
        "start_time": "2023-03-23T16:04:48.063Z"
      },
      {
        "duration": 372,
        "start_time": "2023-03-23T16:04:48.074Z"
      },
      {
        "duration": 157,
        "start_time": "2023-03-23T16:04:48.448Z"
      },
      {
        "duration": 301,
        "start_time": "2023-03-23T16:04:48.607Z"
      },
      {
        "duration": 35,
        "start_time": "2023-03-23T16:04:48.910Z"
      },
      {
        "duration": 368,
        "start_time": "2023-03-23T16:04:48.947Z"
      },
      {
        "duration": 1895,
        "start_time": "2023-03-23T16:04:49.317Z"
      },
      {
        "duration": 136,
        "start_time": "2023-03-23T16:04:51.214Z"
      },
      {
        "duration": 1614,
        "start_time": "2023-03-23T16:06:52.249Z"
      },
      {
        "duration": 4,
        "start_time": "2023-03-23T16:06:53.865Z"
      },
      {
        "duration": 8821,
        "start_time": "2023-03-23T16:06:53.871Z"
      },
      {
        "duration": 2,
        "start_time": "2023-03-23T16:07:02.695Z"
      },
      {
        "duration": 34,
        "start_time": "2023-03-23T16:07:02.699Z"
      },
      {
        "duration": 24,
        "start_time": "2023-03-23T16:07:02.734Z"
      },
      {
        "duration": 458,
        "start_time": "2023-03-23T16:07:02.760Z"
      },
      {
        "duration": 213,
        "start_time": "2023-03-23T16:07:03.220Z"
      },
      {
        "duration": 4386,
        "start_time": "2023-03-23T16:07:03.442Z"
      },
      {
        "duration": 1567,
        "start_time": "2023-03-23T16:07:07.831Z"
      },
      {
        "duration": 11404,
        "start_time": "2023-03-23T16:07:09.400Z"
      },
      {
        "duration": 1921,
        "start_time": "2023-03-23T16:07:20.806Z"
      },
      {
        "duration": 11996,
        "start_time": "2023-03-23T16:07:22.728Z"
      },
      {
        "duration": 588,
        "start_time": "2023-03-23T16:07:34.727Z"
      },
      {
        "duration": 158,
        "start_time": "2023-03-23T16:07:35.316Z"
      },
      {
        "duration": 235,
        "start_time": "2023-03-23T16:07:35.476Z"
      },
      {
        "duration": 459,
        "start_time": "2023-03-23T16:07:35.713Z"
      },
      {
        "duration": 171,
        "start_time": "2023-03-23T16:07:36.175Z"
      },
      {
        "duration": 322,
        "start_time": "2023-03-23T16:07:36.348Z"
      },
      {
        "duration": 281,
        "start_time": "2023-03-23T16:07:36.673Z"
      },
      {
        "duration": 435,
        "start_time": "2023-03-23T16:07:36.956Z"
      },
      {
        "duration": 6,
        "start_time": "2023-03-23T16:07:37.393Z"
      },
      {
        "duration": 302,
        "start_time": "2023-03-23T16:07:37.400Z"
      },
      {
        "duration": 170,
        "start_time": "2023-03-23T16:07:37.703Z"
      },
      {
        "duration": 276,
        "start_time": "2023-03-23T16:07:37.875Z"
      },
      {
        "duration": 3,
        "start_time": "2023-03-23T16:07:38.153Z"
      },
      {
        "duration": 43,
        "start_time": "2023-03-23T16:07:38.158Z"
      },
      {
        "duration": 6628,
        "start_time": "2023-03-23T16:07:38.205Z"
      },
      {
        "duration": 18,
        "start_time": "2023-03-23T16:07:44.841Z"
      },
      {
        "duration": 20,
        "start_time": "2023-03-23T16:07:44.861Z"
      },
      {
        "duration": 23,
        "start_time": "2023-03-23T16:07:44.883Z"
      },
      {
        "duration": 40,
        "start_time": "2023-03-23T16:07:44.908Z"
      },
      {
        "duration": 123,
        "start_time": "2023-03-23T16:07:44.951Z"
      },
      {
        "duration": 7,
        "start_time": "2023-03-23T16:07:45.076Z"
      },
      {
        "duration": 132,
        "start_time": "2023-03-23T16:07:45.084Z"
      },
      {
        "duration": 79,
        "start_time": "2023-03-23T16:07:45.219Z"
      },
      {
        "duration": 615,
        "start_time": "2023-03-23T16:07:45.300Z"
      },
      {
        "duration": 25,
        "start_time": "2023-03-23T16:07:45.918Z"
      },
      {
        "duration": 597,
        "start_time": "2023-03-23T16:07:45.945Z"
      },
      {
        "duration": 314,
        "start_time": "2023-03-23T16:07:46.544Z"
      },
      {
        "duration": 218,
        "start_time": "2023-03-23T16:07:46.860Z"
      },
      {
        "duration": 6,
        "start_time": "2023-03-23T16:07:47.080Z"
      },
      {
        "duration": 16,
        "start_time": "2023-03-23T16:07:47.087Z"
      },
      {
        "duration": 11,
        "start_time": "2023-03-23T16:07:47.105Z"
      },
      {
        "duration": 392,
        "start_time": "2023-03-23T16:07:47.118Z"
      },
      {
        "duration": 138,
        "start_time": "2023-03-23T16:07:47.512Z"
      },
      {
        "duration": 3,
        "start_time": "2023-03-23T16:07:47.652Z"
      },
      {
        "duration": 131,
        "start_time": "2023-03-23T16:07:47.657Z"
      },
      {
        "duration": 0,
        "start_time": "2023-03-23T16:07:47.790Z"
      },
      {
        "duration": 0,
        "start_time": "2023-03-23T16:07:47.792Z"
      },
      {
        "duration": 0,
        "start_time": "2023-03-23T16:07:47.793Z"
      },
      {
        "duration": 0,
        "start_time": "2023-03-23T16:07:47.794Z"
      },
      {
        "duration": 13,
        "start_time": "2023-03-23T16:09:01.659Z"
      },
      {
        "duration": 1586,
        "start_time": "2023-03-23T16:09:09.982Z"
      },
      {
        "duration": 3,
        "start_time": "2023-03-23T16:09:11.571Z"
      },
      {
        "duration": 9159,
        "start_time": "2023-03-23T16:09:11.576Z"
      },
      {
        "duration": 3,
        "start_time": "2023-03-23T16:09:20.738Z"
      },
      {
        "duration": 13,
        "start_time": "2023-03-23T16:09:20.743Z"
      },
      {
        "duration": 9,
        "start_time": "2023-03-23T16:09:20.758Z"
      },
      {
        "duration": 451,
        "start_time": "2023-03-23T16:09:20.768Z"
      },
      {
        "duration": 174,
        "start_time": "2023-03-23T16:09:21.221Z"
      },
      {
        "duration": 4204,
        "start_time": "2023-03-23T16:09:21.397Z"
      },
      {
        "duration": 1580,
        "start_time": "2023-03-23T16:09:25.604Z"
      },
      {
        "duration": 11617,
        "start_time": "2023-03-23T16:09:27.187Z"
      },
      {
        "duration": 1906,
        "start_time": "2023-03-23T16:09:38.806Z"
      },
      {
        "duration": 12464,
        "start_time": "2023-03-23T16:09:40.714Z"
      },
      {
        "duration": 563,
        "start_time": "2023-03-23T16:09:53.180Z"
      },
      {
        "duration": 153,
        "start_time": "2023-03-23T16:09:53.745Z"
      },
      {
        "duration": 244,
        "start_time": "2023-03-23T16:09:53.901Z"
      },
      {
        "duration": 438,
        "start_time": "2023-03-23T16:09:54.147Z"
      },
      {
        "duration": 179,
        "start_time": "2023-03-23T16:09:54.587Z"
      },
      {
        "duration": 323,
        "start_time": "2023-03-23T16:09:54.768Z"
      },
      {
        "duration": 267,
        "start_time": "2023-03-23T16:09:55.093Z"
      },
      {
        "duration": 454,
        "start_time": "2023-03-23T16:09:55.362Z"
      },
      {
        "duration": 5,
        "start_time": "2023-03-23T16:09:55.818Z"
      },
      {
        "duration": 357,
        "start_time": "2023-03-23T16:09:55.825Z"
      },
      {
        "duration": 174,
        "start_time": "2023-03-23T16:09:56.184Z"
      },
      {
        "duration": 305,
        "start_time": "2023-03-23T16:09:56.360Z"
      },
      {
        "duration": 4,
        "start_time": "2023-03-23T16:09:56.668Z"
      },
      {
        "duration": 39,
        "start_time": "2023-03-23T16:09:56.675Z"
      },
      {
        "duration": 6893,
        "start_time": "2023-03-23T16:09:56.718Z"
      },
      {
        "duration": 28,
        "start_time": "2023-03-23T16:10:03.614Z"
      },
      {
        "duration": 23,
        "start_time": "2023-03-23T16:10:03.645Z"
      },
      {
        "duration": 20,
        "start_time": "2023-03-23T16:10:03.670Z"
      },
      {
        "duration": 49,
        "start_time": "2023-03-23T16:10:03.692Z"
      },
      {
        "duration": 108,
        "start_time": "2023-03-23T16:10:03.743Z"
      },
      {
        "duration": 8,
        "start_time": "2023-03-23T16:10:03.852Z"
      },
      {
        "duration": 134,
        "start_time": "2023-03-23T16:10:03.861Z"
      },
      {
        "duration": 88,
        "start_time": "2023-03-23T16:10:03.997Z"
      },
      {
        "duration": 633,
        "start_time": "2023-03-23T16:10:04.087Z"
      },
      {
        "duration": 22,
        "start_time": "2023-03-23T16:10:04.722Z"
      },
      {
        "duration": 644,
        "start_time": "2023-03-23T16:10:04.746Z"
      },
      {
        "duration": 313,
        "start_time": "2023-03-23T16:10:05.393Z"
      },
      {
        "duration": 230,
        "start_time": "2023-03-23T16:10:05.708Z"
      },
      {
        "duration": 7,
        "start_time": "2023-03-23T16:10:05.942Z"
      },
      {
        "duration": 23,
        "start_time": "2023-03-23T16:10:05.951Z"
      },
      {
        "duration": 26,
        "start_time": "2023-03-23T16:10:05.976Z"
      },
      {
        "duration": 532,
        "start_time": "2023-03-23T16:10:06.005Z"
      },
      {
        "duration": 162,
        "start_time": "2023-03-23T16:10:06.541Z"
      },
      {
        "duration": 767,
        "start_time": "2023-03-23T16:10:06.705Z"
      },
      {
        "duration": 267,
        "start_time": "2023-03-23T16:10:07.474Z"
      },
      {
        "duration": 24,
        "start_time": "2023-03-23T16:10:07.743Z"
      },
      {
        "duration": 295,
        "start_time": "2023-03-23T16:10:07.769Z"
      },
      {
        "duration": 1645,
        "start_time": "2023-03-23T16:10:08.066Z"
      },
      {
        "duration": 133,
        "start_time": "2023-03-23T16:10:09.713Z"
      },
      {
        "duration": 569,
        "start_time": "2023-03-23T16:19:43.579Z"
      },
      {
        "duration": 1625,
        "start_time": "2023-03-23T16:20:21.345Z"
      },
      {
        "duration": 5,
        "start_time": "2023-03-23T16:20:22.972Z"
      },
      {
        "duration": 10898,
        "start_time": "2023-03-23T16:20:22.979Z"
      },
      {
        "duration": 2,
        "start_time": "2023-03-23T16:20:33.880Z"
      },
      {
        "duration": 11,
        "start_time": "2023-03-23T16:20:33.883Z"
      },
      {
        "duration": 11,
        "start_time": "2023-03-23T16:20:33.896Z"
      },
      {
        "duration": 427,
        "start_time": "2023-03-23T16:20:33.909Z"
      },
      {
        "duration": 209,
        "start_time": "2023-03-23T16:20:34.338Z"
      },
      {
        "duration": 5117,
        "start_time": "2023-03-23T16:20:34.550Z"
      },
      {
        "duration": 1561,
        "start_time": "2023-03-23T16:20:39.670Z"
      },
      {
        "duration": 11238,
        "start_time": "2023-03-23T16:20:41.233Z"
      },
      {
        "duration": 1873,
        "start_time": "2023-03-23T16:20:52.474Z"
      },
      {
        "duration": 9870,
        "start_time": "2023-03-23T16:20:54.349Z"
      },
      {
        "duration": 560,
        "start_time": "2023-03-23T16:21:04.221Z"
      },
      {
        "duration": 185,
        "start_time": "2023-03-23T16:21:04.785Z"
      },
      {
        "duration": 251,
        "start_time": "2023-03-23T16:21:04.972Z"
      },
      {
        "duration": 428,
        "start_time": "2023-03-23T16:21:05.226Z"
      },
      {
        "duration": 187,
        "start_time": "2023-03-23T16:21:05.656Z"
      },
      {
        "duration": 315,
        "start_time": "2023-03-23T16:21:05.846Z"
      },
      {
        "duration": 302,
        "start_time": "2023-03-23T16:21:06.163Z"
      },
      {
        "duration": 505,
        "start_time": "2023-03-23T16:21:06.467Z"
      },
      {
        "duration": 5,
        "start_time": "2023-03-23T16:21:06.975Z"
      },
      {
        "duration": 297,
        "start_time": "2023-03-23T16:21:06.982Z"
      },
      {
        "duration": 178,
        "start_time": "2023-03-23T16:21:07.281Z"
      },
      {
        "duration": 283,
        "start_time": "2023-03-23T16:21:07.461Z"
      },
      {
        "duration": 4,
        "start_time": "2023-03-23T16:21:07.746Z"
      },
      {
        "duration": 35,
        "start_time": "2023-03-23T16:21:07.752Z"
      },
      {
        "duration": 6741,
        "start_time": "2023-03-23T16:21:07.792Z"
      },
      {
        "duration": 947,
        "start_time": "2023-03-23T16:21:14.535Z"
      },
      {
        "duration": 17,
        "start_time": "2023-03-23T16:21:15.484Z"
      },
      {
        "duration": 15,
        "start_time": "2023-03-23T16:21:15.503Z"
      },
      {
        "duration": 27,
        "start_time": "2023-03-23T16:21:15.520Z"
      },
      {
        "duration": 30,
        "start_time": "2023-03-23T16:21:15.548Z"
      },
      {
        "duration": 93,
        "start_time": "2023-03-23T16:21:15.580Z"
      },
      {
        "duration": 8,
        "start_time": "2023-03-23T16:21:15.675Z"
      },
      {
        "duration": 123,
        "start_time": "2023-03-23T16:21:15.685Z"
      },
      {
        "duration": 78,
        "start_time": "2023-03-23T16:21:15.811Z"
      },
      {
        "duration": 566,
        "start_time": "2023-03-23T16:21:15.891Z"
      },
      {
        "duration": 16,
        "start_time": "2023-03-23T16:21:16.459Z"
      },
      {
        "duration": 299,
        "start_time": "2023-03-23T16:21:16.476Z"
      },
      {
        "duration": 279,
        "start_time": "2023-03-23T16:21:16.777Z"
      },
      {
        "duration": 207,
        "start_time": "2023-03-23T16:21:17.058Z"
      },
      {
        "duration": 7,
        "start_time": "2023-03-23T16:21:17.267Z"
      },
      {
        "duration": 27,
        "start_time": "2023-03-23T16:21:17.276Z"
      },
      {
        "duration": 19,
        "start_time": "2023-03-23T16:21:17.305Z"
      },
      {
        "duration": 338,
        "start_time": "2023-03-23T16:21:17.326Z"
      },
      {
        "duration": 135,
        "start_time": "2023-03-23T16:21:17.666Z"
      },
      {
        "duration": 257,
        "start_time": "2023-03-23T16:21:17.803Z"
      },
      {
        "duration": 22,
        "start_time": "2023-03-23T16:21:18.062Z"
      },
      {
        "duration": 289,
        "start_time": "2023-03-23T16:21:18.086Z"
      },
      {
        "duration": 1586,
        "start_time": "2023-03-23T16:21:18.377Z"
      },
      {
        "duration": 142,
        "start_time": "2023-03-23T16:21:19.965Z"
      },
      {
        "duration": 13,
        "start_time": "2023-03-23T16:34:52.408Z"
      },
      {
        "duration": 11,
        "start_time": "2023-03-23T16:35:08.135Z"
      },
      {
        "duration": 79,
        "start_time": "2023-03-23T16:35:36.829Z"
      },
      {
        "duration": 78,
        "start_time": "2023-03-23T16:35:55.613Z"
      },
      {
        "duration": 24,
        "start_time": "2023-03-23T16:36:04.095Z"
      },
      {
        "duration": 8,
        "start_time": "2023-03-23T16:36:39.133Z"
      },
      {
        "duration": 8,
        "start_time": "2023-03-23T16:36:54.204Z"
      },
      {
        "duration": 4,
        "start_time": "2023-03-23T16:51:05.360Z"
      },
      {
        "duration": 1605,
        "start_time": "2023-03-23T16:51:11.462Z"
      },
      {
        "duration": 152,
        "start_time": "2023-03-23T16:51:59.563Z"
      },
      {
        "duration": 1658,
        "start_time": "2023-03-23T16:52:21.590Z"
      },
      {
        "duration": 9,
        "start_time": "2023-03-23T16:52:27.723Z"
      },
      {
        "duration": 54,
        "start_time": "2023-03-23T16:57:00.670Z"
      },
      {
        "duration": 44,
        "start_time": "2023-03-23T17:00:14.764Z"
      },
      {
        "duration": 2116,
        "start_time": "2023-03-23T17:00:39.036Z"
      },
      {
        "duration": 13,
        "start_time": "2023-03-23T17:00:49.480Z"
      },
      {
        "duration": 1604,
        "start_time": "2023-03-23T17:01:03.653Z"
      },
      {
        "duration": 4,
        "start_time": "2023-03-23T17:01:05.260Z"
      },
      {
        "duration": 10346,
        "start_time": "2023-03-23T17:01:05.266Z"
      },
      {
        "duration": 2,
        "start_time": "2023-03-23T17:01:15.615Z"
      },
      {
        "duration": 15,
        "start_time": "2023-03-23T17:01:15.619Z"
      },
      {
        "duration": 24,
        "start_time": "2023-03-23T17:01:15.635Z"
      },
      {
        "duration": 476,
        "start_time": "2023-03-23T17:01:15.663Z"
      },
      {
        "duration": 229,
        "start_time": "2023-03-23T17:01:16.141Z"
      },
      {
        "duration": 6706,
        "start_time": "2023-03-23T17:01:16.372Z"
      },
      {
        "duration": 1725,
        "start_time": "2023-03-23T17:01:23.081Z"
      },
      {
        "duration": 11588,
        "start_time": "2023-03-23T17:01:24.808Z"
      },
      {
        "duration": 1998,
        "start_time": "2023-03-23T17:01:36.398Z"
      },
      {
        "duration": 10022,
        "start_time": "2023-03-23T17:01:38.398Z"
      },
      {
        "duration": 551,
        "start_time": "2023-03-23T17:01:48.422Z"
      },
      {
        "duration": 176,
        "start_time": "2023-03-23T17:01:48.975Z"
      },
      {
        "duration": 239,
        "start_time": "2023-03-23T17:01:49.155Z"
      },
      {
        "duration": 425,
        "start_time": "2023-03-23T17:01:49.396Z"
      },
      {
        "duration": 188,
        "start_time": "2023-03-23T17:01:49.823Z"
      },
      {
        "duration": 317,
        "start_time": "2023-03-23T17:01:50.013Z"
      },
      {
        "duration": 308,
        "start_time": "2023-03-23T17:01:50.342Z"
      },
      {
        "duration": 467,
        "start_time": "2023-03-23T17:01:50.653Z"
      },
      {
        "duration": 6,
        "start_time": "2023-03-23T17:01:51.122Z"
      },
      {
        "duration": 311,
        "start_time": "2023-03-23T17:01:51.130Z"
      },
      {
        "duration": 156,
        "start_time": "2023-03-23T17:01:51.451Z"
      },
      {
        "duration": 281,
        "start_time": "2023-03-23T17:01:51.609Z"
      },
      {
        "duration": 4,
        "start_time": "2023-03-23T17:01:51.891Z"
      },
      {
        "duration": 39,
        "start_time": "2023-03-23T17:01:51.896Z"
      },
      {
        "duration": 6843,
        "start_time": "2023-03-23T17:01:51.949Z"
      },
      {
        "duration": 959,
        "start_time": "2023-03-23T17:01:58.794Z"
      },
      {
        "duration": 16,
        "start_time": "2023-03-23T17:01:59.755Z"
      },
      {
        "duration": 18,
        "start_time": "2023-03-23T17:01:59.773Z"
      },
      {
        "duration": 11,
        "start_time": "2023-03-23T17:01:59.793Z"
      },
      {
        "duration": 59,
        "start_time": "2023-03-23T17:01:59.806Z"
      },
      {
        "duration": 113,
        "start_time": "2023-03-23T17:01:59.867Z"
      },
      {
        "duration": 6,
        "start_time": "2023-03-23T17:01:59.982Z"
      },
      {
        "duration": 135,
        "start_time": "2023-03-23T17:01:59.990Z"
      },
      {
        "duration": 77,
        "start_time": "2023-03-23T17:02:00.127Z"
      },
      {
        "duration": 587,
        "start_time": "2023-03-23T17:02:00.206Z"
      },
      {
        "duration": 16,
        "start_time": "2023-03-23T17:02:00.795Z"
      },
      {
        "duration": 387,
        "start_time": "2023-03-23T17:02:00.813Z"
      },
      {
        "duration": 289,
        "start_time": "2023-03-23T17:02:01.202Z"
      },
      {
        "duration": 199,
        "start_time": "2023-03-23T17:02:01.493Z"
      },
      {
        "duration": 5,
        "start_time": "2023-03-23T17:02:01.694Z"
      },
      {
        "duration": 74,
        "start_time": "2023-03-23T17:02:01.700Z"
      },
      {
        "duration": 36,
        "start_time": "2023-03-23T17:02:01.776Z"
      },
      {
        "duration": 358,
        "start_time": "2023-03-23T17:02:01.814Z"
      },
      {
        "duration": 112,
        "start_time": "2023-03-23T17:02:02.174Z"
      },
      {
        "duration": 270,
        "start_time": "2023-03-23T17:02:02.288Z"
      },
      {
        "duration": 41,
        "start_time": "2023-03-23T17:02:02.560Z"
      },
      {
        "duration": 312,
        "start_time": "2023-03-23T17:02:02.603Z"
      },
      {
        "duration": 27,
        "start_time": "2023-03-23T17:02:02.918Z"
      },
      {
        "duration": 2092,
        "start_time": "2023-03-23T17:02:02.948Z"
      },
      {
        "duration": 5,
        "start_time": "2023-03-23T17:02:36.994Z"
      },
      {
        "duration": 193,
        "start_time": "2023-03-23T18:39:54.063Z"
      },
      {
        "duration": 23,
        "start_time": "2023-03-23T18:42:59.284Z"
      },
      {
        "duration": 1850,
        "start_time": "2023-03-23T18:45:53.424Z"
      },
      {
        "duration": 4,
        "start_time": "2023-03-23T18:45:55.277Z"
      },
      {
        "duration": 9475,
        "start_time": "2023-03-23T18:45:55.282Z"
      },
      {
        "duration": 3,
        "start_time": "2023-03-23T18:46:04.759Z"
      },
      {
        "duration": 10,
        "start_time": "2023-03-23T18:46:04.764Z"
      },
      {
        "duration": 11,
        "start_time": "2023-03-23T18:46:04.776Z"
      },
      {
        "duration": 542,
        "start_time": "2023-03-23T18:46:04.789Z"
      },
      {
        "duration": 190,
        "start_time": "2023-03-23T18:46:05.332Z"
      },
      {
        "duration": 4142,
        "start_time": "2023-03-23T18:46:05.523Z"
      },
      {
        "duration": 1444,
        "start_time": "2023-03-23T18:46:09.668Z"
      },
      {
        "duration": 10450,
        "start_time": "2023-03-23T18:46:11.114Z"
      },
      {
        "duration": 1897,
        "start_time": "2023-03-23T18:46:21.566Z"
      },
      {
        "duration": 12712,
        "start_time": "2023-03-23T18:46:23.465Z"
      },
      {
        "duration": 588,
        "start_time": "2023-03-23T18:46:36.179Z"
      },
      {
        "duration": 160,
        "start_time": "2023-03-23T18:46:36.768Z"
      },
      {
        "duration": 244,
        "start_time": "2023-03-23T18:46:36.931Z"
      },
      {
        "duration": 421,
        "start_time": "2023-03-23T18:46:37.177Z"
      },
      {
        "duration": 165,
        "start_time": "2023-03-23T18:46:37.600Z"
      },
      {
        "duration": 304,
        "start_time": "2023-03-23T18:46:37.767Z"
      },
      {
        "duration": 257,
        "start_time": "2023-03-23T18:46:38.072Z"
      },
      {
        "duration": 425,
        "start_time": "2023-03-23T18:46:38.331Z"
      },
      {
        "duration": 5,
        "start_time": "2023-03-23T18:46:38.757Z"
      },
      {
        "duration": 277,
        "start_time": "2023-03-23T18:46:38.764Z"
      },
      {
        "duration": 149,
        "start_time": "2023-03-23T18:46:39.043Z"
      },
      {
        "duration": 273,
        "start_time": "2023-03-23T18:46:39.195Z"
      },
      {
        "duration": 3,
        "start_time": "2023-03-23T18:46:39.470Z"
      },
      {
        "duration": 29,
        "start_time": "2023-03-23T18:46:39.474Z"
      },
      {
        "duration": 5948,
        "start_time": "2023-03-23T18:46:39.507Z"
      },
      {
        "duration": 952,
        "start_time": "2023-03-23T18:46:45.457Z"
      },
      {
        "duration": 13,
        "start_time": "2023-03-23T18:46:46.411Z"
      },
      {
        "duration": 25,
        "start_time": "2023-03-23T18:46:46.426Z"
      },
      {
        "duration": 11,
        "start_time": "2023-03-23T18:46:46.452Z"
      },
      {
        "duration": 29,
        "start_time": "2023-03-23T18:46:46.464Z"
      },
      {
        "duration": 111,
        "start_time": "2023-03-23T18:46:46.494Z"
      },
      {
        "duration": 7,
        "start_time": "2023-03-23T18:46:46.607Z"
      },
      {
        "duration": 127,
        "start_time": "2023-03-23T18:46:46.617Z"
      },
      {
        "duration": 61,
        "start_time": "2023-03-23T18:46:46.746Z"
      },
      {
        "duration": 547,
        "start_time": "2023-03-23T18:46:46.809Z"
      },
      {
        "duration": 15,
        "start_time": "2023-03-23T18:46:47.357Z"
      },
      {
        "duration": 318,
        "start_time": "2023-03-23T18:46:47.374Z"
      },
      {
        "duration": 269,
        "start_time": "2023-03-23T18:46:47.695Z"
      },
      {
        "duration": 159,
        "start_time": "2023-03-23T18:46:47.966Z"
      },
      {
        "duration": 5,
        "start_time": "2023-03-23T18:46:48.127Z"
      },
      {
        "duration": 7,
        "start_time": "2023-03-23T18:46:48.141Z"
      },
      {
        "duration": 10,
        "start_time": "2023-03-23T18:46:48.150Z"
      },
      {
        "duration": 279,
        "start_time": "2023-03-23T18:46:48.162Z"
      },
      {
        "duration": 113,
        "start_time": "2023-03-23T18:46:48.442Z"
      },
      {
        "duration": 250,
        "start_time": "2023-03-23T18:46:48.556Z"
      },
      {
        "duration": 21,
        "start_time": "2023-03-23T18:46:48.807Z"
      },
      {
        "duration": 217,
        "start_time": "2023-03-23T18:46:48.830Z"
      },
      {
        "duration": 7,
        "start_time": "2023-03-23T18:46:49.049Z"
      },
      {
        "duration": 1815,
        "start_time": "2023-03-23T18:46:49.058Z"
      },
      {
        "duration": 4,
        "start_time": "2023-03-23T18:46:50.875Z"
      },
      {
        "duration": 3,
        "start_time": "2023-03-23T19:13:44.553Z"
      },
      {
        "duration": 4,
        "start_time": "2023-03-23T19:13:47.057Z"
      },
      {
        "duration": 2743,
        "start_time": "2023-03-23T19:17:09.804Z"
      },
      {
        "duration": 2634,
        "start_time": "2023-03-23T19:17:33.614Z"
      },
      {
        "duration": 2796,
        "start_time": "2023-03-23T19:17:44.347Z"
      },
      {
        "duration": 2952,
        "start_time": "2023-03-23T19:17:55.732Z"
      },
      {
        "duration": 2801,
        "start_time": "2023-03-23T19:46:11.114Z"
      },
      {
        "duration": 1603,
        "start_time": "2023-03-23T19:47:21.901Z"
      },
      {
        "duration": 4,
        "start_time": "2023-03-23T19:47:23.506Z"
      },
      {
        "duration": 8864,
        "start_time": "2023-03-23T19:47:23.511Z"
      },
      {
        "duration": 2,
        "start_time": "2023-03-23T19:47:32.377Z"
      },
      {
        "duration": 26,
        "start_time": "2023-03-23T19:47:32.380Z"
      },
      {
        "duration": 19,
        "start_time": "2023-03-23T19:47:32.408Z"
      },
      {
        "duration": 534,
        "start_time": "2023-03-23T19:47:32.428Z"
      },
      {
        "duration": 56,
        "start_time": "2023-03-23T19:47:32.963Z"
      },
      {
        "duration": 1475,
        "start_time": "2023-03-23T19:47:37.357Z"
      },
      {
        "duration": 3,
        "start_time": "2023-03-23T19:47:38.834Z"
      },
      {
        "duration": 8605,
        "start_time": "2023-03-23T19:47:38.845Z"
      },
      {
        "duration": 2,
        "start_time": "2023-03-23T19:47:47.452Z"
      },
      {
        "duration": 13,
        "start_time": "2023-03-23T19:47:47.456Z"
      },
      {
        "duration": 10,
        "start_time": "2023-03-23T19:47:47.470Z"
      },
      {
        "duration": 552,
        "start_time": "2023-03-23T19:47:47.482Z"
      },
      {
        "duration": 155,
        "start_time": "2023-03-23T19:47:48.035Z"
      },
      {
        "duration": 5413,
        "start_time": "2023-03-23T19:47:48.192Z"
      },
      {
        "duration": 1443,
        "start_time": "2023-03-23T19:47:53.606Z"
      },
      {
        "duration": 11028,
        "start_time": "2023-03-23T19:47:55.051Z"
      },
      {
        "duration": 1841,
        "start_time": "2023-03-23T19:48:06.081Z"
      },
      {
        "duration": 12127,
        "start_time": "2023-03-23T19:48:07.924Z"
      },
      {
        "duration": 506,
        "start_time": "2023-03-23T19:48:20.054Z"
      },
      {
        "duration": 140,
        "start_time": "2023-03-23T19:48:20.562Z"
      },
      {
        "duration": 199,
        "start_time": "2023-03-23T19:48:20.704Z"
      },
      {
        "duration": 393,
        "start_time": "2023-03-23T19:48:20.905Z"
      },
      {
        "duration": 135,
        "start_time": "2023-03-23T19:48:21.300Z"
      },
      {
        "duration": 286,
        "start_time": "2023-03-23T19:48:21.437Z"
      },
      {
        "duration": 224,
        "start_time": "2023-03-23T19:48:21.726Z"
      },
      {
        "duration": 360,
        "start_time": "2023-03-23T19:48:21.952Z"
      },
      {
        "duration": 6,
        "start_time": "2023-03-23T19:48:22.314Z"
      },
      {
        "duration": 269,
        "start_time": "2023-03-23T19:48:22.322Z"
      },
      {
        "duration": 140,
        "start_time": "2023-03-23T19:48:22.593Z"
      },
      {
        "duration": 245,
        "start_time": "2023-03-23T19:48:22.735Z"
      },
      {
        "duration": 3,
        "start_time": "2023-03-23T19:48:22.981Z"
      },
      {
        "duration": 29,
        "start_time": "2023-03-23T19:48:22.986Z"
      },
      {
        "duration": 5707,
        "start_time": "2023-03-23T19:48:23.016Z"
      },
      {
        "duration": 791,
        "start_time": "2023-03-23T19:48:28.725Z"
      },
      {
        "duration": 23,
        "start_time": "2023-03-23T19:48:29.518Z"
      },
      {
        "duration": 12,
        "start_time": "2023-03-23T19:48:29.543Z"
      },
      {
        "duration": 11,
        "start_time": "2023-03-23T19:48:29.557Z"
      },
      {
        "duration": 28,
        "start_time": "2023-03-23T19:48:29.570Z"
      },
      {
        "duration": 78,
        "start_time": "2023-03-23T19:48:29.600Z"
      },
      {
        "duration": 6,
        "start_time": "2023-03-23T19:48:29.680Z"
      },
      {
        "duration": 89,
        "start_time": "2023-03-23T19:48:29.687Z"
      },
      {
        "duration": 42,
        "start_time": "2023-03-23T19:48:29.778Z"
      },
      {
        "duration": 447,
        "start_time": "2023-03-23T19:48:29.822Z"
      },
      {
        "duration": 15,
        "start_time": "2023-03-23T19:48:30.271Z"
      },
      {
        "duration": 281,
        "start_time": "2023-03-23T19:48:30.287Z"
      },
      {
        "duration": 263,
        "start_time": "2023-03-23T19:48:30.573Z"
      },
      {
        "duration": 156,
        "start_time": "2023-03-23T19:48:30.841Z"
      },
      {
        "duration": 5,
        "start_time": "2023-03-23T19:48:30.998Z"
      },
      {
        "duration": 25,
        "start_time": "2023-03-23T19:48:31.005Z"
      },
      {
        "duration": 27,
        "start_time": "2023-03-23T19:48:31.032Z"
      },
      {
        "duration": 319,
        "start_time": "2023-03-23T19:48:31.061Z"
      },
      {
        "duration": 95,
        "start_time": "2023-03-23T19:48:31.382Z"
      },
      {
        "duration": 229,
        "start_time": "2023-03-23T19:48:31.479Z"
      },
      {
        "duration": 39,
        "start_time": "2023-03-23T19:48:31.710Z"
      },
      {
        "duration": 252,
        "start_time": "2023-03-23T19:48:31.751Z"
      },
      {
        "duration": 7,
        "start_time": "2023-03-23T19:48:32.004Z"
      },
      {
        "duration": 1608,
        "start_time": "2023-03-23T19:48:32.013Z"
      },
      {
        "duration": 0,
        "start_time": "2023-03-23T19:48:33.623Z"
      },
      {
        "duration": 0,
        "start_time": "2023-03-23T19:48:33.624Z"
      },
      {
        "duration": 0,
        "start_time": "2023-03-23T19:48:33.625Z"
      },
      {
        "duration": 13,
        "start_time": "2023-03-23T19:49:23.963Z"
      },
      {
        "duration": 228,
        "start_time": "2023-03-23T19:49:42.380Z"
      },
      {
        "duration": 8,
        "start_time": "2023-03-23T19:49:44.930Z"
      },
      {
        "duration": 1677,
        "start_time": "2023-03-23T19:49:45.835Z"
      },
      {
        "duration": 4,
        "start_time": "2023-03-23T19:49:49.298Z"
      },
      {
        "duration": 3,
        "start_time": "2023-03-23T19:49:53.359Z"
      },
      {
        "duration": 4283,
        "start_time": "2023-03-23T19:49:53.962Z"
      },
      {
        "duration": 3,
        "start_time": "2023-03-23T19:50:18.064Z"
      },
      {
        "duration": 4173,
        "start_time": "2023-03-23T19:50:18.865Z"
      },
      {
        "duration": 4,
        "start_time": "2023-03-23T19:50:32.581Z"
      },
      {
        "duration": 3769,
        "start_time": "2023-03-23T19:50:32.986Z"
      },
      {
        "duration": 3,
        "start_time": "2023-03-23T19:51:22.385Z"
      },
      {
        "duration": 5017,
        "start_time": "2023-03-23T19:51:23.283Z"
      },
      {
        "duration": 3,
        "start_time": "2023-03-23T19:52:00.520Z"
      },
      {
        "duration": 6195,
        "start_time": "2023-03-23T19:52:01.533Z"
      },
      {
        "duration": 4,
        "start_time": "2023-03-23T19:52:51.858Z"
      },
      {
        "duration": 6221,
        "start_time": "2023-03-23T19:52:52.207Z"
      },
      {
        "duration": 4,
        "start_time": "2023-03-23T19:53:26.897Z"
      },
      {
        "duration": 6505,
        "start_time": "2023-03-23T19:53:27.803Z"
      },
      {
        "duration": 3,
        "start_time": "2023-03-23T19:53:45.693Z"
      },
      {
        "duration": 4262,
        "start_time": "2023-03-23T19:53:47.023Z"
      },
      {
        "duration": 3,
        "start_time": "2023-03-23T19:54:39.814Z"
      },
      {
        "duration": 6252,
        "start_time": "2023-03-23T19:54:41.697Z"
      },
      {
        "duration": 3,
        "start_time": "2023-03-23T19:55:05.605Z"
      },
      {
        "duration": 7710,
        "start_time": "2023-03-23T19:55:05.994Z"
      },
      {
        "duration": 3,
        "start_time": "2023-03-23T19:56:41.716Z"
      },
      {
        "duration": 7159,
        "start_time": "2023-03-23T19:56:42.065Z"
      },
      {
        "duration": 3,
        "start_time": "2023-03-23T19:57:04.293Z"
      },
      {
        "duration": 130818,
        "start_time": "2023-03-23T19:57:04.732Z"
      },
      {
        "duration": 14,
        "start_time": "2023-03-23T19:59:56.188Z"
      },
      {
        "duration": 4,
        "start_time": "2023-03-23T20:00:08.003Z"
      },
      {
        "duration": 4681,
        "start_time": "2023-03-23T20:00:08.958Z"
      },
      {
        "duration": 3,
        "start_time": "2023-03-23T20:00:57.027Z"
      },
      {
        "duration": 60775,
        "start_time": "2023-03-23T20:00:57.558Z"
      },
      {
        "duration": 4,
        "start_time": "2023-03-23T20:02:14.553Z"
      },
      {
        "duration": 26284,
        "start_time": "2023-03-23T20:02:14.990Z"
      },
      {
        "duration": 4,
        "start_time": "2023-03-23T20:03:04.482Z"
      },
      {
        "duration": 25896,
        "start_time": "2023-03-23T20:03:05.027Z"
      },
      {
        "duration": 4,
        "start_time": "2023-03-23T20:04:29.330Z"
      },
      {
        "duration": 7783,
        "start_time": "2023-03-23T20:04:29.912Z"
      },
      {
        "duration": 3,
        "start_time": "2023-03-23T20:20:32.225Z"
      },
      {
        "duration": 3,
        "start_time": "2023-03-23T20:20:55.001Z"
      },
      {
        "duration": 4587,
        "start_time": "2023-03-23T20:20:55.541Z"
      },
      {
        "duration": 6,
        "start_time": "2023-03-23T20:21:23.841Z"
      },
      {
        "duration": 6184,
        "start_time": "2023-03-23T20:21:24.310Z"
      },
      {
        "duration": 8,
        "start_time": "2023-03-23T20:21:47.237Z"
      },
      {
        "duration": 11591,
        "start_time": "2023-03-23T20:21:47.732Z"
      },
      {
        "duration": 6,
        "start_time": "2023-03-23T20:22:27.018Z"
      },
      {
        "duration": 11727,
        "start_time": "2023-03-23T20:22:51.220Z"
      },
      {
        "duration": 5,
        "start_time": "2023-03-23T20:23:14.467Z"
      },
      {
        "duration": 0,
        "start_time": "2023-03-23T20:23:20.763Z"
      },
      {
        "duration": 0,
        "start_time": "2023-03-23T20:23:20.764Z"
      },
      {
        "duration": 3,
        "start_time": "2023-03-23T20:23:32.289Z"
      },
      {
        "duration": 6668,
        "start_time": "2023-03-23T20:23:32.732Z"
      },
      {
        "duration": 4,
        "start_time": "2023-03-23T20:23:43.990Z"
      },
      {
        "duration": 6479,
        "start_time": "2023-03-23T20:23:44.323Z"
      },
      {
        "duration": 9,
        "start_time": "2023-03-23T20:25:20.536Z"
      },
      {
        "duration": 11,
        "start_time": "2023-03-23T20:25:59.024Z"
      },
      {
        "duration": 3,
        "start_time": "2023-03-23T20:26:02.981Z"
      },
      {
        "duration": 20,
        "start_time": "2023-03-23T20:26:03.387Z"
      },
      {
        "duration": 3,
        "start_time": "2023-03-23T20:26:27.356Z"
      },
      {
        "duration": 23,
        "start_time": "2023-03-23T20:26:27.834Z"
      },
      {
        "duration": 1720,
        "start_time": "2023-03-23T20:30:44.850Z"
      },
      {
        "duration": 3,
        "start_time": "2023-03-23T20:30:46.572Z"
      },
      {
        "duration": 9290,
        "start_time": "2023-03-23T20:30:46.577Z"
      },
      {
        "duration": 2,
        "start_time": "2023-03-23T20:30:55.872Z"
      },
      {
        "duration": 10,
        "start_time": "2023-03-23T20:30:55.880Z"
      },
      {
        "duration": 14,
        "start_time": "2023-03-23T20:30:55.892Z"
      },
      {
        "duration": 559,
        "start_time": "2023-03-23T20:30:55.908Z"
      },
      {
        "duration": 179,
        "start_time": "2023-03-23T20:30:56.469Z"
      },
      {
        "duration": 6411,
        "start_time": "2023-03-23T20:30:56.655Z"
      },
      {
        "duration": 1587,
        "start_time": "2023-03-23T20:31:03.068Z"
      },
      {
        "duration": 11236,
        "start_time": "2023-03-23T20:31:04.657Z"
      },
      {
        "duration": 1928,
        "start_time": "2023-03-23T20:31:15.895Z"
      },
      {
        "duration": 12330,
        "start_time": "2023-03-23T20:31:17.824Z"
      },
      {
        "duration": 540,
        "start_time": "2023-03-23T20:31:30.156Z"
      },
      {
        "duration": 157,
        "start_time": "2023-03-23T20:31:30.698Z"
      },
      {
        "duration": 240,
        "start_time": "2023-03-23T20:31:30.856Z"
      },
      {
        "duration": 426,
        "start_time": "2023-03-23T20:31:31.098Z"
      },
      {
        "duration": 144,
        "start_time": "2023-03-23T20:31:31.526Z"
      },
      {
        "duration": 289,
        "start_time": "2023-03-23T20:31:31.672Z"
      },
      {
        "duration": 257,
        "start_time": "2023-03-23T20:31:31.964Z"
      },
      {
        "duration": 406,
        "start_time": "2023-03-23T20:31:32.223Z"
      },
      {
        "duration": 9,
        "start_time": "2023-03-23T20:31:32.632Z"
      },
      {
        "duration": 280,
        "start_time": "2023-03-23T20:31:32.642Z"
      },
      {
        "duration": 148,
        "start_time": "2023-03-23T20:31:32.924Z"
      },
      {
        "duration": 285,
        "start_time": "2023-03-23T20:31:33.074Z"
      },
      {
        "duration": 4,
        "start_time": "2023-03-23T20:31:33.361Z"
      },
      {
        "duration": 37,
        "start_time": "2023-03-23T20:31:33.366Z"
      },
      {
        "duration": 6312,
        "start_time": "2023-03-23T20:31:33.407Z"
      },
      {
        "duration": 888,
        "start_time": "2023-03-23T20:31:39.720Z"
      },
      {
        "duration": 13,
        "start_time": "2023-03-23T20:31:40.610Z"
      },
      {
        "duration": 29,
        "start_time": "2023-03-23T20:31:40.624Z"
      },
      {
        "duration": 12,
        "start_time": "2023-03-23T20:31:40.655Z"
      },
      {
        "duration": 27,
        "start_time": "2023-03-23T20:31:40.669Z"
      },
      {
        "duration": 105,
        "start_time": "2023-03-23T20:31:40.698Z"
      },
      {
        "duration": 7,
        "start_time": "2023-03-23T20:31:40.805Z"
      },
      {
        "duration": 107,
        "start_time": "2023-03-23T20:31:40.814Z"
      },
      {
        "duration": 54,
        "start_time": "2023-03-23T20:31:40.923Z"
      },
      {
        "duration": 544,
        "start_time": "2023-03-23T20:31:40.979Z"
      },
      {
        "duration": 23,
        "start_time": "2023-03-23T20:31:41.526Z"
      },
      {
        "duration": 312,
        "start_time": "2023-03-23T20:31:41.553Z"
      },
      {
        "duration": 291,
        "start_time": "2023-03-23T20:31:41.868Z"
      },
      {
        "duration": 195,
        "start_time": "2023-03-23T20:31:42.162Z"
      },
      {
        "duration": 5,
        "start_time": "2023-03-23T20:31:42.359Z"
      },
      {
        "duration": 14,
        "start_time": "2023-03-23T20:31:42.367Z"
      },
      {
        "duration": 6,
        "start_time": "2023-03-23T20:31:42.384Z"
      },
      {
        "duration": 360,
        "start_time": "2023-03-23T20:31:42.393Z"
      },
      {
        "duration": 122,
        "start_time": "2023-03-23T20:31:42.755Z"
      },
      {
        "duration": 254,
        "start_time": "2023-03-23T20:31:42.879Z"
      },
      {
        "duration": 27,
        "start_time": "2023-03-23T20:31:43.141Z"
      },
      {
        "duration": 220,
        "start_time": "2023-03-23T20:31:43.170Z"
      },
      {
        "duration": 9,
        "start_time": "2023-03-23T20:31:43.392Z"
      },
      {
        "duration": 1781,
        "start_time": "2023-03-23T20:31:43.402Z"
      },
      {
        "duration": 5,
        "start_time": "2023-03-23T20:31:45.185Z"
      },
      {
        "duration": 26,
        "start_time": "2023-03-23T20:31:45.192Z"
      },
      {
        "duration": 6707,
        "start_time": "2023-03-23T20:31:45.220Z"
      },
      {
        "duration": 3,
        "start_time": "2023-03-23T20:31:51.929Z"
      },
      {
        "duration": 467060,
        "start_time": "2023-03-23T20:31:51.934Z"
      },
      {
        "duration": 0,
        "start_time": "2023-03-23T20:39:38.996Z"
      },
      {
        "duration": 4,
        "start_time": "2023-03-23T20:39:43.227Z"
      },
      {
        "duration": 2,
        "start_time": "2023-03-23T20:39:46.390Z"
      },
      {
        "duration": 28468,
        "start_time": "2023-03-23T20:39:47.115Z"
      },
      {
        "duration": 1897,
        "start_time": "2023-03-24T04:23:46.737Z"
      },
      {
        "duration": 4,
        "start_time": "2023-03-24T04:23:48.636Z"
      },
      {
        "duration": 8142,
        "start_time": "2023-03-24T04:23:48.641Z"
      },
      {
        "duration": 3,
        "start_time": "2023-03-24T04:23:56.786Z"
      },
      {
        "duration": 12,
        "start_time": "2023-03-24T04:23:56.790Z"
      },
      {
        "duration": 11,
        "start_time": "2023-03-24T04:23:56.804Z"
      },
      {
        "duration": 517,
        "start_time": "2023-03-24T04:23:56.817Z"
      },
      {
        "duration": 190,
        "start_time": "2023-03-24T04:23:57.336Z"
      },
      {
        "duration": 3718,
        "start_time": "2023-03-24T04:23:57.528Z"
      },
      {
        "duration": 1527,
        "start_time": "2023-03-24T04:24:01.248Z"
      },
      {
        "duration": 12002,
        "start_time": "2023-03-24T04:24:02.776Z"
      },
      {
        "duration": 1778,
        "start_time": "2023-03-24T04:24:14.780Z"
      },
      {
        "duration": 11053,
        "start_time": "2023-03-24T04:24:16.560Z"
      },
      {
        "duration": 519,
        "start_time": "2023-03-24T04:24:27.618Z"
      },
      {
        "duration": 130,
        "start_time": "2023-03-24T04:24:28.139Z"
      },
      {
        "duration": 204,
        "start_time": "2023-03-24T04:24:28.271Z"
      },
      {
        "duration": 370,
        "start_time": "2023-03-24T04:24:28.477Z"
      },
      {
        "duration": 137,
        "start_time": "2023-03-24T04:24:28.850Z"
      },
      {
        "duration": 289,
        "start_time": "2023-03-24T04:24:28.989Z"
      },
      {
        "duration": 280,
        "start_time": "2023-03-24T04:24:29.280Z"
      },
      {
        "duration": 388,
        "start_time": "2023-03-24T04:24:29.562Z"
      },
      {
        "duration": 6,
        "start_time": "2023-03-24T04:24:29.952Z"
      },
      {
        "duration": 293,
        "start_time": "2023-03-24T04:24:29.960Z"
      },
      {
        "duration": 141,
        "start_time": "2023-03-24T04:24:30.255Z"
      },
      {
        "duration": 295,
        "start_time": "2023-03-24T04:24:30.398Z"
      },
      {
        "duration": 3,
        "start_time": "2023-03-24T04:24:30.695Z"
      },
      {
        "duration": 53,
        "start_time": "2023-03-24T04:24:30.700Z"
      },
      {
        "duration": 6398,
        "start_time": "2023-03-24T04:24:30.757Z"
      },
      {
        "duration": 813,
        "start_time": "2023-03-24T04:24:37.157Z"
      },
      {
        "duration": 14,
        "start_time": "2023-03-24T04:24:37.972Z"
      },
      {
        "duration": 19,
        "start_time": "2023-03-24T04:24:37.988Z"
      },
      {
        "duration": 10,
        "start_time": "2023-03-24T04:24:38.019Z"
      },
      {
        "duration": 33,
        "start_time": "2023-03-24T04:24:38.031Z"
      },
      {
        "duration": 96,
        "start_time": "2023-03-24T04:24:38.066Z"
      },
      {
        "duration": 8,
        "start_time": "2023-03-24T04:24:38.165Z"
      },
      {
        "duration": 111,
        "start_time": "2023-03-24T04:24:38.175Z"
      },
      {
        "duration": 66,
        "start_time": "2023-03-24T04:24:38.288Z"
      },
      {
        "duration": 479,
        "start_time": "2023-03-24T04:24:38.356Z"
      },
      {
        "duration": 14,
        "start_time": "2023-03-24T04:24:38.837Z"
      },
      {
        "duration": 257,
        "start_time": "2023-03-24T04:24:38.852Z"
      },
      {
        "duration": 248,
        "start_time": "2023-03-24T04:24:39.111Z"
      },
      {
        "duration": 159,
        "start_time": "2023-03-24T04:24:39.361Z"
      },
      {
        "duration": 6,
        "start_time": "2023-03-24T04:24:39.522Z"
      },
      {
        "duration": 13,
        "start_time": "2023-03-24T04:24:39.530Z"
      },
      {
        "duration": 9,
        "start_time": "2023-03-24T04:24:39.545Z"
      },
      {
        "duration": 279,
        "start_time": "2023-03-24T04:24:39.556Z"
      },
      {
        "duration": 93,
        "start_time": "2023-03-24T04:24:39.837Z"
      },
      {
        "duration": 236,
        "start_time": "2023-03-24T04:24:39.932Z"
      },
      {
        "duration": 30,
        "start_time": "2023-03-24T04:24:40.171Z"
      },
      {
        "duration": 176,
        "start_time": "2023-03-24T04:24:40.219Z"
      },
      {
        "duration": 22,
        "start_time": "2023-03-24T04:24:40.397Z"
      },
      {
        "duration": 1675,
        "start_time": "2023-03-24T04:24:40.420Z"
      },
      {
        "duration": 8,
        "start_time": "2023-03-24T04:24:42.097Z"
      },
      {
        "duration": 16,
        "start_time": "2023-03-24T04:24:42.107Z"
      },
      {
        "duration": 6903,
        "start_time": "2023-03-24T04:24:42.125Z"
      },
      {
        "duration": 4,
        "start_time": "2023-03-24T04:24:49.030Z"
      },
      {
        "duration": 422489,
        "start_time": "2023-03-24T04:24:49.036Z"
      },
      {
        "duration": 4,
        "start_time": "2023-03-24T04:31:51.529Z"
      },
      {
        "duration": 28828,
        "start_time": "2023-03-24T04:31:51.535Z"
      },
      {
        "duration": 4,
        "start_time": "2023-03-24T04:32:20.368Z"
      },
      {
        "duration": 22,
        "start_time": "2023-03-24T04:32:20.375Z"
      },
      {
        "duration": 8006,
        "start_time": "2023-03-24T04:32:20.399Z"
      },
      {
        "duration": 206,
        "start_time": "2023-03-24T04:33:04.325Z"
      },
      {
        "duration": 14,
        "start_time": "2023-03-24T04:34:14.590Z"
      },
      {
        "duration": 15,
        "start_time": "2023-03-24T04:34:24.753Z"
      },
      {
        "duration": 109975,
        "start_time": "2023-03-24T04:34:57.503Z"
      },
      {
        "duration": 625873,
        "start_time": "2023-03-24T04:37:02.446Z"
      },
      {
        "duration": 109,
        "start_time": "2023-03-24T04:48:32.633Z"
      },
      {
        "duration": 4,
        "start_time": "2023-03-24T04:49:08.904Z"
      },
      {
        "duration": 1767,
        "start_time": "2023-03-24T04:52:12.285Z"
      },
      {
        "duration": 5,
        "start_time": "2023-03-24T04:52:14.054Z"
      },
      {
        "duration": 9250,
        "start_time": "2023-03-24T04:52:14.060Z"
      },
      {
        "duration": 3,
        "start_time": "2023-03-24T04:52:23.312Z"
      },
      {
        "duration": 37,
        "start_time": "2023-03-24T04:52:23.316Z"
      },
      {
        "duration": 17,
        "start_time": "2023-03-24T04:52:23.354Z"
      },
      {
        "duration": 565,
        "start_time": "2023-03-24T04:52:23.372Z"
      },
      {
        "duration": 177,
        "start_time": "2023-03-24T04:52:23.939Z"
      },
      {
        "duration": 5745,
        "start_time": "2023-03-24T04:52:24.118Z"
      },
      {
        "duration": 1489,
        "start_time": "2023-03-24T04:52:29.866Z"
      },
      {
        "duration": 10760,
        "start_time": "2023-03-24T04:52:31.357Z"
      },
      {
        "duration": 1919,
        "start_time": "2023-03-24T04:52:42.119Z"
      },
      {
        "duration": 3541,
        "start_time": "2023-03-24T04:52:44.040Z"
      },
      {
        "duration": 486,
        "start_time": "2023-03-24T04:52:47.582Z"
      },
      {
        "duration": 130,
        "start_time": "2023-03-24T04:52:48.070Z"
      },
      {
        "duration": 194,
        "start_time": "2023-03-24T04:52:48.201Z"
      },
      {
        "duration": 361,
        "start_time": "2023-03-24T04:52:48.397Z"
      },
      {
        "duration": 124,
        "start_time": "2023-03-24T04:52:48.760Z"
      },
      {
        "duration": 267,
        "start_time": "2023-03-24T04:52:48.886Z"
      },
      {
        "duration": 275,
        "start_time": "2023-03-24T04:52:49.156Z"
      },
      {
        "duration": 370,
        "start_time": "2023-03-24T04:52:49.433Z"
      },
      {
        "duration": 20,
        "start_time": "2023-03-24T04:52:49.805Z"
      },
      {
        "duration": 277,
        "start_time": "2023-03-24T04:52:49.831Z"
      },
      {
        "duration": 122,
        "start_time": "2023-03-24T04:52:50.110Z"
      },
      {
        "duration": 300,
        "start_time": "2023-03-24T04:52:50.234Z"
      },
      {
        "duration": 3,
        "start_time": "2023-03-24T04:52:50.536Z"
      },
      {
        "duration": 34,
        "start_time": "2023-03-24T04:52:50.541Z"
      },
      {
        "duration": 6125,
        "start_time": "2023-03-24T04:52:50.579Z"
      },
      {
        "duration": 783,
        "start_time": "2023-03-24T04:52:56.705Z"
      },
      {
        "duration": 14,
        "start_time": "2023-03-24T04:52:57.490Z"
      },
      {
        "duration": 36,
        "start_time": "2023-03-24T04:52:57.506Z"
      },
      {
        "duration": 21,
        "start_time": "2023-03-24T04:52:57.544Z"
      },
      {
        "duration": 30,
        "start_time": "2023-03-24T04:52:57.567Z"
      },
      {
        "duration": 79,
        "start_time": "2023-03-24T04:52:57.600Z"
      },
      {
        "duration": 6,
        "start_time": "2023-03-24T04:52:57.681Z"
      },
      {
        "duration": 95,
        "start_time": "2023-03-24T04:52:57.688Z"
      },
      {
        "duration": 58,
        "start_time": "2023-03-24T04:52:57.785Z"
      },
      {
        "duration": 438,
        "start_time": "2023-03-24T04:52:57.844Z"
      },
      {
        "duration": 14,
        "start_time": "2023-03-24T04:52:58.283Z"
      },
      {
        "duration": 207,
        "start_time": "2023-03-24T04:52:58.299Z"
      },
      {
        "duration": 248,
        "start_time": "2023-03-24T04:52:58.507Z"
      },
      {
        "duration": 139,
        "start_time": "2023-03-24T04:52:58.757Z"
      },
      {
        "duration": 6,
        "start_time": "2023-03-24T04:52:58.897Z"
      },
      {
        "duration": 11,
        "start_time": "2023-03-24T04:52:58.922Z"
      },
      {
        "duration": 9,
        "start_time": "2023-03-24T04:52:58.935Z"
      },
      {
        "duration": 269,
        "start_time": "2023-03-24T04:52:58.945Z"
      },
      {
        "duration": 79,
        "start_time": "2023-03-24T04:52:59.217Z"
      },
      {
        "duration": 246,
        "start_time": "2023-03-24T04:52:59.298Z"
      },
      {
        "duration": 24,
        "start_time": "2023-03-24T04:52:59.545Z"
      },
      {
        "duration": 171,
        "start_time": "2023-03-24T04:52:59.571Z"
      },
      {
        "duration": 8,
        "start_time": "2023-03-24T04:52:59.744Z"
      },
      {
        "duration": 1627,
        "start_time": "2023-03-24T04:52:59.753Z"
      },
      {
        "duration": 6,
        "start_time": "2023-03-24T04:53:01.382Z"
      },
      {
        "duration": 22,
        "start_time": "2023-03-24T04:53:01.389Z"
      },
      {
        "duration": 1718,
        "start_time": "2023-03-24T04:53:10.199Z"
      },
      {
        "duration": 5,
        "start_time": "2023-03-24T04:53:11.920Z"
      },
      {
        "duration": 8406,
        "start_time": "2023-03-24T04:53:11.927Z"
      },
      {
        "duration": 3,
        "start_time": "2023-03-24T04:53:20.336Z"
      },
      {
        "duration": 21,
        "start_time": "2023-03-24T04:53:20.340Z"
      },
      {
        "duration": 32,
        "start_time": "2023-03-24T04:53:20.363Z"
      },
      {
        "duration": 536,
        "start_time": "2023-03-24T04:53:20.397Z"
      },
      {
        "duration": 185,
        "start_time": "2023-03-24T04:53:20.935Z"
      },
      {
        "duration": 4546,
        "start_time": "2023-03-24T04:53:21.122Z"
      },
      {
        "duration": 1543,
        "start_time": "2023-03-24T04:53:25.672Z"
      },
      {
        "duration": 11717,
        "start_time": "2023-03-24T04:53:27.217Z"
      },
      {
        "duration": 1775,
        "start_time": "2023-03-24T04:53:38.936Z"
      },
      {
        "duration": 9553,
        "start_time": "2023-03-24T04:53:40.712Z"
      },
      {
        "duration": 467,
        "start_time": "2023-03-24T04:53:50.267Z"
      },
      {
        "duration": 117,
        "start_time": "2023-03-24T04:53:50.736Z"
      },
      {
        "duration": 200,
        "start_time": "2023-03-24T04:53:50.855Z"
      },
      {
        "duration": 377,
        "start_time": "2023-03-24T04:53:51.057Z"
      },
      {
        "duration": 145,
        "start_time": "2023-03-24T04:53:51.436Z"
      },
      {
        "duration": 271,
        "start_time": "2023-03-24T04:53:51.582Z"
      },
      {
        "duration": 286,
        "start_time": "2023-03-24T04:53:51.855Z"
      },
      {
        "duration": 440,
        "start_time": "2023-03-24T04:53:52.143Z"
      },
      {
        "duration": 6,
        "start_time": "2023-03-24T04:53:52.585Z"
      },
      {
        "duration": 312,
        "start_time": "2023-03-24T04:53:52.593Z"
      },
      {
        "duration": 138,
        "start_time": "2023-03-24T04:53:52.907Z"
      },
      {
        "duration": 274,
        "start_time": "2023-03-24T04:53:53.048Z"
      },
      {
        "duration": 3,
        "start_time": "2023-03-24T04:53:53.324Z"
      },
      {
        "duration": 29,
        "start_time": "2023-03-24T04:53:53.328Z"
      },
      {
        "duration": 6046,
        "start_time": "2023-03-24T04:53:53.361Z"
      },
      {
        "duration": 751,
        "start_time": "2023-03-24T04:53:59.409Z"
      },
      {
        "duration": 14,
        "start_time": "2023-03-24T04:54:00.162Z"
      },
      {
        "duration": 40,
        "start_time": "2023-03-24T04:54:00.178Z"
      },
      {
        "duration": 36,
        "start_time": "2023-03-24T04:54:00.220Z"
      },
      {
        "duration": 88,
        "start_time": "2023-03-24T04:54:00.258Z"
      },
      {
        "duration": 104,
        "start_time": "2023-03-24T04:54:00.348Z"
      },
      {
        "duration": 9,
        "start_time": "2023-03-24T04:54:00.454Z"
      },
      {
        "duration": 165,
        "start_time": "2023-03-24T04:54:00.465Z"
      },
      {
        "duration": 63,
        "start_time": "2023-03-24T04:54:00.632Z"
      },
      {
        "duration": 501,
        "start_time": "2023-03-24T04:54:00.697Z"
      },
      {
        "duration": 20,
        "start_time": "2023-03-24T04:54:01.201Z"
      },
      {
        "duration": 283,
        "start_time": "2023-03-24T04:54:01.223Z"
      },
      {
        "duration": 273,
        "start_time": "2023-03-24T04:54:01.508Z"
      },
      {
        "duration": 175,
        "start_time": "2023-03-24T04:54:01.783Z"
      },
      {
        "duration": 7,
        "start_time": "2023-03-24T04:54:01.960Z"
      },
      {
        "duration": 29,
        "start_time": "2023-03-24T04:54:01.970Z"
      },
      {
        "duration": 23,
        "start_time": "2023-03-24T04:54:02.001Z"
      },
      {
        "duration": 288,
        "start_time": "2023-03-24T04:54:02.026Z"
      },
      {
        "duration": 111,
        "start_time": "2023-03-24T04:54:02.316Z"
      },
      {
        "duration": 246,
        "start_time": "2023-03-24T04:54:02.429Z"
      },
      {
        "duration": 35,
        "start_time": "2023-03-24T04:54:02.676Z"
      },
      {
        "duration": 189,
        "start_time": "2023-03-24T04:54:02.712Z"
      },
      {
        "duration": 16,
        "start_time": "2023-03-24T04:54:02.903Z"
      },
      {
        "duration": 1711,
        "start_time": "2023-03-24T04:54:02.921Z"
      },
      {
        "duration": 6,
        "start_time": "2023-03-24T04:54:04.634Z"
      },
      {
        "duration": 31,
        "start_time": "2023-03-24T04:54:04.642Z"
      },
      {
        "duration": 7035,
        "start_time": "2023-03-24T04:54:04.675Z"
      },
      {
        "duration": 3,
        "start_time": "2023-03-24T04:54:11.711Z"
      },
      {
        "duration": 152,
        "start_time": "2023-03-24T04:54:11.716Z"
      },
      {
        "duration": 0,
        "start_time": "2023-03-24T04:54:11.871Z"
      },
      {
        "duration": 0,
        "start_time": "2023-03-24T04:54:11.872Z"
      },
      {
        "duration": 0,
        "start_time": "2023-03-24T04:54:11.874Z"
      },
      {
        "duration": 0,
        "start_time": "2023-03-24T04:54:11.875Z"
      },
      {
        "duration": 3,
        "start_time": "2023-03-24T04:54:15.587Z"
      },
      {
        "duration": 24445,
        "start_time": "2023-03-24T04:54:16.038Z"
      },
      {
        "duration": 3,
        "start_time": "2023-03-24T05:08:25.861Z"
      },
      {
        "duration": 25089,
        "start_time": "2023-03-24T05:08:26.453Z"
      },
      {
        "duration": 139,
        "start_time": "2023-03-24T05:11:31.412Z"
      },
      {
        "duration": 14,
        "start_time": "2023-03-24T05:11:42.108Z"
      },
      {
        "duration": 45741,
        "start_time": "2023-03-24T05:11:52.827Z"
      },
      {
        "duration": 0,
        "start_time": "2023-03-24T05:12:38.570Z"
      },
      {
        "duration": 144163,
        "start_time": "2023-03-24T05:12:40.632Z"
      },
      {
        "duration": 0,
        "start_time": "2023-03-24T05:15:04.797Z"
      },
      {
        "duration": 33,
        "start_time": "2023-03-24T05:15:21.604Z"
      },
      {
        "duration": 32,
        "start_time": "2023-03-24T05:15:56.216Z"
      },
      {
        "duration": 212491,
        "start_time": "2023-03-24T05:16:27.700Z"
      },
      {
        "duration": 7,
        "start_time": "2023-03-24T05:20:00.193Z"
      },
      {
        "duration": 45,
        "start_time": "2023-03-24T05:23:43.753Z"
      },
      {
        "duration": 74,
        "start_time": "2023-03-24T05:23:55.044Z"
      },
      {
        "duration": 45,
        "start_time": "2023-03-24T05:24:09.324Z"
      },
      {
        "duration": 5,
        "start_time": "2023-03-24T05:24:31.491Z"
      },
      {
        "duration": 8649,
        "start_time": "2023-03-24T05:24:57.223Z"
      },
      {
        "duration": 10752,
        "start_time": "2023-03-24T05:25:22.740Z"
      },
      {
        "duration": 10065,
        "start_time": "2023-03-24T05:25:39.414Z"
      },
      {
        "duration": 23282,
        "start_time": "2023-03-24T05:26:52.700Z"
      },
      {
        "duration": 15,
        "start_time": "2023-03-24T05:27:15.984Z"
      },
      {
        "duration": 3,
        "start_time": "2023-03-24T05:27:20.753Z"
      },
      {
        "duration": 25398,
        "start_time": "2023-03-24T05:27:21.171Z"
      },
      {
        "duration": 0,
        "start_time": "2023-03-24T05:27:46.571Z"
      },
      {
        "duration": 0,
        "start_time": "2023-03-24T05:27:46.572Z"
      },
      {
        "duration": 0,
        "start_time": "2023-03-24T05:27:46.573Z"
      },
      {
        "duration": 0,
        "start_time": "2023-03-24T05:27:46.575Z"
      },
      {
        "duration": 565,
        "start_time": "2023-03-24T05:30:54.264Z"
      },
      {
        "duration": 7,
        "start_time": "2023-03-24T05:36:59.514Z"
      },
      {
        "duration": 78,
        "start_time": "2023-03-24T05:48:12.952Z"
      },
      {
        "duration": 30,
        "start_time": "2023-03-24T05:48:26.776Z"
      },
      {
        "duration": 38,
        "start_time": "2023-03-24T05:48:30.175Z"
      },
      {
        "duration": 22,
        "start_time": "2023-03-24T05:48:44.695Z"
      },
      {
        "duration": 15,
        "start_time": "2023-03-24T05:48:54.671Z"
      },
      {
        "duration": 17,
        "start_time": "2023-03-24T05:49:25.950Z"
      },
      {
        "duration": 4,
        "start_time": "2023-03-24T05:49:29.545Z"
      },
      {
        "duration": 6,
        "start_time": "2023-03-24T05:49:32.285Z"
      },
      {
        "duration": 17,
        "start_time": "2023-03-24T05:49:54.525Z"
      },
      {
        "duration": 4,
        "start_time": "2023-03-24T05:49:58.163Z"
      },
      {
        "duration": 20,
        "start_time": "2023-03-24T05:49:58.658Z"
      },
      {
        "duration": 90,
        "start_time": "2023-03-24T05:51:49.017Z"
      },
      {
        "duration": 8,
        "start_time": "2023-03-24T05:55:07.543Z"
      },
      {
        "duration": 3,
        "start_time": "2023-03-24T05:55:10.383Z"
      },
      {
        "duration": 16,
        "start_time": "2023-03-24T05:55:12.040Z"
      },
      {
        "duration": 4,
        "start_time": "2023-03-24T05:55:20.999Z"
      },
      {
        "duration": 7,
        "start_time": "2023-03-24T05:56:01.669Z"
      },
      {
        "duration": 4,
        "start_time": "2023-03-24T05:56:03.542Z"
      },
      {
        "duration": 3,
        "start_time": "2023-03-24T05:56:04.433Z"
      },
      {
        "duration": 52,
        "start_time": "2023-03-24T05:56:28.732Z"
      },
      {
        "duration": 6,
        "start_time": "2023-03-24T05:56:46.914Z"
      },
      {
        "duration": 4,
        "start_time": "2023-03-24T05:56:47.435Z"
      },
      {
        "duration": 4,
        "start_time": "2023-03-24T05:56:48.367Z"
      },
      {
        "duration": 37,
        "start_time": "2023-03-24T05:56:48.891Z"
      },
      {
        "duration": 5,
        "start_time": "2023-03-24T05:57:03.127Z"
      },
      {
        "duration": 4,
        "start_time": "2023-03-24T05:57:06.333Z"
      },
      {
        "duration": 46,
        "start_time": "2023-03-24T05:57:07.062Z"
      },
      {
        "duration": 7,
        "start_time": "2023-03-24T05:59:43.306Z"
      },
      {
        "duration": 3,
        "start_time": "2023-03-24T05:59:44.114Z"
      },
      {
        "duration": 4,
        "start_time": "2023-03-24T05:59:44.713Z"
      },
      {
        "duration": 5,
        "start_time": "2023-03-24T05:59:45.675Z"
      },
      {
        "duration": 5,
        "start_time": "2023-03-24T05:59:46.536Z"
      },
      {
        "duration": 8,
        "start_time": "2023-03-24T05:59:47.167Z"
      },
      {
        "duration": 4,
        "start_time": "2023-03-24T05:59:47.914Z"
      },
      {
        "duration": 45,
        "start_time": "2023-03-24T05:59:48.679Z"
      },
      {
        "duration": 7,
        "start_time": "2023-03-24T06:00:46.024Z"
      },
      {
        "duration": 4,
        "start_time": "2023-03-24T06:00:46.712Z"
      },
      {
        "duration": 5,
        "start_time": "2023-03-24T06:00:47.267Z"
      },
      {
        "duration": 3,
        "start_time": "2023-03-24T06:00:47.829Z"
      },
      {
        "duration": 2379,
        "start_time": "2023-03-24T06:00:48.452Z"
      },
      {
        "duration": 10,
        "start_time": "2023-03-24T06:01:29.868Z"
      },
      {
        "duration": 4,
        "start_time": "2023-03-24T06:01:30.366Z"
      },
      {
        "duration": 5,
        "start_time": "2023-03-24T06:01:30.810Z"
      },
      {
        "duration": 4,
        "start_time": "2023-03-24T06:01:31.278Z"
      },
      {
        "duration": 2625,
        "start_time": "2023-03-24T06:01:31.800Z"
      },
      {
        "duration": 9,
        "start_time": "2023-03-24T06:01:42.158Z"
      },
      {
        "duration": 4,
        "start_time": "2023-03-24T06:01:42.699Z"
      },
      {
        "duration": 7,
        "start_time": "2023-03-24T06:01:43.194Z"
      },
      {
        "duration": 3,
        "start_time": "2023-03-24T06:01:43.639Z"
      },
      {
        "duration": 2853,
        "start_time": "2023-03-24T06:01:44.374Z"
      },
      {
        "duration": 7,
        "start_time": "2023-03-24T06:05:10.217Z"
      },
      {
        "duration": 5,
        "start_time": "2023-03-24T06:05:10.699Z"
      },
      {
        "duration": 8,
        "start_time": "2023-03-24T06:05:11.155Z"
      },
      {
        "duration": 4,
        "start_time": "2023-03-24T06:05:11.558Z"
      },
      {
        "duration": 3448,
        "start_time": "2023-03-24T06:05:11.994Z"
      },
      {
        "duration": 6,
        "start_time": "2023-03-24T06:08:26.682Z"
      },
      {
        "duration": 4,
        "start_time": "2023-03-24T06:08:28.095Z"
      },
      {
        "duration": 6,
        "start_time": "2023-03-24T06:08:28.735Z"
      },
      {
        "duration": 5,
        "start_time": "2023-03-24T06:08:29.715Z"
      },
      {
        "duration": 0,
        "start_time": "2023-03-24T06:11:49.050Z"
      },
      {
        "duration": 0,
        "start_time": "2023-03-24T06:11:49.051Z"
      },
      {
        "duration": 0,
        "start_time": "2023-03-24T06:11:49.052Z"
      },
      {
        "duration": 0,
        "start_time": "2023-03-24T06:11:49.053Z"
      },
      {
        "duration": 0,
        "start_time": "2023-03-24T06:11:49.054Z"
      },
      {
        "duration": 6,
        "start_time": "2023-03-24T06:11:53.344Z"
      },
      {
        "duration": 3,
        "start_time": "2023-03-24T06:11:54.054Z"
      },
      {
        "duration": 5,
        "start_time": "2023-03-24T06:11:54.873Z"
      },
      {
        "duration": 3,
        "start_time": "2023-03-24T06:11:55.715Z"
      },
      {
        "duration": 2907,
        "start_time": "2023-03-24T06:11:56.665Z"
      },
      {
        "duration": 6,
        "start_time": "2023-03-24T06:12:13.256Z"
      },
      {
        "duration": 4,
        "start_time": "2023-03-24T06:12:13.680Z"
      },
      {
        "duration": 6,
        "start_time": "2023-03-24T06:12:14.076Z"
      },
      {
        "duration": 4,
        "start_time": "2023-03-24T06:12:14.492Z"
      },
      {
        "duration": 2807,
        "start_time": "2023-03-24T06:12:15.046Z"
      },
      {
        "duration": 6,
        "start_time": "2023-03-24T06:12:33.889Z"
      },
      {
        "duration": 5,
        "start_time": "2023-03-24T06:12:34.562Z"
      },
      {
        "duration": 5,
        "start_time": "2023-03-24T06:12:35.024Z"
      },
      {
        "duration": 3,
        "start_time": "2023-03-24T06:12:35.995Z"
      },
      {
        "duration": 2915,
        "start_time": "2023-03-24T06:12:36.851Z"
      },
      {
        "duration": 8,
        "start_time": "2023-03-24T06:14:17.563Z"
      },
      {
        "duration": 3,
        "start_time": "2023-03-24T06:14:18.615Z"
      },
      {
        "duration": 6,
        "start_time": "2023-03-24T06:14:19.079Z"
      },
      {
        "duration": 4,
        "start_time": "2023-03-24T06:14:19.549Z"
      },
      {
        "duration": 28384,
        "start_time": "2023-03-24T06:14:20.176Z"
      },
      {
        "duration": 0,
        "start_time": "2023-03-24T06:14:48.561Z"
      },
      {
        "duration": 0,
        "start_time": "2023-03-24T06:14:48.563Z"
      },
      {
        "duration": 5,
        "start_time": "2023-03-24T06:14:53.772Z"
      },
      {
        "duration": 5,
        "start_time": "2023-03-24T06:14:54.307Z"
      },
      {
        "duration": 5,
        "start_time": "2023-03-24T06:14:55.451Z"
      },
      {
        "duration": 3,
        "start_time": "2023-03-24T06:14:56.155Z"
      },
      {
        "duration": 4,
        "start_time": "2023-03-24T06:14:56.818Z"
      },
      {
        "duration": 3,
        "start_time": "2023-03-24T06:14:57.576Z"
      },
      {
        "duration": 56501,
        "start_time": "2023-03-24T06:14:58.340Z"
      },
      {
        "duration": 0,
        "start_time": "2023-03-24T06:15:54.843Z"
      },
      {
        "duration": 0,
        "start_time": "2023-03-24T06:15:54.844Z"
      },
      {
        "duration": 0,
        "start_time": "2023-03-24T06:15:54.845Z"
      },
      {
        "duration": 8,
        "start_time": "2023-03-24T06:15:58.664Z"
      },
      {
        "duration": 3,
        "start_time": "2023-03-24T06:15:59.069Z"
      },
      {
        "duration": 5,
        "start_time": "2023-03-24T06:15:59.495Z"
      },
      {
        "duration": 8,
        "start_time": "2023-03-24T06:15:59.926Z"
      },
      {
        "duration": 4,
        "start_time": "2023-03-24T06:16:00.372Z"
      },
      {
        "duration": 8,
        "start_time": "2023-03-24T06:16:00.817Z"
      },
      {
        "duration": 4,
        "start_time": "2023-03-24T06:16:01.325Z"
      },
      {
        "duration": 51870,
        "start_time": "2023-03-24T06:16:01.871Z"
      },
      {
        "duration": 6,
        "start_time": "2023-03-24T06:17:00.198Z"
      },
      {
        "duration": 4,
        "start_time": "2023-03-24T06:17:00.733Z"
      },
      {
        "duration": 6,
        "start_time": "2023-03-24T06:17:01.189Z"
      },
      {
        "duration": 7,
        "start_time": "2023-03-24T06:17:01.632Z"
      },
      {
        "duration": 3,
        "start_time": "2023-03-24T06:17:02.345Z"
      },
      {
        "duration": 6,
        "start_time": "2023-03-24T06:17:03.008Z"
      },
      {
        "duration": 4,
        "start_time": "2023-03-24T06:17:03.767Z"
      },
      {
        "duration": 244180,
        "start_time": "2023-03-24T06:17:04.376Z"
      },
      {
        "duration": 3,
        "start_time": "2023-03-24T06:22:29.093Z"
      },
      {
        "duration": 4,
        "start_time": "2023-03-24T06:22:29.536Z"
      },
      {
        "duration": 6,
        "start_time": "2023-03-24T06:22:29.926Z"
      },
      {
        "duration": 6,
        "start_time": "2023-03-24T06:22:30.348Z"
      },
      {
        "duration": 5,
        "start_time": "2023-03-24T06:22:30.762Z"
      },
      {
        "duration": 3,
        "start_time": "2023-03-24T06:22:31.829Z"
      },
      {
        "duration": 241415,
        "start_time": "2023-03-24T06:22:32.407Z"
      },
      {
        "duration": 47,
        "start_time": "2023-03-24T06:29:28.535Z"
      },
      {
        "duration": 30,
        "start_time": "2023-03-24T06:29:48.800Z"
      },
      {
        "duration": 41,
        "start_time": "2023-03-24T06:30:01.917Z"
      },
      {
        "duration": 51,
        "start_time": "2023-03-24T06:30:32.365Z"
      },
      {
        "duration": 31,
        "start_time": "2023-03-24T06:33:49.480Z"
      },
      {
        "duration": 7,
        "start_time": "2023-03-24T06:35:38.999Z"
      },
      {
        "duration": 4,
        "start_time": "2023-03-24T06:35:44.284Z"
      },
      {
        "duration": 5,
        "start_time": "2023-03-24T06:35:44.793Z"
      },
      {
        "duration": 3,
        "start_time": "2023-03-24T06:35:45.262Z"
      },
      {
        "duration": 2419,
        "start_time": "2023-03-24T06:35:45.915Z"
      },
      {
        "duration": 29,
        "start_time": "2023-03-24T06:35:48.398Z"
      },
      {
        "duration": 9,
        "start_time": "2023-03-24T06:36:16.960Z"
      },
      {
        "duration": 3,
        "start_time": "2023-03-24T06:36:17.373Z"
      },
      {
        "duration": 5,
        "start_time": "2023-03-24T06:36:17.793Z"
      },
      {
        "duration": 5,
        "start_time": "2023-03-24T06:36:18.320Z"
      },
      {
        "duration": 2449,
        "start_time": "2023-03-24T06:36:18.781Z"
      },
      {
        "duration": 0,
        "start_time": "2023-03-24T06:36:21.232Z"
      },
      {
        "duration": 6,
        "start_time": "2023-03-24T06:36:34.676Z"
      },
      {
        "duration": 4,
        "start_time": "2023-03-24T06:36:35.182Z"
      },
      {
        "duration": 5,
        "start_time": "2023-03-24T06:36:35.849Z"
      },
      {
        "duration": 3,
        "start_time": "2023-03-24T06:36:36.397Z"
      },
      {
        "duration": 2170,
        "start_time": "2023-03-24T06:36:36.880Z"
      },
      {
        "duration": 6,
        "start_time": "2023-03-24T06:38:10.761Z"
      },
      {
        "duration": 4,
        "start_time": "2023-03-24T06:38:12.623Z"
      },
      {
        "duration": 5,
        "start_time": "2023-03-24T06:38:12.970Z"
      },
      {
        "duration": 4,
        "start_time": "2023-03-24T06:38:13.291Z"
      },
      {
        "duration": 2421,
        "start_time": "2023-03-24T06:38:13.647Z"
      },
      {
        "duration": 6,
        "start_time": "2023-03-24T06:38:24.376Z"
      },
      {
        "duration": 3,
        "start_time": "2023-03-24T06:38:24.754Z"
      },
      {
        "duration": 5,
        "start_time": "2023-03-24T06:38:25.082Z"
      },
      {
        "duration": 4,
        "start_time": "2023-03-24T06:38:25.397Z"
      },
      {
        "duration": 0,
        "start_time": "2023-03-24T06:41:12.147Z"
      },
      {
        "duration": 0,
        "start_time": "2023-03-24T06:41:12.148Z"
      },
      {
        "duration": 0,
        "start_time": "2023-03-24T06:41:12.149Z"
      },
      {
        "duration": 0,
        "start_time": "2023-03-24T06:41:12.151Z"
      },
      {
        "duration": 0,
        "start_time": "2023-03-24T06:41:12.152Z"
      },
      {
        "duration": 0,
        "start_time": "2023-03-24T06:41:12.153Z"
      },
      {
        "duration": 0,
        "start_time": "2023-03-24T06:41:12.154Z"
      },
      {
        "duration": 0,
        "start_time": "2023-03-24T06:41:12.156Z"
      },
      {
        "duration": 13,
        "start_time": "2023-03-24T06:41:19.734Z"
      },
      {
        "duration": 4,
        "start_time": "2023-03-24T06:41:20.939Z"
      },
      {
        "duration": 7,
        "start_time": "2023-03-24T06:41:21.558Z"
      },
      {
        "duration": 3,
        "start_time": "2023-03-24T06:41:21.876Z"
      },
      {
        "duration": 4,
        "start_time": "2023-03-24T06:41:22.189Z"
      },
      {
        "duration": 8,
        "start_time": "2023-03-24T06:41:22.535Z"
      },
      {
        "duration": 3,
        "start_time": "2023-03-24T06:41:22.797Z"
      },
      {
        "duration": 5,
        "start_time": "2023-03-24T06:41:23.138Z"
      },
      {
        "duration": 3,
        "start_time": "2023-03-24T06:41:23.432Z"
      },
      {
        "duration": 116122,
        "start_time": "2023-03-24T06:41:23.717Z"
      },
      {
        "duration": 0,
        "start_time": "2023-03-24T06:43:19.841Z"
      },
      {
        "duration": 9,
        "start_time": "2023-03-24T06:43:22.773Z"
      },
      {
        "duration": 4,
        "start_time": "2023-03-24T06:43:23.240Z"
      },
      {
        "duration": 5,
        "start_time": "2023-03-24T06:43:23.681Z"
      },
      {
        "duration": 3,
        "start_time": "2023-03-24T06:43:23.757Z"
      },
      {
        "duration": 240122,
        "start_time": "2023-03-24T06:43:24.136Z"
      },
      {
        "duration": 3,
        "start_time": "2023-03-24T06:47:45.437Z"
      },
      {
        "duration": 5,
        "start_time": "2023-03-24T06:47:46.278Z"
      },
      {
        "duration": 12,
        "start_time": "2023-03-24T06:47:51.540Z"
      },
      {
        "duration": 5,
        "start_time": "2023-03-24T06:47:52.487Z"
      },
      {
        "duration": 6,
        "start_time": "2023-03-24T06:47:53.640Z"
      },
      {
        "duration": 3,
        "start_time": "2023-03-24T06:47:54.064Z"
      },
      {
        "duration": 4,
        "start_time": "2023-03-24T06:47:54.478Z"
      },
      {
        "duration": 6,
        "start_time": "2023-03-24T06:47:54.890Z"
      },
      {
        "duration": 5,
        "start_time": "2023-03-24T06:47:55.327Z"
      },
      {
        "duration": 5,
        "start_time": "2023-03-24T06:47:55.755Z"
      },
      {
        "duration": 4,
        "start_time": "2023-03-24T06:47:56.168Z"
      },
      {
        "duration": 30846,
        "start_time": "2023-03-24T06:47:56.591Z"
      },
      {
        "duration": 0,
        "start_time": "2023-03-24T06:48:27.439Z"
      },
      {
        "duration": 13,
        "start_time": "2023-03-24T06:48:33.230Z"
      },
      {
        "duration": 13,
        "start_time": "2023-03-24T06:48:58.039Z"
      },
      {
        "duration": 12,
        "start_time": "2023-03-24T06:49:06.712Z"
      },
      {
        "duration": 6,
        "start_time": "2023-03-24T06:49:33.634Z"
      },
      {
        "duration": 23,
        "start_time": "2023-03-24T06:50:11.213Z"
      },
      {
        "duration": 8,
        "start_time": "2023-03-24T06:50:12.756Z"
      },
      {
        "duration": 4,
        "start_time": "2023-03-24T06:50:14.154Z"
      },
      {
        "duration": 7,
        "start_time": "2023-03-24T06:50:15.055Z"
      },
      {
        "duration": 4,
        "start_time": "2023-03-24T06:50:16.017Z"
      },
      {
        "duration": 6,
        "start_time": "2023-03-24T06:50:16.628Z"
      },
      {
        "duration": 6,
        "start_time": "2023-03-24T06:50:17.150Z"
      },
      {
        "duration": 4,
        "start_time": "2023-03-24T06:50:18.699Z"
      },
      {
        "duration": 6,
        "start_time": "2023-03-24T06:50:19.181Z"
      },
      {
        "duration": 3,
        "start_time": "2023-03-24T06:50:25.134Z"
      },
      {
        "duration": 38,
        "start_time": "2023-03-24T06:50:25.956Z"
      },
      {
        "duration": 6,
        "start_time": "2023-03-24T06:50:57.316Z"
      },
      {
        "duration": 4,
        "start_time": "2023-03-24T06:50:57.751Z"
      },
      {
        "duration": 6,
        "start_time": "2023-03-24T06:50:58.373Z"
      },
      {
        "duration": 3,
        "start_time": "2023-03-24T06:50:58.777Z"
      },
      {
        "duration": 14293,
        "start_time": "2023-03-24T06:50:59.438Z"
      },
      {
        "duration": 51,
        "start_time": "2023-03-25T04:43:36.340Z"
      },
      {
        "duration": 2423,
        "start_time": "2023-03-25T04:43:52.074Z"
      },
      {
        "duration": 3,
        "start_time": "2023-03-25T04:43:54.500Z"
      },
      {
        "duration": 7963,
        "start_time": "2023-03-25T04:43:54.505Z"
      },
      {
        "duration": 2,
        "start_time": "2023-03-25T04:44:02.470Z"
      },
      {
        "duration": 13,
        "start_time": "2023-03-25T04:44:02.473Z"
      },
      {
        "duration": 22,
        "start_time": "2023-03-25T04:44:02.487Z"
      },
      {
        "duration": 450,
        "start_time": "2023-03-25T04:44:02.511Z"
      },
      {
        "duration": 157,
        "start_time": "2023-03-25T04:44:02.963Z"
      },
      {
        "duration": 3873,
        "start_time": "2023-03-25T04:44:03.122Z"
      },
      {
        "duration": 1438,
        "start_time": "2023-03-25T04:44:06.997Z"
      },
      {
        "duration": 11344,
        "start_time": "2023-03-25T04:44:08.437Z"
      },
      {
        "duration": 1762,
        "start_time": "2023-03-25T04:44:19.783Z"
      },
      {
        "duration": 8795,
        "start_time": "2023-03-25T04:44:21.548Z"
      },
      {
        "duration": 455,
        "start_time": "2023-03-25T04:44:30.345Z"
      },
      {
        "duration": 124,
        "start_time": "2023-03-25T04:44:30.802Z"
      },
      {
        "duration": 189,
        "start_time": "2023-03-25T04:44:30.933Z"
      },
      {
        "duration": 348,
        "start_time": "2023-03-25T04:44:31.124Z"
      },
      {
        "duration": 130,
        "start_time": "2023-03-25T04:44:31.474Z"
      },
      {
        "duration": 247,
        "start_time": "2023-03-25T04:44:31.605Z"
      },
      {
        "duration": 259,
        "start_time": "2023-03-25T04:44:31.854Z"
      },
      {
        "duration": 391,
        "start_time": "2023-03-25T04:44:32.114Z"
      },
      {
        "duration": 5,
        "start_time": "2023-03-25T04:44:32.506Z"
      },
      {
        "duration": 286,
        "start_time": "2023-03-25T04:44:32.513Z"
      },
      {
        "duration": 128,
        "start_time": "2023-03-25T04:44:32.801Z"
      },
      {
        "duration": 277,
        "start_time": "2023-03-25T04:44:32.931Z"
      },
      {
        "duration": 3,
        "start_time": "2023-03-25T04:44:33.211Z"
      },
      {
        "duration": 48,
        "start_time": "2023-03-25T04:44:33.216Z"
      },
      {
        "duration": 5613,
        "start_time": "2023-03-25T04:44:33.266Z"
      },
      {
        "duration": 697,
        "start_time": "2023-03-25T04:44:38.881Z"
      },
      {
        "duration": 15,
        "start_time": "2023-03-25T04:44:39.580Z"
      },
      {
        "duration": 16,
        "start_time": "2023-03-25T04:44:39.597Z"
      },
      {
        "duration": 10,
        "start_time": "2023-03-25T04:44:39.634Z"
      },
      {
        "duration": 24,
        "start_time": "2023-03-25T04:44:39.646Z"
      },
      {
        "duration": 93,
        "start_time": "2023-03-25T04:44:39.673Z"
      },
      {
        "duration": 7,
        "start_time": "2023-03-25T04:44:39.768Z"
      },
      {
        "duration": 101,
        "start_time": "2023-03-25T04:44:39.777Z"
      },
      {
        "duration": 62,
        "start_time": "2023-03-25T04:44:39.880Z"
      },
      {
        "duration": 430,
        "start_time": "2023-03-25T04:44:39.944Z"
      },
      {
        "duration": 13,
        "start_time": "2023-03-25T04:44:40.376Z"
      },
      {
        "duration": 211,
        "start_time": "2023-03-25T04:44:40.391Z"
      },
      {
        "duration": 229,
        "start_time": "2023-03-25T04:44:40.604Z"
      },
      {
        "duration": 131,
        "start_time": "2023-03-25T04:44:40.835Z"
      },
      {
        "duration": 5,
        "start_time": "2023-03-25T04:44:40.968Z"
      },
      {
        "duration": 16,
        "start_time": "2023-03-25T04:44:40.974Z"
      },
      {
        "duration": 13,
        "start_time": "2023-03-25T04:44:40.991Z"
      },
      {
        "duration": 250,
        "start_time": "2023-03-25T04:44:41.005Z"
      },
      {
        "duration": 96,
        "start_time": "2023-03-25T04:44:41.257Z"
      },
      {
        "duration": 217,
        "start_time": "2023-03-25T04:44:41.355Z"
      },
      {
        "duration": 20,
        "start_time": "2023-03-25T04:44:41.574Z"
      },
      {
        "duration": 174,
        "start_time": "2023-03-25T04:44:41.596Z"
      },
      {
        "duration": 3,
        "start_time": "2023-03-25T04:44:41.771Z"
      },
      {
        "duration": 1609,
        "start_time": "2023-03-25T04:44:41.777Z"
      },
      {
        "duration": 6,
        "start_time": "2023-03-25T04:44:43.387Z"
      },
      {
        "duration": 6,
        "start_time": "2023-03-25T04:44:43.395Z"
      },
      {
        "duration": 106,
        "start_time": "2023-03-25T04:45:07.200Z"
      },
      {
        "duration": 4,
        "start_time": "2023-03-25T04:45:10.513Z"
      },
      {
        "duration": 4,
        "start_time": "2023-03-25T04:46:04.559Z"
      },
      {
        "duration": 4,
        "start_time": "2023-03-25T04:47:30.783Z"
      },
      {
        "duration": 6828,
        "start_time": "2023-03-25T04:47:31.547Z"
      },
      {
        "duration": 4,
        "start_time": "2023-03-25T04:48:00.111Z"
      },
      {
        "duration": 6418,
        "start_time": "2023-03-25T04:48:00.737Z"
      },
      {
        "duration": 528130,
        "start_time": "2023-03-25T04:48:43.801Z"
      },
      {
        "duration": 36,
        "start_time": "2023-03-25T04:57:31.938Z"
      },
      {
        "duration": 3,
        "start_time": "2023-03-25T04:57:54.364Z"
      },
      {
        "duration": 5,
        "start_time": "2023-03-25T04:58:14.267Z"
      },
      {
        "duration": 98,
        "start_time": "2023-03-25T04:58:43.286Z"
      },
      {
        "duration": 40860,
        "start_time": "2023-03-25T04:58:48.188Z"
      },
      {
        "duration": 113984,
        "start_time": "2023-03-25T05:00:50.877Z"
      },
      {
        "duration": 12527,
        "start_time": "2023-03-25T05:04:28.570Z"
      },
      {
        "duration": 112,
        "start_time": "2023-03-25T05:07:09.310Z"
      },
      {
        "duration": 25,
        "start_time": "2023-03-25T05:07:47.725Z"
      },
      {
        "duration": 6,
        "start_time": "2023-03-25T05:07:54.563Z"
      },
      {
        "duration": 339,
        "start_time": "2023-03-25T05:10:34.293Z"
      },
      {
        "duration": 24,
        "start_time": "2023-03-25T05:19:08.518Z"
      },
      {
        "duration": 13,
        "start_time": "2023-03-25T05:23:05.091Z"
      },
      {
        "duration": 6,
        "start_time": "2023-03-25T05:23:21.254Z"
      },
      {
        "duration": 6,
        "start_time": "2023-03-25T05:23:27.855Z"
      },
      {
        "duration": 11,
        "start_time": "2023-03-25T05:23:32.055Z"
      },
      {
        "duration": 54,
        "start_time": "2023-03-25T05:24:53.955Z"
      },
      {
        "duration": 5,
        "start_time": "2023-03-25T05:25:31.431Z"
      },
      {
        "duration": 54,
        "start_time": "2023-03-25T05:25:32.303Z"
      },
      {
        "duration": 5,
        "start_time": "2023-03-25T05:28:47.314Z"
      },
      {
        "duration": 10,
        "start_time": "2023-03-25T05:35:35.154Z"
      },
      {
        "duration": 58,
        "start_time": "2023-03-25T05:35:35.758Z"
      },
      {
        "duration": 36,
        "start_time": "2023-03-25T05:35:36.410Z"
      },
      {
        "duration": 23,
        "start_time": "2023-03-25T05:35:45.389Z"
      },
      {
        "duration": 8,
        "start_time": "2023-03-25T05:37:57.851Z"
      },
      {
        "duration": 14890,
        "start_time": "2023-03-25T05:39:35.158Z"
      },
      {
        "duration": 13274,
        "start_time": "2023-03-25T05:45:47.598Z"
      },
      {
        "duration": 12979,
        "start_time": "2023-03-25T05:46:43.971Z"
      },
      {
        "duration": 14183,
        "start_time": "2023-03-25T05:47:35.958Z"
      },
      {
        "duration": 12590,
        "start_time": "2023-03-25T05:48:56.359Z"
      },
      {
        "duration": 20,
        "start_time": "2023-03-25T05:49:59.269Z"
      },
      {
        "duration": 4,
        "start_time": "2023-03-25T05:51:32.277Z"
      },
      {
        "duration": 104520,
        "start_time": "2023-03-25T05:51:45.659Z"
      },
      {
        "duration": 0,
        "start_time": "2023-03-25T05:53:30.182Z"
      },
      {
        "duration": 5,
        "start_time": "2023-03-25T05:53:35.123Z"
      },
      {
        "duration": 14583,
        "start_time": "2023-03-25T05:53:43.858Z"
      },
      {
        "duration": 173,
        "start_time": "2023-03-25T06:32:13.173Z"
      },
      {
        "duration": 419,
        "start_time": "2023-03-25T06:32:32.551Z"
      },
      {
        "duration": 1973,
        "start_time": "2023-03-25T06:35:32.131Z"
      },
      {
        "duration": 4,
        "start_time": "2023-03-25T06:35:34.107Z"
      },
      {
        "duration": 11105,
        "start_time": "2023-03-25T06:35:34.113Z"
      },
      {
        "duration": 2,
        "start_time": "2023-03-25T06:35:45.220Z"
      },
      {
        "duration": 39,
        "start_time": "2023-03-25T06:35:45.225Z"
      },
      {
        "duration": 18,
        "start_time": "2023-03-25T06:35:45.266Z"
      },
      {
        "duration": 591,
        "start_time": "2023-03-25T06:35:45.287Z"
      },
      {
        "duration": 223,
        "start_time": "2023-03-25T06:35:45.881Z"
      },
      {
        "duration": 4172,
        "start_time": "2023-03-25T06:35:46.106Z"
      },
      {
        "duration": 1767,
        "start_time": "2023-03-25T06:35:50.280Z"
      },
      {
        "duration": 11010,
        "start_time": "2023-03-25T06:35:52.049Z"
      },
      {
        "duration": 2040,
        "start_time": "2023-03-25T06:36:03.061Z"
      },
      {
        "duration": 11651,
        "start_time": "2023-03-25T06:36:05.103Z"
      },
      {
        "duration": 545,
        "start_time": "2023-03-25T06:36:16.758Z"
      },
      {
        "duration": 159,
        "start_time": "2023-03-25T06:36:17.305Z"
      },
      {
        "duration": 212,
        "start_time": "2023-03-25T06:36:17.467Z"
      },
      {
        "duration": 550,
        "start_time": "2023-03-25T06:36:17.681Z"
      },
      {
        "duration": 160,
        "start_time": "2023-03-25T06:36:18.235Z"
      },
      {
        "duration": 271,
        "start_time": "2023-03-25T06:36:18.397Z"
      },
      {
        "duration": 323,
        "start_time": "2023-03-25T06:36:18.670Z"
      },
      {
        "duration": 432,
        "start_time": "2023-03-25T06:36:18.994Z"
      },
      {
        "duration": 8,
        "start_time": "2023-03-25T06:36:19.433Z"
      },
      {
        "duration": 337,
        "start_time": "2023-03-25T06:36:19.447Z"
      },
      {
        "duration": 143,
        "start_time": "2023-03-25T06:36:19.787Z"
      },
      {
        "duration": 341,
        "start_time": "2023-03-25T06:36:19.932Z"
      },
      {
        "duration": 4,
        "start_time": "2023-03-25T06:36:20.275Z"
      },
      {
        "duration": 41,
        "start_time": "2023-03-25T06:36:20.281Z"
      },
      {
        "duration": 6706,
        "start_time": "2023-03-25T06:36:20.324Z"
      },
      {
        "duration": 866,
        "start_time": "2023-03-25T06:36:27.033Z"
      },
      {
        "duration": 16,
        "start_time": "2023-03-25T06:36:27.901Z"
      },
      {
        "duration": 39,
        "start_time": "2023-03-25T06:36:27.919Z"
      },
      {
        "duration": 23,
        "start_time": "2023-03-25T06:36:27.961Z"
      },
      {
        "duration": 28,
        "start_time": "2023-03-25T06:36:27.986Z"
      },
      {
        "duration": 97,
        "start_time": "2023-03-25T06:36:28.016Z"
      },
      {
        "duration": 9,
        "start_time": "2023-03-25T06:36:28.114Z"
      },
      {
        "duration": 98,
        "start_time": "2023-03-25T06:36:28.125Z"
      },
      {
        "duration": 70,
        "start_time": "2023-03-25T06:36:28.224Z"
      },
      {
        "duration": 495,
        "start_time": "2023-03-25T06:36:28.296Z"
      },
      {
        "duration": 14,
        "start_time": "2023-03-25T06:36:28.794Z"
      },
      {
        "duration": 249,
        "start_time": "2023-03-25T06:36:28.809Z"
      },
      {
        "duration": 252,
        "start_time": "2023-03-25T06:36:29.064Z"
      },
      {
        "duration": 162,
        "start_time": "2023-03-25T06:36:29.318Z"
      },
      {
        "duration": 6,
        "start_time": "2023-03-25T06:36:29.482Z"
      },
      {
        "duration": 8,
        "start_time": "2023-03-25T06:36:29.490Z"
      },
      {
        "duration": 9,
        "start_time": "2023-03-25T06:36:29.499Z"
      },
      {
        "duration": 347,
        "start_time": "2023-03-25T06:36:29.511Z"
      },
      {
        "duration": 109,
        "start_time": "2023-03-25T06:36:29.861Z"
      },
      {
        "duration": 249,
        "start_time": "2023-03-25T06:36:29.972Z"
      },
      {
        "duration": 75,
        "start_time": "2023-03-25T06:36:30.224Z"
      },
      {
        "duration": 214,
        "start_time": "2023-03-25T06:36:30.301Z"
      },
      {
        "duration": 3,
        "start_time": "2023-03-25T06:36:30.517Z"
      },
      {
        "duration": 1889,
        "start_time": "2023-03-25T06:36:30.522Z"
      },
      {
        "duration": 6,
        "start_time": "2023-03-25T06:36:32.413Z"
      },
      {
        "duration": 36,
        "start_time": "2023-03-25T06:36:32.420Z"
      },
      {
        "duration": 22,
        "start_time": "2023-03-25T06:36:32.458Z"
      },
      {
        "duration": 26,
        "start_time": "2023-03-25T06:36:32.482Z"
      },
      {
        "duration": 14,
        "start_time": "2023-03-25T06:36:32.509Z"
      },
      {
        "duration": 47,
        "start_time": "2023-03-25T06:36:32.525Z"
      },
      {
        "duration": 24,
        "start_time": "2023-03-25T06:36:32.574Z"
      },
      {
        "duration": 15743,
        "start_time": "2023-03-25T06:36:32.601Z"
      },
      {
        "duration": 548,
        "start_time": "2023-03-25T06:36:48.346Z"
      },
      {
        "duration": 0,
        "start_time": "2023-03-25T06:36:48.897Z"
      },
      {
        "duration": 0,
        "start_time": "2023-03-25T06:36:48.899Z"
      },
      {
        "duration": 0,
        "start_time": "2023-03-25T06:36:48.900Z"
      },
      {
        "duration": 0,
        "start_time": "2023-03-25T06:36:48.902Z"
      },
      {
        "duration": 0,
        "start_time": "2023-03-25T06:36:48.903Z"
      },
      {
        "duration": 0,
        "start_time": "2023-03-25T06:36:48.904Z"
      },
      {
        "duration": 0,
        "start_time": "2023-03-25T06:36:48.906Z"
      },
      {
        "duration": 0,
        "start_time": "2023-03-25T06:36:48.907Z"
      },
      {
        "duration": 0,
        "start_time": "2023-03-25T06:36:48.909Z"
      },
      {
        "duration": 0,
        "start_time": "2023-03-25T06:36:48.911Z"
      },
      {
        "duration": 0,
        "start_time": "2023-03-25T06:36:48.912Z"
      },
      {
        "duration": 0,
        "start_time": "2023-03-25T06:36:48.934Z"
      },
      {
        "duration": 420,
        "start_time": "2023-03-25T06:37:34.473Z"
      },
      {
        "duration": 5,
        "start_time": "2023-03-25T06:46:03.754Z"
      },
      {
        "duration": 6,
        "start_time": "2023-03-25T06:46:27.658Z"
      },
      {
        "duration": 17,
        "start_time": "2023-03-25T06:46:28.365Z"
      },
      {
        "duration": 17,
        "start_time": "2023-03-25T06:46:28.944Z"
      },
      {
        "duration": 18323,
        "start_time": "2023-03-25T06:46:34.614Z"
      },
      {
        "duration": 26,
        "start_time": "2023-03-25T06:51:29.718Z"
      },
      {
        "duration": 22,
        "start_time": "2023-03-25T06:51:47.292Z"
      },
      {
        "duration": 22,
        "start_time": "2023-03-25T06:52:26.268Z"
      },
      {
        "duration": 208029,
        "start_time": "2023-03-25T06:52:45.273Z"
      },
      {
        "duration": 14,
        "start_time": "2023-03-25T06:56:22.657Z"
      },
      {
        "duration": 435677,
        "start_time": "2023-03-25T06:56:54.463Z"
      },
      {
        "duration": 23,
        "start_time": "2023-03-25T07:04:44.375Z"
      },
      {
        "duration": 32,
        "start_time": "2023-03-25T07:04:58.631Z"
      },
      {
        "duration": 67,
        "start_time": "2023-03-25T07:05:20.095Z"
      },
      {
        "duration": 27,
        "start_time": "2023-03-25T07:05:25.543Z"
      },
      {
        "duration": 21,
        "start_time": "2023-03-25T07:05:29.486Z"
      },
      {
        "duration": 28,
        "start_time": "2023-03-25T07:05:36.637Z"
      },
      {
        "duration": 29,
        "start_time": "2023-03-25T07:06:41.235Z"
      },
      {
        "duration": 38735,
        "start_time": "2023-03-25T07:09:33.503Z"
      },
      {
        "duration": 11,
        "start_time": "2023-03-25T07:13:12.176Z"
      },
      {
        "duration": 5,
        "start_time": "2023-03-25T07:13:58.735Z"
      },
      {
        "duration": 10807,
        "start_time": "2023-03-25T07:13:59.289Z"
      },
      {
        "duration": 14,
        "start_time": "2023-03-25T07:17:35.497Z"
      },
      {
        "duration": 15,
        "start_time": "2023-03-25T07:18:03.488Z"
      },
      {
        "duration": 4,
        "start_time": "2023-03-25T07:19:05.874Z"
      },
      {
        "duration": 19688,
        "start_time": "2023-03-25T07:19:06.409Z"
      },
      {
        "duration": 18928,
        "start_time": "2023-03-25T07:21:03.814Z"
      },
      {
        "duration": 659551,
        "start_time": "2023-03-25T07:21:22.754Z"
      },
      {
        "duration": 4,
        "start_time": "2023-03-25T07:32:22.306Z"
      },
      {
        "duration": 34692,
        "start_time": "2023-03-25T07:33:08.565Z"
      },
      {
        "duration": 11,
        "start_time": "2023-03-25T07:35:58.455Z"
      },
      {
        "duration": 4,
        "start_time": "2023-03-25T07:36:59.111Z"
      },
      {
        "duration": 32184,
        "start_time": "2023-03-25T07:37:06.310Z"
      },
      {
        "duration": 7,
        "start_time": "2023-03-25T07:38:46.732Z"
      },
      {
        "duration": 32329,
        "start_time": "2023-03-25T07:39:06.937Z"
      },
      {
        "duration": 6,
        "start_time": "2023-03-25T07:39:39.269Z"
      },
      {
        "duration": 6,
        "start_time": "2023-03-25T07:39:49.028Z"
      },
      {
        "duration": 209,
        "start_time": "2023-03-25T07:40:01.301Z"
      },
      {
        "duration": 4,
        "start_time": "2023-03-25T07:40:04.986Z"
      },
      {
        "duration": 1347,
        "start_time": "2023-03-25T07:40:14.381Z"
      },
      {
        "duration": 8,
        "start_time": "2023-03-25T07:40:19.672Z"
      },
      {
        "duration": 5,
        "start_time": "2023-03-25T07:40:22.825Z"
      },
      {
        "duration": 10,
        "start_time": "2023-03-25T07:40:28.169Z"
      },
      {
        "duration": 34823,
        "start_time": "2023-03-25T07:40:48.782Z"
      },
      {
        "duration": 1558,
        "start_time": "2023-03-25T07:44:42.332Z"
      },
      {
        "duration": 2058,
        "start_time": "2023-03-25T07:45:04.141Z"
      },
      {
        "duration": 4,
        "start_time": "2023-03-25T07:45:06.201Z"
      },
      {
        "duration": 15598,
        "start_time": "2023-03-25T07:45:06.207Z"
      },
      {
        "duration": 3,
        "start_time": "2023-03-25T07:45:21.807Z"
      },
      {
        "duration": 7,
        "start_time": "2023-03-25T07:45:21.812Z"
      },
      {
        "duration": 6,
        "start_time": "2023-03-25T07:45:21.821Z"
      },
      {
        "duration": 675,
        "start_time": "2023-03-25T07:45:21.829Z"
      },
      {
        "duration": 202,
        "start_time": "2023-03-25T07:45:22.506Z"
      },
      {
        "duration": 4606,
        "start_time": "2023-03-25T07:45:22.710Z"
      },
      {
        "duration": 1864,
        "start_time": "2023-03-25T07:45:27.320Z"
      },
      {
        "duration": 11120,
        "start_time": "2023-03-25T07:45:29.187Z"
      },
      {
        "duration": 2118,
        "start_time": "2023-03-25T07:45:40.309Z"
      },
      {
        "duration": 12645,
        "start_time": "2023-03-25T07:45:42.429Z"
      },
      {
        "duration": 505,
        "start_time": "2023-03-25T07:45:55.084Z"
      },
      {
        "duration": 159,
        "start_time": "2023-03-25T07:45:55.591Z"
      },
      {
        "duration": 230,
        "start_time": "2023-03-25T07:45:55.751Z"
      },
      {
        "duration": 414,
        "start_time": "2023-03-25T07:45:55.985Z"
      },
      {
        "duration": 154,
        "start_time": "2023-03-25T07:45:56.401Z"
      },
      {
        "duration": 298,
        "start_time": "2023-03-25T07:45:56.560Z"
      },
      {
        "duration": 332,
        "start_time": "2023-03-25T07:45:56.868Z"
      },
      {
        "duration": 437,
        "start_time": "2023-03-25T07:45:57.202Z"
      },
      {
        "duration": 8,
        "start_time": "2023-03-25T07:45:57.641Z"
      },
      {
        "duration": 349,
        "start_time": "2023-03-25T07:45:57.651Z"
      },
      {
        "duration": 166,
        "start_time": "2023-03-25T07:45:58.002Z"
      },
      {
        "duration": 316,
        "start_time": "2023-03-25T07:45:58.183Z"
      },
      {
        "duration": 3,
        "start_time": "2023-03-25T07:45:58.503Z"
      },
      {
        "duration": 72,
        "start_time": "2023-03-25T07:45:58.508Z"
      },
      {
        "duration": 7231,
        "start_time": "2023-03-25T07:45:58.586Z"
      },
      {
        "duration": 929,
        "start_time": "2023-03-25T07:46:05.819Z"
      },
      {
        "duration": 25,
        "start_time": "2023-03-25T07:46:06.751Z"
      },
      {
        "duration": 76,
        "start_time": "2023-03-25T07:46:06.781Z"
      },
      {
        "duration": 39,
        "start_time": "2023-03-25T07:46:06.869Z"
      },
      {
        "duration": 79,
        "start_time": "2023-03-25T07:46:06.910Z"
      },
      {
        "duration": 120,
        "start_time": "2023-03-25T07:46:06.991Z"
      },
      {
        "duration": 9,
        "start_time": "2023-03-25T07:46:07.114Z"
      },
      {
        "duration": 233,
        "start_time": "2023-03-25T07:46:07.125Z"
      },
      {
        "duration": 92,
        "start_time": "2023-03-25T07:46:07.362Z"
      },
      {
        "duration": 550,
        "start_time": "2023-03-25T07:46:07.457Z"
      },
      {
        "duration": 17,
        "start_time": "2023-03-25T07:46:08.009Z"
      },
      {
        "duration": 311,
        "start_time": "2023-03-25T07:46:08.043Z"
      },
      {
        "duration": 265,
        "start_time": "2023-03-25T07:46:08.358Z"
      },
      {
        "duration": 179,
        "start_time": "2023-03-25T07:46:08.624Z"
      },
      {
        "duration": 6,
        "start_time": "2023-03-25T07:46:08.805Z"
      },
      {
        "duration": 9,
        "start_time": "2023-03-25T07:46:08.813Z"
      },
      {
        "duration": 15,
        "start_time": "2023-03-25T07:46:08.837Z"
      },
      {
        "duration": 325,
        "start_time": "2023-03-25T07:46:08.861Z"
      },
      {
        "duration": 110,
        "start_time": "2023-03-25T07:46:09.188Z"
      },
      {
        "duration": 266,
        "start_time": "2023-03-25T07:46:09.300Z"
      },
      {
        "duration": 77,
        "start_time": "2023-03-25T07:46:09.571Z"
      },
      {
        "duration": 332,
        "start_time": "2023-03-25T07:46:09.650Z"
      },
      {
        "duration": 4,
        "start_time": "2023-03-25T07:46:09.986Z"
      },
      {
        "duration": 1920,
        "start_time": "2023-03-25T07:46:09.993Z"
      },
      {
        "duration": 6,
        "start_time": "2023-03-25T07:46:11.915Z"
      },
      {
        "duration": 20,
        "start_time": "2023-03-25T07:46:11.923Z"
      },
      {
        "duration": 54,
        "start_time": "2023-03-25T07:46:11.945Z"
      },
      {
        "duration": 10,
        "start_time": "2023-03-25T07:46:12.001Z"
      },
      {
        "duration": 8,
        "start_time": "2023-03-25T07:46:12.013Z"
      },
      {
        "duration": 32,
        "start_time": "2023-03-25T07:46:12.023Z"
      },
      {
        "duration": 41,
        "start_time": "2023-03-25T07:46:12.066Z"
      },
      {
        "duration": 15853,
        "start_time": "2023-03-25T07:46:12.110Z"
      },
      {
        "duration": 16207,
        "start_time": "2023-03-25T07:46:27.974Z"
      },
      {
        "duration": 14,
        "start_time": "2023-03-25T07:46:44.184Z"
      },
      {
        "duration": 0,
        "start_time": "2023-03-25T07:46:44.201Z"
      },
      {
        "duration": 0,
        "start_time": "2023-03-25T07:46:44.202Z"
      },
      {
        "duration": 0,
        "start_time": "2023-03-25T07:46:44.204Z"
      },
      {
        "duration": 1,
        "start_time": "2023-03-25T07:46:44.205Z"
      },
      {
        "duration": 0,
        "start_time": "2023-03-25T07:46:44.207Z"
      },
      {
        "duration": 0,
        "start_time": "2023-03-25T07:46:44.208Z"
      },
      {
        "duration": 0,
        "start_time": "2023-03-25T07:46:44.210Z"
      },
      {
        "duration": 0,
        "start_time": "2023-03-25T07:46:44.235Z"
      },
      {
        "duration": 0,
        "start_time": "2023-03-25T07:46:44.236Z"
      },
      {
        "duration": 0,
        "start_time": "2023-03-25T07:46:44.237Z"
      },
      {
        "duration": 0,
        "start_time": "2023-03-25T07:46:44.238Z"
      },
      {
        "duration": 0,
        "start_time": "2023-03-25T07:46:44.239Z"
      },
      {
        "duration": 0,
        "start_time": "2023-03-25T07:46:44.243Z"
      },
      {
        "duration": 0,
        "start_time": "2023-03-25T07:46:44.244Z"
      },
      {
        "duration": 0,
        "start_time": "2023-03-25T07:46:44.245Z"
      },
      {
        "duration": 4,
        "start_time": "2023-03-25T07:46:51.363Z"
      },
      {
        "duration": 33332,
        "start_time": "2023-03-25T07:46:51.771Z"
      },
      {
        "duration": 1507,
        "start_time": "2023-03-25T07:47:25.106Z"
      },
      {
        "duration": 8,
        "start_time": "2023-03-25T07:47:26.615Z"
      },
      {
        "duration": 278641,
        "start_time": "2023-03-25T07:48:33.507Z"
      },
      {
        "duration": 17,
        "start_time": "2023-03-25T07:53:12.152Z"
      },
      {
        "duration": 11,
        "start_time": "2023-03-25T07:53:12.171Z"
      },
      {
        "duration": 15,
        "start_time": "2023-03-25T07:53:50.699Z"
      },
      {
        "duration": 31626,
        "start_time": "2023-03-25T08:00:10.931Z"
      },
      {
        "duration": 4,
        "start_time": "2023-03-25T08:02:01.142Z"
      },
      {
        "duration": 32916,
        "start_time": "2023-03-25T08:02:01.850Z"
      },
      {
        "duration": 1409,
        "start_time": "2023-03-25T08:02:34.769Z"
      },
      {
        "duration": 16,
        "start_time": "2023-03-25T08:02:50.629Z"
      },
      {
        "duration": 34,
        "start_time": "2023-03-25T08:02:51.060Z"
      },
      {
        "duration": 19,
        "start_time": "2023-03-25T08:02:51.490Z"
      },
      {
        "duration": 15188,
        "start_time": "2023-03-25T08:03:24.176Z"
      },
      {
        "duration": 2163,
        "start_time": "2023-03-25T08:04:48.317Z"
      },
      {
        "duration": 4,
        "start_time": "2023-03-25T08:04:50.482Z"
      },
      {
        "duration": 13013,
        "start_time": "2023-03-25T08:04:50.488Z"
      },
      {
        "duration": 3,
        "start_time": "2023-03-25T08:05:03.505Z"
      },
      {
        "duration": 29,
        "start_time": "2023-03-25T08:05:03.510Z"
      },
      {
        "duration": 38,
        "start_time": "2023-03-25T08:05:03.544Z"
      },
      {
        "duration": 629,
        "start_time": "2023-03-25T08:05:03.584Z"
      },
      {
        "duration": 205,
        "start_time": "2023-03-25T08:05:04.215Z"
      },
      {
        "duration": 4279,
        "start_time": "2023-03-25T08:05:04.422Z"
      },
      {
        "duration": 1717,
        "start_time": "2023-03-25T08:05:08.704Z"
      },
      {
        "duration": 11083,
        "start_time": "2023-03-25T08:05:10.423Z"
      },
      {
        "duration": 2150,
        "start_time": "2023-03-25T08:05:21.509Z"
      },
      {
        "duration": 12308,
        "start_time": "2023-03-25T08:05:23.667Z"
      },
      {
        "duration": 540,
        "start_time": "2023-03-25T08:05:35.978Z"
      },
      {
        "duration": 169,
        "start_time": "2023-03-25T08:05:36.521Z"
      },
      {
        "duration": 234,
        "start_time": "2023-03-25T08:05:36.693Z"
      },
      {
        "duration": 455,
        "start_time": "2023-03-25T08:05:36.934Z"
      },
      {
        "duration": 154,
        "start_time": "2023-03-25T08:05:37.392Z"
      },
      {
        "duration": 294,
        "start_time": "2023-03-25T08:05:37.552Z"
      },
      {
        "duration": 327,
        "start_time": "2023-03-25T08:05:37.849Z"
      },
      {
        "duration": 452,
        "start_time": "2023-03-25T08:05:38.177Z"
      },
      {
        "duration": 11,
        "start_time": "2023-03-25T08:05:38.633Z"
      },
      {
        "duration": 367,
        "start_time": "2023-03-25T08:05:38.645Z"
      },
      {
        "duration": 154,
        "start_time": "2023-03-25T08:05:39.013Z"
      },
      {
        "duration": 315,
        "start_time": "2023-03-25T08:05:39.168Z"
      },
      {
        "duration": 4,
        "start_time": "2023-03-25T08:05:39.486Z"
      },
      {
        "duration": 84,
        "start_time": "2023-03-25T08:05:39.492Z"
      },
      {
        "duration": 6968,
        "start_time": "2023-03-25T08:05:39.581Z"
      },
      {
        "duration": 1015,
        "start_time": "2023-03-25T08:05:46.557Z"
      },
      {
        "duration": 23,
        "start_time": "2023-03-25T08:05:47.575Z"
      },
      {
        "duration": 37,
        "start_time": "2023-03-25T08:05:47.601Z"
      },
      {
        "duration": 28,
        "start_time": "2023-03-25T08:05:47.641Z"
      },
      {
        "duration": 31,
        "start_time": "2023-03-25T08:05:47.671Z"
      },
      {
        "duration": 92,
        "start_time": "2023-03-25T08:05:47.704Z"
      },
      {
        "duration": 7,
        "start_time": "2023-03-25T08:05:47.798Z"
      },
      {
        "duration": 109,
        "start_time": "2023-03-25T08:05:47.807Z"
      },
      {
        "duration": 78,
        "start_time": "2023-03-25T08:05:47.918Z"
      },
      {
        "duration": 546,
        "start_time": "2023-03-25T08:05:47.998Z"
      },
      {
        "duration": 26,
        "start_time": "2023-03-25T08:05:48.546Z"
      },
      {
        "duration": 273,
        "start_time": "2023-03-25T08:05:48.575Z"
      },
      {
        "duration": 278,
        "start_time": "2023-03-25T08:05:48.851Z"
      },
      {
        "duration": 208,
        "start_time": "2023-03-25T08:05:49.138Z"
      },
      {
        "duration": 10,
        "start_time": "2023-03-25T08:05:49.349Z"
      },
      {
        "duration": 31,
        "start_time": "2023-03-25T08:05:49.366Z"
      },
      {
        "duration": 7,
        "start_time": "2023-03-25T08:05:49.399Z"
      },
      {
        "duration": 368,
        "start_time": "2023-03-25T08:05:49.408Z"
      },
      {
        "duration": 110,
        "start_time": "2023-03-25T08:05:49.780Z"
      },
      {
        "duration": 280,
        "start_time": "2023-03-25T08:05:49.892Z"
      },
      {
        "duration": 38,
        "start_time": "2023-03-25T08:05:50.176Z"
      },
      {
        "duration": 226,
        "start_time": "2023-03-25T08:05:50.216Z"
      },
      {
        "duration": 7,
        "start_time": "2023-03-25T08:05:50.445Z"
      },
      {
        "duration": 2061,
        "start_time": "2023-03-25T08:05:50.455Z"
      },
      {
        "duration": 6,
        "start_time": "2023-03-25T08:05:52.518Z"
      },
      {
        "duration": 9,
        "start_time": "2023-03-25T08:05:52.544Z"
      },
      {
        "duration": 25,
        "start_time": "2023-03-25T08:05:52.566Z"
      },
      {
        "duration": 10,
        "start_time": "2023-03-25T08:05:52.593Z"
      },
      {
        "duration": 9,
        "start_time": "2023-03-25T08:05:52.605Z"
      },
      {
        "duration": 50,
        "start_time": "2023-03-25T08:05:52.616Z"
      },
      {
        "duration": 22,
        "start_time": "2023-03-25T08:05:52.669Z"
      },
      {
        "duration": 15191,
        "start_time": "2023-03-25T08:05:52.693Z"
      },
      {
        "duration": 216380,
        "start_time": "2023-03-25T08:06:07.958Z"
      },
      {
        "duration": 20,
        "start_time": "2023-03-25T08:09:44.357Z"
      },
      {
        "duration": 32409,
        "start_time": "2023-03-25T08:09:44.382Z"
      },
      {
        "duration": 5,
        "start_time": "2023-03-25T08:10:16.798Z"
      },
      {
        "duration": 23683,
        "start_time": "2023-03-25T08:10:16.809Z"
      },
      {
        "duration": 224619,
        "start_time": "2023-03-25T08:10:40.494Z"
      },
      {
        "duration": 13,
        "start_time": "2023-03-25T08:14:25.115Z"
      },
      {
        "duration": 0,
        "start_time": "2023-03-25T08:14:25.130Z"
      },
      {
        "duration": 0,
        "start_time": "2023-03-25T08:14:25.131Z"
      },
      {
        "duration": 0,
        "start_time": "2023-03-25T08:14:25.133Z"
      },
      {
        "duration": 0,
        "start_time": "2023-03-25T08:14:25.138Z"
      },
      {
        "duration": 0,
        "start_time": "2023-03-25T08:14:25.139Z"
      },
      {
        "duration": 0,
        "start_time": "2023-03-25T08:14:25.145Z"
      },
      {
        "duration": 0,
        "start_time": "2023-03-25T08:14:25.146Z"
      },
      {
        "duration": 0,
        "start_time": "2023-03-25T08:14:25.147Z"
      },
      {
        "duration": 0,
        "start_time": "2023-03-25T08:14:25.151Z"
      },
      {
        "duration": 144,
        "start_time": "2023-03-25T08:15:47.354Z"
      },
      {
        "duration": 483563,
        "start_time": "2023-03-25T08:19:06.493Z"
      },
      {
        "duration": 5,
        "start_time": "2023-03-25T08:27:10.063Z"
      },
      {
        "duration": 20065,
        "start_time": "2023-03-25T08:27:10.070Z"
      },
      {
        "duration": 0,
        "start_time": "2023-03-25T08:27:30.146Z"
      },
      {
        "duration": 0,
        "start_time": "2023-03-25T08:27:30.147Z"
      },
      {
        "duration": 0,
        "start_time": "2023-03-25T08:27:30.147Z"
      },
      {
        "duration": 0,
        "start_time": "2023-03-25T08:27:30.148Z"
      },
      {
        "duration": 0,
        "start_time": "2023-03-25T08:27:30.149Z"
      },
      {
        "duration": 0,
        "start_time": "2023-03-25T08:27:30.150Z"
      },
      {
        "duration": 0,
        "start_time": "2023-03-25T08:27:30.154Z"
      },
      {
        "duration": 0,
        "start_time": "2023-03-25T08:27:30.155Z"
      },
      {
        "duration": 33974,
        "start_time": "2023-03-25T08:27:32.026Z"
      },
      {
        "duration": 17,
        "start_time": "2023-03-25T08:28:06.003Z"
      },
      {
        "duration": 7,
        "start_time": "2023-03-25T08:28:34.950Z"
      },
      {
        "duration": 33557,
        "start_time": "2023-03-25T08:28:35.530Z"
      },
      {
        "duration": 1409,
        "start_time": "2023-03-25T08:29:09.089Z"
      },
      {
        "duration": 271674,
        "start_time": "2023-03-25T08:29:10.499Z"
      },
      {
        "duration": 15,
        "start_time": "2023-03-25T08:33:42.175Z"
      },
      {
        "duration": 6,
        "start_time": "2023-03-25T08:33:42.192Z"
      },
      {
        "duration": 11354,
        "start_time": "2023-03-25T08:33:42.200Z"
      },
      {
        "duration": 14,
        "start_time": "2023-03-25T08:46:25.116Z"
      },
      {
        "duration": 5,
        "start_time": "2023-03-25T08:46:27.812Z"
      },
      {
        "duration": 49,
        "start_time": "2023-03-25T08:53:39.460Z"
      },
      {
        "duration": 38,
        "start_time": "2023-03-25T08:56:27.964Z"
      },
      {
        "duration": 44,
        "start_time": "2023-03-25T08:57:02.105Z"
      },
      {
        "duration": 13,
        "start_time": "2023-03-25T09:02:06.478Z"
      },
      {
        "duration": 315,
        "start_time": "2023-03-25T09:02:11.553Z"
      },
      {
        "duration": 301,
        "start_time": "2023-03-25T09:02:31.163Z"
      },
      {
        "duration": 40,
        "start_time": "2023-03-25T09:04:23.028Z"
      },
      {
        "duration": 21,
        "start_time": "2023-03-25T09:04:44.505Z"
      },
      {
        "duration": 145,
        "start_time": "2023-03-25T09:05:06.654Z"
      },
      {
        "duration": 4,
        "start_time": "2023-03-25T09:05:10.420Z"
      },
      {
        "duration": 28,
        "start_time": "2023-03-25T09:05:14.254Z"
      },
      {
        "duration": 332,
        "start_time": "2023-03-25T09:05:14.874Z"
      },
      {
        "duration": 6,
        "start_time": "2023-03-25T09:09:47.610Z"
      },
      {
        "duration": 5,
        "start_time": "2023-03-25T09:12:23.970Z"
      },
      {
        "duration": 2703,
        "start_time": "2023-03-25T09:14:02.768Z"
      },
      {
        "duration": 2736,
        "start_time": "2023-03-25T09:14:19.059Z"
      },
      {
        "duration": 46,
        "start_time": "2023-03-25T09:15:31.871Z"
      },
      {
        "duration": 1733,
        "start_time": "2023-03-25T09:16:38.065Z"
      },
      {
        "duration": 14186,
        "start_time": "2023-03-25T09:18:10.570Z"
      },
      {
        "duration": 4638,
        "start_time": "2023-03-25T09:20:03.632Z"
      },
      {
        "duration": 13,
        "start_time": "2023-03-25T09:27:19.758Z"
      },
      {
        "duration": 9,
        "start_time": "2023-03-25T09:27:21.648Z"
      },
      {
        "duration": 33,
        "start_time": "2023-03-25T09:29:49.361Z"
      },
      {
        "duration": 4,
        "start_time": "2023-03-25T09:29:59.377Z"
      },
      {
        "duration": 420,
        "start_time": "2023-03-25T09:30:00.056Z"
      },
      {
        "duration": 422,
        "start_time": "2023-03-25T09:30:18.952Z"
      },
      {
        "duration": 446,
        "start_time": "2023-03-25T09:30:39.432Z"
      },
      {
        "duration": 402,
        "start_time": "2023-03-25T09:30:47.506Z"
      },
      {
        "duration": 359,
        "start_time": "2023-03-25T09:30:56.320Z"
      },
      {
        "duration": 370,
        "start_time": "2023-03-25T09:31:08.660Z"
      },
      {
        "duration": 23,
        "start_time": "2023-03-25T09:31:14.756Z"
      },
      {
        "duration": 23,
        "start_time": "2023-03-25T09:31:24.425Z"
      },
      {
        "duration": 12,
        "start_time": "2023-03-25T09:32:11.620Z"
      },
      {
        "duration": 15,
        "start_time": "2023-03-25T09:32:15.568Z"
      },
      {
        "duration": 616,
        "start_time": "2023-03-25T09:34:33.310Z"
      },
      {
        "duration": 19,
        "start_time": "2023-03-25T09:37:45.217Z"
      },
      {
        "duration": 676,
        "start_time": "2023-03-25T09:37:54.199Z"
      },
      {
        "duration": 635,
        "start_time": "2023-03-25T09:39:02.599Z"
      },
      {
        "duration": 642,
        "start_time": "2023-03-25T09:39:15.790Z"
      },
      {
        "duration": 638,
        "start_time": "2023-03-25T09:39:32.635Z"
      },
      {
        "duration": 641,
        "start_time": "2023-03-25T09:39:35.303Z"
      },
      {
        "duration": 612,
        "start_time": "2023-03-25T09:39:45.336Z"
      },
      {
        "duration": 73,
        "start_time": "2023-03-25T09:46:24.750Z"
      },
      {
        "duration": 84,
        "start_time": "2023-03-25T09:47:01.844Z"
      },
      {
        "duration": 7,
        "start_time": "2023-03-25T09:47:19.820Z"
      },
      {
        "duration": 736,
        "start_time": "2023-03-25T09:48:02.354Z"
      },
      {
        "duration": 656,
        "start_time": "2023-03-25T09:49:43.251Z"
      },
      {
        "duration": 181,
        "start_time": "2023-03-25T09:53:12.317Z"
      },
      {
        "duration": 250,
        "start_time": "2023-03-25T09:55:32.555Z"
      },
      {
        "duration": 184,
        "start_time": "2023-03-25T09:55:48.214Z"
      },
      {
        "duration": 297,
        "start_time": "2023-03-25T09:56:11.432Z"
      },
      {
        "duration": 168,
        "start_time": "2023-03-25T09:56:33.669Z"
      },
      {
        "duration": 177,
        "start_time": "2023-03-25T09:56:58.255Z"
      },
      {
        "duration": 243,
        "start_time": "2023-03-25T09:58:44.474Z"
      },
      {
        "duration": 234,
        "start_time": "2023-03-25T09:59:22.498Z"
      },
      {
        "duration": 255,
        "start_time": "2023-03-25T10:00:37.461Z"
      },
      {
        "duration": 303,
        "start_time": "2023-03-25T10:00:47.262Z"
      },
      {
        "duration": 264,
        "start_time": "2023-03-25T10:01:12.053Z"
      },
      {
        "duration": 92,
        "start_time": "2023-03-25T10:05:32.640Z"
      },
      {
        "duration": 97,
        "start_time": "2023-03-25T10:06:00.803Z"
      },
      {
        "duration": 95,
        "start_time": "2023-03-25T10:06:07.034Z"
      },
      {
        "duration": 96,
        "start_time": "2023-03-25T10:06:15.417Z"
      },
      {
        "duration": 13,
        "start_time": "2023-03-25T10:06:36.930Z"
      },
      {
        "duration": 201,
        "start_time": "2023-03-25T10:06:42.518Z"
      },
      {
        "duration": 45,
        "start_time": "2023-03-25T10:06:45.672Z"
      },
      {
        "duration": 29,
        "start_time": "2023-03-25T10:06:58.825Z"
      },
      {
        "duration": 12,
        "start_time": "2023-03-25T10:07:12.452Z"
      },
      {
        "duration": 22,
        "start_time": "2023-03-25T10:07:27.132Z"
      },
      {
        "duration": 24,
        "start_time": "2023-03-25T10:08:05.639Z"
      },
      {
        "duration": 157,
        "start_time": "2023-03-25T10:13:28.442Z"
      },
      {
        "duration": 166,
        "start_time": "2023-03-25T10:14:00.302Z"
      },
      {
        "duration": 175,
        "start_time": "2023-03-25T10:14:24.956Z"
      },
      {
        "duration": 208,
        "start_time": "2023-03-25T10:14:51.175Z"
      },
      {
        "duration": 169,
        "start_time": "2023-03-25T10:15:22.094Z"
      },
      {
        "duration": 14,
        "start_time": "2023-03-25T10:16:07.057Z"
      },
      {
        "duration": 11,
        "start_time": "2023-03-25T10:16:21.226Z"
      },
      {
        "duration": 211,
        "start_time": "2023-03-25T10:17:44.949Z"
      },
      {
        "duration": 353,
        "start_time": "2023-03-25T10:17:47.708Z"
      },
      {
        "duration": 191,
        "start_time": "2023-03-25T10:17:58.900Z"
      },
      {
        "duration": 199,
        "start_time": "2023-03-25T10:19:15.858Z"
      },
      {
        "duration": 186,
        "start_time": "2023-03-25T10:20:03.322Z"
      },
      {
        "duration": 216,
        "start_time": "2023-03-25T10:20:14.570Z"
      },
      {
        "duration": 273,
        "start_time": "2023-03-25T10:20:32.673Z"
      },
      {
        "duration": 176,
        "start_time": "2023-03-25T10:20:58.277Z"
      },
      {
        "duration": 208,
        "start_time": "2023-03-25T10:21:01.832Z"
      },
      {
        "duration": 628,
        "start_time": "2023-03-25T10:22:01.904Z"
      },
      {
        "duration": 77,
        "start_time": "2023-03-25T10:23:33.766Z"
      },
      {
        "duration": 80,
        "start_time": "2023-03-25T10:23:41.193Z"
      },
      {
        "duration": 7,
        "start_time": "2023-03-25T10:24:51.991Z"
      },
      {
        "duration": 91,
        "start_time": "2023-03-25T10:25:04.428Z"
      },
      {
        "duration": 1032,
        "start_time": "2023-03-25T10:25:40.261Z"
      },
      {
        "duration": 260,
        "start_time": "2023-03-25T10:26:23.068Z"
      },
      {
        "duration": 277,
        "start_time": "2023-03-25T10:27:07.867Z"
      },
      {
        "duration": 245,
        "start_time": "2023-03-25T10:27:17.332Z"
      },
      {
        "duration": 282,
        "start_time": "2023-03-25T10:27:30.078Z"
      },
      {
        "duration": 273,
        "start_time": "2023-03-25T10:28:13.131Z"
      },
      {
        "duration": 283,
        "start_time": "2023-03-25T10:28:43.773Z"
      },
      {
        "duration": 7,
        "start_time": "2023-03-25T10:30:22.283Z"
      },
      {
        "duration": 243,
        "start_time": "2023-03-25T10:30:56.962Z"
      },
      {
        "duration": 19,
        "start_time": "2023-03-25T10:30:57.462Z"
      },
      {
        "duration": 19,
        "start_time": "2023-03-25T10:31:09.464Z"
      },
      {
        "duration": 11,
        "start_time": "2023-03-25T10:31:13.761Z"
      },
      {
        "duration": 7,
        "start_time": "2023-03-25T10:31:19.379Z"
      },
      {
        "duration": 623,
        "start_time": "2023-03-25T10:34:04.886Z"
      },
      {
        "duration": 412,
        "start_time": "2023-03-25T10:34:14.487Z"
      },
      {
        "duration": 103,
        "start_time": "2023-03-25T10:57:50.387Z"
      },
      {
        "duration": 8,
        "start_time": "2023-03-25T11:10:50.251Z"
      },
      {
        "duration": 354,
        "start_time": "2023-03-25T11:11:27.500Z"
      },
      {
        "duration": 328,
        "start_time": "2023-03-25T11:11:48.552Z"
      },
      {
        "duration": 399,
        "start_time": "2023-03-25T11:11:58.126Z"
      },
      {
        "duration": 161,
        "start_time": "2023-03-25T11:13:04.218Z"
      },
      {
        "duration": 384,
        "start_time": "2023-03-25T11:13:08.985Z"
      },
      {
        "duration": 354,
        "start_time": "2023-03-25T11:13:45.581Z"
      },
      {
        "duration": 363,
        "start_time": "2023-03-25T11:13:55.173Z"
      },
      {
        "duration": 339,
        "start_time": "2023-03-25T11:13:59.262Z"
      },
      {
        "duration": 372,
        "start_time": "2023-03-25T11:14:47.297Z"
      },
      {
        "duration": 372,
        "start_time": "2023-03-25T11:14:52.520Z"
      },
      {
        "duration": 609,
        "start_time": "2023-03-25T11:15:08.565Z"
      },
      {
        "duration": 371,
        "start_time": "2023-03-25T11:15:22.707Z"
      },
      {
        "duration": 400,
        "start_time": "2023-03-25T11:15:29.803Z"
      },
      {
        "duration": 1680,
        "start_time": "2023-03-27T09:11:12.428Z"
      },
      {
        "duration": 3,
        "start_time": "2023-03-27T09:11:14.110Z"
      },
      {
        "duration": 22652,
        "start_time": "2023-03-27T09:11:14.114Z"
      },
      {
        "duration": 4,
        "start_time": "2023-03-27T09:11:36.768Z"
      },
      {
        "duration": 5,
        "start_time": "2023-03-27T09:11:36.774Z"
      },
      {
        "duration": 9,
        "start_time": "2023-03-27T09:11:36.781Z"
      },
      {
        "duration": 332,
        "start_time": "2023-03-27T09:11:36.792Z"
      },
      {
        "duration": 151,
        "start_time": "2023-03-27T09:11:37.125Z"
      },
      {
        "duration": 4963,
        "start_time": "2023-03-27T09:11:37.278Z"
      },
      {
        "duration": 1227,
        "start_time": "2023-03-27T09:11:42.243Z"
      },
      {
        "duration": 10067,
        "start_time": "2023-03-27T09:11:43.472Z"
      },
      {
        "duration": 1282,
        "start_time": "2023-03-27T09:11:53.541Z"
      },
      {
        "duration": 9376,
        "start_time": "2023-03-27T09:11:54.825Z"
      },
      {
        "duration": 301,
        "start_time": "2023-03-27T09:12:04.203Z"
      },
      {
        "duration": 77,
        "start_time": "2023-03-27T09:12:04.505Z"
      },
      {
        "duration": 103,
        "start_time": "2023-03-27T09:12:04.583Z"
      },
      {
        "duration": 220,
        "start_time": "2023-03-27T09:12:04.688Z"
      },
      {
        "duration": 74,
        "start_time": "2023-03-27T09:12:04.909Z"
      },
      {
        "duration": 176,
        "start_time": "2023-03-27T09:12:04.984Z"
      },
      {
        "duration": 188,
        "start_time": "2023-03-27T09:12:05.168Z"
      },
      {
        "duration": 276,
        "start_time": "2023-03-27T09:12:05.368Z"
      },
      {
        "duration": 4,
        "start_time": "2023-03-27T09:12:05.646Z"
      },
      {
        "duration": 217,
        "start_time": "2023-03-27T09:12:05.651Z"
      },
      {
        "duration": 71,
        "start_time": "2023-03-27T09:12:05.870Z"
      },
      {
        "duration": 217,
        "start_time": "2023-03-27T09:12:05.943Z"
      },
      {
        "duration": 7,
        "start_time": "2023-03-27T09:12:06.161Z"
      },
      {
        "duration": 53,
        "start_time": "2023-03-27T09:12:06.169Z"
      },
      {
        "duration": 4056,
        "start_time": "2023-03-27T09:12:06.226Z"
      },
      {
        "duration": 470,
        "start_time": "2023-03-27T09:12:10.284Z"
      },
      {
        "duration": 13,
        "start_time": "2023-03-27T09:12:10.756Z"
      },
      {
        "duration": 16,
        "start_time": "2023-03-27T09:12:10.771Z"
      },
      {
        "duration": 16,
        "start_time": "2023-03-27T09:12:10.788Z"
      },
      {
        "duration": 18,
        "start_time": "2023-03-27T09:12:10.806Z"
      },
      {
        "duration": 49,
        "start_time": "2023-03-27T09:12:10.825Z"
      },
      {
        "duration": 4,
        "start_time": "2023-03-27T09:12:10.876Z"
      },
      {
        "duration": 53,
        "start_time": "2023-03-27T09:12:10.881Z"
      },
      {
        "duration": 29,
        "start_time": "2023-03-27T09:12:10.935Z"
      },
      {
        "duration": 259,
        "start_time": "2023-03-27T09:12:10.968Z"
      },
      {
        "duration": 10,
        "start_time": "2023-03-27T09:12:11.229Z"
      },
      {
        "duration": 143,
        "start_time": "2023-03-27T09:12:11.240Z"
      },
      {
        "duration": 148,
        "start_time": "2023-03-27T09:12:11.384Z"
      },
      {
        "duration": 101,
        "start_time": "2023-03-27T09:12:11.534Z"
      },
      {
        "duration": 4,
        "start_time": "2023-03-27T09:12:11.637Z"
      },
      {
        "duration": 6,
        "start_time": "2023-03-27T09:12:11.643Z"
      },
      {
        "duration": 17,
        "start_time": "2023-03-27T09:12:11.651Z"
      },
      {
        "duration": 205,
        "start_time": "2023-03-27T09:12:11.670Z"
      },
      {
        "duration": 52,
        "start_time": "2023-03-27T09:12:11.876Z"
      },
      {
        "duration": 148,
        "start_time": "2023-03-27T09:12:11.930Z"
      },
      {
        "duration": 16,
        "start_time": "2023-03-27T09:12:12.080Z"
      },
      {
        "duration": 130,
        "start_time": "2023-03-27T09:12:12.097Z"
      },
      {
        "duration": 3,
        "start_time": "2023-03-27T09:12:12.228Z"
      },
      {
        "duration": 1142,
        "start_time": "2023-03-27T09:12:12.232Z"
      },
      {
        "duration": 5,
        "start_time": "2023-03-27T09:12:13.375Z"
      },
      {
        "duration": 9,
        "start_time": "2023-03-27T09:12:13.381Z"
      },
      {
        "duration": 8,
        "start_time": "2023-03-27T09:12:13.392Z"
      },
      {
        "duration": 5,
        "start_time": "2023-03-27T09:12:13.402Z"
      },
      {
        "duration": 12,
        "start_time": "2023-03-27T09:12:13.408Z"
      },
      {
        "duration": 46,
        "start_time": "2023-03-27T09:12:13.422Z"
      },
      {
        "duration": 13,
        "start_time": "2023-03-27T09:12:13.469Z"
      },
      {
        "duration": 11491,
        "start_time": "2023-03-27T09:12:13.483Z"
      },
      {
        "duration": 180694,
        "start_time": "2023-03-27T09:12:24.976Z"
      },
      {
        "duration": 98,
        "start_time": "2023-03-27T09:15:25.672Z"
      },
      {
        "duration": 19497,
        "start_time": "2023-03-27T09:15:25.772Z"
      },
      {
        "duration": 3,
        "start_time": "2023-03-27T09:15:45.271Z"
      },
      {
        "duration": 12275,
        "start_time": "2023-03-27T09:15:45.278Z"
      },
      {
        "duration": 299382,
        "start_time": "2023-03-27T09:15:57.554Z"
      },
      {
        "duration": 3,
        "start_time": "2023-03-27T09:20:56.937Z"
      },
      {
        "duration": 21680,
        "start_time": "2023-03-27T09:20:56.942Z"
      },
      {
        "duration": 13,
        "start_time": "2023-03-27T09:21:18.624Z"
      },
      {
        "duration": 3,
        "start_time": "2023-03-27T09:21:18.638Z"
      },
      {
        "duration": 22651,
        "start_time": "2023-03-27T09:21:18.643Z"
      },
      {
        "duration": 1136,
        "start_time": "2023-03-27T09:21:41.296Z"
      },
      {
        "duration": 195497,
        "start_time": "2023-03-27T09:21:42.434Z"
      },
      {
        "duration": 10,
        "start_time": "2023-03-27T09:24:57.932Z"
      },
      {
        "duration": 7,
        "start_time": "2023-03-27T09:24:57.944Z"
      },
      {
        "duration": 8491,
        "start_time": "2023-03-27T09:24:57.953Z"
      },
      {
        "duration": 36,
        "start_time": "2023-03-27T09:25:06.446Z"
      },
      {
        "duration": 16,
        "start_time": "2023-03-27T09:25:06.484Z"
      },
      {
        "duration": 275,
        "start_time": "2023-03-27T09:25:06.501Z"
      },
      {
        "duration": 4,
        "start_time": "2023-03-27T09:25:06.778Z"
      },
      {
        "duration": 109,
        "start_time": "2023-03-27T09:25:06.784Z"
      },
      {
        "duration": 0,
        "start_time": "2023-03-27T09:25:06.895Z"
      },
      {
        "duration": 0,
        "start_time": "2023-03-27T09:25:06.897Z"
      },
      {
        "duration": 0,
        "start_time": "2023-03-27T09:25:06.898Z"
      },
      {
        "duration": 2062,
        "start_time": "2023-03-27T15:04:33.500Z"
      },
      {
        "duration": 6,
        "start_time": "2023-03-27T15:04:35.810Z"
      },
      {
        "duration": 5334,
        "start_time": "2023-03-27T15:04:36.848Z"
      },
      {
        "duration": 3,
        "start_time": "2023-03-27T15:04:42.196Z"
      },
      {
        "duration": 7,
        "start_time": "2023-03-27T15:04:42.201Z"
      },
      {
        "duration": 6,
        "start_time": "2023-03-27T15:04:42.211Z"
      },
      {
        "duration": 391,
        "start_time": "2023-03-27T15:04:42.218Z"
      },
      {
        "duration": 229,
        "start_time": "2023-03-27T15:05:17.286Z"
      },
      {
        "duration": 82,
        "start_time": "2023-03-27T15:08:34.038Z"
      },
      {
        "duration": 272,
        "start_time": "2023-03-27T15:09:53.482Z"
      },
      {
        "duration": 5,
        "start_time": "2023-03-27T16:23:43.688Z"
      },
      {
        "duration": 4,
        "start_time": "2023-03-27T16:23:45.708Z"
      },
      {
        "duration": 3,
        "start_time": "2023-03-27T16:23:46.886Z"
      },
      {
        "duration": 3,
        "start_time": "2023-03-27T16:23:48.186Z"
      },
      {
        "duration": 3,
        "start_time": "2023-03-27T16:23:48.696Z"
      },
      {
        "duration": 6,
        "start_time": "2023-03-27T16:23:49.091Z"
      },
      {
        "duration": 91,
        "start_time": "2023-03-27T16:23:51.695Z"
      },
      {
        "duration": 220,
        "start_time": "2023-03-27T16:24:55.082Z"
      },
      {
        "duration": 73,
        "start_time": "2023-03-27T16:25:07.645Z"
      },
      {
        "duration": 268,
        "start_time": "2023-03-27T16:25:18.052Z"
      },
      {
        "duration": 40,
        "start_time": "2023-03-27T16:27:28.006Z"
      },
      {
        "duration": 189,
        "start_time": "2023-03-27T16:27:32.383Z"
      },
      {
        "duration": 1050,
        "start_time": "2023-03-27T16:27:40.917Z"
      },
      {
        "duration": 2282,
        "start_time": "2023-03-28T20:07:07.079Z"
      },
      {
        "duration": 3,
        "start_time": "2023-03-28T20:07:09.363Z"
      },
      {
        "duration": 18359,
        "start_time": "2023-03-28T20:07:09.368Z"
      },
      {
        "duration": 5,
        "start_time": "2023-03-28T20:07:27.728Z"
      },
      {
        "duration": 82,
        "start_time": "2023-03-28T20:07:27.741Z"
      },
      {
        "duration": 17,
        "start_time": "2023-03-28T20:07:27.827Z"
      },
      {
        "duration": 929,
        "start_time": "2023-03-28T20:07:27.846Z"
      },
      {
        "duration": 1147,
        "start_time": "2023-03-28T20:07:28.776Z"
      },
      {
        "duration": 4180,
        "start_time": "2023-03-28T20:07:29.927Z"
      },
      {
        "duration": 1887,
        "start_time": "2023-03-28T20:07:34.112Z"
      },
      {
        "duration": 11782,
        "start_time": "2023-03-28T20:07:36.004Z"
      },
      {
        "duration": 1725,
        "start_time": "2023-03-28T20:07:47.798Z"
      },
      {
        "duration": 12217,
        "start_time": "2023-03-28T20:07:49.524Z"
      },
      {
        "duration": 206,
        "start_time": "2023-03-28T20:08:01.749Z"
      },
      {
        "duration": 200,
        "start_time": "2023-03-28T20:08:01.960Z"
      },
      {
        "duration": 499,
        "start_time": "2023-03-28T20:08:02.165Z"
      },
      {
        "duration": 134,
        "start_time": "2023-03-28T20:08:02.673Z"
      },
      {
        "duration": 154,
        "start_time": "2023-03-28T20:08:02.813Z"
      },
      {
        "duration": 372,
        "start_time": "2023-03-28T20:08:02.971Z"
      },
      {
        "duration": 93,
        "start_time": "2023-03-28T20:08:03.344Z"
      },
      {
        "duration": 316,
        "start_time": "2023-03-28T20:08:03.438Z"
      },
      {
        "duration": 359,
        "start_time": "2023-03-28T20:08:03.768Z"
      },
      {
        "duration": 416,
        "start_time": "2023-03-28T20:08:04.131Z"
      },
      {
        "duration": 19,
        "start_time": "2023-03-28T20:08:04.564Z"
      },
      {
        "duration": 572,
        "start_time": "2023-03-28T20:08:04.591Z"
      },
      {
        "duration": 167,
        "start_time": "2023-03-28T20:08:05.172Z"
      },
      {
        "duration": 290,
        "start_time": "2023-03-28T20:08:05.340Z"
      },
      {
        "duration": 5,
        "start_time": "2023-03-28T20:08:05.631Z"
      },
      {
        "duration": 116,
        "start_time": "2023-03-28T20:08:05.637Z"
      },
      {
        "duration": 7268,
        "start_time": "2023-03-28T20:08:05.755Z"
      },
      {
        "duration": 692,
        "start_time": "2023-03-28T20:08:13.027Z"
      },
      {
        "duration": 23,
        "start_time": "2023-03-28T20:08:13.721Z"
      },
      {
        "duration": 154,
        "start_time": "2023-03-28T20:08:13.745Z"
      },
      {
        "duration": 30,
        "start_time": "2023-03-28T20:08:13.911Z"
      },
      {
        "duration": 112,
        "start_time": "2023-03-28T20:08:13.943Z"
      },
      {
        "duration": 168,
        "start_time": "2023-03-28T20:08:14.068Z"
      },
      {
        "duration": 5,
        "start_time": "2023-03-28T20:08:14.240Z"
      },
      {
        "duration": 117,
        "start_time": "2023-03-28T20:08:14.247Z"
      },
      {
        "duration": 73,
        "start_time": "2023-03-28T20:08:14.366Z"
      },
      {
        "duration": 451,
        "start_time": "2023-03-28T20:08:14.440Z"
      },
      {
        "duration": 30,
        "start_time": "2023-03-28T20:08:14.916Z"
      },
      {
        "duration": 263,
        "start_time": "2023-03-28T20:08:14.955Z"
      },
      {
        "duration": 295,
        "start_time": "2023-03-28T20:08:15.220Z"
      },
      {
        "duration": 280,
        "start_time": "2023-03-28T20:08:15.519Z"
      },
      {
        "duration": 23,
        "start_time": "2023-03-28T20:08:15.804Z"
      },
      {
        "duration": 145,
        "start_time": "2023-03-28T20:08:15.832Z"
      },
      {
        "duration": 121,
        "start_time": "2023-03-28T20:08:15.982Z"
      },
      {
        "duration": 529,
        "start_time": "2023-03-28T20:08:16.109Z"
      },
      {
        "duration": 92,
        "start_time": "2023-03-28T20:08:16.643Z"
      },
      {
        "duration": 373,
        "start_time": "2023-03-28T20:08:16.740Z"
      },
      {
        "duration": 87,
        "start_time": "2023-03-28T20:08:17.117Z"
      },
      {
        "duration": 173,
        "start_time": "2023-03-28T20:08:17.208Z"
      },
      {
        "duration": 3,
        "start_time": "2023-03-28T20:08:17.385Z"
      },
      {
        "duration": 1709,
        "start_time": "2023-03-28T20:08:17.392Z"
      },
      {
        "duration": 18,
        "start_time": "2023-03-28T20:08:19.113Z"
      },
      {
        "duration": 105,
        "start_time": "2023-03-28T20:08:19.132Z"
      },
      {
        "duration": 79,
        "start_time": "2023-03-28T20:08:19.238Z"
      },
      {
        "duration": 23,
        "start_time": "2023-03-28T20:08:19.319Z"
      },
      {
        "duration": 59,
        "start_time": "2023-03-28T20:08:19.344Z"
      },
      {
        "duration": 173,
        "start_time": "2023-03-28T20:08:19.404Z"
      },
      {
        "duration": 36,
        "start_time": "2023-03-28T20:08:19.582Z"
      },
      {
        "duration": 196753,
        "start_time": "2023-03-28T20:08:19.620Z"
      },
      {
        "duration": 0,
        "start_time": "2023-03-28T20:11:36.375Z"
      },
      {
        "duration": 0,
        "start_time": "2023-03-28T20:11:36.376Z"
      },
      {
        "duration": 0,
        "start_time": "2023-03-28T20:11:36.378Z"
      },
      {
        "duration": 1,
        "start_time": "2023-03-28T20:11:36.378Z"
      },
      {
        "duration": 0,
        "start_time": "2023-03-28T20:11:36.379Z"
      },
      {
        "duration": 0,
        "start_time": "2023-03-28T20:11:36.380Z"
      },
      {
        "duration": 0,
        "start_time": "2023-03-28T20:11:36.381Z"
      },
      {
        "duration": 0,
        "start_time": "2023-03-28T20:11:36.382Z"
      },
      {
        "duration": 0,
        "start_time": "2023-03-28T20:11:36.383Z"
      },
      {
        "duration": 0,
        "start_time": "2023-03-28T20:11:36.384Z"
      },
      {
        "duration": 0,
        "start_time": "2023-03-28T20:11:36.385Z"
      },
      {
        "duration": 0,
        "start_time": "2023-03-28T20:11:36.386Z"
      },
      {
        "duration": 0,
        "start_time": "2023-03-28T20:11:36.392Z"
      },
      {
        "duration": 0,
        "start_time": "2023-03-28T20:11:36.393Z"
      },
      {
        "duration": 0,
        "start_time": "2023-03-28T20:11:36.394Z"
      },
      {
        "duration": 0,
        "start_time": "2023-03-28T20:11:36.395Z"
      },
      {
        "duration": 0,
        "start_time": "2023-03-28T20:11:36.396Z"
      },
      {
        "duration": 0,
        "start_time": "2023-03-28T20:11:36.397Z"
      },
      {
        "duration": 0,
        "start_time": "2023-03-28T20:11:36.398Z"
      },
      {
        "duration": 0,
        "start_time": "2023-03-28T20:11:36.399Z"
      },
      {
        "duration": 0,
        "start_time": "2023-03-28T20:11:36.400Z"
      },
      {
        "duration": 0,
        "start_time": "2023-03-28T20:11:36.401Z"
      },
      {
        "duration": 0,
        "start_time": "2023-03-28T20:11:36.402Z"
      },
      {
        "duration": 0,
        "start_time": "2023-03-28T20:11:36.407Z"
      },
      {
        "duration": 0,
        "start_time": "2023-03-28T20:11:36.409Z"
      },
      {
        "duration": 15,
        "start_time": "2023-03-28T20:12:27.206Z"
      },
      {
        "duration": 5,
        "start_time": "2023-03-28T20:12:59.592Z"
      },
      {
        "duration": 47126,
        "start_time": "2023-03-28T20:14:28.725Z"
      },
      {
        "duration": 4,
        "start_time": "2023-03-28T20:17:52.438Z"
      },
      {
        "duration": 51420,
        "start_time": "2023-03-28T20:18:48.773Z"
      },
      {
        "duration": 8236,
        "start_time": "2023-03-28T20:19:47.663Z"
      },
      {
        "duration": 3,
        "start_time": "2023-03-28T20:19:59.944Z"
      },
      {
        "duration": 3526,
        "start_time": "2023-03-28T20:20:00.708Z"
      },
      {
        "duration": 32549,
        "start_time": "2023-03-28T20:20:57.846Z"
      },
      {
        "duration": 84115,
        "start_time": "2023-03-28T20:22:35.217Z"
      },
      {
        "duration": 81095,
        "start_time": "2023-03-28T20:29:35.500Z"
      },
      {
        "duration": 443148,
        "start_time": "2023-03-28T20:33:17.084Z"
      },
      {
        "duration": 4,
        "start_time": "2023-03-28T20:40:40.235Z"
      },
      {
        "duration": 0,
        "start_time": "2023-03-28T20:40:40.299Z"
      },
      {
        "duration": 12,
        "start_time": "2023-03-28T20:41:37.288Z"
      },
      {
        "duration": 15,
        "start_time": "2023-03-28T20:41:48.915Z"
      },
      {
        "duration": 113,
        "start_time": "2023-03-28T20:41:57.978Z"
      },
      {
        "duration": 33,
        "start_time": "2023-03-28T20:42:09.946Z"
      },
      {
        "duration": 8,
        "start_time": "2023-03-28T20:42:14.080Z"
      },
      {
        "duration": 100,
        "start_time": "2023-03-28T20:42:28.437Z"
      },
      {
        "duration": 10,
        "start_time": "2023-03-28T20:42:42.384Z"
      },
      {
        "duration": 21,
        "start_time": "2023-03-28T20:43:02.489Z"
      },
      {
        "duration": 24,
        "start_time": "2023-03-28T20:43:16.804Z"
      },
      {
        "duration": 258434,
        "start_time": "2023-03-28T20:44:11.504Z"
      },
      {
        "duration": 27,
        "start_time": "2023-03-28T20:48:29.940Z"
      },
      {
        "duration": 130,
        "start_time": "2023-03-28T20:48:29.969Z"
      },
      {
        "duration": 72,
        "start_time": "2023-03-28T20:48:30.103Z"
      },
      {
        "duration": 0,
        "start_time": "2023-03-28T20:48:30.185Z"
      },
      {
        "duration": 10,
        "start_time": "2023-03-28T20:50:26.521Z"
      },
      {
        "duration": 3,
        "start_time": "2023-03-28T20:50:27.730Z"
      },
      {
        "duration": 3,
        "start_time": "2023-03-28T20:50:28.409Z"
      },
      {
        "duration": 4,
        "start_time": "2023-03-28T20:50:35.707Z"
      },
      {
        "duration": 12,
        "start_time": "2023-03-28T20:50:48.315Z"
      },
      {
        "duration": 7,
        "start_time": "2023-03-28T20:50:59.632Z"
      },
      {
        "duration": 12,
        "start_time": "2023-03-28T20:52:37.213Z"
      },
      {
        "duration": 20682,
        "start_time": "2023-03-28T20:52:50.020Z"
      },
      {
        "duration": 30,
        "start_time": "2023-03-28T20:53:46.384Z"
      },
      {
        "duration": 10,
        "start_time": "2023-03-28T20:54:39.250Z"
      },
      {
        "duration": 574,
        "start_time": "2023-03-28T20:54:40.209Z"
      },
      {
        "duration": 262,
        "start_time": "2023-03-28T20:55:42.777Z"
      },
      {
        "duration": 37,
        "start_time": "2023-03-28T20:55:43.152Z"
      },
      {
        "duration": 463,
        "start_time": "2023-03-28T20:55:43.922Z"
      },
      {
        "duration": 43,
        "start_time": "2023-03-28T20:55:58.197Z"
      },
      {
        "duration": 442,
        "start_time": "2023-03-28T20:55:58.680Z"
      },
      {
        "duration": 1789,
        "start_time": "2023-03-29T16:57:24.229Z"
      },
      {
        "duration": 3,
        "start_time": "2023-03-29T16:57:26.020Z"
      },
      {
        "duration": 6002,
        "start_time": "2023-03-29T16:57:26.024Z"
      },
      {
        "duration": 3,
        "start_time": "2023-03-29T16:57:32.028Z"
      },
      {
        "duration": 15,
        "start_time": "2023-03-29T16:57:32.032Z"
      },
      {
        "duration": 19,
        "start_time": "2023-03-29T16:57:32.048Z"
      },
      {
        "duration": 575,
        "start_time": "2023-03-29T16:57:32.069Z"
      },
      {
        "duration": 897,
        "start_time": "2023-03-29T16:57:32.646Z"
      },
      {
        "duration": 5725,
        "start_time": "2023-03-29T16:57:33.544Z"
      },
      {
        "duration": 1277,
        "start_time": "2023-03-29T16:57:39.272Z"
      },
      {
        "duration": 10776,
        "start_time": "2023-03-29T16:57:40.550Z"
      },
      {
        "duration": 1637,
        "start_time": "2023-03-29T16:57:51.328Z"
      },
      {
        "duration": 12473,
        "start_time": "2023-03-29T16:57:52.967Z"
      },
      {
        "duration": 176,
        "start_time": "2023-03-29T16:58:05.442Z"
      },
      {
        "duration": 179,
        "start_time": "2023-03-29T16:58:05.620Z"
      },
      {
        "duration": 412,
        "start_time": "2023-03-29T16:58:05.801Z"
      },
      {
        "duration": 146,
        "start_time": "2023-03-29T16:58:06.215Z"
      },
      {
        "duration": 159,
        "start_time": "2023-03-29T16:58:06.364Z"
      },
      {
        "duration": 304,
        "start_time": "2023-03-29T16:58:06.525Z"
      },
      {
        "duration": 130,
        "start_time": "2023-03-29T16:58:06.831Z"
      },
      {
        "duration": 232,
        "start_time": "2023-03-29T16:58:06.963Z"
      },
      {
        "duration": 301,
        "start_time": "2023-03-29T16:58:07.197Z"
      },
      {
        "duration": 426,
        "start_time": "2023-03-29T16:58:07.500Z"
      },
      {
        "duration": 5,
        "start_time": "2023-03-29T16:58:07.928Z"
      },
      {
        "duration": 383,
        "start_time": "2023-03-29T16:58:07.935Z"
      },
      {
        "duration": 131,
        "start_time": "2023-03-29T16:58:08.320Z"
      },
      {
        "duration": 322,
        "start_time": "2023-03-29T16:58:08.455Z"
      },
      {
        "duration": 5,
        "start_time": "2023-03-29T16:58:08.783Z"
      },
      {
        "duration": 40,
        "start_time": "2023-03-29T16:58:08.790Z"
      },
      {
        "duration": 5909,
        "start_time": "2023-03-29T16:58:08.834Z"
      },
      {
        "duration": 769,
        "start_time": "2023-03-29T16:58:14.753Z"
      },
      {
        "duration": 17,
        "start_time": "2023-03-29T16:58:15.524Z"
      },
      {
        "duration": 22,
        "start_time": "2023-03-29T16:58:15.549Z"
      },
      {
        "duration": 13,
        "start_time": "2023-03-29T16:58:15.573Z"
      },
      {
        "duration": 24,
        "start_time": "2023-03-29T16:58:15.588Z"
      },
      {
        "duration": 116,
        "start_time": "2023-03-29T16:58:15.614Z"
      },
      {
        "duration": 27,
        "start_time": "2023-03-29T16:58:15.732Z"
      },
      {
        "duration": 86,
        "start_time": "2023-03-29T16:58:15.765Z"
      },
      {
        "duration": 72,
        "start_time": "2023-03-29T16:58:15.854Z"
      },
      {
        "duration": 425,
        "start_time": "2023-03-29T16:58:15.928Z"
      },
      {
        "duration": 14,
        "start_time": "2023-03-29T16:58:16.358Z"
      },
      {
        "duration": 204,
        "start_time": "2023-03-29T16:58:16.374Z"
      },
      {
        "duration": 211,
        "start_time": "2023-03-29T16:58:16.580Z"
      },
      {
        "duration": 134,
        "start_time": "2023-03-29T16:58:16.792Z"
      },
      {
        "duration": 5,
        "start_time": "2023-03-29T16:58:16.928Z"
      },
      {
        "duration": 6,
        "start_time": "2023-03-29T16:58:16.949Z"
      },
      {
        "duration": 10,
        "start_time": "2023-03-29T16:58:16.958Z"
      },
      {
        "duration": 307,
        "start_time": "2023-03-29T16:58:16.970Z"
      },
      {
        "duration": 94,
        "start_time": "2023-03-29T16:58:17.282Z"
      },
      {
        "duration": 201,
        "start_time": "2023-03-29T16:58:17.378Z"
      },
      {
        "duration": 28,
        "start_time": "2023-03-29T16:58:17.581Z"
      },
      {
        "duration": 190,
        "start_time": "2023-03-29T16:58:17.611Z"
      },
      {
        "duration": 4,
        "start_time": "2023-03-29T16:58:17.803Z"
      },
      {
        "duration": 1501,
        "start_time": "2023-03-29T16:58:17.809Z"
      },
      {
        "duration": 6,
        "start_time": "2023-03-29T16:58:19.312Z"
      },
      {
        "duration": 9,
        "start_time": "2023-03-29T16:58:19.319Z"
      },
      {
        "duration": 22,
        "start_time": "2023-03-29T16:58:19.330Z"
      },
      {
        "duration": 12,
        "start_time": "2023-03-29T16:58:19.353Z"
      },
      {
        "duration": 11,
        "start_time": "2023-03-29T16:58:19.368Z"
      },
      {
        "duration": 61,
        "start_time": "2023-03-29T16:58:19.381Z"
      },
      {
        "duration": 23,
        "start_time": "2023-03-29T16:58:19.448Z"
      },
      {
        "duration": 86877,
        "start_time": "2023-03-29T16:58:19.473Z"
      },
      {
        "duration": 260402,
        "start_time": "2023-03-29T16:59:46.353Z"
      },
      {
        "duration": 100,
        "start_time": "2023-03-29T17:04:06.757Z"
      },
      {
        "duration": 3,
        "start_time": "2023-03-29T17:04:06.859Z"
      },
      {
        "duration": 23587,
        "start_time": "2023-03-29T17:04:06.865Z"
      },
      {
        "duration": 3,
        "start_time": "2023-03-29T17:04:30.454Z"
      },
      {
        "duration": 15417,
        "start_time": "2023-03-29T17:04:30.459Z"
      },
      {
        "duration": 67308,
        "start_time": "2023-03-29T17:04:45.878Z"
      },
      {
        "duration": 388210,
        "start_time": "2023-03-29T17:05:53.189Z"
      },
      {
        "duration": 3,
        "start_time": "2023-03-29T17:12:21.401Z"
      },
      {
        "duration": 21,
        "start_time": "2023-03-29T17:12:21.406Z"
      },
      {
        "duration": 50,
        "start_time": "2023-03-29T17:12:21.429Z"
      },
      {
        "duration": 26,
        "start_time": "2023-03-29T17:12:21.481Z"
      },
      {
        "duration": 123066,
        "start_time": "2023-03-29T17:12:21.508Z"
      },
      {
        "duration": 197507,
        "start_time": "2023-03-29T17:14:24.576Z"
      },
      {
        "duration": 11,
        "start_time": "2023-03-29T17:17:42.085Z"
      },
      {
        "duration": 5,
        "start_time": "2023-03-29T17:17:42.098Z"
      },
      {
        "duration": 27,
        "start_time": "2023-03-29T17:17:42.105Z"
      },
      {
        "duration": 31,
        "start_time": "2023-03-29T17:17:42.134Z"
      },
      {
        "duration": 25,
        "start_time": "2023-03-29T17:17:42.168Z"
      },
      {
        "duration": 40,
        "start_time": "2023-03-29T17:17:42.201Z"
      },
      {
        "duration": 357,
        "start_time": "2023-03-29T17:17:42.244Z"
      },
      {
        "duration": 5,
        "start_time": "2023-03-29T17:17:42.602Z"
      },
      {
        "duration": 674,
        "start_time": "2023-03-29T17:17:42.608Z"
      },
      {
        "duration": 175,
        "start_time": "2023-03-29T17:17:43.284Z"
      },
      {
        "duration": 5,
        "start_time": "2023-03-29T17:17:43.465Z"
      },
      {
        "duration": 341,
        "start_time": "2023-03-29T17:17:43.472Z"
      },
      {
        "duration": 49,
        "start_time": "2023-03-29T19:59:34.787Z"
      },
      {
        "duration": 7,
        "start_time": "2023-03-29T20:00:50.566Z"
      },
      {
        "duration": 1832,
        "start_time": "2023-03-30T11:23:17.245Z"
      },
      {
        "duration": 5,
        "start_time": "2023-03-30T11:23:19.080Z"
      },
      {
        "duration": 10375,
        "start_time": "2023-03-30T11:23:19.088Z"
      },
      {
        "duration": 3,
        "start_time": "2023-03-30T11:23:29.466Z"
      },
      {
        "duration": 25,
        "start_time": "2023-03-30T11:23:29.471Z"
      },
      {
        "duration": 18,
        "start_time": "2023-03-30T11:23:29.498Z"
      },
      {
        "duration": 511,
        "start_time": "2023-03-30T11:23:29.518Z"
      },
      {
        "duration": 1387,
        "start_time": "2023-03-30T11:23:30.032Z"
      },
      {
        "duration": 5189,
        "start_time": "2023-03-30T11:23:31.422Z"
      },
      {
        "duration": 2095,
        "start_time": "2023-03-30T11:23:36.615Z"
      },
      {
        "duration": 11623,
        "start_time": "2023-03-30T11:23:38.711Z"
      },
      {
        "duration": 1930,
        "start_time": "2023-03-30T11:23:50.336Z"
      },
      {
        "duration": 13118,
        "start_time": "2023-03-30T11:23:52.269Z"
      },
      {
        "duration": 137,
        "start_time": "2023-03-30T11:24:05.389Z"
      },
      {
        "duration": 168,
        "start_time": "2023-03-30T11:24:05.527Z"
      },
      {
        "duration": 452,
        "start_time": "2023-03-30T11:24:05.696Z"
      },
      {
        "duration": 109,
        "start_time": "2023-03-30T11:24:06.150Z"
      },
      {
        "duration": 157,
        "start_time": "2023-03-30T11:24:06.260Z"
      },
      {
        "duration": 379,
        "start_time": "2023-03-30T11:24:06.420Z"
      },
      {
        "duration": 159,
        "start_time": "2023-03-30T11:24:06.801Z"
      },
      {
        "duration": 253,
        "start_time": "2023-03-30T11:24:06.963Z"
      },
      {
        "duration": 274,
        "start_time": "2023-03-30T11:24:07.219Z"
      },
      {
        "duration": 381,
        "start_time": "2023-03-30T11:24:07.496Z"
      },
      {
        "duration": 5,
        "start_time": "2023-03-30T11:24:07.887Z"
      },
      {
        "duration": 369,
        "start_time": "2023-03-30T11:24:07.894Z"
      },
      {
        "duration": 112,
        "start_time": "2023-03-30T11:24:08.265Z"
      },
      {
        "duration": 289,
        "start_time": "2023-03-30T11:24:08.379Z"
      },
      {
        "duration": 13,
        "start_time": "2023-03-30T11:24:08.674Z"
      },
      {
        "duration": 33,
        "start_time": "2023-03-30T11:24:08.689Z"
      },
      {
        "duration": 6858,
        "start_time": "2023-03-30T11:24:08.723Z"
      },
      {
        "duration": 686,
        "start_time": "2023-03-30T11:24:15.583Z"
      },
      {
        "duration": 28,
        "start_time": "2023-03-30T11:24:16.271Z"
      },
      {
        "duration": 41,
        "start_time": "2023-03-30T11:24:16.301Z"
      },
      {
        "duration": 23,
        "start_time": "2023-03-30T11:24:16.345Z"
      },
      {
        "duration": 24,
        "start_time": "2023-03-30T11:24:16.370Z"
      },
      {
        "duration": 78,
        "start_time": "2023-03-30T11:24:16.396Z"
      },
      {
        "duration": 15,
        "start_time": "2023-03-30T11:24:16.476Z"
      },
      {
        "duration": 102,
        "start_time": "2023-03-30T11:24:16.493Z"
      },
      {
        "duration": 45,
        "start_time": "2023-03-30T11:24:16.597Z"
      },
      {
        "duration": 433,
        "start_time": "2023-03-30T11:24:16.644Z"
      },
      {
        "duration": 22,
        "start_time": "2023-03-30T11:24:17.079Z"
      },
      {
        "duration": 186,
        "start_time": "2023-03-30T11:24:17.103Z"
      },
      {
        "duration": 243,
        "start_time": "2023-03-30T11:24:17.290Z"
      },
      {
        "duration": 144,
        "start_time": "2023-03-30T11:24:17.535Z"
      },
      {
        "duration": 6,
        "start_time": "2023-03-30T11:24:17.686Z"
      },
      {
        "duration": 12,
        "start_time": "2023-03-30T11:24:17.694Z"
      },
      {
        "duration": 5,
        "start_time": "2023-03-30T11:24:17.708Z"
      },
      {
        "duration": 293,
        "start_time": "2023-03-30T11:24:17.715Z"
      },
      {
        "duration": 90,
        "start_time": "2023-03-30T11:24:18.010Z"
      },
      {
        "duration": 225,
        "start_time": "2023-03-30T11:24:18.103Z"
      },
      {
        "duration": 23,
        "start_time": "2023-03-30T11:24:18.330Z"
      },
      {
        "duration": 179,
        "start_time": "2023-03-30T11:24:18.355Z"
      },
      {
        "duration": 3,
        "start_time": "2023-03-30T11:24:18.536Z"
      },
      {
        "duration": 1694,
        "start_time": "2023-03-30T11:24:18.541Z"
      },
      {
        "duration": 9,
        "start_time": "2023-03-30T11:24:20.237Z"
      },
      {
        "duration": 36,
        "start_time": "2023-03-30T11:24:20.248Z"
      },
      {
        "duration": 23,
        "start_time": "2023-03-30T11:24:20.286Z"
      },
      {
        "duration": 23,
        "start_time": "2023-03-30T11:24:20.311Z"
      },
      {
        "duration": 17,
        "start_time": "2023-03-30T11:24:20.336Z"
      },
      {
        "duration": 59,
        "start_time": "2023-03-30T11:24:20.355Z"
      },
      {
        "duration": 27,
        "start_time": "2023-03-30T11:24:20.416Z"
      },
      {
        "duration": 28484,
        "start_time": "2023-03-30T11:24:20.445Z"
      },
      {
        "duration": 0,
        "start_time": "2023-03-30T11:24:48.931Z"
      },
      {
        "duration": 0,
        "start_time": "2023-03-30T11:24:48.933Z"
      },
      {
        "duration": 0,
        "start_time": "2023-03-30T11:24:48.934Z"
      },
      {
        "duration": 0,
        "start_time": "2023-03-30T11:24:48.935Z"
      },
      {
        "duration": 0,
        "start_time": "2023-03-30T11:24:48.936Z"
      },
      {
        "duration": 0,
        "start_time": "2023-03-30T11:24:48.938Z"
      },
      {
        "duration": 0,
        "start_time": "2023-03-30T11:24:48.939Z"
      },
      {
        "duration": 0,
        "start_time": "2023-03-30T11:24:48.940Z"
      },
      {
        "duration": 0,
        "start_time": "2023-03-30T11:24:48.941Z"
      },
      {
        "duration": 0,
        "start_time": "2023-03-30T11:24:48.942Z"
      },
      {
        "duration": 0,
        "start_time": "2023-03-30T11:24:48.943Z"
      },
      {
        "duration": 0,
        "start_time": "2023-03-30T11:24:48.945Z"
      },
      {
        "duration": 0,
        "start_time": "2023-03-30T11:24:48.946Z"
      },
      {
        "duration": 0,
        "start_time": "2023-03-30T11:24:48.947Z"
      },
      {
        "duration": 0,
        "start_time": "2023-03-30T11:24:48.949Z"
      },
      {
        "duration": 0,
        "start_time": "2023-03-30T11:24:48.950Z"
      },
      {
        "duration": 0,
        "start_time": "2023-03-30T11:24:48.951Z"
      },
      {
        "duration": 0,
        "start_time": "2023-03-30T11:24:48.952Z"
      },
      {
        "duration": 0,
        "start_time": "2023-03-30T11:24:48.954Z"
      },
      {
        "duration": 0,
        "start_time": "2023-03-30T11:24:48.955Z"
      },
      {
        "duration": 0,
        "start_time": "2023-03-30T11:24:48.956Z"
      },
      {
        "duration": 0,
        "start_time": "2023-03-30T11:24:48.957Z"
      },
      {
        "duration": 0,
        "start_time": "2023-03-30T11:24:48.958Z"
      },
      {
        "duration": 0,
        "start_time": "2023-03-30T11:24:48.960Z"
      },
      {
        "duration": 0,
        "start_time": "2023-03-30T11:24:48.960Z"
      },
      {
        "duration": 0,
        "start_time": "2023-03-30T11:24:48.962Z"
      }
    ],
    "kernelspec": {
      "display_name": "Python 3 (ipykernel)",
      "language": "python",
      "name": "python3"
    },
    "language_info": {
      "codemirror_mode": {
        "name": "ipython",
        "version": 3
      },
      "file_extension": ".py",
      "mimetype": "text/x-python",
      "name": "python",
      "nbconvert_exporter": "python",
      "pygments_lexer": "ipython3",
      "version": "3.9.5"
    },
    "toc": {
      "base_numbering": 1,
      "nav_menu": {},
      "number_sections": false,
      "sideBar": true,
      "skip_h1_title": false,
      "title_cell": "Table of Contents",
      "title_sidebar": "Contents",
      "toc_cell": false,
      "toc_position": {},
      "toc_section_display": true,
      "toc_window_display": true
    },
    "varInspector": {
      "cols": {
        "lenName": 16,
        "lenType": 16,
        "lenVar": 40
      },
      "kernels_config": {
        "python": {
          "delete_cmd_postfix": "",
          "delete_cmd_prefix": "del ",
          "library": "var_list.py",
          "varRefreshCmd": "print(var_dic_list())"
        },
        "r": {
          "delete_cmd_postfix": ") ",
          "delete_cmd_prefix": "rm(",
          "library": "var_list.r",
          "varRefreshCmd": "cat(var_dic_list()) "
        }
      },
      "types_to_exclude": [
        "module",
        "function",
        "builtin_function_or_method",
        "instance",
        "_Feature"
      ],
      "window_display": false
    },
    "colab": {
      "provenance": [],
      "toc_visible": true,
      "include_colab_link": true
    }
  },
  "nbformat": 4,
  "nbformat_minor": 5
}